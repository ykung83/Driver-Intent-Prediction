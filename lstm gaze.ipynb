{
 "cells": [
  {
   "cell_type": "code",
   "execution_count": 1,
   "id": "34a60188",
   "metadata": {},
   "outputs": [],
   "source": [
    "import numpy as np\n",
    "import matplotlib.pyplot as plt\n",
    "from sklearn.model_selection import train_test_split\n",
    "from keras.models import Sequential\n",
    "from keras.layers import Dense\n",
    "from keras.layers import LSTM\n",
    "from keras.layers import Dropout\n",
    "from keras.layers import Softmax"
   ]
  },
  {
   "cell_type": "code",
   "execution_count": 2,
   "id": "002d5dc0",
   "metadata": {},
   "outputs": [],
   "source": [
    "# import dataset\n",
    "trainset = np.load('C:/Users/ykung/Downloads/facecamera/trainset.npy')\n",
    "trainsety = np.load('C:/Users/ykung/Downloads/facecamera/trainsety.npy')\n",
    "testset = np.load('C:/Users/ykung/Downloads/facecamera/testset.npy')\n",
    "testsety = np.load('C:/Users/ykung/Downloads/facecamera/testsety.npy')"
   ]
  },
  {
   "cell_type": "code",
   "execution_count": 3,
   "id": "dbef77f3",
   "metadata": {},
   "outputs": [
    {
     "data": {
      "text/plain": [
       "(90, 2, 68736)"
      ]
     },
     "execution_count": 3,
     "metadata": {},
     "output_type": "execute_result"
    }
   ],
   "source": [
    "np.shape(trainset)"
   ]
  },
  {
   "cell_type": "code",
   "execution_count": 4,
   "id": "0b20fc33",
   "metadata": {},
   "outputs": [
    {
     "data": {
      "text/plain": [
       "(1, 1, 68736)"
      ]
     },
     "execution_count": 4,
     "metadata": {},
     "output_type": "execute_result"
    }
   ],
   "source": [
    "np.shape(trainsety)"
   ]
  },
  {
   "cell_type": "code",
   "execution_count": 5,
   "id": "16b2ba01",
   "metadata": {},
   "outputs": [
    {
     "data": {
      "text/plain": [
       "(90, 2, 18816)"
      ]
     },
     "execution_count": 5,
     "metadata": {},
     "output_type": "execute_result"
    }
   ],
   "source": [
    "np.shape(testset)"
   ]
  },
  {
   "cell_type": "code",
   "execution_count": 6,
   "id": "6587a353",
   "metadata": {},
   "outputs": [
    {
     "data": {
      "text/plain": [
       "(1, 1, 18816)"
      ]
     },
     "execution_count": 6,
     "metadata": {},
     "output_type": "execute_result"
    }
   ],
   "source": [
    "np.shape(testsety)"
   ]
  },
  {
   "cell_type": "code",
   "execution_count": 7,
   "id": "fb1f3b57",
   "metadata": {},
   "outputs": [],
   "source": [
    "trainset = np.reshape(trainset, (68736,90,2))\n",
    "trainsety = np.reshape(trainsety, (68736,1,1))\n",
    "testset = np.reshape(testset, (18816,90,2))\n",
    "testsety = np.reshape(testsety, (18816,1,1))"
   ]
  },
  {
   "cell_type": "code",
   "execution_count": 8,
   "id": "5c6ec5fe",
   "metadata": {},
   "outputs": [],
   "source": [
    "newtrainsety = np.zeros((68736,5))\n",
    "for i in range(68736):\n",
    "    val1 = int(trainsety[i,0,0])\n",
    "    newtrainsety[i,val1]=1"
   ]
  },
  {
   "cell_type": "code",
   "execution_count": 9,
   "id": "1f92f69b",
   "metadata": {},
   "outputs": [],
   "source": [
    "newtestsety = np.zeros((18816,5))\n",
    "for i in range(18816):\n",
    "    val1 = int(testsety[i,0,0])\n",
    "    newtestsety[i,val1]=1"
   ]
  },
  {
   "cell_type": "code",
   "execution_count": 7,
   "id": "98485314",
   "metadata": {},
   "outputs": [],
   "source": [
    "# split into train and test\n",
    "# no longer needed\n",
    "X_train, X_test, y_train, y_test = train_test_split(newdata, correctydata, test_size=0.2, random_state=42)"
   ]
  },
  {
   "cell_type": "code",
   "execution_count": 21,
   "id": "f44a0bb4",
   "metadata": {},
   "outputs": [],
   "source": [
    "# initialize lstm\n",
    "m = Sequential()\n",
    "m.add(LSTM(units=90))\n",
    "m.add(Dropout(0.2))\n",
    "m.add(Dense(units=5, activation='softmax'))\n",
    "m.compile(optimizer='adam', loss='categorical_crossentropy')"
   ]
  },
  {
   "cell_type": "code",
   "execution_count": 22,
   "id": "83290a60",
   "metadata": {},
   "outputs": [
    {
     "name": "stdout",
     "output_type": "stream",
     "text": [
      "Epoch 1/2\n",
      "1375/1375 [==============================] - 49s 35ms/step - loss: 0.5750 - val_loss: 0.4736\n",
      "Epoch 2/2\n",
      "1375/1375 [==============================] - 49s 36ms/step - loss: 0.2776 - val_loss: 0.3219\n"
     ]
    }
   ],
   "source": [
    "history = m.fit(trainset, newtrainsety, epochs = 2, batch_size = 50, verbose = 1, validation_data = (testset, newtestsety))"
   ]
  },
  {
   "cell_type": "code",
   "execution_count": 23,
   "id": "e5b49303",
   "metadata": {},
   "outputs": [],
   "source": [
    "m.save('C:/Users/ykung/Downloads/facecamera/basictrainedlstm.keras')"
   ]
  },
  {
   "cell_type": "code",
   "execution_count": 32,
   "id": "da4a40c0",
   "metadata": {},
   "outputs": [],
   "source": [
    "modtestset = testset\n",
    "modtestsety = newtestsety\n",
    "modindex = 0\n",
    "for i in range(18816):\n",
    "    if testset[i,30,1] != 0:\n",
    "        modtestset[modindex,:,:] = testset[i,:,:]\n",
    "        modtestsety[modindex,:] = newtestsety[i,:]\n",
    "        modindex += 1"
   ]
  },
  {
   "cell_type": "code",
   "execution_count": 33,
   "id": "d4d7d6b9",
   "metadata": {},
   "outputs": [],
   "source": [
    "mtestset = modtestset[0:modindex+1,:,:]\n",
    "mtestsety = modtestsety[0:modindex+1,:]"
   ]
  },
  {
   "cell_type": "code",
   "execution_count": 34,
   "id": "e4ddd41c",
   "metadata": {},
   "outputs": [
    {
     "data": {
      "text/plain": [
       "(13369, 90, 2)"
      ]
     },
     "execution_count": 34,
     "metadata": {},
     "output_type": "execute_result"
    }
   ],
   "source": [
    "np.shape(mtestset)"
   ]
  },
  {
   "cell_type": "code",
   "execution_count": 35,
   "id": "a702a180",
   "metadata": {},
   "outputs": [
    {
     "name": "stdout",
     "output_type": "stream",
     "text": [
      "268/268 [==============================] - 3s 11ms/step - loss: 0.3202\n"
     ]
    }
   ],
   "source": [
    "testresult = m.evaluate(mtestset, mtestsety, batch_size = 50, verbose = 1)"
   ]
  },
  {
   "cell_type": "code",
   "execution_count": 12,
   "id": "65462e34",
   "metadata": {},
   "outputs": [
    {
     "name": "stdout",
     "output_type": "stream",
     "text": [
      "1375/1375 [==============================] - 45s 33ms/step - loss: 0.1601 - val_loss: 0.4190\n"
     ]
    }
   ],
   "source": [
    "history = m.fit(trainset, newtrainsety, epochs = 1, batch_size = 50, verbose = 1, validation_data = (testset, newtestsety))"
   ]
  },
  {
   "cell_type": "code",
   "execution_count": 11,
   "id": "ce7c8c55",
   "metadata": {},
   "outputs": [
    {
     "data": {
      "text/plain": [
       "[<matplotlib.lines.Line2D at 0x228f7682220>]"
      ]
     },
     "execution_count": 11,
     "metadata": {},
     "output_type": "execute_result"
    },
    {
     "data": {
      "image/png": "[encoded data removed]",
      "text/plain": [
       "<Figure size 640x480 with 1 Axes>"
      ]
     },
     "metadata": {},
     "output_type": "display_data"
    }
   ],
   "source": [
    "plt.figure()\n",
    "plt.ylabel('loss')\n",
    "plt.xlabel('epoch')\n",
    "plt.semilogy(history.history['loss'])"
   ]
  },
  {
   "cell_type": "code",
   "execution_count": 14,
   "id": "5b923820",
   "metadata": {},
   "outputs": [
    {
     "name": "stdout",
     "output_type": "stream",
     "text": [
      "351/351 [==============================] - 4s 10ms/step - loss: 0.1078\n"
     ]
    }
   ],
   "source": [
    "testresult = m.evaluate(X_test, y_test, batch_size = 50, verbose = 1)"
   ]
  },
  {
   "cell_type": "code",
   "execution_count": 36,
   "id": "d002ad40",
   "metadata": {},
   "outputs": [
    {
     "name": "stdout",
     "output_type": "stream",
     "text": [
      "418/418 [==============================] - 3s 7ms/step\n"
     ]
    }
   ],
   "source": [
    "testresult2 = m.predict(mtestset)"
   ]
  },
  {
   "cell_type": "code",
   "execution_count": 16,
   "id": "6eccc077",
   "metadata": {},
   "outputs": [
    {
     "data": {
      "text/plain": [
       "(17541, 5)"
      ]
     },
     "execution_count": 16,
     "metadata": {},
     "output_type": "execute_result"
    }
   ],
   "source": [
    "np.shape(testresult2)"
   ]
  },
  {
   "cell_type": "code",
   "execution_count": 17,
   "id": "89f0e230",
   "metadata": {},
   "outputs": [
    {
     "data": {
      "text/plain": [
       "(17541, 5)"
      ]
     },
     "execution_count": 17,
     "metadata": {},
     "output_type": "execute_result"
    }
   ],
   "source": [
    "np.shape(y_test)"
   ]
  },
  {
   "cell_type": "code",
   "execution_count": 18,
   "id": "553e2536",
   "metadata": {},
   "outputs": [
    {
     "name": "stdout",
     "output_type": "stream",
     "text": [
      "[3.1706288e-03 7.0649505e-05 4.8585833e-05 5.7235984e-03 9.9098653e-01]\n",
      "[0. 0. 0. 0. 1.]\n"
     ]
    }
   ],
   "source": [
    "print(testresult2[1,:])\n",
    "print(y_test[1,:])"
   ]
  },
  {
   "cell_type": "code",
   "execution_count": 19,
   "id": "8f2fbf74",
   "metadata": {},
   "outputs": [
    {
     "data": {
      "text/plain": [
       "4"
      ]
     },
     "execution_count": 19,
     "metadata": {},
     "output_type": "execute_result"
    }
   ],
   "source": [
    "np.argmax(testresult2[1,:])"
   ]
  },
  {
   "cell_type": "code",
   "execution_count": 37,
   "id": "bd628802",
   "metadata": {},
   "outputs": [
    {
     "name": "stdout",
     "output_type": "stream",
     "text": [
      "0.8975989228812925\n"
     ]
    }
   ],
   "source": [
    "score = 0\n",
    "for i in range(13369):\n",
    "    val2 = np.argmax(testresult2[i,:])\n",
    "    if mtestsety[i,val2] == 1:\n",
    "        score += 1\n",
    "        \n",
    "print(score/13369)"
   ]
  },
  {
   "cell_type": "code",
   "execution_count": 38,
   "id": "da6971f1",
   "metadata": {},
   "outputs": [
    {
     "name": "stdout",
     "output_type": "stream",
     "text": [
      "588/588 [==============================] - 4s 7ms/step\n"
     ]
    }
   ],
   "source": [
    "testresult3 = m.predict(testset)"
   ]
  },
  {
   "cell_type": "code",
   "execution_count": 39,
   "id": "c8fe16b6",
   "metadata": {},
   "outputs": [
    {
     "name": "stdout",
     "output_type": "stream",
     "text": [
      "0.9075255102040817\n"
     ]
    }
   ],
   "source": [
    "score = 0\n",
    "for i in range(18816):\n",
    "    val2 = np.argmax(testresult3[i,:])\n",
    "    if newtestsety[i,val2] == 1:\n",
    "        score += 1\n",
    "        \n",
    "print(score/18816)"
   ]
  },
  {
   "cell_type": "code",
   "execution_count": null,
   "id": "2928a19f",
   "metadata": {},
   "outputs": [],
   "source": []
  }
 ],
 "metadata": {
  "kernelspec": {
   "display_name": "Python 3 (ipykernel)",
   "language": "python",
   "name": "python3"
  },
  "language_info": {
   "codemirror_mode": {
    "name": "ipython",
    "version": 3
   },
   "file_extension": ".py",
   "mimetype": "text/x-python",
   "name": "python",
   "nbconvert_exporter": "python",
   "pygments_lexer": "ipython3",
   "version": "3.9.13"
  }
 },
 "nbformat": 4,
 "nbformat_minor": 5
}

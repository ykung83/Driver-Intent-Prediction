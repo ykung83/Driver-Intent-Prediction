{
 "cells": [
  {
   "cell_type": "markdown",
   "metadata": {},
   "source": [
    "# Gaze Project\n",
    "\n",
    "By - Yung-Chi Kung (yk7298)*"
   ]
  },
  {
   "cell_type": "markdown",
   "metadata": {},
   "source": [
    "#### Imports"
   ]
  },
  {
   "cell_type": "code",
   "execution_count": 2,
   "metadata": {},
   "outputs": [],
   "source": [
    "import mediapipe as mp\n",
    "import cv2\n",
    "import numpy as np\n",
    "import os\n",
    "import csv\n",
    "import re\n",
    "import random\n",
    "import matplotlib.pyplot as plt"
   ]
  },
  {
   "cell_type": "markdown",
   "metadata": {},
   "source": [
    "#### Initialize model"
   ]
  },
  {
   "cell_type": "code",
   "execution_count": 31,
   "metadata": {},
   "outputs": [],
   "source": [
    "mp_face_mesh = mp.solutions.face_mesh # initialize the face mesh model\n"
   ]
  },
  {
   "cell_type": "code",
   "execution_count": 2,
   "metadata": {},
   "outputs": [],
   "source": [
    "rootdir = 'C:/Users/ykung/Downloads/facecamera'\n"
   ]
  },
  {
   "cell_type": "markdown",
   "metadata": {},
   "source": [
    "#### Gaze detection on images"
   ]
  },
  {
   "cell_type": "code",
   "execution_count": 32,
   "metadata": {},
   "outputs": [],
   "source": [
    "relative = lambda landmark, shape: (int(landmark.x * shape[1]), int(landmark.y * shape[0]))\n",
    "relativeT = lambda landmark, shape: (int(landmark.x * shape[1]), int(landmark.y * shape[0]), 0)"
   ]
  },
  {
   "cell_type": "code",
   "execution_count": 33,
   "metadata": {},
   "outputs": [],
   "source": [
    "def gaze(frame, points):\n",
    "    \"\"\"\n",
    "    The gaze function gets an image and face landmarks from mediapipe framework.\n",
    "    The function draws the gaze direction into the frame.\n",
    "    \"\"\"\n",
    "\n",
    "    '''\n",
    "    2D image points.\n",
    "    relative takes mediapipe points that is normalized to [-1, 1] and returns image points\n",
    "    at (x,y) format\n",
    "    '''\n",
    "    image_points = np.array([\n",
    "        relative(points.landmark[4], frame.shape),  # Nose tip\n",
    "        relative(points.landmark[152], frame.shape),  # Chin\n",
    "        relative(points.landmark[263], frame.shape),  # Left eye left corner\n",
    "        relative(points.landmark[33], frame.shape),  # Right eye right corner\n",
    "        relative(points.landmark[287], frame.shape),  # Left Mouth corner\n",
    "        relative(points.landmark[57], frame.shape)  # Right mouth corner\n",
    "    ], dtype=\"double\")\n",
    "\n",
    "    '''\n",
    "    2D image points.\n",
    "    relativeT takes mediapipe points that is normalized to [-1, 1] and returns image points\n",
    "    at (x,y,0) format\n",
    "    '''\n",
    "    image_points1 = np.array([\n",
    "        relativeT(points.landmark[4], frame.shape),  # Nose tip\n",
    "        relativeT(points.landmark[152], frame.shape),  # Chin\n",
    "        relativeT(points.landmark[263], frame.shape),  # Left eye, left corner\n",
    "        relativeT(points.landmark[33], frame.shape),  # Right eye, right corner\n",
    "        relativeT(points.landmark[287], frame.shape),  # Left Mouth corner\n",
    "        relativeT(points.landmark[57], frame.shape)  # Right mouth corner\n",
    "    ], dtype=\"double\")\n",
    "\n",
    "    # 3D model points.\n",
    "    model_points = np.array([\n",
    "        (0.0, 0.0, 0.0),  # Nose tip\n",
    "        (0, -63.6, -12.5),  # Chin\n",
    "        (-43.3, 32.7, -26),  # Left eye, left corner\n",
    "        (43.3, 32.7, -26),  # Right eye, right corner\n",
    "        (-28.9, -28.9, -24.1),  # Left Mouth corner\n",
    "        (28.9, -28.9, -24.1)  # Right mouth corner\n",
    "    ])\n",
    "\n",
    "    '''\n",
    "    3D model eye points\n",
    "    The center of the eye ball\n",
    "    '''\n",
    "    Eye_ball_center_right = np.array([[-29.05], [32.7], [-39.5]])\n",
    "    Eye_ball_center_left = np.array([[29.05], [32.7], [-39.5]])  # the center of the left eyeball as a vector.\n",
    "\n",
    "    '''\n",
    "    camera matrix estimation\n",
    "    '''\n",
    "    focal_length = frame.shape[1]\n",
    "    center = (frame.shape[1] / 2, frame.shape[0] / 2)\n",
    "    camera_matrix = np.array(\n",
    "        [[focal_length, 0, center[0]],\n",
    "         [0, focal_length, center[1]],\n",
    "         [0, 0, 1]], dtype=\"double\"\n",
    "    )\n",
    "\n",
    "    dist_coeffs = np.zeros((4, 1))  # Assuming no lens distortion\n",
    "    (success, rotation_vector, translation_vector) = cv2.solvePnP(model_points, image_points, camera_matrix,\n",
    "                                                                  dist_coeffs, flags=cv2.SOLVEPNP_ITERATIVE)\n",
    "\n",
    "    # 2d pupil location\n",
    "    left_pupil = relative(points.landmark[468], frame.shape)\n",
    "    right_pupil = relative(points.landmark[473], frame.shape)\n",
    "\n",
    "    # Transformation between image point to world point\n",
    "    _, transformation, _ = cv2.estimateAffine3D(image_points1, model_points)  # image to world transformation\n",
    "\n",
    "    if transformation is not None:  # if estimateAffine3D secsseded\n",
    "        # project pupil image point into 3d world point\n",
    "        pupil_world_cord = transformation @ np.array([[left_pupil[0], left_pupil[1], 0, 1]]).T\n",
    "\n",
    "        # 3D gaze point (10 is arbitrary value denoting gaze distance)\n",
    "        S = Eye_ball_center_left + (pupil_world_cord - Eye_ball_center_left) * 10\n",
    "\n",
    "        # Project a 3D gaze direction onto the image plane.\n",
    "        (eye_pupil2D, _) = cv2.projectPoints((int(S[0]), int(S[1]), int(S[2])), rotation_vector,\n",
    "                                             translation_vector, camera_matrix, dist_coeffs)\n",
    "        # project 3D head pose into the image plane\n",
    "        (head_pose, _) = cv2.projectPoints((int(pupil_world_cord[0]), int(pupil_world_cord[1]), int(40)),\n",
    "                                           rotation_vector,\n",
    "                                           translation_vector, camera_matrix, dist_coeffs)\n",
    "        # correct gaze for head rotation\n",
    "        gaze = left_pupil + (eye_pupil2D[0][0] - left_pupil) - (head_pose[0][0] - left_pupil)\n",
    "\n",
    "        # Draw gaze line into screen\n",
    "        # p1 = (int(left_pupil[0]), int(left_pupil[1]))\n",
    "        # p2 = (int(gaze[0]), int(gaze[1]))\n",
    "        # cv2.line(frame, p1, p2, (0, 0, 255), 2)\n",
    "        \n",
    "        # Return gaze direction\n",
    "        return gaze[0], gaze[1], head_pose[0][0]\n",
    "        "
   ]
  },
  {
   "cell_type": "code",
   "execution_count": 34,
   "metadata": {},
   "outputs": [
    {
     "name": "stdout",
     "output_type": "stream",
     "text": [
      "C:/Users/ykung/Downloads/facecamera\\end_action\\20141019_091035_1106_1256\\video_20141019_091035_1106_1256.avi\n"
     ]
    },
    {
     "ename": "TypeError",
     "evalue": "cannot unpack non-iterable NoneType object",
     "output_type": "error",
     "traceback": [
      "\u001b[1;31m---------------------------------------------------------------------------\u001b[0m",
      "\u001b[1;31mTypeError\u001b[0m                                 Traceback (most recent call last)",
      "\u001b[1;32m~\\AppData\\Local\\Temp\\ipykernel_876\\2912428019.py\u001b[0m in \u001b[0;36m<module>\u001b[1;34m\u001b[0m\n\u001b[0;32m     32\u001b[0m \u001b[1;33m\u001b[0m\u001b[0m\n\u001b[0;32m     33\u001b[0m                     \u001b[1;32mif\u001b[0m \u001b[0mresults\u001b[0m\u001b[1;33m.\u001b[0m\u001b[0mmulti_face_landmarks\u001b[0m\u001b[1;33m:\u001b[0m\u001b[1;33m\u001b[0m\u001b[1;33m\u001b[0m\u001b[0m\n\u001b[1;32m---> 34\u001b[1;33m                         \u001b[0mgazexlist\u001b[0m\u001b[1;33m[\u001b[0m\u001b[0mframenum\u001b[0m\u001b[1;33m]\u001b[0m\u001b[1;33m,\u001b[0m \u001b[0mgazeylist\u001b[0m\u001b[1;33m[\u001b[0m\u001b[0mframenum\u001b[0m\u001b[1;33m]\u001b[0m\u001b[1;33m,\u001b[0m \u001b[0mheadpose\u001b[0m\u001b[1;33m[\u001b[0m\u001b[0mframenum\u001b[0m\u001b[1;33m]\u001b[0m \u001b[1;33m=\u001b[0m \u001b[0mgaze\u001b[0m\u001b[1;33m(\u001b[0m\u001b[0mimage\u001b[0m\u001b[1;33m,\u001b[0m \u001b[0mresults\u001b[0m\u001b[1;33m.\u001b[0m\u001b[0mmulti_face_landmarks\u001b[0m\u001b[1;33m[\u001b[0m\u001b[1;36m0\u001b[0m\u001b[1;33m]\u001b[0m\u001b[1;33m)\u001b[0m\u001b[1;33m\u001b[0m\u001b[1;33m\u001b[0m\u001b[0m\n\u001b[0m\u001b[0;32m     35\u001b[0m \u001b[1;33m\u001b[0m\u001b[0m\n\u001b[0;32m     36\u001b[0m                     \u001b[0mframenum\u001b[0m \u001b[1;33m+=\u001b[0m \u001b[1;36m1\u001b[0m\u001b[1;33m\u001b[0m\u001b[1;33m\u001b[0m\u001b[0m\n",
      "\u001b[1;31mTypeError\u001b[0m: cannot unpack non-iterable NoneType object"
     ]
    }
   ],
   "source": [
    "rcheck = 0\n",
    "\n",
    "for subdir, dirs, files in os.walk(rootdir):\n",
    "    for file in files:\n",
    "        if '.avi' in file:\n",
    "            #print(os.path.join(subdir))\n",
    "            print(os.path.join(subdir, file))\n",
    "            cap = cv2.VideoCapture(os.path.join(subdir, file))\n",
    "            vidlength = int(cap.get(cv2.CAP_PROP_FRAME_COUNT))\n",
    "            gazelist = [None]*vidlength\n",
    "            framenum = 0\n",
    "            \n",
    "            with mp_face_mesh.FaceMesh(\n",
    "                    max_num_faces=1,                            # number of faces to track in each frame\n",
    "                    refine_landmarks=True,                      # includes iris landmarks in the face mesh model\n",
    "                    min_detection_confidence=0.5,\n",
    "                    min_tracking_confidence=0.5) as face_mesh:\n",
    "                while cap.isOpened():\n",
    "                    success, image = cap.read()\n",
    "                    if not success:                            # no frame input\n",
    "                        gazelist[framenum] = (0,0)\n",
    "                        print(\"Ignoring empty camera frame.\")\n",
    "                        continue\n",
    "                    # To improve performance, optionally mark the image as not writeable to\n",
    "                    # pass by reference.\n",
    "                    image.flags.writeable = False\n",
    "                    image = cv2.cvtColor(image, cv2.COLOR_BGR2RGB) # frame to RGB for the face-mesh model\n",
    "                    results = face_mesh.process(image)\n",
    "                    image = cv2.cvtColor(image, cv2.COLOR_RGB2BGR)\n",
    "\n",
    "                    if results.multi_face_landmarks:\n",
    "                        gazelist[framenum] = gaze(image, results.multi_face_landmarks[0])\n",
    "                        \n",
    "                    framenum += 1\n",
    "                    if framenum == vidlength:\n",
    "                        break\n",
    "\n",
    "                cap.release()\n",
    "             \n",
    "            with open(os.path.join(subdir, 'headpose.csv'), 'w', newline='') as file2:\n",
    "                writer = csv.writer(file2)\n",
    "                writer.writerow(gazelist)"
   ]
  },
  {
   "cell_type": "code",
   "execution_count": null,
   "metadata": {},
   "outputs": [],
   "source": [
    "for subdir, dirs, files in os.walk(rootdir):\n",
    "    for file in files:\n",
    "        if 'gazedata.csv' in file:\n",
    "            "
   ]
  },
  {
   "cell_type": "code",
   "execution_count": 43,
   "metadata": {},
   "outputs": [
    {
     "data": {
      "text/plain": [
       "<function matplotlib.pyplot.show(close=None, block=None)>"
      ]
     },
     "execution_count": 43,
     "metadata": {},
     "output_type": "execute_result"
    },
    {
     "data": {
      "image/png": "[encoded data removed]",
      "text/plain": [
       "<Figure size 640x480 with 1 Axes>"
      ]
     },
     "metadata": {},
     "output_type": "display_data"
    }
   ],
   "source": [
    "with open('C:/Users/ykung/Downloads/facecamera/end_action/20141019_091035_1106_1256/gazedata.csv') as file2:\n",
    "    reader = csv.reader(file2, delimiter = ',')\n",
    "    \n",
    "    for row3 in reader:\n",
    "        xvals = [None]*len(row3)\n",
    "        yvals = [None]*len(row3)\n",
    "        for i in range(len(row3)):\n",
    "            val1 = row3[i]\n",
    "            try:\n",
    "                xval1 = re.search('\\((.+?),', val1).group(1)\n",
    "            except AttributeError:\n",
    "                pass\n",
    "            xvals[i] = float(xval1)\n",
    "            \n",
    "            try:\n",
    "                yval1 = re.search(',(.+?)\\)', val1).group(1)\n",
    "            except AttributeError:\n",
    "                pass\n",
    "            yvals[i] = float(yval1)\n",
    "            \n",
    "plt.scatter(xvals,yvals)\n",
    "plt.show"
   ]
  },
  {
   "cell_type": "code",
   "execution_count": 6,
   "metadata": {},
   "outputs": [
    {
     "data": {
      "text/plain": [
       "<function matplotlib.pyplot.show(close=None, block=None)>"
      ]
     },
     "execution_count": 6,
     "metadata": {},
     "output_type": "execute_result"
    },
    {
     "data": {
      "image/png": "[encoded data removed]",
      "text/plain": [
       "<Figure size 640x480 with 1 Axes>"
      ]
     },
     "metadata": {},
     "output_type": "display_data"
    }
   ],
   "source": [
    "rootdir = 'C:/Users/ykung/Downloads/facecamera/end_action'\n",
    "completex = []\n",
    "completey = []\n",
    "xval1=0\n",
    "yval1=0\n",
    "for subdir, dirs, files in os.walk(rootdir):\n",
    "    for file in files:\n",
    "        if 'gazedata.csv' in file:\n",
    "            with open(os.path.join(subdir, 'gazedata.csv')) as file2:\n",
    "                reader = csv.reader(file2, delimiter = ',')\n",
    "    \n",
    "                for row3 in reader:\n",
    "                    xvals = [None]*len(row3)\n",
    "                    yvals = [None]*len(row3)\n",
    "                    for i in range(len(row3)):\n",
    "                        val1 = row3[i]\n",
    "                        try:\n",
    "                            xval1 = re.search('\\((.+?),', val1).group(1)\n",
    "                        except AttributeError:\n",
    "                            pass\n",
    "                        xvals[i] = float(xval1)\n",
    "\n",
    "                        try:\n",
    "                            yval1 = re.search(',(.+?)\\)', val1).group(1)\n",
    "                        except AttributeError:\n",
    "                            pass\n",
    "                        yvals[i] = float(yval1)\n",
    "                        \n",
    "                    completex = completex + xvals\n",
    "                    completey = completey + yvals\n",
    "                \n",
    "plt.scatter(completex,completey)\n",
    "plt.xlim([-1500,1500])\n",
    "plt.ylim([-1500,1500])\n",
    "plt.show"
   ]
  },
  {
   "cell_type": "code",
   "execution_count": 7,
   "metadata": {},
   "outputs": [
    {
     "data": {
      "text/plain": [
       "<function matplotlib.pyplot.show(close=None, block=None)>"
      ]
     },
     "execution_count": 7,
     "metadata": {},
     "output_type": "execute_result"
    },
    {
     "data": {
      "image/png": "[encoded data removed]",
      "text/plain": [
       "<Figure size 640x480 with 1 Axes>"
      ]
     },
     "metadata": {},
     "output_type": "display_data"
    }
   ],
   "source": [
    "rootdir = 'C:/Users/ykung/Downloads/facecamera/lchange'\n",
    "completex = []\n",
    "completey = []\n",
    "for subdir, dirs, files in os.walk(rootdir):\n",
    "    for file in files:\n",
    "        if 'gazedata.csv' in file:\n",
    "            with open(os.path.join(subdir, 'gazedata.csv')) as file2:\n",
    "                reader = csv.reader(file2, delimiter = ',')\n",
    "    \n",
    "                for row3 in reader:\n",
    "                    xvals = [None]*len(row3)\n",
    "                    yvals = [None]*len(row3)\n",
    "                    for i in range(len(row3)):\n",
    "                        val1 = row3[i]\n",
    "                        try:\n",
    "                            xval1 = re.search('\\((.+?),', val1).group(1)\n",
    "                        except AttributeError:\n",
    "                            pass\n",
    "                        xvals[i] = float(xval1)\n",
    "\n",
    "                        try:\n",
    "                            yval1 = re.search(',(.+?)\\)', val1).group(1)\n",
    "                        except AttributeError:\n",
    "                            pass\n",
    "                        yvals[i] = float(yval1)\n",
    "                        \n",
    "                    completex = completex + xvals\n",
    "                    completey = completey + yvals\n",
    "                \n",
    "plt.scatter(completex,completey)\n",
    "plt.xlim([-1500,1500])\n",
    "plt.ylim([-1500,1500])\n",
    "plt.show"
   ]
  },
  {
   "cell_type": "code",
   "execution_count": 63,
   "metadata": {},
   "outputs": [
    {
     "data": {
      "text/plain": [
       "<function matplotlib.pyplot.show(close=None, block=None)>"
      ]
     },
     "execution_count": 63,
     "metadata": {},
     "output_type": "execute_result"
    },
    {
     "data": {
      "image/png": "[encoded data removed]",
      "text/plain": [
       "<Figure size 640x480 with 1 Axes>"
      ]
     },
     "metadata": {},
     "output_type": "display_data"
    }
   ],
   "source": [
    "rootdir = 'C:/Users/ykung/Downloads/facecamera/lturn'\n",
    "completex = []\n",
    "completey = []\n",
    "for subdir, dirs, files in os.walk(rootdir):\n",
    "    for file in files:\n",
    "        if 'gazedata.csv' in file:\n",
    "            with open(os.path.join(subdir, 'gazedata.csv')) as file2:\n",
    "                reader = csv.reader(file2, delimiter = ',')\n",
    "    \n",
    "                for row3 in reader:\n",
    "                    xvals = [None]*len(row3)\n",
    "                    yvals = [None]*len(row3)\n",
    "                    for i in range(len(row3)):\n",
    "                        val1 = row3[i]\n",
    "                        try:\n",
    "                            xval1 = re.search('\\((.+?),', val1).group(1)\n",
    "                        except AttributeError:\n",
    "                            pass\n",
    "                        xvals[i] = float(xval1)\n",
    "\n",
    "                        try:\n",
    "                            yval1 = re.search(',(.+?)\\)', val1).group(1)\n",
    "                        except AttributeError:\n",
    "                            pass\n",
    "                        yvals[i] = float(yval1)\n",
    "                        \n",
    "                completex = completex + xvals\n",
    "                completey = completey + yvals\n",
    "                \n",
    "plt.scatter(completex,completey)\n",
    "plt.xlim([-1500,1500])\n",
    "plt.ylim([-1500,1500])\n",
    "plt.show"
   ]
  },
  {
   "cell_type": "code",
   "execution_count": 8,
   "metadata": {},
   "outputs": [
    {
     "data": {
      "text/plain": [
       "<function matplotlib.pyplot.show(close=None, block=None)>"
      ]
     },
     "execution_count": 8,
     "metadata": {},
     "output_type": "execute_result"
    },
    {
     "data": {
      "image/png": "[encoded data removed]",
      "text/plain": [
       "<Figure size 640x480 with 1 Axes>"
      ]
     },
     "metadata": {},
     "output_type": "display_data"
    }
   ],
   "source": [
    "rootdir = 'C:/Users/ykung/Downloads/facecamera/rturn'\n",
    "completex = []\n",
    "completey = []\n",
    "for subdir, dirs, files in os.walk(rootdir):\n",
    "    for file in files:\n",
    "        if 'gazedata.csv' in file:\n",
    "            with open(os.path.join(subdir, 'gazedata.csv')) as file2:\n",
    "                reader = csv.reader(file2, delimiter = ',')\n",
    "    \n",
    "                for row3 in reader:\n",
    "                    xvals = [None]*len(row3)\n",
    "                    yvals = [None]*len(row3)\n",
    "                    for i in range(len(row3)):\n",
    "                        val1 = row3[i]\n",
    "                        try:\n",
    "                            xval1 = re.search('\\((.+?),', val1).group(1)\n",
    "                        except AttributeError:\n",
    "                            pass\n",
    "                        xvals[i] = float(xval1)\n",
    "\n",
    "                        try:\n",
    "                            yval1 = re.search(',(.+?)\\)', val1).group(1)\n",
    "                        except AttributeError:\n",
    "                            pass\n",
    "                        yvals[i] = float(yval1)\n",
    "                        \n",
    "                    completex = completex + xvals\n",
    "                    completey = completey + yvals\n",
    "                \n",
    "plt.scatter(completex,completey)\n",
    "plt.xlim([-1500,1500])\n",
    "plt.ylim([-1500,1500])\n",
    "plt.show"
   ]
  },
  {
   "cell_type": "code",
   "execution_count": 9,
   "metadata": {},
   "outputs": [
    {
     "data": {
      "text/plain": [
       "<function matplotlib.pyplot.show(close=None, block=None)>"
      ]
     },
     "execution_count": 9,
     "metadata": {},
     "output_type": "execute_result"
    },
    {
     "data": {
      "image/png": "[encoded data removed]",
      "text/plain": [
       "<Figure size 640x480 with 1 Axes>"
      ]
     },
     "metadata": {},
     "output_type": "display_data"
    }
   ],
   "source": [
    "rootdir = 'C:/Users/ykung/Downloads/facecamera/rchange'\n",
    "completex = []\n",
    "completey = []\n",
    "for subdir, dirs, files in os.walk(rootdir):\n",
    "    for file in files:\n",
    "        if 'gazedata.csv' in file:\n",
    "            with open(os.path.join(subdir, 'gazedata.csv')) as file2:\n",
    "                reader = csv.reader(file2, delimiter = ',')\n",
    "    \n",
    "                for row3 in reader:\n",
    "                    xvals = [None]*len(row3)\n",
    "                    yvals = [None]*len(row3)\n",
    "                    for i in range(len(row3)):\n",
    "                        val1 = row3[i]\n",
    "                        try:\n",
    "                            xval1 = re.search('\\((.+?),', val1).group(1)\n",
    "                        except AttributeError:\n",
    "                            pass\n",
    "                        xvals[i] = float(xval1)\n",
    "\n",
    "                        try:\n",
    "                            yval1 = re.search(',(.+?)\\)', val1).group(1)\n",
    "                        except AttributeError:\n",
    "                            pass\n",
    "                        yvals[i] = float(yval1)\n",
    "                        \n",
    "                    completex = completex + xvals\n",
    "                    completey = completey + yvals\n",
    "                \n",
    "plt.scatter(completex,completey)\n",
    "plt.xlim([-1500,1500])\n",
    "plt.ylim([-1500,1500])\n",
    "plt.show"
   ]
  },
  {
   "cell_type": "markdown",
   "metadata": {},
   "source": [
    "#### For reference, end action is 0, lturn is 1, rturn is 2, lchange is 3, rchange is 4"
   ]
  },
  {
   "cell_type": "code",
   "execution_count": 10,
   "metadata": {
    "scrolled": true
   },
   "outputs": [
    {
     "name": "stdout",
     "output_type": "stream",
     "text": [
      "C:/Users/ykung/Downloads/facecamera/end_action\\20141019_091035_1106_1256\\gazedata.csv\n",
      "C:/Users/ykung/Downloads/facecamera/end_action\\20141019_091136_63_213\\gazedata.csv\n",
      "C:/Users/ykung/Downloads/facecamera/end_action\\20141019_132535_1548_1698\\gazedata.csv\n",
      "C:/Users/ykung/Downloads/facecamera/end_action\\20141019_132726_1056_1206\\gazedata.csv\n",
      "C:/Users/ykung/Downloads/facecamera/end_action\\20141019_132925_1049_1199\\gazedata.csv\n",
      "C:/Users/ykung/Downloads/facecamera/end_action\\20141019_132925_536_686\\gazedata.csv\n",
      "C:/Users/ykung/Downloads/facecamera/end_action\\20141019_133122_382_532\\gazedata.csv\n",
      "C:/Users/ykung/Downloads/facecamera/end_action\\20141019_133122_706_856\\gazedata.csv\n",
      "C:/Users/ykung/Downloads/facecamera/end_action\\20141019_133311_461_611\\gazedata.csv\n",
      "C:/Users/ykung/Downloads/facecamera/end_action\\20141019_134100_1_151\\gazedata.csv\n",
      "C:/Users/ykung/Downloads/facecamera/end_action\\20141019_140343_1491_1641\\gazedata.csv\n",
      "C:/Users/ykung/Downloads/facecamera/end_action\\20141019_140917_1600_1750\\gazedata.csv\n",
      "C:/Users/ykung/Downloads/facecamera/end_action\\20141019_141117_284_434\\gazedata.csv\n",
      "C:/Users/ykung/Downloads/facecamera/end_action\\20141019_141117_911_1061\\gazedata.csv\n",
      "C:/Users/ykung/Downloads/facecamera/end_action\\20141019_141433_753_903\\gazedata.csv\n",
      "C:/Users/ykung/Downloads/facecamera/end_action\\20141019_141630_944_1094\\gazedata.csv\n",
      "C:/Users/ykung/Downloads/facecamera/end_action\\20141019_141730_468_618\\gazedata.csv\n",
      "C:/Users/ykung/Downloads/facecamera/end_action\\20141019_141730_846_996\\gazedata.csv\n",
      "C:/Users/ykung/Downloads/facecamera/end_action\\20141019_141831_805_955\\gazedata.csv\n",
      "C:/Users/ykung/Downloads/facecamera/end_action\\20141019_142131_153_303\\gazedata.csv\n",
      "C:/Users/ykung/Downloads/facecamera/end_action\\20141019_142358_1080_1230\\gazedata.csv\n",
      "C:/Users/ykung/Downloads/facecamera/end_action\\20141019_154540_848_998\\gazedata.csv\n",
      "C:/Users/ykung/Downloads/facecamera/end_action\\20141019_161013_1127_1277\\gazedata.csv\n",
      "C:/Users/ykung/Downloads/facecamera/end_action\\20141019_162942_1376_1526\\gazedata.csv\n",
      "C:/Users/ykung/Downloads/facecamera/end_action\\20141019_163741_629_779\\gazedata.csv\n",
      "C:/Users/ykung/Downloads/facecamera/end_action\\20141019_163941_431_581\\gazedata.csv\n",
      "C:/Users/ykung/Downloads/facecamera/end_action\\20141019_164041_1433_1583\\gazedata.csv\n",
      "C:/Users/ykung/Downloads/facecamera/end_action\\20141019_164442_1403_1553\\gazedata.csv\n",
      "C:/Users/ykung/Downloads/facecamera/end_action\\20141019_165104_768_918\\gazedata.csv\n",
      "C:/Users/ykung/Downloads/facecamera/end_action\\20141019_170809_486_636\\gazedata.csv\n",
      "C:/Users/ykung/Downloads/facecamera/end_action\\20141019_170910_222_372\\gazedata.csv\n",
      "C:/Users/ykung/Downloads/facecamera/end_action\\20141019_171111_1305_1455\\gazedata.csv\n",
      "C:/Users/ykung/Downloads/facecamera/end_action\\20141019_171211_1042_1192\\gazedata.csv\n",
      "C:/Users/ykung/Downloads/facecamera/end_action\\20141019_171313_920_1070\\gazedata.csv\n",
      "C:/Users/ykung/Downloads/facecamera/end_action\\20141019_171814_1158_1308\\gazedata.csv\n",
      "C:/Users/ykung/Downloads/facecamera/end_action\\20141019_171814_451_601\\gazedata.csv\n",
      "C:/Users/ykung/Downloads/facecamera/end_action\\20141019_171915_1557_1707\\gazedata.csv\n",
      "C:/Users/ykung/Downloads/facecamera/end_action\\20141019_171915_748_898\\gazedata.csv\n",
      "C:/Users/ykung/Downloads/facecamera/end_action\\20141019_172116_487_637\\gazedata.csv\n",
      "C:/Users/ykung/Downloads/facecamera/end_action\\20141019_172317_269_419\\gazedata.csv\n",
      "C:/Users/ykung/Downloads/facecamera/end_action\\20141019_173523_1500_1650\\gazedata.csv\n",
      "C:/Users/ykung/Downloads/facecamera/end_action\\20141019_173724_232_382\\gazedata.csv\n",
      "C:/Users/ykung/Downloads/facecamera/end_action\\20141019_174126_1296_1446\\gazedata.csv\n",
      "C:/Users/ykung/Downloads/facecamera/end_action\\20141025_141223_1407_1557\\gazedata.csv\n",
      "C:/Users/ykung/Downloads/facecamera/end_action\\20141025_141321_1246_1396\\gazedata.csv\n",
      "C:/Users/ykung/Downloads/facecamera/end_action\\20141025_142808_1250_1400\\gazedata.csv\n",
      "C:/Users/ykung/Downloads/facecamera/end_action\\20141025_143241_1558_1708\\gazedata.csv\n",
      "C:/Users/ykung/Downloads/facecamera/end_action\\20141025_143739_1045_1195\\gazedata.csv\n",
      "C:/Users/ykung/Downloads/facecamera/end_action\\20141025_144141_88_238\\gazedata.csv\n",
      "C:/Users/ykung/Downloads/facecamera/end_action\\20141025_145741_245_395\\gazedata.csv\n",
      "C:/Users/ykung/Downloads/facecamera/end_action\\20141025_150342_1625_1775\\gazedata.csv\n",
      "C:/Users/ykung/Downloads/facecamera/end_action\\20141025_150443_318_468\\gazedata.csv\n",
      "C:/Users/ykung/Downloads/facecamera/end_action\\20141025_150644_518_668\\gazedata.csv\n",
      "C:/Users/ykung/Downloads/facecamera/end_action\\20141025_151142_107_257\\gazedata.csv\n",
      "C:/Users/ykung/Downloads/facecamera/end_action\\20141025_151444_1435_1585\\gazedata.csv\n",
      "C:/Users/ykung/Downloads/facecamera/end_action\\20141025_151544_347_497\\gazedata.csv\n",
      "C:/Users/ykung/Downloads/facecamera/end_action\\20141025_151746_1598_1748\\gazedata.csv\n",
      "C:/Users/ykung/Downloads/facecamera/end_action\\20141105_135024_767_917\\gazedata.csv\n",
      "C:/Users/ykung/Downloads/facecamera/end_action\\20141115_092058_1438_1588\\gazedata.csv\n",
      "C:/Users/ykung/Downloads/facecamera/end_action\\20141115_092158_1616_1766\\gazedata.csv\n",
      "C:/Users/ykung/Downloads/facecamera/end_action\\20141115_092158_977_1127\\gazedata.csv\n",
      "C:/Users/ykung/Downloads/facecamera/end_action\\20141115_095432_911_1061\\gazedata.csv\n",
      "C:/Users/ykung/Downloads/facecamera/end_action\\20141115_100438_1623_1773\\gazedata.csv\n",
      "C:/Users/ykung/Downloads/facecamera/end_action\\20141115_100636_1325_1475\\gazedata.csv\n",
      "C:/Users/ykung/Downloads/facecamera/end_action\\20141115_101849_1000_1150\\gazedata.csv\n",
      "C:/Users/ykung/Downloads/facecamera/end_action\\20141115_102050_409_559\\gazedata.csv\n",
      "C:/Users/ykung/Downloads/facecamera/end_action\\20141115_102451_908_1058\\gazedata.csv\n",
      "C:/Users/ykung/Downloads/facecamera/end_action\\20141115_103140_891_1041\\gazedata.csv\n",
      "C:/Users/ykung/Downloads/facecamera/end_action\\20141115_103337_346_496\\gazedata.csv\n",
      "C:/Users/ykung/Downloads/facecamera/end_action\\20141115_104543_1657_1807\\gazedata.csv\n",
      "C:/Users/ykung/Downloads/facecamera/end_action\\20141115_104645_1129_1279\\gazedata.csv\n",
      "C:/Users/ykung/Downloads/facecamera/end_action\\20141115_104945_694_844\\gazedata.csv\n",
      "C:/Users/ykung/Downloads/facecamera/end_action\\20141115_105046_780_930\\gazedata.csv\n",
      "C:/Users/ykung/Downloads/facecamera/end_action\\20141115_105146_906_1056\\gazedata.csv\n",
      "C:/Users/ykung/Downloads/facecamera/end_action\\20141115_105248_429_579\\gazedata.csv\n",
      "C:/Users/ykung/Downloads/facecamera/end_action\\20141115_105550_721_871\\gazedata.csv\n",
      "C:/Users/ykung/Downloads/facecamera/end_action\\20141115_105650_605_755\\gazedata.csv\n",
      "C:/Users/ykung/Downloads/facecamera/end_action\\20141115_105851_339_489\\gazedata.csv\n",
      "C:/Users/ykung/Downloads/facecamera/end_action\\20141115_110323_433_583\\gazedata.csv\n",
      "C:/Users/ykung/Downloads/facecamera/end_action\\20141115_110825_530_680\\gazedata.csv\n",
      "C:/Users/ykung/Downloads/facecamera/end_action\\20141115_111027_698_848\\gazedata.csv\n",
      "C:/Users/ykung/Downloads/facecamera/end_action\\20141115_111428_1528_1678\\gazedata.csv\n",
      "C:/Users/ykung/Downloads/facecamera/end_action\\20141115_111629_582_732\\gazedata.csv\n",
      "C:/Users/ykung/Downloads/facecamera/end_action\\20141115_122308_457_607\\gazedata.csv\n",
      "C:/Users/ykung/Downloads/facecamera/end_action\\20141115_122912_822_972\\gazedata.csv\n",
      "C:/Users/ykung/Downloads/facecamera/end_action\\20141115_124034_1225_1375\\gazedata.csv\n",
      "C:/Users/ykung/Downloads/facecamera/end_action\\20141115_124235_1626_1776\\gazedata.csv\n",
      "C:/Users/ykung/Downloads/facecamera/end_action\\20141115_124436_920_1070\\gazedata.csv\n",
      "C:/Users/ykung/Downloads/facecamera/end_action\\20141115_124637_803_953\\gazedata.csv\n",
      "C:/Users/ykung/Downloads/facecamera/end_action\\20141115_124839_924_1074\\gazedata.csv\n",
      "C:/Users/ykung/Downloads/facecamera/end_action\\20141115_125240_327_477\\gazedata.csv\n",
      "C:/Users/ykung/Downloads/facecamera/end_action\\20141115_125948_1346_1496\\gazedata.csv\n",
      "C:/Users/ykung/Downloads/facecamera/end_action\\20141115_134324_686_836\\gazedata.csv\n",
      "C:/Users/ykung/Downloads/facecamera/end_action\\20141116_152826_292_442\\gazedata.csv\n",
      "C:/Users/ykung/Downloads/facecamera/end_action\\20141116_153659_376_526\\gazedata.csv\n",
      "C:/Users/ykung/Downloads/facecamera/end_action\\20141116_155005_388_538\\gazedata.csv\n",
      "C:/Users/ykung/Downloads/facecamera/end_action\\20141116_155205_415_565\\gazedata.csv\n"
     ]
    },
    {
     "name": "stdout",
     "output_type": "stream",
     "text": [
      "C:/Users/ykung/Downloads/facecamera/end_action\\20141116_155306_267_417\\gazedata.csv\n",
      "C:/Users/ykung/Downloads/facecamera/end_action\\20141116_155607_875_1025\\gazedata.csv\n",
      "C:/Users/ykung/Downloads/facecamera/end_action\\20141116_155809_31_181\\gazedata.csv\n",
      "C:/Users/ykung/Downloads/facecamera/end_action\\20141116_161859_999_1149\\gazedata.csv\n",
      "C:/Users/ykung/Downloads/facecamera/end_action\\20141116_162000_711_861\\gazedata.csv\n",
      "C:/Users/ykung/Downloads/facecamera/end_action\\20141116_162526_891_1041\\gazedata.csv\n",
      "C:/Users/ykung/Downloads/facecamera/end_action\\20141116_162628_492_642\\gazedata.csv\n",
      "C:/Users/ykung/Downloads/facecamera/end_action\\20141116_164112_787_937\\gazedata.csv\n",
      "C:/Users/ykung/Downloads/facecamera/end_action\\20141116_164714_749_899\\gazedata.csv\n",
      "C:/Users/ykung/Downloads/facecamera/end_action\\20141116_164815_735_885\\gazedata.csv\n",
      "C:/Users/ykung/Downloads/facecamera/end_action\\20141123_153123_482_632\\gazedata.csv\n",
      "C:/Users/ykung/Downloads/facecamera/end_action\\20141123_153224_354_504\\gazedata.csv\n",
      "C:/Users/ykung/Downloads/facecamera/end_action\\20141123_154028_140_290\\gazedata.csv\n",
      "C:/Users/ykung/Downloads/facecamera/end_action\\20141123_154028_975_1125\\gazedata.csv\n",
      "C:/Users/ykung/Downloads/facecamera/end_action\\20141123_154431_479_629\\gazedata.csv\n",
      "C:/Users/ykung/Downloads/facecamera/end_action\\20141123_154532_461_611\\gazedata.csv\n",
      "C:/Users/ykung/Downloads/facecamera/end_action\\20141123_154632_1240_1390\\gazedata.csv\n",
      "C:/Users/ykung/Downloads/facecamera/end_action\\20141123_154833_521_671\\gazedata.csv\n",
      "C:/Users/ykung/Downloads/facecamera/end_action\\20141123_155034_765_915\\gazedata.csv\n",
      "C:/Users/ykung/Downloads/facecamera/end_action\\20141123_155235_937_1087\\gazedata.csv\n",
      "C:/Users/ykung/Downloads/facecamera/end_action\\20141123_155637_413_563\\gazedata.csv\n",
      "C:/Users/ykung/Downloads/facecamera/end_action\\20141123_155737_203_353\\gazedata.csv\n",
      "C:/Users/ykung/Downloads/facecamera/end_action\\20141123_155838_612_762\\gazedata.csv\n",
      "C:/Users/ykung/Downloads/facecamera/end_action\\20141123_155938_545_695\\gazedata.csv\n",
      "C:/Users/ykung/Downloads/facecamera/end_action\\20141123_160039_1520_1670\\gazedata.csv\n",
      "C:/Users/ykung/Downloads/facecamera/end_action\\20141123_160039_153_303\\gazedata.csv\n",
      "C:/Users/ykung/Downloads/facecamera/end_action\\20141123_160441_1362_1512\\gazedata.csv\n",
      "C:/Users/ykung/Downloads/facecamera/end_action\\20141123_160945_959_1109\\gazedata.csv\n",
      "C:/Users/ykung/Downloads/facecamera/end_action\\20141123_161145_240_390\\gazedata.csv\n",
      "C:/Users/ykung/Downloads/facecamera/end_action\\20141123_161547_132_282\\gazedata.csv\n",
      "C:/Users/ykung/Downloads/facecamera/end_action\\20141123_162150_436_586\\gazedata.csv\n",
      "C:/Users/ykung/Downloads/facecamera/end_action\\20141123_162753_424_574\\gazedata.csv\n",
      "C:/Users/ykung/Downloads/facecamera/end_action\\20141123_163558_602_752\\gazedata.csv\n",
      "C:/Users/ykung/Downloads/facecamera/end_action\\20141123_164000_1045_1195\\gazedata.csv\n",
      "C:/Users/ykung/Downloads/facecamera/end_action\\20141123_164202_263_413\\gazedata.csv\n",
      "C:/Users/ykung/Downloads/facecamera/end_action\\20141123_164302_329_479\\gazedata.csv\n",
      "C:/Users/ykung/Downloads/facecamera/end_action\\20141123_164502_135_285\\gazedata.csv\n",
      "C:/Users/ykung/Downloads/facecamera/end_action\\20141123_164704_809_959\\gazedata.csv\n",
      "C:/Users/ykung/Downloads/facecamera/end_action\\20141123_165007_229_379\\gazedata.csv\n",
      "C:/Users/ykung/Downloads/facecamera/end_action\\20141123_165206_770_920\\gazedata.csv\n",
      "C:/Users/ykung/Downloads/facecamera/end_action\\20141123_165508_216_366\\gazedata.csv\n",
      "C:/Users/ykung/Downloads/facecamera/end_action\\20141123_165609_1140_1290\\gazedata.csv\n",
      "C:/Users/ykung/Downloads/facecamera/end_action\\20141123_170010_239_389\\gazedata.csv\n",
      "C:/Users/ykung/Downloads/facecamera/end_action\\20141123_170111_463_613\\gazedata.csv\n",
      "C:/Users/ykung/Downloads/facecamera/end_action\\20141123_170413_948_1098\\gazedata.csv\n",
      "C:/Users/ykung/Downloads/facecamera/end_action\\20141123_170715_1295_1445\\gazedata.csv\n",
      "C:/Users/ykung/Downloads/facecamera/end_action\\20141123_170814_490_640\\gazedata.csv\n",
      "C:/Users/ykung/Downloads/facecamera/end_action\\20141123_170915_267_417\\gazedata.csv\n",
      "C:/Users/ykung/Downloads/facecamera/end_action\\20141123_171015_663_813\\gazedata.csv\n",
      "C:/Users/ykung/Downloads/facecamera/end_action\\20141123_171318_1143_1293\\gazedata.csv\n",
      "C:/Users/ykung/Downloads/facecamera/end_action\\20141123_171620_340_490\\gazedata.csv\n",
      "C:/Users/ykung/Downloads/facecamera/end_action\\20141123_173946_2337_2487\\gazedata.csv\n",
      "C:/Users/ykung/Downloads/facecamera/end_action\\20141123_173946_8355_8505\\gazedata.csv\n",
      "C:/Users/ykung/Downloads/facecamera/end_action\\20141123_174947_7068_7218\\gazedata.csv\n",
      "C:/Users/ykung/Downloads/facecamera/end_action\\20141126_142224_11597_11747\\gazedata.csv\n",
      "C:/Users/ykung/Downloads/facecamera/end_action\\20141126_143224_1211_1361\\gazedata.csv\n",
      "C:/Users/ykung/Downloads/facecamera/end_action\\20141126_143224_249_399\\gazedata.csv\n",
      "C:/Users/ykung/Downloads/facecamera/end_action\\20141126_143224_4518_4668\\gazedata.csv\n",
      "C:/Users/ykung/Downloads/facecamera/end_action\\20141126_143224_7751_7901\\gazedata.csv\n",
      "C:/Users/ykung/Downloads/facecamera/end_action\\20141126_144225_1220_1370\\gazedata.csv\n",
      "C:/Users/ykung/Downloads/facecamera/end_action\\20141126_145225_856_1006\\gazedata.csv\n",
      "C:/Users/ykung/Downloads/facecamera/end_action\\20141126_150226_5829_5979\\gazedata.csv\n",
      "C:/Users/ykung/Downloads/facecamera/end_action\\20141126_151226_13178_13328\\gazedata.csv\n",
      "C:/Users/ykung/Downloads/facecamera/end_action\\20141126_152227_180_330\\gazedata.csv\n",
      "C:/Users/ykung/Downloads/facecamera/end_action\\20141220_131216_1401_1551\\gazedata.csv\n",
      "C:/Users/ykung/Downloads/facecamera/end_action\\20141220_131216_490_640\\gazedata.csv\n",
      "C:/Users/ykung/Downloads/facecamera/end_action\\20141220_131317_1040_1190\\gazedata.csv\n",
      "C:/Users/ykung/Downloads/facecamera/end_action\\20141220_131417_453_603\\gazedata.csv\n",
      "C:/Users/ykung/Downloads/facecamera/end_action\\20141220_131919_1117_1267\\gazedata.csv\n",
      "C:/Users/ykung/Downloads/facecamera/end_action\\20141220_131919_1651_1801\\gazedata.csv\n",
      "C:/Users/ykung/Downloads/facecamera/end_action\\20141220_132020_1559_1709\\gazedata.csv\n",
      "C:/Users/ykung/Downloads/facecamera/end_action\\20141220_132020_851_1001\\gazedata.csv\n",
      "C:/Users/ykung/Downloads/facecamera/end_action\\20141220_132723_1412_1562\\gazedata.csv\n",
      "C:/Users/ykung/Downloads/facecamera/end_action\\20141220_132924_412_562\\gazedata.csv\n",
      "C:/Users/ykung/Downloads/facecamera/end_action\\20141220_133627_1102_1252\\gazedata.csv\n",
      "C:/Users/ykung/Downloads/facecamera/end_action\\20141220_133828_374_524\\gazedata.csv\n",
      "C:/Users/ykung/Downloads/facecamera/end_action\\20141220_133929_1242_1392\\gazedata.csv\n",
      "C:/Users/ykung/Downloads/facecamera/end_action\\20141220_134130_1248_1398\\gazedata.csv\n",
      "C:/Users/ykung/Downloads/facecamera/end_action\\20141220_134130_527_677\\gazedata.csv\n",
      "C:/Users/ykung/Downloads/facecamera/end_action\\20141220_134432_1004_1154\\gazedata.csv\n",
      "C:/Users/ykung/Downloads/facecamera/end_action\\20141220_134532_982_1132\\gazedata.csv\n",
      "C:/Users/ykung/Downloads/facecamera/end_action\\20141220_134733_554_704\\gazedata.csv\n",
      "C:/Users/ykung/Downloads/facecamera/end_action\\20141220_134834_986_1136\\gazedata.csv\n",
      "C:/Users/ykung/Downloads/facecamera/end_action\\20141220_134935_573_723\\gazedata.csv\n",
      "C:/Users/ykung/Downloads/facecamera/end_action\\20141220_135036_1149_1299\\gazedata.csv\n",
      "C:/Users/ykung/Downloads/facecamera/end_action\\20141220_135237_461_611\\gazedata.csv\n",
      "C:/Users/ykung/Downloads/facecamera/end_action\\20141220_135337_1392_1542\\gazedata.csv\n",
      "C:/Users/ykung/Downloads/facecamera/end_action\\20141220_135337_733_883\\gazedata.csv\n",
      "C:/Users/ykung/Downloads/facecamera/end_action\\20141220_135538_1137_1287\\gazedata.csv\n",
      "C:/Users/ykung/Downloads/facecamera/end_action\\20141220_135739_1149_1299\\gazedata.csv\n",
      "C:/Users/ykung/Downloads/facecamera/end_action\\20141220_135940_914_1064\\gazedata.csv\n",
      "C:/Users/ykung/Downloads/facecamera/end_action\\20141220_140041_1173_1323\\gazedata.csv\n",
      "C:/Users/ykung/Downloads/facecamera/end_action\\20141220_140745_982_1132\\gazedata.csv\n",
      "C:/Users/ykung/Downloads/facecamera/end_action\\20141220_141349_887_1037\\gazedata.csv\n",
      "C:/Users/ykung/Downloads/facecamera/end_action\\20141220_152641_1660_1810\\gazedata.csv\n",
      "C:/Users/ykung/Downloads/facecamera/end_action\\20141220_152740_705_855\\gazedata.csv\n",
      "C:/Users/ykung/Downloads/facecamera/end_action\\20141220_153043_1247_1397\\gazedata.csv\n"
     ]
    },
    {
     "name": "stdout",
     "output_type": "stream",
     "text": [
      "C:/Users/ykung/Downloads/facecamera/end_action\\20141220_153143_966_1116\\gazedata.csv\n",
      "C:/Users/ykung/Downloads/facecamera/end_action\\20141220_153445_1337_1487\\gazedata.csv\n",
      "C:/Users/ykung/Downloads/facecamera/end_action\\20141220_153747_672_822\\gazedata.csv\n",
      "C:/Users/ykung/Downloads/facecamera/end_action\\20141220_153848_1522_1672\\gazedata.csv\n",
      "C:/Users/ykung/Downloads/facecamera/end_action\\20141220_153848_555_705\\gazedata.csv\n",
      "C:/Users/ykung/Downloads/facecamera/end_action\\20141220_154048_1450_1600\\gazedata.csv\n",
      "C:/Users/ykung/Downloads/facecamera/end_action\\20141220_154149_752_902\\gazedata.csv\n",
      "C:/Users/ykung/Downloads/facecamera/end_action\\20141220_154250_1074_1224\\gazedata.csv\n",
      "C:/Users/ykung/Downloads/facecamera/end_action\\20141220_154250_527_677\\gazedata.csv\n",
      "C:/Users/ykung/Downloads/facecamera/end_action\\20141220_160135_1367_1517\\gazedata.csv\n",
      "C:/Users/ykung/Downloads/facecamera/end_action\\20141220_160135_770_920\\gazedata.csv\n",
      "C:/Users/ykung/Downloads/facecamera/end_action\\20141220_160236_355_505\\gazedata.csv\n",
      "C:/Users/ykung/Downloads/facecamera/end_action\\20141220_160236_914_1064\\gazedata.csv\n",
      "C:/Users/ykung/Downloads/facecamera/end_action\\20141220_160337_1146_1296\\gazedata.csv\n",
      "C:/Users/ykung/Downloads/facecamera/end_action\\20141220_160538_1490_1640\\gazedata.csv\n",
      "C:/Users/ykung/Downloads/facecamera/end_action\\20141220_160639_1246_1396\\gazedata.csv\n",
      "C:/Users/ykung/Downloads/facecamera/end_action\\20141220_160639_732_882\\gazedata.csv\n",
      "C:/Users/ykung/Downloads/facecamera/end_action\\20141220_160739_1426_1576\\gazedata.csv\n",
      "C:/Users/ykung/Downloads/facecamera/end_action\\20141220_160840_1382_1532\\gazedata.csv\n",
      "C:/Users/ykung/Downloads/facecamera/end_action\\20141220_161040_1604_1754\\gazedata.csv\n",
      "C:/Users/ykung/Downloads/facecamera/end_action\\20141220_161442_433_583\\gazedata.csv\n",
      "C:/Users/ykung/Downloads/facecamera/end_action\\20141220_161644_1001_1151\\gazedata.csv\n",
      "C:/Users/ykung/Downloads/facecamera/end_action\\20141220_162950_507_657\\gazedata.csv\n",
      "C:/Users/ykung/Downloads/facecamera/end_action\\20141220_163855_1057_1207\\gazedata.csv\n",
      "C:/Users/ykung/Downloads/facecamera/end_action\\20141220_163955_501_651\\gazedata.csv\n",
      "C:/Users/ykung/Downloads/facecamera/end_action\\20141220_164057_768_918\\gazedata.csv\n",
      "C:/Users/ykung/Downloads/facecamera/end_action\\20141220_164157_668_818\\gazedata.csv\n",
      "C:/Users/ykung/Downloads/facecamera/end_action\\20141220_164257_620_770\\gazedata.csv\n",
      "C:/Users/ykung/Downloads/facecamera/end_action\\20141220_164457_819_969\\gazedata.csv\n",
      "C:/Users/ykung/Downloads/facecamera/end_action\\20141220_164558_550_700\\gazedata.csv\n",
      "C:/Users/ykung/Downloads/facecamera/end_action\\20141220_164900_1422_1572\\gazedata.csv\n",
      "C:/Users/ykung/Downloads/facecamera/end_action\\20141220_165000_445_595\\gazedata.csv\n",
      "C:/Users/ykung/Downloads/facecamera/end_action\\20141220_165100_384_534\\gazedata.csv\n",
      "C:/Users/ykung/Downloads/facecamera/end_action\\20141220_165200_829_979\\gazedata.csv\n",
      "C:/Users/ykung/Downloads/facecamera/end_action\\20141220_165301_1023_1173\\gazedata.csv\n",
      "C:/Users/ykung/Downloads/facecamera/end_action\\20141220_165401_421_571\\gazedata.csv\n",
      "C:/Users/ykung/Downloads/facecamera/end_action\\20141220_165401_884_1034\\gazedata.csv\n",
      "C:/Users/ykung/Downloads/facecamera/end_action\\20141220_165703_363_513\\gazedata.csv\n",
      "C:/Users/ykung/Downloads/facecamera/end_action\\20141220_165803_464_614\\gazedata.csv\n",
      "C:/Users/ykung/Downloads/facecamera/end_action\\20141220_170004_1099_1249\\gazedata.csv\n"
     ]
    }
   ],
   "source": [
    "rootdir = 'C:/Users/ykung/Downloads/facecamera/end_action'\n",
    "xval=0\n",
    "yval=0\n",
    "trainset = np.zeros((90,2,1))\n",
    "trainsety = np.zeros((1,1,1))\n",
    "testset = np.zeros((90,2,1))\n",
    "testsety = np.zeros((1,1,1))\n",
    "for subdir, dirs, files in os.walk(rootdir):\n",
    "    for file in files:\n",
    "        if 'gazedata.csv' in file:\n",
    "            with open(os.path.join(subdir, 'gazedata.csv')) as file2:\n",
    "                print(os.path.join(subdir, 'gazedata.csv'))\n",
    "                reader = csv.reader(file2, delimiter = ',')\n",
    "    \n",
    "                for row3 in reader:\n",
    "                    incompleteset = np.zeros((len(row3),2))\n",
    "                    lengthdrive = len(row3)\n",
    "                    for i in range(len(row3)):\n",
    "                        val1 = row3[i]\n",
    "                        try:\n",
    "                            xval = re.search('\\((.+?),', val1).group(1)\n",
    "                        except AttributeError:\n",
    "                            pass\n",
    "                        incompleteset[i,0] = float(xval)\n",
    "                        try:\n",
    "                            yval = re.search(',(.+?)\\)', val1).group(1)\n",
    "                        except AttributeError:\n",
    "                            pass\n",
    "                        incompleteset[i,1] = float(yval)\n",
    "                        \n",
    "                    if random.random() < 0.8:\n",
    "                        for i in range(lengthdrive): \n",
    "                            tempset = np.zeros((90,2,1))\n",
    "                            if i < 90:\n",
    "                                tempset[89-i:90,:,0] = incompleteset[0:i+1,:]\n",
    "                                trainset = np.concatenate((trainset,tempset), axis=2)\n",
    "                            else:\n",
    "                                tempset[:,:,0] = incompleteset[i-90:i,:]\n",
    "                                trainset = np.concatenate((trainset,tempset), axis=2)\n",
    "\n",
    "                            trainsety = np.concatenate((trainsety,np.zeros((1,1,1))), axis=2)\n",
    "                    else:        \n",
    "                        for i in range(lengthdrive): \n",
    "                            tempset = np.zeros((90,2,1))\n",
    "                            if i < 90:\n",
    "                                tempset[89-i:90,:,0] = incompleteset[0:i+1,:]\n",
    "                                testset = np.concatenate((testset,tempset), axis=2)\n",
    "                            else:\n",
    "                                tempset[:,:,0] = incompleteset[i-90:i,:]\n",
    "                                testset = np.concatenate((testset,tempset), axis=2)\n",
    "\n",
    "                            testsety = np.concatenate((testsety,np.zeros((1,1,1))), axis=2)"
   ]
  },
  {
   "cell_type": "code",
   "execution_count": 24,
   "metadata": {
    "scrolled": true
   },
   "outputs": [
    {
     "name": "stdout",
     "output_type": "stream",
     "text": [
      "C:/Users/ykung/Downloads/facecamera/rchange\\20141019_132825_265_415\\gazedata.csv\n",
      "C:/Users/ykung/Downloads/facecamera/rchange\\20141019_132925_328_478\\gazedata.csv\n",
      "C:/Users/ykung/Downloads/facecamera/rchange\\20141019_133122_516_666\\gazedata.csv\n",
      "C:/Users/ykung/Downloads/facecamera/rchange\\20141019_133222_478_627\\gazedata.csv\n",
      "C:/Users/ykung/Downloads/facecamera/rchange\\20141019_133311_232_382\\gazedata.csv\n",
      "C:/Users/ykung/Downloads/facecamera/rchange\\20141019_133907_560_710\\gazedata.csv\n",
      "C:/Users/ykung/Downloads/facecamera/rchange\\20141019_134805_989_1139\\gazedata.csv\n",
      "C:/Users/ykung/Downloads/facecamera/rchange\\20141019_140343_1230_1348\\gazedata.csv\n",
      "C:/Users/ykung/Downloads/facecamera/rchange\\20141019_140917_1374_1524\\gazedata.csv\n",
      "C:/Users/ykung/Downloads/facecamera/rchange\\20141019_141117_74_224\\gazedata.csv\n",
      "C:/Users/ykung/Downloads/facecamera/rchange\\20141019_141317_1080_1230\\gazedata.csv\n",
      "C:/Users/ykung/Downloads/facecamera/rchange\\20141019_141630_739_889\\gazedata.csv\n",
      "C:/Users/ykung/Downloads/facecamera/rchange\\20141019_141730_1106_1256\\gazedata.csv\n",
      "C:/Users/ykung/Downloads/facecamera/rchange\\20141019_141730_622_772\\gazedata.csv\n",
      "C:/Users/ykung/Downloads/facecamera/rchange\\20141019_141831_1436_1586\\gazedata.csv\n",
      "C:/Users/ykung/Downloads/facecamera/rchange\\20141019_142255_1562_1712\\gazedata.csv\n",
      "C:/Users/ykung/Downloads/facecamera/rchange\\20141019_154540_615_765\\gazedata.csv\n",
      "C:/Users/ykung/Downloads/facecamera/rchange\\20141019_161013_887_1031\\gazedata.csv\n",
      "C:/Users/ykung/Downloads/facecamera/rchange\\20141019_163741_444_593\\gazedata.csv\n",
      "C:/Users/ykung/Downloads/facecamera/rchange\\20141019_163941_208_358\\gazedata.csv\n",
      "C:/Users/ykung/Downloads/facecamera/rchange\\20141019_164041_1176_1325\\gazedata.csv\n",
      "C:/Users/ykung/Downloads/facecamera/rchange\\20141019_165104_506_656\\gazedata.csv\n",
      "C:/Users/ykung/Downloads/facecamera/rchange\\20141019_171111_1119_1269\\gazedata.csv\n",
      "C:/Users/ykung/Downloads/facecamera/rchange\\20141019_171915_1112_1261\\gazedata.csv\n",
      "C:/Users/ykung/Downloads/facecamera/rchange\\20141019_171915_1371_1521\\gazedata.csv\n",
      "C:/Users/ykung/Downloads/facecamera/rchange\\20141019_171915_541_691\\gazedata.csv\n",
      "C:/Users/ykung/Downloads/facecamera/rchange\\20141019_172015_1588_1730\\gazedata.csv\n",
      "C:/Users/ykung/Downloads/facecamera/rchange\\20141019_173523_1100_1250\\gazedata.csv\n",
      "C:/Users/ykung/Downloads/facecamera/rchange\\20141019_173523_1341_1450\\gazedata.csv\n",
      "C:/Users/ykung/Downloads/facecamera/rchange\\20141019_173724_3_146\\gazedata.csv\n",
      "C:/Users/ykung/Downloads/facecamera/rchange\\20141019_174126_177_327\\gazedata.csv\n",
      "C:/Users/ykung/Downloads/facecamera/rchange\\20141025_141321_1003_1153\\gazedata.csv\n",
      "C:/Users/ykung/Downloads/facecamera/rchange\\20141025_141321_1_82\\gazedata.csv\n",
      "C:/Users/ykung/Downloads/facecamera/rchange\\20141025_142125_827_977\\gazedata.csv\n",
      "C:/Users/ykung/Downloads/facecamera/rchange\\20141025_142326_179_327\\gazedata.csv\n",
      "C:/Users/ykung/Downloads/facecamera/rchange\\20141025_142326_677_827\\gazedata.csv\n",
      "C:/Users/ykung/Downloads/facecamera/rchange\\20141025_143241_226_373\\gazedata.csv\n",
      "C:/Users/ykung/Downloads/facecamera/rchange\\20141025_143537_751_901\\gazedata.csv\n",
      "C:/Users/ykung/Downloads/facecamera/rchange\\20141025_143739_214_364\\gazedata.csv\n",
      "C:/Users/ykung/Downloads/facecamera/rchange\\20141025_144141_6_33\\gazedata.csv\n",
      "C:/Users/ykung/Downloads/facecamera/rchange\\20141025_145648_105_255\\gazedata.csv\n",
      "C:/Users/ykung/Downloads/facecamera/rchange\\20141025_145648_617_767\\gazedata.csv\n",
      "C:/Users/ykung/Downloads/facecamera/rchange\\20141025_145741_47_197\\gazedata.csv\n",
      "C:/Users/ykung/Downloads/facecamera/rchange\\20141025_150945_217_367\\gazedata.csv\n",
      "C:/Users/ykung/Downloads/facecamera/rchange\\20141101_153000_810_960\\gazedata.csv\n",
      "C:/Users/ykung/Downloads/facecamera/rchange\\20141101_153101_297_447\\gazedata.csv\n",
      "C:/Users/ykung/Downloads/facecamera/rchange\\20141101_153202_691_841\\gazedata.csv\n",
      "C:/Users/ykung/Downloads/facecamera/rchange\\20141101_153302_1544_1694\\gazedata.csv\n",
      "C:/Users/ykung/Downloads/facecamera/rchange\\20141101_153705_1_146\\gazedata.csv\n",
      "C:/Users/ykung/Downloads/facecamera/rchange\\20141102_102607_1546_1696\\gazedata.csv\n",
      "C:/Users/ykung/Downloads/facecamera/rchange\\20141102_102708_1025_1175\\gazedata.csv\n",
      "C:/Users/ykung/Downloads/facecamera/rchange\\20141102_102909_640_790\\gazedata.csv\n",
      "C:/Users/ykung/Downloads/facecamera/rchange\\20141107_132249_974_1124\\gazedata.csv\n",
      "C:/Users/ykung/Downloads/facecamera/rchange\\20141107_133000_1338_1488\\gazedata.csv\n",
      "C:/Users/ykung/Downloads/facecamera/rchange\\20141107_133000_1518_1668\\gazedata.csv\n",
      "C:/Users/ykung/Downloads/facecamera/rchange\\20141107_133201_725_875\\gazedata.csv\n",
      "C:/Users/ykung/Downloads/facecamera/rchange\\20141107_133301_428_578\\gazedata.csv\n",
      "C:/Users/ykung/Downloads/facecamera/rchange\\20141107_133507_564_714\\gazedata.csv\n",
      "C:/Users/ykung/Downloads/facecamera/rchange\\20141107_133841_500_650\\gazedata.csv\n",
      "C:/Users/ykung/Downloads/facecamera/rchange\\20141107_134241_1193_1343\\gazedata.csv\n",
      "C:/Users/ykung/Downloads/facecamera/rchange\\20141115_090556_127_277\\gazedata.csv\n",
      "C:/Users/ykung/Downloads/facecamera/rchange\\20141115_091600_1033_1183\\gazedata.csv\n",
      "C:/Users/ykung/Downloads/facecamera/rchange\\20141115_092336_1527_1677\\gazedata.csv\n",
      "C:/Users/ykung/Downloads/facecamera/rchange\\20141115_092433_441_591\\gazedata.csv\n",
      "C:/Users/ykung/Downloads/facecamera/rchange\\20141115_092433_689_839\\gazedata.csv\n",
      "C:/Users/ykung/Downloads/facecamera/rchange\\20141115_092533_332_482\\gazedata.csv\n",
      "C:/Users/ykung/Downloads/facecamera/rchange\\20141115_092820_1087_1237\\gazedata.csv\n",
      "C:/Users/ykung/Downloads/facecamera/rchange\\20141115_100538_707_857\\gazedata.csv\n",
      "C:/Users/ykung/Downloads/facecamera/rchange\\20141116_163408_219_369\\gazedata.csv\n",
      "C:/Users/ykung/Downloads/facecamera/rchange\\20141116_171227_1260_1410\\gazedata.csv\n",
      "C:/Users/ykung/Downloads/facecamera/rchange\\20141123_162251_122_272\\gazedata.csv\n",
      "C:/Users/ykung/Downloads/facecamera/rchange\\20141123_163558_1379_1529\\gazedata.csv\n",
      "C:/Users/ykung/Downloads/facecamera/rchange\\20141123_164502_1525_1675\\gazedata.csv\n",
      "C:/Users/ykung/Downloads/facecamera/rchange\\20141123_170211_1656_1806\\gazedata.csv\n",
      "C:/Users/ykung/Downloads/facecamera/rchange\\20141123_171519_152_302\\gazedata.csv\n",
      "C:/Users/ykung/Downloads/facecamera/rchange\\20141123_171820_1572_1722\\gazedata.csv\n",
      "C:/Users/ykung/Downloads/facecamera/rchange\\20141123_173946_11606_11756\\gazedata.csv\n",
      "C:/Users/ykung/Downloads/facecamera/rchange\\20141123_174947_4887_4971\\gazedata.csv\n",
      "C:/Users/ykung/Downloads/facecamera/rchange\\20141126_095721_5376_5526\\gazedata.csv\n",
      "C:/Users/ykung/Downloads/facecamera/rchange\\20141126_142224_460_610\\gazedata.csv\n",
      "C:/Users/ykung/Downloads/facecamera/rchange\\20141126_144225_1546_1696\\gazedata.csv\n",
      "C:/Users/ykung/Downloads/facecamera/rchange\\20141126_144225_16792_16942\\gazedata.csv\n",
      "C:/Users/ykung/Downloads/facecamera/rchange\\20141126_144225_9666_9816\\gazedata.csv\n",
      "C:/Users/ykung/Downloads/facecamera/rchange\\20141220_131116_1353_1503\\gazedata.csv\n",
      "C:/Users/ykung/Downloads/facecamera/rchange\\20141220_131317_589_739\\gazedata.csv\n",
      "C:/Users/ykung/Downloads/facecamera/rchange\\20141220_131820_1296_1446\\gazedata.csv\n",
      "C:/Users/ykung/Downloads/facecamera/rchange\\20141220_132120_681_831\\gazedata.csv\n",
      "C:/Users/ykung/Downloads/facecamera/rchange\\20141220_132522_1_141\\gazedata.csv\n",
      "C:/Users/ykung/Downloads/facecamera/rchange\\20141220_132522_220_370\\gazedata.csv\n",
      "C:/Users/ykung/Downloads/facecamera/rchange\\20141220_132624_272_422\\gazedata.csv\n",
      "C:/Users/ykung/Downloads/facecamera/rchange\\20141220_133024_1290_1440\\gazedata.csv\n",
      "C:/Users/ykung/Downloads/facecamera/rchange\\20141220_133024_207_357\\gazedata.csv\n",
      "C:/Users/ykung/Downloads/facecamera/rchange\\20141220_133024_297_447\\gazedata.csv\n",
      "C:/Users/ykung/Downloads/facecamera/rchange\\20141220_133125_268_391\\gazedata.csv\n",
      "C:/Users/ykung/Downloads/facecamera/rchange\\20141220_133225_204_354\\gazedata.csv\n",
      "C:/Users/ykung/Downloads/facecamera/rchange\\20141220_133627_525_675\\gazedata.csv\n",
      "C:/Users/ykung/Downloads/facecamera/rchange\\20141220_133728_964_1114\\gazedata.csv\n",
      "C:/Users/ykung/Downloads/facecamera/rchange\\20141220_134029_334_484\\gazedata.csv\n",
      "C:/Users/ykung/Downloads/facecamera/rchange\\20141220_134432_131_279\\gazedata.csv\n",
      "C:/Users/ykung/Downloads/facecamera/rchange\\20141220_134532_1456_1606\\gazedata.csv\n",
      "C:/Users/ykung/Downloads/facecamera/rchange\\20141220_134834_231_381\\gazedata.csv\n"
     ]
    },
    {
     "name": "stdout",
     "output_type": "stream",
     "text": [
      "C:/Users/ykung/Downloads/facecamera/rchange\\20141220_134935_1335_1485\\gazedata.csv\n",
      "C:/Users/ykung/Downloads/facecamera/rchange\\20141220_135136_1035_1185\\gazedata.csv\n",
      "C:/Users/ykung/Downloads/facecamera/rchange\\20141220_135438_658_808\\gazedata.csv\n",
      "C:/Users/ykung/Downloads/facecamera/rchange\\20141220_135639_1039_1189\\gazedata.csv\n",
      "C:/Users/ykung/Downloads/facecamera/rchange\\20141220_135841_966_1116\\gazedata.csv\n",
      "C:/Users/ykung/Downloads/facecamera/rchange\\20141220_140946_1134_1284\\gazedata.csv\n",
      "C:/Users/ykung/Downloads/facecamera/rchange\\20141220_153948_1199_1349\\gazedata.csv\n",
      "C:/Users/ykung/Downloads/facecamera/rchange\\20141220_160940_1625_1775\\gazedata.csv\n",
      "C:/Users/ykung/Downloads/facecamera/rchange\\20141220_161040_62_212\\gazedata.csv\n",
      "C:/Users/ykung/Downloads/facecamera/rchange\\20141220_162145_894_1044\\gazedata.csv\n",
      "C:/Users/ykung/Downloads/facecamera/rchange\\20141220_162850_1165_1315\\gazedata.csv\n",
      "C:/Users/ykung/Downloads/facecamera/rchange\\20141220_163051_1049_1199\\gazedata.csv\n",
      "C:/Users/ykung/Downloads/facecamera/rchange\\20141220_163051_630_780\\gazedata.csv\n",
      "C:/Users/ykung/Downloads/facecamera/rchange\\20141220_163352_212_362\\gazedata.csv\n",
      "C:/Users/ykung/Downloads/facecamera/rchange\\20141220_163553_1335_1485\\gazedata.csv\n",
      "C:/Users/ykung/Downloads/facecamera/rchange\\20141220_163955_737_887\\gazedata.csv\n",
      "C:/Users/ykung/Downloads/facecamera/rchange\\20141220_164257_1_125\\gazedata.csv\n",
      "C:/Users/ykung/Downloads/facecamera/rchange\\20141220_164457_1302_1452\\gazedata.csv\n",
      "C:/Users/ykung/Downloads/facecamera/rchange\\20141220_164558_829_979\\gazedata.csv\n",
      "C:/Users/ykung/Downloads/facecamera/rchange\\20141220_165000_1087_1237\\gazedata.csv\n",
      "C:/Users/ykung/Downloads/facecamera/rchange\\20141220_165401_1_132\\gazedata.csv\n",
      "C:/Users/ykung/Downloads/facecamera/rchange\\20141220_165803_1074_1224\\gazedata.csv\n"
     ]
    }
   ],
   "source": [
    "rootdir = 'C:/Users/ykung/Downloads/facecamera/rchange'\n",
    "refy = np.zeros((1,1,1))\n",
    "refy[0,0,0] = 4\n",
    "for subdir, dirs, files in os.walk(rootdir):\n",
    "    for file in files:\n",
    "        if 'gazedata.csv' in file:\n",
    "            with open(os.path.join(subdir, 'gazedata.csv')) as file2:\n",
    "                print(os.path.join(subdir, 'gazedata.csv'))\n",
    "                reader = csv.reader(file2, delimiter = ',')\n",
    "    \n",
    "                for row3 in reader:\n",
    "                    incompleteset = np.zeros((len(row3),2))\n",
    "                    lengthdrive = len(row3)\n",
    "                    for i in range(len(row3)):\n",
    "                        val1 = row3[i]\n",
    "                        try:\n",
    "                            xval = re.search('\\((.+?),', val1).group(1)\n",
    "                        except AttributeError:\n",
    "                            pass\n",
    "                        incompleteset[i,0] = float(xval)\n",
    "                        try:\n",
    "                            yval = re.search(',(.+?)\\)', val1).group(1)\n",
    "                        except AttributeError:\n",
    "                            pass\n",
    "                        incompleteset[i,1] = float(yval)\n",
    "                        \n",
    "                    if random.random() < 0.8:\n",
    "                        for i in range(lengthdrive): \n",
    "                            tempset = np.zeros((90,2,1))\n",
    "                            if i < 90:\n",
    "                                tempset[89-i:90,:,0] = incompleteset[0:i+1,:]\n",
    "                                trainset = np.concatenate((trainset,tempset), axis=2)\n",
    "                            else:\n",
    "                                tempset[:,:,0] = incompleteset[i-90:i,:]\n",
    "                                trainset = np.concatenate((trainset,tempset), axis=2)\n",
    "\n",
    "                            trainsety = np.concatenate((trainsety,refy), axis=2)\n",
    "                    else:        \n",
    "                        for i in range(lengthdrive): \n",
    "                            tempset = np.zeros((90,2,1))\n",
    "                            if i < 90:\n",
    "                                tempset[89-i:90,:,0] = incompleteset[0:i+1,:]\n",
    "                                testset = np.concatenate((testset,tempset), axis=2)\n",
    "                            else:\n",
    "                                tempset[:,:,0] = incompleteset[i-90:i,:]\n",
    "                                testset = np.concatenate((testset,tempset), axis=2)\n",
    "\n",
    "                            testsety = np.concatenate((testsety,refy), axis=2)"
   ]
  },
  {
   "cell_type": "code",
   "execution_count": 29,
   "metadata": {},
   "outputs": [],
   "source": [
    "np.save('C:/Users/ykung/Downloads/facecamera/trainset',trainset)"
   ]
  },
  {
   "cell_type": "code",
   "execution_count": 30,
   "metadata": {},
   "outputs": [],
   "source": [
    "np.save('C:/Users/ykung/Downloads/facecamera/trainsety',trainsety)"
   ]
  },
  {
   "cell_type": "code",
   "execution_count": 31,
   "metadata": {},
   "outputs": [],
   "source": [
    "np.save('C:/Users/ykung/Downloads/facecamera/testset',testset)"
   ]
  },
  {
   "cell_type": "code",
   "execution_count": 32,
   "metadata": {},
   "outputs": [],
   "source": [
    "np.save('C:/Users/ykung/Downloads/facecamera/testsety',testsety)"
   ]
  },
  {
   "cell_type": "code",
   "execution_count": 25,
   "metadata": {},
   "outputs": [
    {
     "name": "stdout",
     "output_type": "stream",
     "text": [
      "(90, 2, 68736)\n"
     ]
    }
   ],
   "source": [
    "print(np.shape(trainset))"
   ]
  },
  {
   "cell_type": "code",
   "execution_count": 26,
   "metadata": {},
   "outputs": [
    {
     "name": "stdout",
     "output_type": "stream",
     "text": [
      "(1, 1, 68736)\n"
     ]
    }
   ],
   "source": [
    "print(np.shape(trainsety))"
   ]
  },
  {
   "cell_type": "code",
   "execution_count": 27,
   "metadata": {},
   "outputs": [
    {
     "name": "stdout",
     "output_type": "stream",
     "text": [
      "(90, 2, 18816)\n"
     ]
    }
   ],
   "source": [
    "print(np.shape(testset))"
   ]
  },
  {
   "cell_type": "code",
   "execution_count": 28,
   "metadata": {},
   "outputs": [
    {
     "name": "stdout",
     "output_type": "stream",
     "text": [
      "(1, 1, 18816)\n"
     ]
    }
   ],
   "source": [
    "print(np.shape(testsety))"
   ]
  },
  {
   "cell_type": "code",
   "execution_count": 83,
   "metadata": {},
   "outputs": [
    {
     "data": {
      "text/plain": [
       "array([[[0., 1., 1., 1.],\n",
       "        [0., 1., 1., 1.]],\n",
       "\n",
       "       [[0., 1., 1., 1.],\n",
       "        [0., 1., 1., 1.]],\n",
       "\n",
       "       [[0., 1., 1., 1.],\n",
       "        [0., 1., 1., 1.]],\n",
       "\n",
       "       [[0., 1., 1., 1.],\n",
       "        [0., 1., 1., 1.]]])"
      ]
     },
     "execution_count": 83,
     "metadata": {},
     "output_type": "execute_result"
    }
   ],
   "source": [
    "var5 = np.concatenate((var5,var4),axis=2)\n",
    "var5"
   ]
  },
  {
   "cell_type": "code",
   "execution_count": 86,
   "metadata": {},
   "outputs": [
    {
     "data": {
      "text/plain": [
       "array([0., 0.])"
      ]
     },
     "execution_count": 86,
     "metadata": {},
     "output_type": "execute_result"
    }
   ],
   "source": [
    "var5[3,:,0]"
   ]
  },
  {
   "cell_type": "code",
   "execution_count": 5,
   "metadata": {},
   "outputs": [
    {
     "data": {
      "text/plain": [
       "0.603267297323112"
      ]
     },
     "execution_count": 5,
     "metadata": {},
     "output_type": "execute_result"
    }
   ],
   "source": [
    "random.random()"
   ]
  },
  {
   "cell_type": "code",
   "execution_count": null,
   "metadata": {},
   "outputs": [],
   "source": []
  }
 ],
 "metadata": {
  "kernelspec": {
   "display_name": "Python 3 (ipykernel)",
   "language": "python",
   "name": "python3"
  },
  "language_info": {
   "codemirror_mode": {
    "name": "ipython",
    "version": 3
   },
   "file_extension": ".py",
   "mimetype": "text/x-python",
   "name": "python",
   "nbconvert_exporter": "python",
   "pygments_lexer": "ipython3",
   "version": "3.9.13"
  },
  "vscode": {
   "interpreter": {
    "hash": "3e1d7de5394ae006cb1b050b790a43d094ee6fb03cecb31a31118734e6247e4b"
   }
  }
 },
 "nbformat": 4,
 "nbformat_minor": 2
}

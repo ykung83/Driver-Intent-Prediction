{
 "cells": [
  {
   "cell_type": "markdown",
   "metadata": {},
   "source": [
    "# LSTM\n"
   ]
  },
  {
   "cell_type": "markdown",
   "metadata": {},
   "source": [
    "### Imports"
   ]
  },
  {
   "cell_type": "code",
   "execution_count": 1,
   "metadata": {},
   "outputs": [],
   "source": [
    "import yaml\n",
    "import torch\n",
    "import torch.nn as nn\n",
    "import torch.nn.functional as F"
   ]
  },
  {
   "cell_type": "code",
   "execution_count": 2,
   "metadata": {},
   "outputs": [],
   "source": [
    "import torch.optim as optim\n",
    "import torch.utils.data as data\n",
    "import math\n",
    "import copy"
   ]
  },
  {
   "cell_type": "markdown",
   "metadata": {},
   "source": [
    "### Data Loading"
   ]
  },
  {
   "cell_type": "code",
   "execution_count": 3,
   "metadata": {},
   "outputs": [],
   "source": [
    "# cd Downloads"
   ]
  },
  {
   "cell_type": "code",
   "execution_count": 4,
   "metadata": {},
   "outputs": [],
   "source": [
    "# cd b4c"
   ]
  },
  {
   "cell_type": "code",
   "execution_count": 5,
   "metadata": {},
   "outputs": [],
   "source": [
    "# cd Brains4Cars"
   ]
  },
  {
   "cell_type": "markdown",
   "metadata": {},
   "source": [
    "Straight from github"
   ]
  },
  {
   "cell_type": "code",
   "execution_count": 6,
   "metadata": {},
   "outputs": [],
   "source": [
    "import os\n",
    "from os.path import join\n",
    "import copy\n",
    "\n",
    "from multiprocessing import Pool\n",
    "import tqdm\n",
    "\n",
    "import numpy as np\n",
    "import pickle\n",
    "from torch.utils.data import Dataset, DataLoader\n",
    "\n",
    "ACTION_TO_ID_MAP= {\n",
    "    'end_action':   0,\n",
    "    'lchange':      1,\n",
    "    'lturn':        2,\n",
    "    'rchange':      3,\n",
    "    'rturn':        4\n",
    "}\n",
    "\n",
    "rng = np.random.default_rng(seed=42)\n",
    "MAX_FRAMES=150\n",
    "\n",
    "\n",
    "class B4CDataset(Dataset):\n",
    "    \"\"\"\n",
    "    end_action - 0\n",
    "    lchange - 1\n",
    "    lturn - 2\n",
    "    rchange - 3\n",
    "    rturn - 4\n",
    "    \"\"\"\n",
    "    def __init__(self, data_cfg, split=\"train\", create_dataset=False):\n",
    "        self.data_cfg   = data_cfg['DATALOADER_CONFIG']\n",
    "        self.actions    = self.data_cfg['ACTIONS']\n",
    "        self.cameras    = self.data_cfg['CAMERAS']\n",
    "        self.data_dir   = self.data_cfg['DATA_DIR']\n",
    "        self.split      = split\n",
    "\n",
    "        videos_dict = self.read_videos_by_action()        \n",
    "\n",
    "        if create_dataset:\n",
    "            # self.create_gt_road_labels(videos_dict)\n",
    "            self.generate_imagesets(videos_dict)\n",
    "        \n",
    "        self.image_sets = {}\n",
    "        splits_process = [self.split] if self.split in [\"train\", \"val\", \"test\"] else [\"train\", \"val\", \"test\"]\n",
    "\n",
    "        for camera in self.cameras:\n",
    "            if camera not in self.image_sets:\n",
    "                self.image_sets[camera] = []\n",
    "\n",
    "            for curr_split in splits_process:\n",
    "                imageset_path = join(self.data_dir, f'ImageSets_{camera}', f'{curr_split}.txt')\n",
    "                self.image_sets[camera].extend([line.strip() for line in open(imageset_path, 'r')])\n",
    "\n",
    "        # Drop nondivisible videos for fold splits from end\n",
    "        if \"fold\" in self.split:\n",
    "            num_folds = int(self.split.split(\"_\")[0])\n",
    "            num_to_drop = len(self) % num_folds\n",
    "            self.image_sets = {k: v[:-num_to_drop] for k, v in self.image_sets.items()}\n",
    "\n",
    "        print(f'Added {len(self)} videos to the dataset.')\n",
    "\n",
    "    def read_videos_by_action(self):\n",
    "        videos_dict = {}\n",
    "        # Combine image sets for all cameras\n",
    "        for camera in self.cameras:\n",
    "            camera_dir = join(self.data_dir, camera+\"_processed\")\n",
    "\n",
    "            for action in self.actions:\n",
    "                action_dir = join(camera_dir, action)\n",
    "\n",
    "                if action not in videos_dict:\n",
    "                    videos_dict[action] = []\n",
    "\n",
    "                # Take the set intersection between all the cameras sequentially\n",
    "                video_action_set = set([f for f in os.listdir(action_dir) if os.path.isdir(join(action_dir, f))])\n",
    "\n",
    "                if len(videos_dict[action])==0:\n",
    "                    videos_dict[action] = video_action_set\n",
    "                else:\n",
    "                    videos_dict[action] = videos_dict[action].intersection(video_action_set)\n",
    "\n",
    "        # Convert videos_dict back to list\n",
    "        for action in self.actions:\n",
    "            videos_dict[action] = list(videos_dict[action])\n",
    "\n",
    "        # Check that files exist\n",
    "        for camera in self.cameras:\n",
    "            camera_dir = join(self.data_dir, camera+\"_processed\")\n",
    "\n",
    "            for action in self.actions:\n",
    "                action_dir = join(camera_dir, action)\n",
    "\n",
    "                for video_dir in videos_dict[action]:\n",
    "                    video_dir = join(action_dir, video_dir)\n",
    "                    assert os.path.exists(video_dir), f\"Video directory {video_dir} does not exist.\"\n",
    "\n",
    "        print(\"Finished reading all valid videos by directory.\")\n",
    "        return videos_dict\n",
    "\n",
    "    @staticmethod\n",
    "    def write_list_to_file(file_path, data_list):\n",
    "        \"\"\"\n",
    "        Create/overwrite a .txt file and write each line of the Python list to a new line in the file.\n",
    "\n",
    "        Parameters:\n",
    "            file_path : str\n",
    "                The path to the .txt file.\n",
    "            data_list : list\n",
    "                The Python list containing data to write to the file.\n",
    "        \"\"\"\n",
    "        with open(file_path, 'w') as file:\n",
    "            file.writelines(f\"{item}\\n\" for item in data_list)\n",
    "\n",
    "    def check_data_quality(self, video_subdirs, camera):\n",
    "        \"\"\"\n",
    "        Check that all videos have the same number of frames and that the number of frames is less than MAX_FRAMES.\n",
    "\n",
    "        Parameters:\n",
    "            videos_dict : dict\n",
    "                Dictionary containing the list of videos for each action.\n",
    "        \"\"\"\n",
    "\n",
    "        valid_videos_mask = np.zeros(len(video_subdirs), dtype=bool)\n",
    "        for video_idx, video_subdir in enumerate(video_subdirs):\n",
    "            video_path = join(self.data_dir, video_subdir)\n",
    "            data_dict = {}\n",
    "\n",
    "            # Check that all videos have the full frame set\n",
    "            if camera==\"face\":\n",
    "                data_dict['gt_gazepose'] = self.get_face_labels(video_path)\n",
    "                valid_videos_mask[video_idx] = len(data_dict['gt_gazepose'])>=MAX_FRAMES-1 # gazepose has 149\n",
    "            elif camera==\"road\":\n",
    "                data_dict['gt_bbox'], data_dict['gt_lanes'] = self.get_road_labels(video_path)\n",
    "                valid_videos_mask[video_idx] = len(data_dict['gt_bbox'])>=MAX_FRAMES and len(data_dict['gt_lanes'])>=MAX_FRAMES\n",
    "\n",
    "            if valid_videos_mask[video_idx]==0:\n",
    "                print(f'Video {video_subdir} does not have the full frame set, skipping...')\n",
    "\n",
    "        return valid_videos_mask\n",
    "            \n",
    "\n",
    "    def generate_imagesets(self, videos_dict):    \n",
    "        print(\"Generating imagesets...\")\n",
    "        facecam_imageset_dict = {'train': [], 'val': [], 'test': []}\n",
    "        roadcam_imageset_dict = copy.deepcopy(facecam_imageset_dict)\n",
    "        train_pct, val_pct, test_pct = 0.7, 0.15, 0.15\n",
    "        for action, action_videos in videos_dict.items():\n",
    "            road_cam_action_dir = join('road_camera_processed_combined', action)\n",
    "            road_cam_video_labels = np.array([join(road_cam_action_dir, f) for f in action_videos])\n",
    "            road_cam_video_mask = self.check_data_quality(road_cam_video_labels, \"road\")\n",
    "\n",
    "            face_cam_action_dir = join('face_camera_processed', action)\n",
    "            face_cam_video_labels = np.array([join(face_cam_action_dir, f) for f in action_videos])\n",
    "            face_cam_video_mask = self.check_data_quality(face_cam_video_labels, \"face\")\n",
    "\n",
    "            combined_cam_video_mask = np.logical_and(road_cam_video_mask, face_cam_video_mask)\n",
    "            road_cam_video_labels = road_cam_video_labels[combined_cam_video_mask]\n",
    "            face_cam_video_labels = face_cam_video_labels[combined_cam_video_mask]\n",
    "\n",
    "            road_cam_video_labels_sort_idx = np.argsort(road_cam_video_labels)\n",
    "            road_cam_video_labels = road_cam_video_labels[road_cam_video_labels_sort_idx]\n",
    "            face_cam_video_labels = face_cam_video_labels[road_cam_video_labels_sort_idx]\n",
    "\n",
    "            # Ensure file order matches for road and face camera\n",
    "            for i in range(len(road_cam_video_labels)):\n",
    "                assert os.path.basename(road_cam_video_labels[i])==os.path.basename(face_cam_video_labels[i]), 'Video labels do not match'\n",
    "            num_videos = len(road_cam_video_labels)\n",
    "\n",
    "            num_train       = int(num_videos * train_pct)\n",
    "            num_val         = int(num_videos * val_pct)\n",
    "            num_test        = int(num_videos * test_pct)\n",
    "\n",
    "            indices = np.arange(0, num_videos, 1)\n",
    "            rng.shuffle(indices)\n",
    "\n",
    "            videos_indices = {\"train\": [], \"val\": [], \"test\": []}\n",
    "            videos_indices['train'], videos_indices['val'], videos_indices['test'] = indices[:num_train], \\\n",
    "                indices[num_train:num_train+num_val],  indices[num_train+num_val:num_train+num_val+num_test]\n",
    "\n",
    "            for split in facecam_imageset_dict.keys():\n",
    "                roadcam_imageset_dict[split].extend(road_cam_video_labels[videos_indices[split]].tolist())\n",
    "                facecam_imageset_dict[split].extend(face_cam_video_labels[videos_indices[split]].tolist())\n",
    "\n",
    "        # Dump to imageset files for road and face camera\n",
    "        roadcam_imagesets_dir = join(self.data_dir, \"ImageSets_road_camera\")\n",
    "        facecam_imagesets_dir = join(self.data_dir, \"ImageSets_face_camera\")\n",
    "        if not os.path.exists(roadcam_imagesets_dir):\n",
    "            print(f'Video root directory {roadcam_imagesets_dir} does not exist. Creating...')\n",
    "            os.mkdir(roadcam_imagesets_dir)\n",
    "        if not os.path.exists(facecam_imagesets_dir):\n",
    "            print(f'Video root directory {facecam_imagesets_dir} does not exist. Creating...')\n",
    "            os.mkdir(facecam_imagesets_dir)\n",
    "\n",
    "        for split_key in facecam_imageset_dict.keys():\n",
    "            road_cam_split_path = join(roadcam_imagesets_dir, f'{split_key}.txt')\n",
    "            face_cam_split_path = join(facecam_imagesets_dir, f'{split_key}.txt')\n",
    "            print(f'Saving imageset file {split_key} for road {road_cam_split_path} and {face_cam_split_path}')\n",
    "            self.write_list_to_file(road_cam_split_path, roadcam_imageset_dict[split_key])\n",
    "            self.write_list_to_file(face_cam_split_path, facecam_imageset_dict[split_key])\n",
    "\n",
    "    def __len__(self):\n",
    "        num_files = 0\n",
    "        for camera in self.cameras: \n",
    "            assert num_files==0 or num_files==len(self.image_sets[camera]), \"Number files in dataset not correct\"\n",
    "            num_files=len(self.image_sets[camera])\n",
    "        return num_files\n",
    "    \n",
    "    def collate_fn(self, data):\n",
    "        # print(data[0][1])\n",
    "        data_batch = [bi[0] for bi in data]\n",
    "        action_batch = [bi[1] for bi in data]\n",
    "        return data_batch, action_batch\n",
    "\n",
    "    def get_face_labels(self, label_dir):  \n",
    "        gazepose_path = join(label_dir, 'gazepose.npy')\n",
    "        assert os.path.exists(gazepose_path), f'Label file {gazepose_path} does not exist'\n",
    "        gt_gazepose = np.load(gazepose_path)\n",
    "\n",
    "        if gt_gazepose.shape[0] < MAX_FRAMES:\n",
    "            # print(f'Gaze pose {gazepose_path} has less than 150 frames, padding with zeros...')\n",
    "            # Pad with zeros\n",
    "            gt_gazepose = np.pad(gt_gazepose, ((0, MAX_FRAMES-gt_gazepose.shape[0]), (0, 0)), mode='constant')\n",
    "        # Assume gt_gazepose is not smaller than MAX_FRAMES\n",
    "        num_frames = min(MAX_FRAMES, gt_gazepose.shape[0])\n",
    "        gt_gazepose = gt_gazepose[:num_frames, :]\n",
    "\n",
    "        return gt_gazepose\n",
    "\n",
    "    def get_road_labels(self, label_dir):\n",
    "        \n",
    "        bbox_file = join(label_dir, 'bbox_labels.pkl')\n",
    "        lane_file = join(label_dir, 'lane_labels.pkl')\n",
    "\n",
    "        assert os.path.exists(bbox_file), f'Label directory {bbox_file} does not exist'\n",
    "        assert os.path.exists(lane_file), f'Label directory {lane_file} does not exist'\n",
    "\n",
    "        # Load bbox detections\n",
    "        with open(bbox_file, 'rb') as f:\n",
    "            gt_bbox = pickle.load(f)\n",
    "        # Load road labels\n",
    "        with open(lane_file, 'rb') as f:\n",
    "            gt_lanes = pickle.load(f)\n",
    "\n",
    "        gt_bbox = gt_bbox[:MAX_FRAMES]\n",
    "        gt_lanes = gt_lanes[:MAX_FRAMES]\n",
    "\n",
    "        return gt_bbox, gt_lanes\n",
    "    \n",
    "    def get_action_label(self, video_dir):\n",
    "        action_label = video_dir.split('/')[-2]\n",
    "        assert action_label in ACTION_TO_ID_MAP.keys(), f'Action {action_label} not in action map'\n",
    "        action_id = ACTION_TO_ID_MAP[action_label]\n",
    "        return action_id\n",
    "\n",
    "    @staticmethod\n",
    "    def combine_img_labels(args):\n",
    "        split_video_path, combined_video_path = args\n",
    "        img_label_files = [f for f in os.listdir(split_video_path) if f.endswith('.pkl')]\n",
    "\n",
    "        MAX_NUM_BBOXES = 5 \n",
    "        full_img_label_np = np.ones((MAX_FRAMES+1, MAX_NUM_BBOXES*5)) * -1\n",
    "        num_img_label_files = len(img_label_files)\n",
    "        for img_label_idx, img_label_file in enumerate(img_label_files):\n",
    "            img_label_path = join(split_video_path, img_label_file)\n",
    "            with open(img_label_path, 'rb') as f:\n",
    "                img_data = pickle.load(f)\n",
    "                IMG_W, IMG_H = 720, 480\n",
    "\n",
    "                #1 Convert to xc, yc, w, h\n",
    "                x1, x2, y1, y2 = img_data['xyxy'][:, 0], img_data['xyxy'][:, 2], img_data['xyxy'][:, 1], img_data['xyxy'][:, 3]\n",
    "                xc = (x1 + x2) / 2\n",
    "                yc = (y1 + y2) / 2\n",
    "                h = (x2 - x1)\n",
    "                w = (y2 - y1)\n",
    "            \n",
    "                #2 Only keep bboxes with h and w < 0.33 (Ignore large bboxes of self)\n",
    "                bbox_size_mask = np.logical_and(h < IMG_W*0.33, w < IMG_H*0.33)\n",
    "\n",
    "                #3 Only keep labels with class_ids = 0, 1, 2, 3, 4 (Ignore 5 Date)\n",
    "                class_ids = img_data['class_id'] \n",
    "                class_ids_mask = np.logical_and(class_ids >= 0, class_ids <= 4)\n",
    "\n",
    "                bbox_mask = np.logical_and(bbox_size_mask, class_ids_mask)\n",
    "                proc_img_label = np.ones((MAX_NUM_BBOXES, 5), dtype=int)*-1 # max of five bbox detections per image\n",
    "\n",
    "                if np.sum(bbox_mask)>0:\n",
    "                    xc = xc[bbox_mask].astype(int)\n",
    "                    yc = yc[bbox_mask].astype(int)\n",
    "                    h = h[bbox_mask].astype(int)\n",
    "                    w = w[bbox_mask].astype(int)\n",
    "                    class_ids = class_ids[bbox_mask]\n",
    "                    gt_objs = np.stack((xc, yc, w, h, class_ids), axis=1)\n",
    "\n",
    "                    #4 Select top 5 largest boxes\n",
    "                    gt_obj_areas = gt_objs[:, 2] * gt_objs[:, 3]\n",
    "                    gt_objs_sort_idx = np.argsort(-gt_obj_areas, kind='stable') # Sort high to low\n",
    "                    num_objs = min(MAX_NUM_BBOXES, len(gt_objs_sort_idx))\n",
    "\n",
    "                    proc_img_label[:num_objs, :] = gt_objs[gt_objs_sort_idx[:num_objs], :]\n",
    "\n",
    "                proc_img_label = proc_img_label.flatten()\n",
    "                proc_img_label = np.expand_dims(proc_img_label, axis=0)\n",
    "                full_img_label_np[img_label_idx] = proc_img_label\n",
    "\n",
    "        assert os.path.exists(combined_video_path), f'Video label directory {combined_video_path} does not exist'\n",
    "        video_path = join(combined_video_path, 'bbox_labels.pkl')\n",
    "        with open(video_path, 'wb') as f:\n",
    "            pickle.dump(full_img_label_np, f)\n",
    "        print(\"Saved combined bbox labels to: \", video_path)\n",
    "\n",
    "        # Load, pad, save lane dets\n",
    "        original_label_dir = split_video_path.replace('road_camera_processed', 'road_camera').replace('labels/', '')\n",
    "        road_path = join(original_label_dir+\".txt\")\n",
    "        gt_lanes = np.loadtxt(road_path, delimiter=',', dtype=int).reshape(1, -1)\n",
    "        gt_lanes_padded = np.ones((MAX_FRAMES, 3)) * -1\n",
    "        num_valid_gt_lanes = min(num_img_label_files, MAX_FRAMES)\n",
    "        gt_lanes_padded[:num_valid_gt_lanes] = np.repeat(gt_lanes, [num_valid_gt_lanes], axis=0)\n",
    "\n",
    "        lanes_path = join(combined_video_path, 'lane_labels.pkl')\n",
    "        with open(lanes_path, 'wb') as f:\n",
    "            pickle.dump(gt_lanes_padded, f)\n",
    "\n",
    "    def create_gt_road_labels(self, videos_dict):\n",
    "        split_video_path_list = []\n",
    "        combined_video_path_list = []\n",
    "        for action, action_videos in videos_dict.items():\n",
    "            for video in action_videos:\n",
    "                video_path = join(self.data_dir, 'road_camera_processed', 'labels', action, video)\n",
    "                if not os.path.exists(video_path):\n",
    "                    print(f'Video path {video_path} does not exist')\n",
    "                    continue\n",
    "                assert os.path.exists(video_path), f'Video path {video_path} does not exist'\n",
    "\n",
    "                video_label_dir = join(self.data_dir, \"road_camera_processed_combined\", action, video)\n",
    "                if not os.path.exists(video_label_dir):\n",
    "                    print(\"Creating directory: \", video_label_dir)\n",
    "                    os.makedirs(video_label_dir)\n",
    "                \n",
    "                split_video_path_list.append(video_path)\n",
    "                combined_video_path_list.append(video_label_dir)\n",
    "            # self.combine_img_labels((split_video_path_list[0], combined_video_path_list[0]))\n",
    "        pool = Pool(processes=16)\n",
    "        for _ in tqdm.tqdm(pool.imap_unordered(self.combine_img_labels, zip(split_video_path_list, \n",
    "            combined_video_path_list)), total=len(split_video_path_list)):\n",
    "            pass\n",
    "\n",
    "    def __getitem__(self, idx):\n",
    "        data_dict = {}\n",
    "        action_id=None\n",
    "\n",
    "        for camera in self.cameras:\n",
    "            video_subdir    = self.image_sets[camera][idx]\n",
    "            video_fulldir   = join(self.data_dir, video_subdir)\n",
    "\n",
    "            if camera == 'face_camera':\n",
    "                data_dict['gt_gazepose'] = self.get_face_labels(video_fulldir)\n",
    "            elif camera == 'road_camera':\n",
    "                # Load all pickle files in the video directory\n",
    "                data_dict['gt_bbox'], data_dict['gt_lanes'] = self.get_road_labels(video_fulldir)\n",
    "\n",
    "            if action_id is None:\n",
    "                action_id = self.get_action_label(video_fulldir)\n",
    "\n",
    "        # Sort dict by key so that it is is consistent\n",
    "        sorted_data_dict = dict(sorted(data_dict.items(), key=lambda item: item[0]))\n",
    "\n",
    "        sorted_gt_np = np.empty((MAX_FRAMES, 0))\n",
    "        # Stack all values from data_dict into a single np array\n",
    "\n",
    "        for _, items in sorted_data_dict.items():\n",
    "            sorted_gt_np = np.hstack((sorted_gt_np, items))\n",
    "\n",
    "        # TOOD: Extract action label from Imageset file\n",
    "        #  150 x [ (5x5) (2) (2) (3) ] # Pad if not enough frames obj_detections, gazepose, lane_detections # 150 x 32\n",
    "        return sorted_gt_np, action_id # processed_input, action_label one hot vector "
   ]
  },
  {
   "cell_type": "markdown",
   "metadata": {},
   "source": [
    "config file"
   ]
  },
  {
   "cell_type": "code",
   "execution_count": 7,
   "metadata": {},
   "outputs": [
    {
     "name": "stdout",
     "output_type": "stream",
     "text": [
      "CWD  /home/arthur/AMRL/Research/Driver-Intent-Prediction/models\n"
     ]
    }
   ],
   "source": [
    "cfg=None\n",
    "# with open(\"C:/Users/ykung/Downloads/lstm_all.yaml\", 'r') as file:\n",
    "#     cfg = yaml.safe_load(file)\n",
    "print(\"CWD \", os.getcwd())\n",
    "with open(\"../config/lstm_all.yaml\", 'r') as file:\n",
    "    cfg = yaml.safe_load(file)"
   ]
  },
  {
   "cell_type": "code",
   "execution_count": 8,
   "metadata": {},
   "outputs": [],
   "source": [
    "batch = 50"
   ]
  },
  {
   "cell_type": "markdown",
   "metadata": {},
   "source": [
    "make dataset (do once)"
   ]
  },
  {
   "cell_type": "code",
   "execution_count": 9,
   "metadata": {},
   "outputs": [
    {
     "name": "stdout",
     "output_type": "stream",
     "text": [
      "Finished reading all valid videos by directory.\n",
      "Added 585 videos to the dataset.\n"
     ]
    }
   ],
   "source": [
    "dataset = B4CDataset(cfg, split=\"5_fold\", create_dataset=False)"
   ]
  },
  {
   "cell_type": "code",
   "execution_count": 10,
   "metadata": {},
   "outputs": [],
   "source": [
    "#dataloader = DataLoader(dataset, collate_fn=dataset.collate_fn, batch_size=batch, shuffle=True)"
   ]
  },
  {
   "cell_type": "code",
   "execution_count": 11,
   "metadata": {},
   "outputs": [],
   "source": [
    "#valdataset = B4CDataset(cfg, split=\"val\", create_dataset=False)\n",
    "#val_loader = DataLoader(valdataset, collate_fn=dataset.collate_fn, batch_size=1, shuffle=True)"
   ]
  },
  {
   "cell_type": "code",
   "execution_count": 12,
   "metadata": {},
   "outputs": [],
   "source": [
    "#testdataset = B4CDataset(cfg, split=\"test\", create_dataset=False)\n",
    "#test_loader = DataLoader(testdataset, collate_fn=dataset.collate_fn, batch_size=1, shuffle=True)"
   ]
  },
  {
   "cell_type": "markdown",
   "metadata": {},
   "source": [
    "#### Define your network, loss function and optimizer"
   ]
  },
  {
   "cell_type": "code",
   "execution_count": 13,
   "metadata": {},
   "outputs": [],
   "source": [
    "#multiheaded attention\n",
    "class MultiHeadAttention(nn.Module):\n",
    "    def __init__(self, d_model, num_heads):\n",
    "        super(MultiHeadAttention, self).__init__()\n",
    "        #d_model must be divisible by num_heads\n",
    "        \n",
    "        self.d_model = d_model\n",
    "        self.num_heads = num_heads\n",
    "        self.d_k = d_model // num_heads\n",
    "        \n",
    "        self.W_q = nn.Linear(d_model, d_model)\n",
    "        self.W_k = nn.Linear(d_model, d_model)\n",
    "        self.W_v = nn.Linear(d_model, d_model)\n",
    "        self.W_o = nn.Linear(d_model, d_model)\n",
    "        nn.init.normal_(self.W_q.weight, mean=0., std=np.sqrt(2 / (d_model+d_model)))\n",
    "        nn.init.normal_(self.W_k.weight, mean=0., std=np.sqrt(2 / (d_model+d_model)))\n",
    "        nn.init.normal_(self.W_v.weight, mean=0., std=np.sqrt(2 / (d_model+d_model)))\n",
    "        nn.init.normal_(self.W_o.weight, mean=0., std=np.sqrt(2 / (d_model+d_model)))\n",
    "        \n",
    "    def scaled_dot_product_attention(self, Q, K, V, mask=None):\n",
    "        attn_scores = torch.matmul(Q, K.transpose(-2, -1)) / math.sqrt(self.d_k)\n",
    "        if mask is not None:\n",
    "            attn_scores = attn_scores.masked_fill(mask == 0, -1e9)\n",
    "        attn_probs = torch.softmax(attn_scores, dim=-1)\n",
    "        output = torch.matmul(attn_probs, V)\n",
    "        return output\n",
    "        \n",
    "    def split_heads(self, x):\n",
    "        batch_size, seq_length, d_model = x.size()\n",
    "        return x.view(batch_size, seq_length, self.num_heads, self.d_k).transpose(1, 2)\n",
    "        \n",
    "    def combine_heads(self, x):\n",
    "        batch_size, _, seq_length, d_k = x.size()\n",
    "        return x.transpose(1, 2).contiguous().view(batch_size, seq_length, self.d_model)\n",
    "        \n",
    "    def forward(self, Q, K, V, mask=None):\n",
    "        Q = self.split_heads(self.W_q(Q))\n",
    "        K = self.split_heads(self.W_k(K))\n",
    "        V = self.split_heads(self.W_v(V))\n",
    "        \n",
    "        attn_output = self.scaled_dot_product_attention(Q, K, V, mask)\n",
    "        output = self.W_o(self.combine_heads(attn_output))\n",
    "        return output\n",
    "    \n",
    "#position feedforward\n",
    "class PositionWiseFeedForward(nn.Module):\n",
    "    def __init__(self, d_model, d_ff):\n",
    "        super(PositionWiseFeedForward, self).__init__()\n",
    "        self.fc1 = nn.Linear(d_model, d_ff)\n",
    "        self.fc2 = nn.Linear(d_ff, d_model)\n",
    "        self.relu = nn.ReLU()\n",
    "\n",
    "    def forward(self, x):\n",
    "        return self.fc2(self.relu(self.fc1(x)))\n",
    "    \n",
    "#position encoding\n",
    "class PositionalEncoding(nn.Module):\n",
    "    def __init__(self, d_model, max_seq_length):\n",
    "        super(PositionalEncoding, self).__init__()\n",
    "        \n",
    "        pe = torch.zeros(max_seq_length, d_model)\n",
    "        position = torch.arange(0, max_seq_length, dtype=torch.float).unsqueeze(1)\n",
    "        div_term = torch.exp(torch.arange(0, d_model, 2).float() * -(math.log(10000.0) / d_model))\n",
    "        \n",
    "        pe[:, 0::2] = torch.sin(position * div_term)\n",
    "        pe[:, 1::2] = torch.cos(position * div_term)\n",
    "        \n",
    "        self.register_buffer('pe', pe.unsqueeze(0))\n",
    "        \n",
    "    def forward(self, x):\n",
    "        return x + self.pe[:, :x.size(1)]\n",
    "\n",
    "#encoder no decoder\n",
    "class EncoderLayer(nn.Module):\n",
    "    def __init__(self, d_model, num_heads, d_ff, dropout, d_hidden):\n",
    "        super(EncoderLayer, self).__init__()\n",
    "        self.self_attn = MultiHeadAttention(d_model, num_heads)\n",
    "        self.feed_forward = PositionWiseFeedForward(d_model, d_ff)\n",
    "        self.norm1 = nn.LayerNorm(d_model)\n",
    "        self.norm2 = nn.LayerNorm(d_model)\n",
    "        self.dropout = nn.Dropout(dropout)\n",
    "        self.fc1 = nn.Linear(d_model*150,5)\n",
    "        self.pfc1 = nn.Linear(4,32)\n",
    "        self.pfc2 = nn.Linear(25,16)\n",
    "        self.pfc3 = nn.Linear(3,16)\n",
    "        self.sig = nn.Sigmoid()\n",
    "\n",
    "        self.x1norm = nn.LayerNorm(32)\n",
    "        self.x2norm = nn.LayerNorm(16)\n",
    "        self.x3norm = nn.LayerNorm(16)\n",
    "\n",
    "        self.fc1 = nn.Linear(d_model*150,d_hidden)\n",
    "        self.relu1 = nn.ReLU()\n",
    "        self.fc2 = nn.Linear(d_hidden, 5)\n",
    "        \n",
    "    def forward(self, x):\n",
    "        x1 = self.pfc1(x[:,:,25:29])\n",
    "        x1 = self.sig(x1)\n",
    "        x2 = self.pfc2(x[:,:,0:25])\n",
    "        x2 = self.sig(x2)\n",
    "        x3 = self.pfc3(x[:,:,29:32])\n",
    "        x3 = self.sig(x3)\n",
    "\n",
    "        x1 = self.x1norm(x1)\n",
    "        x2 = self.x2norm(x2)\n",
    "        x3 = self.x3norm(x3)\n",
    "        # x1 = torch.flatten(x1, start_dim=1)\n",
    "        # x2 = torch.flatten(x2, start_dim=1)\n",
    "        # x3 = torch.flatten(x3, start_dim=1)\n",
    "        x = torch.cat((x1,x2,x3), 2)\n",
    "        attn_output = self.self_attn(x, x, x, mask=None)\n",
    "        x = self.norm1(x + self.dropout(attn_output))\n",
    "        \n",
    "        ff_output = self.feed_forward(x)\n",
    "        x = self.norm2(x + self.dropout(ff_output))\n",
    "        x = torch.flatten(x, start_dim=1)\n",
    "        # x = self.fc1(x)\n",
    "        x = self.fc2(self.relu1(self.fc1(x)))\n",
    "\n",
    "        return x"
   ]
  },
  {
   "cell_type": "code",
   "execution_count": 14,
   "metadata": {},
   "outputs": [],
   "source": [
    "modeldim = 64\n",
    "numheads = 8\n",
    "hiddendim = modeldim*2\n",
    "dropout = 0.1\n",
    "fchiddendim = 256\n",
    "net1 = EncoderLayer(modeldim,numheads,hiddendim,dropout, fchiddendim)\n",
    "loss_fn = nn.CrossEntropyLoss()\n",
    "optimizer = torch.optim.SGD(net1.parameters(), lr=0.001, momentum=0.9)"
   ]
  },
  {
   "cell_type": "markdown",
   "metadata": {},
   "source": [
    "#### Implement the training loop function"
   ]
  },
  {
   "cell_type": "code",
   "execution_count": 15,
   "metadata": {},
   "outputs": [],
   "source": [
    "import random\n",
    "random.seed(42)\n",
    "# k-split validation\n",
    "totalsize = len(dataset)\n",
    "indices = list(range(0,totalsize))\n",
    "random.shuffle(indices)\n",
    "seg = int(totalsize/10) # number of splits\n",
    "\n"
   ]
  },
  {
   "cell_type": "code",
   "execution_count": 16,
   "metadata": {},
   "outputs": [],
   "source": [
    "split = 0 #change for each k-validation split\n",
    "\n",
    "trainlefti = indices[0:split*seg]\n",
    "trainrighti = indices[min(split*seg + seg,totalsize):totalsize]\n",
    "traini = trainlefti + trainrighti\n",
    "vali = indices[split*seg:min(totalsize,seg*split+seg)]\n",
    "\n",
    "train_set = torch.utils.data.dataset.Subset(dataset,traini)\n",
    "val_set = torch.utils.data.dataset.Subset(dataset,vali)\n",
    "\n",
    "trainloader = DataLoader(train_set, collate_fn=dataset.collate_fn, batch_size=batch, shuffle=True)\n",
    "valloader = DataLoader(val_set, collate_fn=dataset.collate_fn, batch_size=1, shuffle=True)"
   ]
  },
  {
   "cell_type": "code",
   "execution_count": 17,
   "metadata": {},
   "outputs": [],
   "source": [
    "def train_epoch(net, trainloader, optimizer, loss_fn, lr_scheduler, epoch, total_loss):\n",
    "    import wandb\n",
    "\n",
    "    net.train()\n",
    "    running_loss = 0\n",
    "    for batch_idx, (data, targets) in enumerate(trainloader):\n",
    "        # TODO: zero the parameter gradients + forward pass + loss computation + backward pass + weight update\n",
    "        data = np.array(data)\n",
    "        tdata = torch.tensor(data)\n",
    "        optimizer.zero_grad()\n",
    "        prediction = net(tdata.float())\n",
    "        ttargets = torch.tensor(targets)\n",
    "        loss = loss_fn(prediction, ttargets)           \n",
    "        loss.backward()\n",
    "        optimizer.step()\n",
    "        running_loss += loss.item()\n",
    "    \n",
    "    lr_scheduler.step()\n",
    "        \n",
    "    total_loss += running_loss\n",
    "    avg_loss = total_loss / (epoch+1)\n",
    "\n",
    "    wandb.log({\"loss\": avg_loss, \"epoch\": epoch, \"lr\": lr_scheduler.get_last_lr()[-1]})\n",
    "\n",
    "    return total_loss"
   ]
  },
  {
   "cell_type": "code",
   "execution_count": 18,
   "metadata": {},
   "outputs": [],
   "source": [
    "def train(config=None):\n",
    "\n",
    "    import os\n",
    "    import wandb\n",
    "    with wandb.init(config=config):\n",
    "        #Build dataloader\n",
    "        trainlefti = indices[0:split*seg]\n",
    "        trainrighti = indices[min(split*seg + seg,totalsize):totalsize]\n",
    "        traini = trainlefti + trainrighti\n",
    "        vali = indices[split*seg:min(totalsize,seg*split+seg)]\n",
    "\n",
    "        train_set = torch.utils.data.dataset.Subset(dataset,traini)\n",
    "        val_set = torch.utils.data.dataset.Subset(dataset,vali)\n",
    "\n",
    "        trainloader = DataLoader(train_set, collate_fn=dataset.collate_fn, batch_size=batch, shuffle=True)\n",
    "        valloader = DataLoader(val_set, collate_fn=dataset.collate_fn, batch_size=1, shuffle=True)\n",
    "\n",
    "        config = wandb.config\n",
    "\n",
    "        # modeldim = config.dmodel\n",
    "        # numheads = config.numheads\n",
    "        # hiddendim = config.hiddendim\n",
    "        # dropout = config.dropout\n",
    "        # lr      = config.lr\n",
    "        # opt_str = config.optimizer\n",
    "        # num_epochs = config.numepochs\n",
    "        modeldim = config['dmodel']\n",
    "        numheads = config['numheads']\n",
    "        hiddendim = config['hiddendim']\n",
    "        dropout = config['dropout']\n",
    "        lr      = config['lr']\n",
    "        opt_str = config['optimizer']\n",
    "        num_epochs = config['numepochs']\n",
    "        fchiddendim = config['fchiddendim']\n",
    "\n",
    "        gamma = config['gamma']\n",
    "        weight_decay = config['weight_decay']\n",
    "        momentum = config['momentum']\n",
    "\n",
    "        # modeldim = 64\n",
    "        # numheads = 8\n",
    "        # hiddendim = modeldim*2\n",
    "        # dropout = 0.1\n",
    "        net1 = EncoderLayer(modeldim,numheads,hiddendim,dropout, fchiddendim)\n",
    "        loss_fn = nn.CrossEntropyLoss()\n",
    "\n",
    "        if opt_str == \"sgd\":\n",
    "            optimizer = torch.optim.SGD(net1.parameters(), lr=lr, momentum=momentum, weight_decay=weight_decay)\n",
    "        elif opt_str==\"adam\":\n",
    "            optimizer = torch.optim.Adam(net1.parameters(), lr=lr, betas=(0.9, 0.999))\n",
    "\n",
    "        # final_lr = 0.1 * lr # Following llama settings\n",
    "        # T_max = num_epochs/10 # number of iterations before restart\n",
    "        # lr_scheduler = torch.optim.lr_scheduler.CosineAnnealingLR(\n",
    "        #     optimizer, T_max, final_lr)\n",
    "        lr_scheduler = torch.optim.lr_scheduler.ExponentialLR(optimizer, gamma=gamma)\n",
    "\n",
    "        # Put the network in training mode\n",
    "        # net.train()\n",
    "\n",
    "        model_name = f'transformer_{modeldim}_{numheads}_{hiddendim}_{dropout}_{lr}_{opt_str}_{momentum}_{weight_decay}_{gamma}'\n",
    "        save_root_dir = os.path.join(\n",
    "            f'/home/arthur/AMRL/Research/Driver-Intent-Prediction/outputs/{model_name}'\n",
    "        )\n",
    "        if not os.path.exists(save_root_dir):\n",
    "            print(\"Created model save dir for model root %s\" % save_root_dir)\n",
    "            os.makedirs(save_root_dir)\n",
    "\n",
    "        ckpt_save_dir = os.path.join(save_root_dir, 'ckpts')\n",
    "        if not os.path.exists(ckpt_save_dir):\n",
    "            print(\"Created model save dir for checkpoints %s\" % ckpt_save_dir)\n",
    "            os.makedirs(ckpt_save_dir)\n",
    "\n",
    "        # Training loop\n",
    "        total_loss = 0\n",
    "        for epoch in range(num_epochs):\n",
    "            total_loss = train_epoch(net1, trainloader, optimizer, loss_fn, lr_scheduler, epoch, total_loss)\n",
    "\n",
    "            # Call Eval\n",
    "            evalval, f1val = eval(net1, valloader)\n",
    "            wandb.log({\"val\": evalval, \"f1val\": f1val})\n",
    "            print('eval: '+str(evalval) + '         f1score: ' + str(f1val))\n",
    "\n",
    "            # Save model weights for each epoch\n",
    "            torch.save(net1.state_dict(), os.path.join(ckpt_save_dir, f'epoch_{epoch}.pth'))\n",
    "            "
   ]
  },
  {
   "cell_type": "markdown",
   "metadata": {},
   "source": [
    "Evaluate"
   ]
  },
  {
   "cell_type": "code",
   "execution_count": 19,
   "metadata": {},
   "outputs": [],
   "source": [
    "import sklearn\n",
    "from sklearn import metrics"
   ]
  },
  {
   "cell_type": "code",
   "execution_count": 20,
   "metadata": {},
   "outputs": [],
   "source": [
    "def eval(net, loader):\n",
    "    net.eval()\n",
    "    se = 0 # sum of correct pred\n",
    "    total = 0\n",
    "    f1input = np.zeros(100)\n",
    "    f1target = np.zeros(100)\n",
    "    i1 = 0\n",
    "    for batch_idx, (data, targets) in enumerate(loader):\n",
    "        data = np.array(data)\n",
    "        tdata = torch.tensor(data)\n",
    "        y = net(tdata.float())\n",
    "        f1input[i1] = int(torch.argmax(y))\n",
    "        f1target[i1] = int(targets[0])\n",
    "        i1 += 1\n",
    "        if int(torch.argmax(y)) == targets[0]:\n",
    "            se += 1\n",
    "        total += 1\n",
    "        \n",
    "    f1score = sklearn.metrics.f1_score(f1target[0:i1], f1input[0:i1], average = 'macro')\n",
    "    return float(se/total), f1score"
   ]
  },
  {
   "attachments": {},
   "cell_type": "markdown",
   "metadata": {},
   "source": [
    "## Coarse Hyperparameter Sweep"
   ]
  },
  {
   "cell_type": "code",
   "execution_count": 21,
   "metadata": {},
   "outputs": [],
   "source": [
    "# import wandb\n",
    "\n",
    "# sweep_config = {\n",
    "#     'method': 'random'\n",
    "# }\n",
    "\n",
    "# metric = {\n",
    "#     'name': 'loss',\n",
    "#     'goal': 'minimize'   \n",
    "#     }\n",
    "\n",
    "# sweep_config['metric'] = metric\n",
    "\n",
    "# parameters_dict = {\n",
    "#     'optimizer': {\n",
    "#         'values': ['sgd']\n",
    "#     },\n",
    "#     'dmodel': { \n",
    "#         'values': [64] # Must be 64\n",
    "#     },\n",
    "#     'hiddendim': {\n",
    "#         'values': [128, 256, 512, 1024] \n",
    "#     },\n",
    "#     'numheads': {\n",
    "#         'values': [4, 8, 16] # Must be divisible by dmodel\n",
    "#     },\n",
    "#     'dropout': {\n",
    "#         'values': [0.1, 0.2, 0.3, 0.4]\n",
    "#     },\n",
    "#     \"lr\": {\n",
    "#         'values': [1e-2, 5e-3, 1e-3, 5e-4, 1e-4, 5e-5, 1e-5]\n",
    "#     },\n",
    "#     \"numepochs\": {\n",
    "#         'values': [50]\n",
    "#     }\n",
    "# }\n",
    "\n",
    "# sweep_config['parameters'] = parameters_dict\n",
    "# import pprint\n",
    "# pprint.pprint(sweep_config)\n"
   ]
  },
  {
   "cell_type": "code",
   "execution_count": 22,
   "metadata": {},
   "outputs": [],
   "source": [
    "# sweep_id = wandb.sweep(sweep_config, project=\"driver-intent-learning\")\n",
    "# wandb.agent(sweep_id, function=train, count=50)\n",
    "\n",
    "\n",
    "# Sanity check debugging\n",
    "# for i in range(1): # for train/val stationary time before manuever\n",
    "#     print(i)\n",
    "#     train(sweep_params['parameters'])\n",
    "    # evalval, f1val = eval(net,valloader)\n",
    "    # print('eval: '+str(evalval) + '         f1score: ' + str(f1val))\n",
    "    # if evalval > 0.92:\n",
    "    #     break"
   ]
  },
  {
   "attachments": {},
   "cell_type": "markdown",
   "metadata": {},
   "source": [
    "## Fine Hyperparameter Sweep"
   ]
  },
  {
   "cell_type": "code",
   "execution_count": 23,
   "metadata": {},
   "outputs": [
    {
     "name": "stdout",
     "output_type": "stream",
     "text": [
      "{'method': 'bayes',\n",
      " 'metric': {'goal': 'maximize', 'name': 'val'},\n",
      " 'parameters': {'dmodel': {'values': [64]},\n",
      "                'dropout': {'distribution': 'uniform',\n",
      "                            'max': 0.25,\n",
      "                            'min': 0.15},\n",
      "                'fchiddendim': {'values': [128, 256, 512]},\n",
      "                'gamma': {'values': [0.9, 0.95, 0.99]},\n",
      "                'hiddendim': {'values': [128]},\n",
      "                'lr': {'distribution': 'uniform', 'max': 0.01, 'min': 0.0001},\n",
      "                'momentum': {'distribution': 'uniform',\n",
      "                             'max': 0.99,\n",
      "                             'min': 0.9},\n",
      "                'numepochs': {'values': [70]},\n",
      "                'numheads': {'values': [8, 16]},\n",
      "                'optimizer': {'values': ['sgd']},\n",
      "                'weight_decay': {'distribution': 'uniform',\n",
      "                                 'max': 0.01,\n",
      "                                 'min': 0.0001}}}\n"
     ]
    }
   ],
   "source": [
    "import wandb\n",
    "\n",
    "sweep_config = {\n",
    "    'method': 'bayes'\n",
    "}\n",
    "\n",
    "metric = {\n",
    "    'name': 'val',\n",
    "    'goal': 'maximize'   \n",
    "    }\n",
    "\n",
    "sweep_config['metric'] = metric\n",
    "\n",
    "parameters_dict = {\n",
    "    'optimizer': {\n",
    "        'values': ['sgd']\n",
    "    },\n",
    "    'dmodel': { \n",
    "        'values': [64] # Must be 64\n",
    "    },\n",
    "    'hiddendim': {\n",
    "        'values': [128] \n",
    "    },\n",
    "    'numheads': {\n",
    "        'values': [8, 16] # Must be divisible by dmodel\n",
    "    },\n",
    "    'dropout': {\n",
    "        'distribution': 'uniform',\n",
    "        'min': 0.15,\n",
    "        'max': 0.25\n",
    "    },\n",
    "    \"lr\": {\n",
    "        'distribution': 'uniform',\n",
    "        'min':1e-4,\n",
    "        'max':1e-2\n",
    "    },\n",
    "    \"numepochs\": {\n",
    "        'values': [70]\n",
    "    },\n",
    "    \"gamma\": {\n",
    "        \"values\": [0.9, 0.95, 0.99]\n",
    "    },\n",
    "    \"weight_decay\": {\n",
    "        \"distribution\": \"uniform\",\n",
    "        \"min\": 1e-4,\n",
    "        \"max\": 1e-2\n",
    "    },\n",
    "    'momentum': {\n",
    "        \"distribution\": \"uniform\",\n",
    "        \"min\": 0.9,\n",
    "        \"max\": 0.99\n",
    "    },\n",
    "    \"fchiddendim\": {\n",
    "        \"values\": [128, 256, 512]\n",
    "    }\n",
    "}\n",
    "\n",
    "sweep_config['parameters'] = parameters_dict\n",
    "import pprint\n",
    "pprint.pprint(sweep_config)\n"
   ]
  },
  {
   "cell_type": "code",
   "execution_count": 24,
   "metadata": {},
   "outputs": [
    {
     "name": "stderr",
     "output_type": "stream",
     "text": [
      "Failed to detect the name of this notebook, you can set it manually with the WANDB_NOTEBOOK_NAME environment variable to enable code saving.\n"
     ]
    },
    {
     "name": "stdout",
     "output_type": "stream",
     "text": [
      "Create sweep with ID: s79wrgdi\n",
      "Sweep URL: https://wandb.ai/artzha/driver-intent-learning/sweeps/s79wrgdi\n"
     ]
    },
    {
     "name": "stderr",
     "output_type": "stream",
     "text": [
      "\u001b[34m\u001b[1mwandb\u001b[0m: Agent Starting Run: fyzwm3pv with config:\n",
      "\u001b[34m\u001b[1mwandb\u001b[0m: \tdmodel: 64\n",
      "\u001b[34m\u001b[1mwandb\u001b[0m: \tdropout: 0.18147607697137108\n",
      "\u001b[34m\u001b[1mwandb\u001b[0m: \tfchiddendim: 256\n",
      "\u001b[34m\u001b[1mwandb\u001b[0m: \tgamma: 0.99\n",
      "\u001b[34m\u001b[1mwandb\u001b[0m: \thiddendim: 128\n",
      "\u001b[34m\u001b[1mwandb\u001b[0m: \tlr: 0.007138446614616596\n",
      "\u001b[34m\u001b[1mwandb\u001b[0m: \tmomentum: 0.90718393605127\n",
      "\u001b[34m\u001b[1mwandb\u001b[0m: \tnumepochs: 70\n",
      "\u001b[34m\u001b[1mwandb\u001b[0m: \tnumheads: 16\n",
      "\u001b[34m\u001b[1mwandb\u001b[0m: \toptimizer: sgd\n",
      "\u001b[34m\u001b[1mwandb\u001b[0m: \tweight_decay: 0.0021716902238458125\n",
      "Failed to detect the name of this notebook, you can set it manually with the WANDB_NOTEBOOK_NAME environment variable to enable code saving.\n",
      "\u001b[34m\u001b[1mwandb\u001b[0m: Currently logged in as: \u001b[33martzha\u001b[0m. Use \u001b[1m`wandb login --relogin`\u001b[0m to force relogin\n"
     ]
    },
    {
     "data": {
      "text/html": [
       "wandb version 0.15.10 is available!  To upgrade, please run:\n",
       " $ pip install wandb --upgrade"
      ],
      "text/plain": [
       "<IPython.core.display.HTML object>"
      ]
     },
     "metadata": {},
     "output_type": "display_data"
    },
    {
     "data": {
      "text/html": [
       "Tracking run with wandb version 0.15.9"
      ],
      "text/plain": [
       "<IPython.core.display.HTML object>"
      ]
     },
     "metadata": {},
     "output_type": "display_data"
    },
    {
     "data": {
      "text/html": [
       "Run data is saved locally in <code>/home/arthur/AMRL/Research/Driver-Intent-Prediction/models/wandb/run-20230911_214934-fyzwm3pv</code>"
      ],
      "text/plain": [
       "<IPython.core.display.HTML object>"
      ]
     },
     "metadata": {},
     "output_type": "display_data"
    },
    {
     "data": {
      "text/html": [
       "Syncing run <strong><a href='https://wandb.ai/artzha/driver-intent-learning/runs/fyzwm3pv' target=\"_blank\">unique-sweep-1</a></strong> to <a href='https://wandb.ai/artzha/driver-intent-learning' target=\"_blank\">Weights & Biases</a> (<a href='https://wandb.me/run' target=\"_blank\">docs</a>)<br/>Sweep page: <a href='https://wandb.ai/artzha/driver-intent-learning/sweeps/s79wrgdi' target=\"_blank\">https://wandb.ai/artzha/driver-intent-learning/sweeps/s79wrgdi</a>"
      ],
      "text/plain": [
       "<IPython.core.display.HTML object>"
      ]
     },
     "metadata": {},
     "output_type": "display_data"
    },
    {
     "data": {
      "text/html": [
       " View project at <a href='https://wandb.ai/artzha/driver-intent-learning' target=\"_blank\">https://wandb.ai/artzha/driver-intent-learning</a>"
      ],
      "text/plain": [
       "<IPython.core.display.HTML object>"
      ]
     },
     "metadata": {},
     "output_type": "display_data"
    },
    {
     "data": {
      "text/html": [
       " View sweep at <a href='https://wandb.ai/artzha/driver-intent-learning/sweeps/s79wrgdi' target=\"_blank\">https://wandb.ai/artzha/driver-intent-learning/sweeps/s79wrgdi</a>"
      ],
      "text/plain": [
       "<IPython.core.display.HTML object>"
      ]
     },
     "metadata": {},
     "output_type": "display_data"
    },
    {
     "data": {
      "text/html": [
       " View run at <a href='https://wandb.ai/artzha/driver-intent-learning/runs/fyzwm3pv' target=\"_blank\">https://wandb.ai/artzha/driver-intent-learning/runs/fyzwm3pv</a>"
      ],
      "text/plain": [
       "<IPython.core.display.HTML object>"
      ]
     },
     "metadata": {},
     "output_type": "display_data"
    },
    {
     "name": "stdout",
     "output_type": "stream",
     "text": [
      "Created model save dir for model root /home/arthur/AMRL/Research/Driver-Intent-Prediction/outputs/transformer_64_16_128_0.18147607697137108_0.007138446614616596_sgd_0.90718393605127_0.0021716902238458125_0.99\n",
      "Created model save dir for checkpoints /home/arthur/AMRL/Research/Driver-Intent-Prediction/outputs/transformer_64_16_128_0.18147607697137108_0.007138446614616596_sgd_0.90718393605127_0.0021716902238458125_0.99/ckpts\n",
      "eval: 0.6379310344827587         f1score: 0.4253149001536098\n",
      "eval: 0.8103448275862069         f1score: 0.7932421091041781\n",
      "eval: 0.7413793103448276         f1score: 0.7346476951128114\n",
      "eval: 0.6551724137931034         f1score: 0.6747698880942645\n",
      "eval: 0.6724137931034483         f1score: 0.7008403361344538\n",
      "eval: 0.7586206896551724         f1score: 0.7519943019943021\n",
      "eval: 0.7931034482758621         f1score: 0.8058270740992322\n",
      "eval: 0.7758620689655172         f1score: 0.7845913140030787\n",
      "eval: 0.7241379310344828         f1score: 0.6750121908742598\n",
      "eval: 0.7586206896551724         f1score: 0.7492673992673992\n",
      "eval: 0.8103448275862069         f1score: 0.7833333333333334\n",
      "eval: 0.8103448275862069         f1score: 0.8041125541125542\n",
      "eval: 0.7931034482758621         f1score: 0.7766666666666667\n",
      "eval: 0.8103448275862069         f1score: 0.8127994713444672\n",
      "eval: 0.7758620689655172         f1score: 0.7892747252747252\n",
      "eval: 0.7931034482758621         f1score: 0.8029886977981352\n",
      "eval: 0.7586206896551724         f1score: 0.7825319396051105\n",
      "eval: 0.7758620689655172         f1score: 0.782288037166086\n",
      "eval: 0.7931034482758621         f1score: 0.7989000278473963\n",
      "eval: 0.7931034482758621         f1score: 0.8029886977981352\n",
      "eval: 0.7758620689655172         f1score: 0.789253505115574\n",
      "eval: 0.7931034482758621         f1score: 0.8029886977981352\n",
      "eval: 0.7758620689655172         f1score: 0.789253505115574\n",
      "eval: 0.7931034482758621         f1score: 0.8029886977981352\n",
      "eval: 0.7931034482758621         f1score: 0.8029886977981352\n",
      "eval: 0.7931034482758621         f1score: 0.8029886977981352\n",
      "eval: 0.7931034482758621         f1score: 0.8029886977981352\n",
      "eval: 0.7931034482758621         f1score: 0.8029886977981352\n",
      "eval: 0.7931034482758621         f1score: 0.8029886977981352\n",
      "eval: 0.7931034482758621         f1score: 0.8029886977981352\n",
      "eval: 0.7931034482758621         f1score: 0.8029886977981352\n",
      "eval: 0.7931034482758621         f1score: 0.8029886977981352\n",
      "eval: 0.7931034482758621         f1score: 0.8029886977981352\n",
      "eval: 0.7931034482758621         f1score: 0.8029886977981352\n",
      "eval: 0.7931034482758621         f1score: 0.8029886977981352\n",
      "eval: 0.7931034482758621         f1score: 0.8029886977981352\n",
      "eval: 0.7931034482758621         f1score: 0.8029886977981352\n",
      "eval: 0.7931034482758621         f1score: 0.8029886977981352\n",
      "eval: 0.7931034482758621         f1score: 0.8029886977981352\n",
      "eval: 0.7931034482758621         f1score: 0.8029886977981352\n",
      "eval: 0.7931034482758621         f1score: 0.8029886977981352\n",
      "eval: 0.7931034482758621         f1score: 0.8029886977981352\n",
      "eval: 0.7931034482758621         f1score: 0.8029886977981352\n",
      "eval: 0.7931034482758621         f1score: 0.8029886977981352\n",
      "eval: 0.7931034482758621         f1score: 0.8029886977981352\n",
      "eval: 0.7931034482758621         f1score: 0.8029886977981352\n",
      "eval: 0.7931034482758621         f1score: 0.8029886977981352\n",
      "eval: 0.7931034482758621         f1score: 0.8029886977981352\n",
      "eval: 0.7758620689655172         f1score: 0.7593762183235867\n",
      "eval: 0.7758620689655172         f1score: 0.7593762183235867\n",
      "eval: 0.7758620689655172         f1score: 0.7593762183235867\n",
      "eval: 0.7758620689655172         f1score: 0.7593762183235867\n",
      "eval: 0.7758620689655172         f1score: 0.7593762183235867\n",
      "eval: 0.7758620689655172         f1score: 0.7593762183235867\n",
      "eval: 0.7758620689655172         f1score: 0.7593762183235867\n",
      "eval: 0.7758620689655172         f1score: 0.7593762183235867\n",
      "eval: 0.7758620689655172         f1score: 0.7593762183235867\n",
      "eval: 0.7758620689655172         f1score: 0.7593762183235867\n",
      "eval: 0.7758620689655172         f1score: 0.7593762183235867\n",
      "eval: 0.7758620689655172         f1score: 0.7593762183235867\n",
      "eval: 0.7758620689655172         f1score: 0.7593762183235867\n",
      "eval: 0.7758620689655172         f1score: 0.7593762183235867\n",
      "eval: 0.7758620689655172         f1score: 0.7593762183235867\n",
      "eval: 0.7758620689655172         f1score: 0.7593762183235867\n",
      "eval: 0.7758620689655172         f1score: 0.7593762183235867\n",
      "eval: 0.7758620689655172         f1score: 0.7593762183235867\n",
      "eval: 0.7758620689655172         f1score: 0.7593762183235867\n",
      "eval: 0.7758620689655172         f1score: 0.7593762183235867\n",
      "eval: 0.7758620689655172         f1score: 0.7593762183235867\n",
      "eval: 0.7758620689655172         f1score: 0.7593762183235867\n"
     ]
    },
    {
     "data": {
      "text/html": [
       "Waiting for W&B process to finish... <strong style=\"color:green\">(success).</strong>"
      ],
      "text/plain": [
       "<IPython.core.display.HTML object>"
      ]
     },
     "metadata": {},
     "output_type": "display_data"
    },
    {
     "name": "stderr",
     "output_type": "stream",
     "text": [
      "wandb: WARNING Source type is set to 'repo' but some required information is missing from the environment. A job will not be created from this run. See https://docs.wandb.ai/guides/launch/create-job\n"
     ]
    },
    {
     "data": {
      "application/vnd.jupyter.widget-view+json": {
       "model_id": "e90e09be7ee74055a504d929f4ba4c2c",
       "version_major": 2,
       "version_minor": 0
      },
      "text/plain": [
       "VBox(children=(Label(value='0.003 MB of 0.003 MB uploaded (0.000 MB deduped)\\r'), FloatProgress(value=1.0, max…"
      ]
     },
     "metadata": {},
     "output_type": "display_data"
    },
    {
     "data": {
      "text/html": [
       "<style>\n",
       "    table.wandb td:nth-child(1) { padding: 0 10px; text-align: left ; width: auto;} td:nth-child(2) {text-align: left ; width: 100%}\n",
       "    .wandb-row { display: flex; flex-direction: row; flex-wrap: wrap; justify-content: flex-start; width: 100% }\n",
       "    .wandb-col { display: flex; flex-direction: column; flex-basis: 100%; flex: 1; padding: 10px; }\n",
       "    </style>\n",
       "<div class=\"wandb-row\"><div class=\"wandb-col\"><h3>Run history:</h3><br/><table class=\"wandb\"><tr><td>epoch</td><td>▁▁▁▂▂▂▂▂▂▃▃▃▃▃▃▄▄▄▄▄▅▅▅▅▅▅▆▆▆▆▆▆▇▇▇▇▇███</td></tr><tr><td>f1val</td><td>▁█▆▇█▆██████████████████████▇▇▇▇▇▇▇▇▇▇▇▇</td></tr><tr><td>loss</td><td>█▆▅▄▄▃▃▃▂▂▂▂▂▂▂▂▂▁▁▁▁▁▁▁▁▁▁▁▁▁▁▁▁▁▁▁▁▁▁▁</td></tr><tr><td>lr</td><td>███▇▇▇▇▆▆▆▆▆▅▅▅▅▅▄▄▄▄▄▄▃▃▃▃▃▃▂▂▂▂▂▂▂▁▁▁▁</td></tr><tr><td>val</td><td>▁█▂▆▇▄█▇▇▇▇▇▇▇▇▇▇▇▇▇▇▇▇▇▇▇▇▇▇▇▇▇▇▇▇▇▇▇▇▇</td></tr></table><br/></div><div class=\"wandb-col\"><h3>Run summary:</h3><br/><table class=\"wandb\"><tr><td>epoch</td><td>69</td></tr><tr><td>f1val</td><td>0.75938</td></tr><tr><td>loss</td><td>0.76189</td></tr><tr><td>lr</td><td>0.00353</td></tr><tr><td>val</td><td>0.77586</td></tr></table><br/></div></div>"
      ],
      "text/plain": [
       "<IPython.core.display.HTML object>"
      ]
     },
     "metadata": {},
     "output_type": "display_data"
    },
    {
     "data": {
      "text/html": [
       " View run <strong style=\"color:#cdcd00\">unique-sweep-1</strong> at: <a href='https://wandb.ai/artzha/driver-intent-learning/runs/fyzwm3pv' target=\"_blank\">https://wandb.ai/artzha/driver-intent-learning/runs/fyzwm3pv</a><br/>Synced 6 W&B file(s), 0 media file(s), 0 artifact file(s) and 0 other file(s)"
      ],
      "text/plain": [
       "<IPython.core.display.HTML object>"
      ]
     },
     "metadata": {},
     "output_type": "display_data"
    },
    {
     "data": {
      "text/html": [
       "Find logs at: <code>./wandb/run-20230911_214934-fyzwm3pv/logs</code>"
      ],
      "text/plain": [
       "<IPython.core.display.HTML object>"
      ]
     },
     "metadata": {},
     "output_type": "display_data"
    },
    {
     "name": "stderr",
     "output_type": "stream",
     "text": [
      "\u001b[34m\u001b[1mwandb\u001b[0m: Agent Starting Run: 6idn3jt6 with config:\n",
      "\u001b[34m\u001b[1mwandb\u001b[0m: \tdmodel: 64\n",
      "\u001b[34m\u001b[1mwandb\u001b[0m: \tdropout: 0.1669304151482732\n",
      "\u001b[34m\u001b[1mwandb\u001b[0m: \tfchiddendim: 128\n",
      "\u001b[34m\u001b[1mwandb\u001b[0m: \tgamma: 0.9\n",
      "\u001b[34m\u001b[1mwandb\u001b[0m: \thiddendim: 128\n",
      "\u001b[34m\u001b[1mwandb\u001b[0m: \tlr: 0.007288112176209913\n",
      "\u001b[34m\u001b[1mwandb\u001b[0m: \tmomentum: 0.9010983797390798\n",
      "\u001b[34m\u001b[1mwandb\u001b[0m: \tnumepochs: 70\n",
      "\u001b[34m\u001b[1mwandb\u001b[0m: \tnumheads: 8\n",
      "\u001b[34m\u001b[1mwandb\u001b[0m: \toptimizer: sgd\n",
      "\u001b[34m\u001b[1mwandb\u001b[0m: \tweight_decay: 0.003637648205975275\n",
      "Failed to detect the name of this notebook, you can set it manually with the WANDB_NOTEBOOK_NAME environment variable to enable code saving.\n"
     ]
    },
    {
     "data": {
      "text/html": [
       "wandb version 0.15.10 is available!  To upgrade, please run:\n",
       " $ pip install wandb --upgrade"
      ],
      "text/plain": [
       "<IPython.core.display.HTML object>"
      ]
     },
     "metadata": {},
     "output_type": "display_data"
    },
    {
     "data": {
      "text/html": [
       "Tracking run with wandb version 0.15.9"
      ],
      "text/plain": [
       "<IPython.core.display.HTML object>"
      ]
     },
     "metadata": {},
     "output_type": "display_data"
    },
    {
     "data": {
      "text/html": [
       "Run data is saved locally in <code>/home/arthur/AMRL/Research/Driver-Intent-Prediction/models/wandb/run-20230911_215127-6idn3jt6</code>"
      ],
      "text/plain": [
       "<IPython.core.display.HTML object>"
      ]
     },
     "metadata": {},
     "output_type": "display_data"
    },
    {
     "data": {
      "text/html": [
       "Syncing run <strong><a href='https://wandb.ai/artzha/driver-intent-learning/runs/6idn3jt6' target=\"_blank\">frosty-sweep-2</a></strong> to <a href='https://wandb.ai/artzha/driver-intent-learning' target=\"_blank\">Weights & Biases</a> (<a href='https://wandb.me/run' target=\"_blank\">docs</a>)<br/>Sweep page: <a href='https://wandb.ai/artzha/driver-intent-learning/sweeps/s79wrgdi' target=\"_blank\">https://wandb.ai/artzha/driver-intent-learning/sweeps/s79wrgdi</a>"
      ],
      "text/plain": [
       "<IPython.core.display.HTML object>"
      ]
     },
     "metadata": {},
     "output_type": "display_data"
    },
    {
     "data": {
      "text/html": [
       " View project at <a href='https://wandb.ai/artzha/driver-intent-learning' target=\"_blank\">https://wandb.ai/artzha/driver-intent-learning</a>"
      ],
      "text/plain": [
       "<IPython.core.display.HTML object>"
      ]
     },
     "metadata": {},
     "output_type": "display_data"
    },
    {
     "data": {
      "text/html": [
       " View sweep at <a href='https://wandb.ai/artzha/driver-intent-learning/sweeps/s79wrgdi' target=\"_blank\">https://wandb.ai/artzha/driver-intent-learning/sweeps/s79wrgdi</a>"
      ],
      "text/plain": [
       "<IPython.core.display.HTML object>"
      ]
     },
     "metadata": {},
     "output_type": "display_data"
    },
    {
     "data": {
      "text/html": [
       " View run at <a href='https://wandb.ai/artzha/driver-intent-learning/runs/6idn3jt6' target=\"_blank\">https://wandb.ai/artzha/driver-intent-learning/runs/6idn3jt6</a>"
      ],
      "text/plain": [
       "<IPython.core.display.HTML object>"
      ]
     },
     "metadata": {},
     "output_type": "display_data"
    },
    {
     "name": "stdout",
     "output_type": "stream",
     "text": [
      "Created model save dir for model root /home/arthur/AMRL/Research/Driver-Intent-Prediction/outputs/transformer_64_8_128_0.1669304151482732_0.007288112176209913_sgd_0.9010983797390798_0.003637648205975275_0.9\n",
      "Created model save dir for checkpoints /home/arthur/AMRL/Research/Driver-Intent-Prediction/outputs/transformer_64_8_128_0.1669304151482732_0.007288112176209913_sgd_0.9010983797390798_0.003637648205975275_0.9/ckpts\n",
      "eval: 0.5517241379310345         f1score: 0.44338763835343864\n",
      "eval: 0.5517241379310345         f1score: 0.5357822058589323\n",
      "eval: 0.603448275862069         f1score: 0.5954425552200858\n",
      "eval: 0.7068965517241379         f1score: 0.6815991140642303\n",
      "eval: 0.6206896551724138         f1score: 0.6000927643784788\n",
      "eval: 0.7068965517241379         f1score: 0.6909654728620245\n",
      "eval: 0.7413793103448276         f1score: 0.6957801006581494\n",
      "eval: 0.7586206896551724         f1score: 0.7095899470899472\n",
      "eval: 0.7241379310344828         f1score: 0.7049941344058992\n",
      "eval: 0.7413793103448276         f1score: 0.6967857142857143\n",
      "eval: 0.7413793103448276         f1score: 0.6926932716406402\n",
      "eval: 0.6896551724137931         f1score: 0.6516357441008604\n",
      "eval: 0.7241379310344828         f1score: 0.6823768823768823\n",
      "eval: 0.7758620689655172         f1score: 0.7214384891804247\n",
      "eval: 0.7413793103448276         f1score: 0.6971046833115798\n",
      "eval: 0.7586206896551724         f1score: 0.7094291283764969\n",
      "eval: 0.7586206896551724         f1score: 0.7094291283764969\n",
      "eval: 0.7586206896551724         f1score: 0.7094291283764969\n",
      "eval: 0.7586206896551724         f1score: 0.7094291283764969\n",
      "eval: 0.7586206896551724         f1score: 0.7094291283764969\n",
      "eval: 0.7586206896551724         f1score: 0.7094291283764969\n",
      "eval: 0.7586206896551724         f1score: 0.7094291283764969\n",
      "eval: 0.7586206896551724         f1score: 0.7094291283764969\n",
      "eval: 0.7586206896551724         f1score: 0.7094291283764969\n",
      "eval: 0.7586206896551724         f1score: 0.7094291283764969\n",
      "eval: 0.7586206896551724         f1score: 0.7094291283764969\n",
      "eval: 0.7586206896551724         f1score: 0.7094291283764969\n",
      "eval: 0.7586206896551724         f1score: 0.7094291283764969\n",
      "eval: 0.7586206896551724         f1score: 0.7094291283764969\n",
      "eval: 0.7586206896551724         f1score: 0.7094291283764969\n",
      "eval: 0.7586206896551724         f1score: 0.7094291283764969\n",
      "eval: 0.7586206896551724         f1score: 0.7094291283764969\n",
      "eval: 0.7586206896551724         f1score: 0.7094291283764969\n",
      "eval: 0.7586206896551724         f1score: 0.7094291283764969\n",
      "eval: 0.7586206896551724         f1score: 0.7094291283764969\n",
      "eval: 0.7586206896551724         f1score: 0.7094291283764969\n",
      "eval: 0.7586206896551724         f1score: 0.7094291283764969\n",
      "eval: 0.7586206896551724         f1score: 0.7094291283764969\n",
      "eval: 0.7586206896551724         f1score: 0.7094291283764969\n",
      "eval: 0.7586206896551724         f1score: 0.7094291283764969\n",
      "eval: 0.7586206896551724         f1score: 0.7094291283764969\n",
      "eval: 0.7586206896551724         f1score: 0.7094291283764969\n",
      "eval: 0.7586206896551724         f1score: 0.7094291283764969\n",
      "eval: 0.7586206896551724         f1score: 0.7094291283764969\n",
      "eval: 0.7586206896551724         f1score: 0.7094291283764969\n",
      "eval: 0.7586206896551724         f1score: 0.7094291283764969\n",
      "eval: 0.7586206896551724         f1score: 0.7094291283764969\n",
      "eval: 0.7586206896551724         f1score: 0.7094291283764969\n",
      "eval: 0.7586206896551724         f1score: 0.7094291283764969\n",
      "eval: 0.7586206896551724         f1score: 0.7094291283764969\n",
      "eval: 0.7586206896551724         f1score: 0.7094291283764969\n",
      "eval: 0.7586206896551724         f1score: 0.7094291283764969\n",
      "eval: 0.7586206896551724         f1score: 0.7094291283764969\n",
      "eval: 0.7586206896551724         f1score: 0.7094291283764969\n",
      "eval: 0.7586206896551724         f1score: 0.7094291283764969\n",
      "eval: 0.7586206896551724         f1score: 0.7094291283764969\n",
      "eval: 0.7586206896551724         f1score: 0.7094291283764969\n",
      "eval: 0.7586206896551724         f1score: 0.7094291283764969\n",
      "eval: 0.7586206896551724         f1score: 0.7094291283764969\n",
      "eval: 0.7586206896551724         f1score: 0.7094291283764969\n",
      "eval: 0.7586206896551724         f1score: 0.7094291283764969\n",
      "eval: 0.7586206896551724         f1score: 0.7094291283764969\n",
      "eval: 0.7586206896551724         f1score: 0.7094291283764969\n",
      "eval: 0.7586206896551724         f1score: 0.7094291283764969\n",
      "eval: 0.7586206896551724         f1score: 0.7094291283764969\n",
      "eval: 0.7586206896551724         f1score: 0.7094291283764969\n",
      "eval: 0.7586206896551724         f1score: 0.7094291283764969\n",
      "eval: 0.7586206896551724         f1score: 0.7094291283764969\n",
      "eval: 0.7586206896551724         f1score: 0.7094291283764969\n",
      "eval: 0.7586206896551724         f1score: 0.7094291283764969\n"
     ]
    },
    {
     "data": {
      "text/html": [
       "Waiting for W&B process to finish... <strong style=\"color:green\">(success).</strong>"
      ],
      "text/plain": [
       "<IPython.core.display.HTML object>"
      ]
     },
     "metadata": {},
     "output_type": "display_data"
    },
    {
     "name": "stderr",
     "output_type": "stream",
     "text": [
      "wandb: WARNING Source type is set to 'repo' but some required information is missing from the environment. A job will not be created from this run. See https://docs.wandb.ai/guides/launch/create-job\n"
     ]
    },
    {
     "data": {
      "application/vnd.jupyter.widget-view+json": {
       "model_id": "507d5194432441bda1fd99ad25f0ee1f",
       "version_major": 2,
       "version_minor": 0
      },
      "text/plain": [
       "VBox(children=(Label(value='0.003 MB of 0.013 MB uploaded (0.000 MB deduped)\\r'), FloatProgress(value=0.237714…"
      ]
     },
     "metadata": {},
     "output_type": "display_data"
    },
    {
     "data": {
      "text/html": [
       "<style>\n",
       "    table.wandb td:nth-child(1) { padding: 0 10px; text-align: left ; width: auto;} td:nth-child(2) {text-align: left ; width: 100%}\n",
       "    .wandb-row { display: flex; flex-direction: row; flex-wrap: wrap; justify-content: flex-start; width: 100% }\n",
       "    .wandb-col { display: flex; flex-direction: column; flex-basis: 100%; flex: 1; padding: 10px; }\n",
       "    </style>\n",
       "<div class=\"wandb-row\"><div class=\"wandb-col\"><h3>Run history:</h3><br/><table class=\"wandb\"><tr><td>epoch</td><td>▁▁▁▂▂▂▂▂▂▃▃▃▃▃▃▄▄▄▄▄▅▅▅▅▅▅▆▆▆▆▆▆▇▇▇▇▇███</td></tr><tr><td>f1val</td><td>▁▃▇████▇████████████████████████████████</td></tr><tr><td>loss</td><td>█▇▅▄▃▃▃▃▂▂▂▂▂▂▂▂▂▁▁▁▁▁▁▁▁▁▁▁▁▁▁▁▁▁▁▁▁▁▁▁</td></tr><tr><td>lr</td><td>█▇▆▅▄▄▃▃▃▂▂▂▂▂▂▁▁▁▁▁▁▁▁▁▁▁▁▁▁▁▁▁▁▁▁▁▁▁▁▁</td></tr><tr><td>val</td><td>▁▁▆▆█▇▇▇▇███████████████████████████████</td></tr></table><br/></div><div class=\"wandb-col\"><h3>Run summary:</h3><br/><table class=\"wandb\"><tr><td>epoch</td><td>69</td></tr><tr><td>f1val</td><td>0.70943</td></tr><tr><td>loss</td><td>0.87232</td></tr><tr><td>lr</td><td>0.0</td></tr><tr><td>val</td><td>0.75862</td></tr></table><br/></div></div>"
      ],
      "text/plain": [
       "<IPython.core.display.HTML object>"
      ]
     },
     "metadata": {},
     "output_type": "display_data"
    },
    {
     "data": {
      "text/html": [
       " View run <strong style=\"color:#cdcd00\">frosty-sweep-2</strong> at: <a href='https://wandb.ai/artzha/driver-intent-learning/runs/6idn3jt6' target=\"_blank\">https://wandb.ai/artzha/driver-intent-learning/runs/6idn3jt6</a><br/>Synced 6 W&B file(s), 0 media file(s), 0 artifact file(s) and 0 other file(s)"
      ],
      "text/plain": [
       "<IPython.core.display.HTML object>"
      ]
     },
     "metadata": {},
     "output_type": "display_data"
    },
    {
     "data": {
      "text/html": [
       "Find logs at: <code>./wandb/run-20230911_215127-6idn3jt6/logs</code>"
      ],
      "text/plain": [
       "<IPython.core.display.HTML object>"
      ]
     },
     "metadata": {},
     "output_type": "display_data"
    },
    {
     "name": "stderr",
     "output_type": "stream",
     "text": [
      "\u001b[34m\u001b[1mwandb\u001b[0m: Agent Starting Run: bkbvjjhp with config:\n",
      "\u001b[34m\u001b[1mwandb\u001b[0m: \tdmodel: 64\n",
      "\u001b[34m\u001b[1mwandb\u001b[0m: \tdropout: 0.1727442782337584\n",
      "\u001b[34m\u001b[1mwandb\u001b[0m: \tfchiddendim: 256\n",
      "\u001b[34m\u001b[1mwandb\u001b[0m: \tgamma: 0.99\n",
      "\u001b[34m\u001b[1mwandb\u001b[0m: \thiddendim: 128\n",
      "\u001b[34m\u001b[1mwandb\u001b[0m: \tlr: 0.002409604277402043\n",
      "\u001b[34m\u001b[1mwandb\u001b[0m: \tmomentum: 0.9789763173224008\n",
      "\u001b[34m\u001b[1mwandb\u001b[0m: \tnumepochs: 70\n",
      "\u001b[34m\u001b[1mwandb\u001b[0m: \tnumheads: 8\n",
      "\u001b[34m\u001b[1mwandb\u001b[0m: \toptimizer: sgd\n",
      "\u001b[34m\u001b[1mwandb\u001b[0m: \tweight_decay: 0.0025483731444134804\n",
      "Failed to detect the name of this notebook, you can set it manually with the WANDB_NOTEBOOK_NAME environment variable to enable code saving.\n"
     ]
    },
    {
     "data": {
      "text/html": [
       "wandb version 0.15.10 is available!  To upgrade, please run:\n",
       " $ pip install wandb --upgrade"
      ],
      "text/plain": [
       "<IPython.core.display.HTML object>"
      ]
     },
     "metadata": {},
     "output_type": "display_data"
    },
    {
     "data": {
      "text/html": [
       "Tracking run with wandb version 0.15.9"
      ],
      "text/plain": [
       "<IPython.core.display.HTML object>"
      ]
     },
     "metadata": {},
     "output_type": "display_data"
    },
    {
     "data": {
      "text/html": [
       "Run data is saved locally in <code>/home/arthur/AMRL/Research/Driver-Intent-Prediction/models/wandb/run-20230911_215248-bkbvjjhp</code>"
      ],
      "text/plain": [
       "<IPython.core.display.HTML object>"
      ]
     },
     "metadata": {},
     "output_type": "display_data"
    },
    {
     "data": {
      "text/html": [
       "Syncing run <strong><a href='https://wandb.ai/artzha/driver-intent-learning/runs/bkbvjjhp' target=\"_blank\">driven-sweep-3</a></strong> to <a href='https://wandb.ai/artzha/driver-intent-learning' target=\"_blank\">Weights & Biases</a> (<a href='https://wandb.me/run' target=\"_blank\">docs</a>)<br/>Sweep page: <a href='https://wandb.ai/artzha/driver-intent-learning/sweeps/s79wrgdi' target=\"_blank\">https://wandb.ai/artzha/driver-intent-learning/sweeps/s79wrgdi</a>"
      ],
      "text/plain": [
       "<IPython.core.display.HTML object>"
      ]
     },
     "metadata": {},
     "output_type": "display_data"
    },
    {
     "data": {
      "text/html": [
       " View project at <a href='https://wandb.ai/artzha/driver-intent-learning' target=\"_blank\">https://wandb.ai/artzha/driver-intent-learning</a>"
      ],
      "text/plain": [
       "<IPython.core.display.HTML object>"
      ]
     },
     "metadata": {},
     "output_type": "display_data"
    },
    {
     "data": {
      "text/html": [
       " View sweep at <a href='https://wandb.ai/artzha/driver-intent-learning/sweeps/s79wrgdi' target=\"_blank\">https://wandb.ai/artzha/driver-intent-learning/sweeps/s79wrgdi</a>"
      ],
      "text/plain": [
       "<IPython.core.display.HTML object>"
      ]
     },
     "metadata": {},
     "output_type": "display_data"
    },
    {
     "data": {
      "text/html": [
       " View run at <a href='https://wandb.ai/artzha/driver-intent-learning/runs/bkbvjjhp' target=\"_blank\">https://wandb.ai/artzha/driver-intent-learning/runs/bkbvjjhp</a>"
      ],
      "text/plain": [
       "<IPython.core.display.HTML object>"
      ]
     },
     "metadata": {},
     "output_type": "display_data"
    },
    {
     "name": "stdout",
     "output_type": "stream",
     "text": [
      "Created model save dir for model root /home/arthur/AMRL/Research/Driver-Intent-Prediction/outputs/transformer_64_8_128_0.1727442782337584_0.002409604277402043_sgd_0.9789763173224008_0.0025483731444134804_0.99\n",
      "Created model save dir for checkpoints /home/arthur/AMRL/Research/Driver-Intent-Prediction/outputs/transformer_64_8_128_0.1727442782337584_0.002409604277402043_sgd_0.9789763173224008_0.0025483731444134804_0.99/ckpts\n",
      "eval: 0.5172413793103449         f1score: 0.45315789473684215\n",
      "eval: 0.6379310344827587         f1score: 0.6093534372604139\n",
      "eval: 0.6724137931034483         f1score: 0.668483229145661\n",
      "eval: 0.7241379310344828         f1score: 0.7125820416142996\n",
      "eval: 0.7241379310344828         f1score: 0.7086401012017711\n",
      "eval: 0.7931034482758621         f1score: 0.7482671324776589\n",
      "eval: 0.6896551724137931         f1score: 0.6896892911010558\n",
      "eval: 0.7931034482758621         f1score: 0.76\n",
      "eval: 0.7586206896551724         f1score: 0.7210752688172043\n",
      "eval: 0.7413793103448276         f1score: 0.7164420141262247\n",
      "eval: 0.7758620689655172         f1score: 0.7294635472054828\n",
      "eval: 0.7931034482758621         f1score: 0.7485268727373992\n",
      "eval: 0.7241379310344828         f1score: 0.7121212121212122\n",
      "eval: 0.7931034482758621         f1score: 0.761058201058201\n",
      "eval: 0.7413793103448276         f1score: 0.7165160765160765\n",
      "eval: 0.7931034482758621         f1score: 0.763974987974988\n",
      "eval: 0.7931034482758621         f1score: 0.7595337272756628\n",
      "eval: 0.8275862068965517         f1score: 0.7920838420838421\n",
      "eval: 0.8275862068965517         f1score: 0.7888422980528244\n",
      "eval: 0.7931034482758621         f1score: 0.8040104091646741\n",
      "eval: 0.7758620689655172         f1score: 0.757625443339729\n",
      "eval: 0.7068965517241379         f1score: 0.6823655913978495\n",
      "eval: 0.7413793103448276         f1score: 0.7237975499677627\n",
      "eval: 0.7586206896551724         f1score: 0.7455794504181601\n",
      "eval: 0.8103448275862069         f1score: 0.7842010582010582\n",
      "eval: 0.8103448275862069         f1score: 0.7818274318274318\n",
      "eval: 0.7241379310344828         f1score: 0.7156862745098039\n",
      "eval: 0.8103448275862069         f1score: 0.7849233419465977\n",
      "eval: 0.7758620689655172         f1score: 0.7326007326007326\n",
      "eval: 0.8103448275862069         f1score: 0.7834358974358975\n",
      "eval: 0.7931034482758621         f1score: 0.7682010582010582\n",
      "eval: 0.8275862068965517         f1score: 0.7932234432234433\n",
      "eval: 0.8275862068965517         f1score: 0.793992673992674\n",
      "eval: 0.8103448275862069         f1score: 0.7800059630292188\n",
      "eval: 0.7758620689655172         f1score: 0.7511391278833139\n",
      "eval: 0.7931034482758621         f1score: 0.7485137570587529\n",
      "eval: 0.7931034482758621         f1score: 0.7485137570587529\n",
      "eval: 0.7931034482758621         f1score: 0.725934065934066\n",
      "eval: 0.7758620689655172         f1score: 0.7134817465050023\n",
      "eval: 0.7758620689655172         f1score: 0.7109583439815997\n",
      "eval: 0.7931034482758621         f1score: 0.7442916773149331\n",
      "eval: 0.7931034482758621         f1score: 0.7442916773149331\n",
      "eval: 0.7931034482758621         f1score: 0.7442916773149331\n",
      "eval: 0.7931034482758621         f1score: 0.7442916773149331\n",
      "eval: 0.7931034482758621         f1score: 0.7442916773149331\n",
      "eval: 0.7931034482758621         f1score: 0.7442916773149331\n",
      "eval: 0.7931034482758621         f1score: 0.7442916773149331\n",
      "eval: 0.7931034482758621         f1score: 0.7442916773149331\n",
      "eval: 0.7931034482758621         f1score: 0.7442916773149331\n",
      "eval: 0.7931034482758621         f1score: 0.7442916773149331\n",
      "eval: 0.7931034482758621         f1score: 0.7442916773149331\n",
      "eval: 0.7931034482758621         f1score: 0.7442916773149331\n",
      "eval: 0.7931034482758621         f1score: 0.7442916773149331\n",
      "eval: 0.7931034482758621         f1score: 0.7442916773149331\n",
      "eval: 0.7931034482758621         f1score: 0.7442916773149331\n",
      "eval: 0.7931034482758621         f1score: 0.7442916773149331\n",
      "eval: 0.7931034482758621         f1score: 0.7442916773149331\n",
      "eval: 0.7931034482758621         f1score: 0.7442916773149331\n",
      "eval: 0.7931034482758621         f1score: 0.7442916773149331\n",
      "eval: 0.7931034482758621         f1score: 0.7442916773149331\n",
      "eval: 0.7931034482758621         f1score: 0.7442916773149331\n",
      "eval: 0.7931034482758621         f1score: 0.7442916773149331\n",
      "eval: 0.7931034482758621         f1score: 0.7442916773149331\n",
      "eval: 0.7931034482758621         f1score: 0.7442916773149331\n",
      "eval: 0.7931034482758621         f1score: 0.7442916773149331\n",
      "eval: 0.7931034482758621         f1score: 0.7442916773149331\n",
      "eval: 0.8103448275862069         f1score: 0.7575091575091574\n",
      "eval: 0.8103448275862069         f1score: 0.7575091575091574\n",
      "eval: 0.8103448275862069         f1score: 0.7575091575091574\n",
      "eval: 0.8103448275862069         f1score: 0.7575091575091574\n"
     ]
    },
    {
     "data": {
      "text/html": [
       "Waiting for W&B process to finish... <strong style=\"color:green\">(success).</strong>"
      ],
      "text/plain": [
       "<IPython.core.display.HTML object>"
      ]
     },
     "metadata": {},
     "output_type": "display_data"
    },
    {
     "name": "stderr",
     "output_type": "stream",
     "text": [
      "wandb: WARNING Source type is set to 'repo' but some required information is missing from the environment. A job will not be created from this run. See https://docs.wandb.ai/guides/launch/create-job\n"
     ]
    },
    {
     "data": {
      "text/html": [
       "<style>\n",
       "    table.wandb td:nth-child(1) { padding: 0 10px; text-align: left ; width: auto;} td:nth-child(2) {text-align: left ; width: 100%}\n",
       "    .wandb-row { display: flex; flex-direction: row; flex-wrap: wrap; justify-content: flex-start; width: 100% }\n",
       "    .wandb-col { display: flex; flex-direction: column; flex-basis: 100%; flex: 1; padding: 10px; }\n",
       "    </style>\n",
       "<div class=\"wandb-row\"><div class=\"wandb-col\"><h3>Run history:</h3><br/><table class=\"wandb\"><tr><td>epoch</td><td>▁▁▁▂▂▂▂▂▂▃▃▃▃▃▃▄▄▄▄▄▅▅▅▅▅▅▆▆▆▆▆▆▇▇▇▇▇███</td></tr><tr><td>f1val</td><td>▁▄▆▇▇▆▇▆▆▇██▆▇█▆▇▇██▇▆▆▇▇▇▇▇▇▇▇▇▇▇▇▇▇▇▇▇</td></tr><tr><td>loss</td><td>█▇▅▄▄▄▃▃▃▃▂▂▂▂▂▂▂▂▂▂▁▁▁▁▁▁▁▁▁▁▁▁▁▁▁▁▁▁▁▁</td></tr><tr><td>lr</td><td>███▇▇▇▇▆▆▆▆▆▅▅▅▅▅▄▄▄▄▄▄▃▃▃▃▃▃▂▂▂▂▂▂▂▁▁▁▁</td></tr><tr><td>val</td><td>▁▄▆▇▇▆▇▆▆▇█▇▅▆█▆▇▇██▇▇▇▇▇▇▇▇▇▇▇▇▇▇▇▇▇▇██</td></tr></table><br/></div><div class=\"wandb-col\"><h3>Run summary:</h3><br/><table class=\"wandb\"><tr><td>epoch</td><td>69</td></tr><tr><td>f1val</td><td>0.75751</td></tr><tr><td>loss</td><td>1.06687</td></tr><tr><td>lr</td><td>0.00119</td></tr><tr><td>val</td><td>0.81034</td></tr></table><br/></div></div>"
      ],
      "text/plain": [
       "<IPython.core.display.HTML object>"
      ]
     },
     "metadata": {},
     "output_type": "display_data"
    },
    {
     "data": {
      "text/html": [
       " View run <strong style=\"color:#cdcd00\">driven-sweep-3</strong> at: <a href='https://wandb.ai/artzha/driver-intent-learning/runs/bkbvjjhp' target=\"_blank\">https://wandb.ai/artzha/driver-intent-learning/runs/bkbvjjhp</a><br/>Synced 6 W&B file(s), 0 media file(s), 0 artifact file(s) and 0 other file(s)"
      ],
      "text/plain": [
       "<IPython.core.display.HTML object>"
      ]
     },
     "metadata": {},
     "output_type": "display_data"
    },
    {
     "data": {
      "text/html": [
       "Find logs at: <code>./wandb/run-20230911_215248-bkbvjjhp/logs</code>"
      ],
      "text/plain": [
       "<IPython.core.display.HTML object>"
      ]
     },
     "metadata": {},
     "output_type": "display_data"
    },
    {
     "name": "stderr",
     "output_type": "stream",
     "text": [
      "\u001b[34m\u001b[1mwandb\u001b[0m: Agent Starting Run: vlqddweh with config:\n",
      "\u001b[34m\u001b[1mwandb\u001b[0m: \tdmodel: 64\n",
      "\u001b[34m\u001b[1mwandb\u001b[0m: \tdropout: 0.18345203655736173\n",
      "\u001b[34m\u001b[1mwandb\u001b[0m: \tfchiddendim: 256\n",
      "\u001b[34m\u001b[1mwandb\u001b[0m: \tgamma: 0.99\n",
      "\u001b[34m\u001b[1mwandb\u001b[0m: \thiddendim: 128\n",
      "\u001b[34m\u001b[1mwandb\u001b[0m: \tlr: 0.0030647970134973458\n",
      "\u001b[34m\u001b[1mwandb\u001b[0m: \tmomentum: 0.9416438542784332\n",
      "\u001b[34m\u001b[1mwandb\u001b[0m: \tnumepochs: 70\n",
      "\u001b[34m\u001b[1mwandb\u001b[0m: \tnumheads: 8\n",
      "\u001b[34m\u001b[1mwandb\u001b[0m: \toptimizer: sgd\n",
      "\u001b[34m\u001b[1mwandb\u001b[0m: \tweight_decay: 0.004976988063105989\n",
      "Failed to detect the name of this notebook, you can set it manually with the WANDB_NOTEBOOK_NAME environment variable to enable code saving.\n"
     ]
    },
    {
     "data": {
      "text/html": [
       "wandb version 0.15.10 is available!  To upgrade, please run:\n",
       " $ pip install wandb --upgrade"
      ],
      "text/plain": [
       "<IPython.core.display.HTML object>"
      ]
     },
     "metadata": {},
     "output_type": "display_data"
    },
    {
     "data": {
      "text/html": [
       "Tracking run with wandb version 0.15.9"
      ],
      "text/plain": [
       "<IPython.core.display.HTML object>"
      ]
     },
     "metadata": {},
     "output_type": "display_data"
    },
    {
     "data": {
      "text/html": [
       "Run data is saved locally in <code>/home/arthur/AMRL/Research/Driver-Intent-Prediction/models/wandb/run-20230911_215411-vlqddweh</code>"
      ],
      "text/plain": [
       "<IPython.core.display.HTML object>"
      ]
     },
     "metadata": {},
     "output_type": "display_data"
    },
    {
     "data": {
      "text/html": [
       "Syncing run <strong><a href='https://wandb.ai/artzha/driver-intent-learning/runs/vlqddweh' target=\"_blank\">light-sweep-4</a></strong> to <a href='https://wandb.ai/artzha/driver-intent-learning' target=\"_blank\">Weights & Biases</a> (<a href='https://wandb.me/run' target=\"_blank\">docs</a>)<br/>Sweep page: <a href='https://wandb.ai/artzha/driver-intent-learning/sweeps/s79wrgdi' target=\"_blank\">https://wandb.ai/artzha/driver-intent-learning/sweeps/s79wrgdi</a>"
      ],
      "text/plain": [
       "<IPython.core.display.HTML object>"
      ]
     },
     "metadata": {},
     "output_type": "display_data"
    },
    {
     "data": {
      "text/html": [
       " View project at <a href='https://wandb.ai/artzha/driver-intent-learning' target=\"_blank\">https://wandb.ai/artzha/driver-intent-learning</a>"
      ],
      "text/plain": [
       "<IPython.core.display.HTML object>"
      ]
     },
     "metadata": {},
     "output_type": "display_data"
    },
    {
     "data": {
      "text/html": [
       " View sweep at <a href='https://wandb.ai/artzha/driver-intent-learning/sweeps/s79wrgdi' target=\"_blank\">https://wandb.ai/artzha/driver-intent-learning/sweeps/s79wrgdi</a>"
      ],
      "text/plain": [
       "<IPython.core.display.HTML object>"
      ]
     },
     "metadata": {},
     "output_type": "display_data"
    },
    {
     "data": {
      "text/html": [
       " View run at <a href='https://wandb.ai/artzha/driver-intent-learning/runs/vlqddweh' target=\"_blank\">https://wandb.ai/artzha/driver-intent-learning/runs/vlqddweh</a>"
      ],
      "text/plain": [
       "<IPython.core.display.HTML object>"
      ]
     },
     "metadata": {},
     "output_type": "display_data"
    },
    {
     "name": "stdout",
     "output_type": "stream",
     "text": [
      "Created model save dir for model root /home/arthur/AMRL/Research/Driver-Intent-Prediction/outputs/transformer_64_8_128_0.18345203655736173_0.0030647970134973458_sgd_0.9416438542784332_0.004976988063105989_0.99\n",
      "Created model save dir for checkpoints /home/arthur/AMRL/Research/Driver-Intent-Prediction/outputs/transformer_64_8_128_0.18345203655736173_0.0030647970134973458_sgd_0.9416438542784332_0.004976988063105989_0.99/ckpts\n",
      "eval: 0.5172413793103449         f1score: 0.40225972356155576\n",
      "eval: 0.7068965517241379         f1score: 0.6851455141777721\n",
      "eval: 0.6724137931034483         f1score: 0.6646369353916525\n",
      "eval: 0.6724137931034483         f1score: 0.66411453470277\n",
      "eval: 0.7241379310344828         f1score: 0.7065994470645635\n",
      "eval: 0.7413793103448276         f1score: 0.7076923076923076\n",
      "eval: 0.7586206896551724         f1score: 0.7263329263329263\n",
      "eval: 0.7586206896551724         f1score: 0.7096794871794871\n",
      "eval: 0.7758620689655172         f1score: 0.7339939888034261\n",
      "eval: 0.7931034482758621         f1score: 0.7485268727373992\n",
      "eval: 0.8275862068965517         f1score: 0.8059929604575702\n",
      "eval: 0.8275862068965517         f1score: 0.7940276937554615\n",
      "eval: 0.7931034482758621         f1score: 0.7548687148687149\n",
      "eval: 0.8103448275862069         f1score: 0.7875243664717348\n",
      "eval: 0.8103448275862069         f1score: 0.7980371869845554\n",
      "eval: 0.7758620689655172         f1score: 0.7414844804318489\n",
      "eval: 0.7241379310344828         f1score: 0.7209907730259256\n",
      "eval: 0.7586206896551724         f1score: 0.7380412014353108\n",
      "eval: 0.7586206896551724         f1score: 0.7281318681318683\n",
      "eval: 0.7931034482758621         f1score: 0.7496631823461093\n",
      "eval: 0.7931034482758621         f1score: 0.7652433946551593\n",
      "eval: 0.7586206896551724         f1score: 0.7187985347985347\n",
      "eval: 0.7758620689655172         f1score: 0.7336507936507937\n",
      "eval: 0.7586206896551724         f1score: 0.7597048586400984\n",
      "eval: 0.7931034482758621         f1score: 0.746077506077506\n",
      "eval: 0.7758620689655172         f1score: 0.7394692153312844\n",
      "eval: 0.7931034482758621         f1score: 0.7519834067928443\n",
      "eval: 0.7758620689655172         f1score: 0.7339939888034261\n",
      "eval: 0.7758620689655172         f1score: 0.7339939888034261\n",
      "eval: 0.7758620689655172         f1score: 0.7339939888034261\n",
      "eval: 0.7758620689655172         f1score: 0.7339939888034261\n",
      "eval: 0.7758620689655172         f1score: 0.7339939888034261\n",
      "eval: 0.7758620689655172         f1score: 0.7339939888034261\n",
      "eval: 0.7758620689655172         f1score: 0.7339939888034261\n",
      "eval: 0.7758620689655172         f1score: 0.7339939888034261\n",
      "eval: 0.7758620689655172         f1score: 0.7339939888034261\n",
      "eval: 0.7758620689655172         f1score: 0.7339939888034261\n",
      "eval: 0.7758620689655172         f1score: 0.7339939888034261\n",
      "eval: 0.7758620689655172         f1score: 0.7339939888034261\n",
      "eval: 0.7758620689655172         f1score: 0.7339939888034261\n",
      "eval: 0.7758620689655172         f1score: 0.7339939888034261\n",
      "eval: 0.7758620689655172         f1score: 0.7339939888034261\n",
      "eval: 0.7758620689655172         f1score: 0.7339939888034261\n",
      "eval: 0.7758620689655172         f1score: 0.7339939888034261\n",
      "eval: 0.7758620689655172         f1score: 0.7339939888034261\n",
      "eval: 0.7758620689655172         f1score: 0.7339939888034261\n",
      "eval: 0.7758620689655172         f1score: 0.7339939888034261\n",
      "eval: 0.7758620689655172         f1score: 0.7339939888034261\n",
      "eval: 0.7758620689655172         f1score: 0.7339939888034261\n",
      "eval: 0.7758620689655172         f1score: 0.7339939888034261\n",
      "eval: 0.7758620689655172         f1score: 0.7339939888034261\n",
      "eval: 0.7758620689655172         f1score: 0.7339939888034261\n",
      "eval: 0.7758620689655172         f1score: 0.7339939888034261\n",
      "eval: 0.7758620689655172         f1score: 0.7339939888034261\n",
      "eval: 0.7758620689655172         f1score: 0.7339939888034261\n",
      "eval: 0.7758620689655172         f1score: 0.7339939888034261\n",
      "eval: 0.7758620689655172         f1score: 0.7339939888034261\n",
      "eval: 0.7758620689655172         f1score: 0.7339939888034261\n",
      "eval: 0.7758620689655172         f1score: 0.7339939888034261\n",
      "eval: 0.7758620689655172         f1score: 0.7339939888034261\n",
      "eval: 0.7758620689655172         f1score: 0.7339939888034261\n",
      "eval: 0.7758620689655172         f1score: 0.7339939888034261\n",
      "eval: 0.7758620689655172         f1score: 0.7339939888034261\n",
      "eval: 0.7758620689655172         f1score: 0.7339939888034261\n",
      "eval: 0.7758620689655172         f1score: 0.7339939888034261\n",
      "eval: 0.7931034482758621         f1score: 0.7519834067928443\n",
      "eval: 0.7931034482758621         f1score: 0.7519834067928443\n",
      "eval: 0.7758620689655172         f1score: 0.7339939888034261\n",
      "eval: 0.7758620689655172         f1score: 0.7339939888034261\n",
      "eval: 0.7758620689655172         f1score: 0.7339939888034261\n"
     ]
    },
    {
     "data": {
      "text/html": [
       "Waiting for W&B process to finish... <strong style=\"color:green\">(success).</strong>"
      ],
      "text/plain": [
       "<IPython.core.display.HTML object>"
      ]
     },
     "metadata": {},
     "output_type": "display_data"
    },
    {
     "name": "stderr",
     "output_type": "stream",
     "text": [
      "wandb: WARNING Source type is set to 'repo' but some required information is missing from the environment. A job will not be created from this run. See https://docs.wandb.ai/guides/launch/create-job\n"
     ]
    },
    {
     "data": {
      "application/vnd.jupyter.widget-view+json": {
       "model_id": "b51b2e7c154a4a839d7d9024f7475725",
       "version_major": 2,
       "version_minor": 0
      },
      "text/plain": [
       "VBox(children=(Label(value='0.003 MB of 0.003 MB uploaded (0.000 MB deduped)\\r'), FloatProgress(value=1.0, max…"
      ]
     },
     "metadata": {},
     "output_type": "display_data"
    },
    {
     "data": {
      "text/html": [
       "<style>\n",
       "    table.wandb td:nth-child(1) { padding: 0 10px; text-align: left ; width: auto;} td:nth-child(2) {text-align: left ; width: 100%}\n",
       "    .wandb-row { display: flex; flex-direction: row; flex-wrap: wrap; justify-content: flex-start; width: 100% }\n",
       "    .wandb-col { display: flex; flex-direction: column; flex-basis: 100%; flex: 1; padding: 10px; }\n",
       "    </style>\n",
       "<div class=\"wandb-row\"><div class=\"wandb-col\"><h3>Run history:</h3><br/><table class=\"wandb\"><tr><td>epoch</td><td>▁▁▁▂▂▂▂▂▂▃▃▃▃▃▃▄▄▄▄▄▅▅▅▅▅▅▆▆▆▆▆▆▇▇▇▇▇███</td></tr><tr><td>f1val</td><td>▁▆▆▆▆▇█▇█▇▇▇▆▇▇▇▇▇▇▇▇▇▇▇▇▇▇▇▇▇▇▇▇▇▇▇▇▇▇▇</td></tr><tr><td>loss</td><td>█▇▅▅▄▄▃▃▃▂▂▂▂▂▂▂▂▂▂▁▁▁▁▁▁▁▁▁▁▁▁▁▁▁▁▁▁▁▁▁</td></tr><tr><td>lr</td><td>███▇▇▇▇▆▆▆▆▆▅▅▅▅▅▄▄▄▄▄▄▃▃▃▃▃▃▂▂▂▂▂▂▂▁▁▁▁</td></tr><tr><td>val</td><td>▁▅▄▆▆▇█▇█▇▆▇▆▆▇▇▇▇▇▇▇▇▇▇▇▇▇▇▇▇▇▇▇▇▇▇▇▇▇▇</td></tr></table><br/></div><div class=\"wandb-col\"><h3>Run summary:</h3><br/><table class=\"wandb\"><tr><td>epoch</td><td>69</td></tr><tr><td>f1val</td><td>0.73399</td></tr><tr><td>loss</td><td>0.95269</td></tr><tr><td>lr</td><td>0.00152</td></tr><tr><td>val</td><td>0.77586</td></tr></table><br/></div></div>"
      ],
      "text/plain": [
       "<IPython.core.display.HTML object>"
      ]
     },
     "metadata": {},
     "output_type": "display_data"
    },
    {
     "data": {
      "text/html": [
       " View run <strong style=\"color:#cdcd00\">light-sweep-4</strong> at: <a href='https://wandb.ai/artzha/driver-intent-learning/runs/vlqddweh' target=\"_blank\">https://wandb.ai/artzha/driver-intent-learning/runs/vlqddweh</a><br/>Synced 6 W&B file(s), 0 media file(s), 0 artifact file(s) and 0 other file(s)"
      ],
      "text/plain": [
       "<IPython.core.display.HTML object>"
      ]
     },
     "metadata": {},
     "output_type": "display_data"
    },
    {
     "data": {
      "text/html": [
       "Find logs at: <code>./wandb/run-20230911_215411-vlqddweh/logs</code>"
      ],
      "text/plain": [
       "<IPython.core.display.HTML object>"
      ]
     },
     "metadata": {},
     "output_type": "display_data"
    },
    {
     "name": "stderr",
     "output_type": "stream",
     "text": [
      "\u001b[34m\u001b[1mwandb\u001b[0m: Agent Starting Run: nrqlnj0h with config:\n",
      "\u001b[34m\u001b[1mwandb\u001b[0m: \tdmodel: 64\n",
      "\u001b[34m\u001b[1mwandb\u001b[0m: \tdropout: 0.2229200452990688\n",
      "\u001b[34m\u001b[1mwandb\u001b[0m: \tfchiddendim: 256\n",
      "\u001b[34m\u001b[1mwandb\u001b[0m: \tgamma: 0.99\n",
      "\u001b[34m\u001b[1mwandb\u001b[0m: \thiddendim: 128\n",
      "\u001b[34m\u001b[1mwandb\u001b[0m: \tlr: 0.003136594165669449\n",
      "\u001b[34m\u001b[1mwandb\u001b[0m: \tmomentum: 0.9682907898577996\n",
      "\u001b[34m\u001b[1mwandb\u001b[0m: \tnumepochs: 70\n",
      "\u001b[34m\u001b[1mwandb\u001b[0m: \tnumheads: 8\n",
      "\u001b[34m\u001b[1mwandb\u001b[0m: \toptimizer: sgd\n",
      "\u001b[34m\u001b[1mwandb\u001b[0m: \tweight_decay: 0.0046051603105284255\n",
      "Failed to detect the name of this notebook, you can set it manually with the WANDB_NOTEBOOK_NAME environment variable to enable code saving.\n"
     ]
    },
    {
     "data": {
      "text/html": [
       "wandb version 0.15.10 is available!  To upgrade, please run:\n",
       " $ pip install wandb --upgrade"
      ],
      "text/plain": [
       "<IPython.core.display.HTML object>"
      ]
     },
     "metadata": {},
     "output_type": "display_data"
    },
    {
     "data": {
      "text/html": [
       "Tracking run with wandb version 0.15.9"
      ],
      "text/plain": [
       "<IPython.core.display.HTML object>"
      ]
     },
     "metadata": {},
     "output_type": "display_data"
    },
    {
     "data": {
      "text/html": [
       "Run data is saved locally in <code>/home/arthur/AMRL/Research/Driver-Intent-Prediction/models/wandb/run-20230911_215537-nrqlnj0h</code>"
      ],
      "text/plain": [
       "<IPython.core.display.HTML object>"
      ]
     },
     "metadata": {},
     "output_type": "display_data"
    },
    {
     "data": {
      "text/html": [
       "Syncing run <strong><a href='https://wandb.ai/artzha/driver-intent-learning/runs/nrqlnj0h' target=\"_blank\">comfy-sweep-5</a></strong> to <a href='https://wandb.ai/artzha/driver-intent-learning' target=\"_blank\">Weights & Biases</a> (<a href='https://wandb.me/run' target=\"_blank\">docs</a>)<br/>Sweep page: <a href='https://wandb.ai/artzha/driver-intent-learning/sweeps/s79wrgdi' target=\"_blank\">https://wandb.ai/artzha/driver-intent-learning/sweeps/s79wrgdi</a>"
      ],
      "text/plain": [
       "<IPython.core.display.HTML object>"
      ]
     },
     "metadata": {},
     "output_type": "display_data"
    },
    {
     "data": {
      "text/html": [
       " View project at <a href='https://wandb.ai/artzha/driver-intent-learning' target=\"_blank\">https://wandb.ai/artzha/driver-intent-learning</a>"
      ],
      "text/plain": [
       "<IPython.core.display.HTML object>"
      ]
     },
     "metadata": {},
     "output_type": "display_data"
    },
    {
     "data": {
      "text/html": [
       " View sweep at <a href='https://wandb.ai/artzha/driver-intent-learning/sweeps/s79wrgdi' target=\"_blank\">https://wandb.ai/artzha/driver-intent-learning/sweeps/s79wrgdi</a>"
      ],
      "text/plain": [
       "<IPython.core.display.HTML object>"
      ]
     },
     "metadata": {},
     "output_type": "display_data"
    },
    {
     "data": {
      "text/html": [
       " View run at <a href='https://wandb.ai/artzha/driver-intent-learning/runs/nrqlnj0h' target=\"_blank\">https://wandb.ai/artzha/driver-intent-learning/runs/nrqlnj0h</a>"
      ],
      "text/plain": [
       "<IPython.core.display.HTML object>"
      ]
     },
     "metadata": {},
     "output_type": "display_data"
    },
    {
     "name": "stdout",
     "output_type": "stream",
     "text": [
      "Created model save dir for model root /home/arthur/AMRL/Research/Driver-Intent-Prediction/outputs/transformer_64_8_128_0.2229200452990688_0.003136594165669449_sgd_0.9682907898577996_0.0046051603105284255_0.99\n",
      "Created model save dir for checkpoints /home/arthur/AMRL/Research/Driver-Intent-Prediction/outputs/transformer_64_8_128_0.2229200452990688_0.003136594165669449_sgd_0.9682907898577996_0.0046051603105284255_0.99/ckpts\n",
      "eval: 0.6379310344827587         f1score: 0.5964977798611926\n",
      "eval: 0.7241379310344828         f1score: 0.713095238095238\n",
      "eval: 0.5862068965517241         f1score: 0.5556017316017317\n",
      "eval: 0.6724137931034483         f1score: 0.6609321175278622\n",
      "eval: 0.7413793103448276         f1score: 0.7331335055986219\n",
      "eval: 0.7586206896551724         f1score: 0.7786796721904305\n",
      "eval: 0.7586206896551724         f1score: 0.749348513598988\n",
      "eval: 0.7931034482758621         f1score: 0.7712820512820513\n",
      "eval: 0.8103448275862069         f1score: 0.789071253071253\n",
      "eval: 0.8275862068965517         f1score: 0.8299226699226698\n",
      "eval: 0.7586206896551724         f1score: 0.747138787138787\n",
      "eval: 0.7931034482758621         f1score: 0.8042255062944719\n",
      "eval: 0.6896551724137931         f1score: 0.7277248677248677\n",
      "eval: 0.8275862068965517         f1score: 0.8242411584516848\n",
      "eval: 0.7413793103448276         f1score: 0.7538583638583638\n",
      "eval: 0.8275862068965517         f1score: 0.8190030632135896\n",
      "eval: 0.7413793103448276         f1score: 0.7518095238095238\n",
      "eval: 0.8103448275862069         f1score: 0.8150722150722152\n",
      "eval: 0.7241379310344828         f1score: 0.7419458590190298\n",
      "eval: 0.8448275862068966         f1score: 0.8406978406978407\n",
      "eval: 0.8103448275862069         f1score: 0.8156369556369556\n",
      "eval: 0.7241379310344828         f1score: 0.7398343685300207\n",
      "eval: 0.8275862068965517         f1score: 0.8270616429237119\n",
      "eval: 0.8103448275862069         f1score: 0.8066604419545597\n",
      "eval: 0.8103448275862069         f1score: 0.8044015444015444\n",
      "eval: 0.7931034482758621         f1score: 0.7999618261687227\n",
      "eval: 0.8275862068965517         f1score: 0.8283298284024238\n",
      "eval: 0.8448275862068966         f1score: 0.8406978406978407\n",
      "eval: 0.8448275862068966         f1score: 0.8406978406978407\n",
      "eval: 0.8103448275862069         f1score: 0.8056697298802563\n",
      "eval: 0.8103448275862069         f1score: 0.8056697298802563\n",
      "eval: 0.8103448275862069         f1score: 0.8056697298802563\n",
      "eval: 0.8103448275862069         f1score: 0.8056697298802563\n",
      "eval: 0.8103448275862069         f1score: 0.8056697298802563\n",
      "eval: 0.8103448275862069         f1score: 0.8056697298802563\n",
      "eval: 0.8103448275862069         f1score: 0.8056697298802563\n",
      "eval: 0.8103448275862069         f1score: 0.8056697298802563\n",
      "eval: 0.8103448275862069         f1score: 0.8056697298802563\n",
      "eval: 0.8103448275862069         f1score: 0.8056697298802563\n",
      "eval: 0.8103448275862069         f1score: 0.8056697298802563\n",
      "eval: 0.8103448275862069         f1score: 0.8056697298802563\n",
      "eval: 0.8103448275862069         f1score: 0.8056697298802563\n",
      "eval: 0.8103448275862069         f1score: 0.8056697298802563\n",
      "eval: 0.8103448275862069         f1score: 0.8056697298802563\n",
      "eval: 0.8103448275862069         f1score: 0.8056697298802563\n",
      "eval: 0.8103448275862069         f1score: 0.8056697298802563\n",
      "eval: 0.8103448275862069         f1score: 0.8056697298802563\n",
      "eval: 0.8103448275862069         f1score: 0.8056697298802563\n",
      "eval: 0.8103448275862069         f1score: 0.8056697298802563\n",
      "eval: 0.8103448275862069         f1score: 0.8056697298802563\n",
      "eval: 0.8103448275862069         f1score: 0.8056697298802563\n",
      "eval: 0.8103448275862069         f1score: 0.8056697298802563\n",
      "eval: 0.8103448275862069         f1score: 0.8056697298802563\n",
      "eval: 0.8103448275862069         f1score: 0.8056697298802563\n",
      "eval: 0.8103448275862069         f1score: 0.8056697298802563\n",
      "eval: 0.8103448275862069         f1score: 0.8056697298802563\n",
      "eval: 0.8103448275862069         f1score: 0.8056697298802563\n",
      "eval: 0.8103448275862069         f1score: 0.8056697298802563\n",
      "eval: 0.8103448275862069         f1score: 0.8056697298802563\n",
      "eval: 0.8103448275862069         f1score: 0.8056697298802563\n",
      "eval: 0.8103448275862069         f1score: 0.8056697298802563\n",
      "eval: 0.8103448275862069         f1score: 0.8056697298802563\n",
      "eval: 0.8103448275862069         f1score: 0.8056697298802563\n",
      "eval: 0.8275862068965517         f1score: 0.8283298284024238\n",
      "eval: 0.8275862068965517         f1score: 0.8283298284024238\n",
      "eval: 0.8103448275862069         f1score: 0.8056697298802563\n",
      "eval: 0.8275862068965517         f1score: 0.8283298284024238\n",
      "eval: 0.8275862068965517         f1score: 0.8283298284024238\n",
      "eval: 0.8275862068965517         f1score: 0.8283298284024238\n",
      "eval: 0.8103448275862069         f1score: 0.8056697298802563\n"
     ]
    },
    {
     "data": {
      "text/html": [
       "Waiting for W&B process to finish... <strong style=\"color:green\">(success).</strong>"
      ],
      "text/plain": [
       "<IPython.core.display.HTML object>"
      ]
     },
     "metadata": {},
     "output_type": "display_data"
    },
    {
     "name": "stderr",
     "output_type": "stream",
     "text": [
      "wandb: WARNING Source type is set to 'repo' but some required information is missing from the environment. A job will not be created from this run. See https://docs.wandb.ai/guides/launch/create-job\n"
     ]
    },
    {
     "data": {
      "application/vnd.jupyter.widget-view+json": {
       "model_id": "ecfd332895d542579794b1e9656a4a34",
       "version_major": 2,
       "version_minor": 0
      },
      "text/plain": [
       "VBox(children=(Label(value='0.003 MB of 0.003 MB uploaded (0.000 MB deduped)\\r'), FloatProgress(value=1.0, max…"
      ]
     },
     "metadata": {},
     "output_type": "display_data"
    },
    {
     "data": {
      "text/html": [
       "<style>\n",
       "    table.wandb td:nth-child(1) { padding: 0 10px; text-align: left ; width: auto;} td:nth-child(2) {text-align: left ; width: 100%}\n",
       "    .wandb-row { display: flex; flex-direction: row; flex-wrap: wrap; justify-content: flex-start; width: 100% }\n",
       "    .wandb-col { display: flex; flex-direction: column; flex-basis: 100%; flex: 1; padding: 10px; }\n",
       "    </style>\n",
       "<div class=\"wandb-row\"><div class=\"wandb-col\"><h3>Run history:</h3><br/><table class=\"wandb\"><tr><td>epoch</td><td>▁▁▁▂▂▂▂▂▂▃▃▃▃▃▃▄▄▄▄▄▅▅▅▅▅▅▆▆▆▆▆▆▇▇▇▇▇███</td></tr><tr><td>f1val</td><td>▁▄▃▆▆▇▅▅▆▇▇█▅▇▇██▇▇▇▇▇▇▇▇▇▇▇▇▇▇▇▇▇▇▇█▇█▇</td></tr><tr><td>loss</td><td>█▆▅▄▄▄▃▃▃▂▂▂▂▂▂▂▂▂▂▁▁▁▁▁▁▁▁▁▁▁▁▁▁▁▁▁▁▁▁▁</td></tr><tr><td>lr</td><td>███▇▇▇▇▆▆▆▆▆▅▅▅▅▅▄▄▄▄▄▄▃▃▃▃▃▃▂▂▂▂▂▂▂▁▁▁▁</td></tr><tr><td>val</td><td>▁▄▂▅▆▇▅▃▅▇▇█▄▇▇▇█▇▇▇▇▇▇▇▇▇▇▇▇▇▇▇▇▇▇▇▇▇▇▇</td></tr></table><br/></div><div class=\"wandb-col\"><h3>Run summary:</h3><br/><table class=\"wandb\"><tr><td>epoch</td><td>69</td></tr><tr><td>f1val</td><td>0.80567</td></tr><tr><td>loss</td><td>0.93012</td></tr><tr><td>lr</td><td>0.00155</td></tr><tr><td>val</td><td>0.81034</td></tr></table><br/></div></div>"
      ],
      "text/plain": [
       "<IPython.core.display.HTML object>"
      ]
     },
     "metadata": {},
     "output_type": "display_data"
    },
    {
     "data": {
      "text/html": [
       " View run <strong style=\"color:#cdcd00\">comfy-sweep-5</strong> at: <a href='https://wandb.ai/artzha/driver-intent-learning/runs/nrqlnj0h' target=\"_blank\">https://wandb.ai/artzha/driver-intent-learning/runs/nrqlnj0h</a><br/>Synced 6 W&B file(s), 0 media file(s), 0 artifact file(s) and 0 other file(s)"
      ],
      "text/plain": [
       "<IPython.core.display.HTML object>"
      ]
     },
     "metadata": {},
     "output_type": "display_data"
    },
    {
     "data": {
      "text/html": [
       "Find logs at: <code>./wandb/run-20230911_215537-nrqlnj0h/logs</code>"
      ],
      "text/plain": [
       "<IPython.core.display.HTML object>"
      ]
     },
     "metadata": {},
     "output_type": "display_data"
    },
    {
     "name": "stderr",
     "output_type": "stream",
     "text": [
      "\u001b[34m\u001b[1mwandb\u001b[0m: Agent Starting Run: 7uxvxung with config:\n",
      "\u001b[34m\u001b[1mwandb\u001b[0m: \tdmodel: 64\n",
      "\u001b[34m\u001b[1mwandb\u001b[0m: \tdropout: 0.22860678329651685\n",
      "\u001b[34m\u001b[1mwandb\u001b[0m: \tfchiddendim: 128\n",
      "\u001b[34m\u001b[1mwandb\u001b[0m: \tgamma: 0.9\n",
      "\u001b[34m\u001b[1mwandb\u001b[0m: \thiddendim: 128\n",
      "\u001b[34m\u001b[1mwandb\u001b[0m: \tlr: 0.00109807355716492\n",
      "\u001b[34m\u001b[1mwandb\u001b[0m: \tmomentum: 0.9018706017856672\n",
      "\u001b[34m\u001b[1mwandb\u001b[0m: \tnumepochs: 70\n",
      "\u001b[34m\u001b[1mwandb\u001b[0m: \tnumheads: 8\n",
      "\u001b[34m\u001b[1mwandb\u001b[0m: \toptimizer: sgd\n",
      "\u001b[34m\u001b[1mwandb\u001b[0m: \tweight_decay: 0.003062371397679458\n",
      "Failed to detect the name of this notebook, you can set it manually with the WANDB_NOTEBOOK_NAME environment variable to enable code saving.\n"
     ]
    },
    {
     "data": {
      "text/html": [
       "wandb version 0.15.10 is available!  To upgrade, please run:\n",
       " $ pip install wandb --upgrade"
      ],
      "text/plain": [
       "<IPython.core.display.HTML object>"
      ]
     },
     "metadata": {},
     "output_type": "display_data"
    },
    {
     "data": {
      "text/html": [
       "Tracking run with wandb version 0.15.9"
      ],
      "text/plain": [
       "<IPython.core.display.HTML object>"
      ]
     },
     "metadata": {},
     "output_type": "display_data"
    },
    {
     "data": {
      "text/html": [
       "Run data is saved locally in <code>/home/arthur/AMRL/Research/Driver-Intent-Prediction/models/wandb/run-20230911_215659-7uxvxung</code>"
      ],
      "text/plain": [
       "<IPython.core.display.HTML object>"
      ]
     },
     "metadata": {},
     "output_type": "display_data"
    },
    {
     "data": {
      "text/html": [
       "Syncing run <strong><a href='https://wandb.ai/artzha/driver-intent-learning/runs/7uxvxung' target=\"_blank\">mild-sweep-6</a></strong> to <a href='https://wandb.ai/artzha/driver-intent-learning' target=\"_blank\">Weights & Biases</a> (<a href='https://wandb.me/run' target=\"_blank\">docs</a>)<br/>Sweep page: <a href='https://wandb.ai/artzha/driver-intent-learning/sweeps/s79wrgdi' target=\"_blank\">https://wandb.ai/artzha/driver-intent-learning/sweeps/s79wrgdi</a>"
      ],
      "text/plain": [
       "<IPython.core.display.HTML object>"
      ]
     },
     "metadata": {},
     "output_type": "display_data"
    },
    {
     "data": {
      "text/html": [
       " View project at <a href='https://wandb.ai/artzha/driver-intent-learning' target=\"_blank\">https://wandb.ai/artzha/driver-intent-learning</a>"
      ],
      "text/plain": [
       "<IPython.core.display.HTML object>"
      ]
     },
     "metadata": {},
     "output_type": "display_data"
    },
    {
     "data": {
      "text/html": [
       " View sweep at <a href='https://wandb.ai/artzha/driver-intent-learning/sweeps/s79wrgdi' target=\"_blank\">https://wandb.ai/artzha/driver-intent-learning/sweeps/s79wrgdi</a>"
      ],
      "text/plain": [
       "<IPython.core.display.HTML object>"
      ]
     },
     "metadata": {},
     "output_type": "display_data"
    },
    {
     "data": {
      "text/html": [
       " View run at <a href='https://wandb.ai/artzha/driver-intent-learning/runs/7uxvxung' target=\"_blank\">https://wandb.ai/artzha/driver-intent-learning/runs/7uxvxung</a>"
      ],
      "text/plain": [
       "<IPython.core.display.HTML object>"
      ]
     },
     "metadata": {},
     "output_type": "display_data"
    },
    {
     "name": "stdout",
     "output_type": "stream",
     "text": [
      "Created model save dir for model root /home/arthur/AMRL/Research/Driver-Intent-Prediction/outputs/transformer_64_8_128_0.22860678329651685_0.00109807355716492_sgd_0.9018706017856672_0.003062371397679458_0.9\n",
      "Created model save dir for checkpoints /home/arthur/AMRL/Research/Driver-Intent-Prediction/outputs/transformer_64_8_128_0.22860678329651685_0.00109807355716492_sgd_0.9018706017856672_0.003062371397679458_0.9/ckpts\n",
      "eval: 0.5         f1score: 0.34301994301994304\n",
      "eval: 0.5517241379310345         f1score: 0.4786964024458866\n",
      "eval: 0.6206896551724138         f1score: 0.6505194805194805\n",
      "eval: 0.7241379310344828         f1score: 0.6897619047619047\n",
      "eval: 0.6724137931034483         f1score: 0.696687370600414\n",
      "eval: 0.7586206896551724         f1score: 0.761101286963356\n",
      "eval: 0.7586206896551724         f1score: 0.761101286963356\n",
      "eval: 0.7068965517241379         f1score: 0.6847729789590256\n",
      "eval: 0.7758620689655172         f1score: 0.7738746734209528\n",
      "eval: 0.7758620689655172         f1score: 0.7734228734228734\n",
      "eval: 0.7758620689655172         f1score: 0.7738746734209528\n",
      "eval: 0.7758620689655172         f1score: 0.7734228734228734\n",
      "eval: 0.7758620689655172         f1score: 0.7662800162800163\n",
      "eval: 0.7758620689655172         f1score: 0.7889401148021837\n",
      "eval: 0.7586206896551724         f1score: 0.7210419210419211\n",
      "eval: 0.7586206896551724         f1score: 0.734178210040279\n",
      "eval: 0.7586206896551724         f1score: 0.7210419210419211\n",
      "eval: 0.7758620689655172         f1score: 0.7817972576593266\n",
      "eval: 0.7758620689655172         f1score: 0.7817972576593266\n",
      "eval: 0.7758620689655172         f1score: 0.7817972576593266\n",
      "eval: 0.7586206896551724         f1score: 0.734178210040279\n",
      "eval: 0.7758620689655172         f1score: 0.7817972576593266\n",
      "eval: 0.7758620689655172         f1score: 0.7817972576593266\n",
      "eval: 0.7758620689655172         f1score: 0.7817972576593266\n",
      "eval: 0.7758620689655172         f1score: 0.7817972576593266\n",
      "eval: 0.7758620689655172         f1score: 0.7817972576593266\n",
      "eval: 0.7758620689655172         f1score: 0.7817972576593266\n",
      "eval: 0.7758620689655172         f1score: 0.7817972576593266\n",
      "eval: 0.7758620689655172         f1score: 0.7817972576593266\n",
      "eval: 0.7758620689655172         f1score: 0.7817972576593266\n",
      "eval: 0.7758620689655172         f1score: 0.7817972576593266\n",
      "eval: 0.7758620689655172         f1score: 0.7817972576593266\n",
      "eval: 0.7758620689655172         f1score: 0.7817972576593266\n",
      "eval: 0.7758620689655172         f1score: 0.7817972576593266\n",
      "eval: 0.7758620689655172         f1score: 0.7817972576593266\n",
      "eval: 0.7931034482758621         f1score: 0.7989401148021839\n",
      "eval: 0.7931034482758621         f1score: 0.7989401148021839\n",
      "eval: 0.7586206896551724         f1score: 0.7700285195747991\n",
      "eval: 0.7931034482758621         f1score: 0.7989401148021839\n",
      "eval: 0.7931034482758621         f1score: 0.7989401148021839\n",
      "eval: 0.7758620689655172         f1score: 0.7498558657179347\n",
      "eval: 0.7758620689655172         f1score: 0.7498558657179347\n",
      "eval: 0.7758620689655172         f1score: 0.7498558657179347\n",
      "eval: 0.7758620689655172         f1score: 0.7498558657179347\n",
      "eval: 0.7758620689655172         f1score: 0.7498558657179347\n",
      "eval: 0.7758620689655172         f1score: 0.7498558657179347\n",
      "eval: 0.7758620689655172         f1score: 0.7498558657179347\n",
      "eval: 0.7758620689655172         f1score: 0.7498558657179347\n",
      "eval: 0.7758620689655172         f1score: 0.7498558657179347\n",
      "eval: 0.7758620689655172         f1score: 0.7498558657179347\n",
      "eval: 0.7758620689655172         f1score: 0.7498558657179347\n",
      "eval: 0.7758620689655172         f1score: 0.7498558657179347\n",
      "eval: 0.7758620689655172         f1score: 0.7498558657179347\n",
      "eval: 0.7758620689655172         f1score: 0.7498558657179347\n",
      "eval: 0.7758620689655172         f1score: 0.7498558657179347\n",
      "eval: 0.7758620689655172         f1score: 0.7498558657179347\n",
      "eval: 0.7758620689655172         f1score: 0.7498558657179347\n",
      "eval: 0.7758620689655172         f1score: 0.7498558657179347\n",
      "eval: 0.7758620689655172         f1score: 0.7498558657179347\n",
      "eval: 0.7758620689655172         f1score: 0.7498558657179347\n",
      "eval: 0.7758620689655172         f1score: 0.7498558657179347\n",
      "eval: 0.7758620689655172         f1score: 0.7498558657179347\n",
      "eval: 0.7758620689655172         f1score: 0.7498558657179347\n",
      "eval: 0.7758620689655172         f1score: 0.7498558657179347\n",
      "eval: 0.7758620689655172         f1score: 0.7498558657179347\n",
      "eval: 0.7758620689655172         f1score: 0.7498558657179347\n",
      "eval: 0.7758620689655172         f1score: 0.7498558657179347\n",
      "eval: 0.7758620689655172         f1score: 0.7498558657179347\n",
      "eval: 0.7758620689655172         f1score: 0.7498558657179347\n",
      "eval: 0.7758620689655172         f1score: 0.7498558657179347\n"
     ]
    },
    {
     "data": {
      "text/html": [
       "Waiting for W&B process to finish... <strong style=\"color:green\">(success).</strong>"
      ],
      "text/plain": [
       "<IPython.core.display.HTML object>"
      ]
     },
     "metadata": {},
     "output_type": "display_data"
    },
    {
     "name": "stderr",
     "output_type": "stream",
     "text": [
      "wandb: WARNING Source type is set to 'repo' but some required information is missing from the environment. A job will not be created from this run. See https://docs.wandb.ai/guides/launch/create-job\n"
     ]
    },
    {
     "data": {
      "text/html": [
       "<style>\n",
       "    table.wandb td:nth-child(1) { padding: 0 10px; text-align: left ; width: auto;} td:nth-child(2) {text-align: left ; width: 100%}\n",
       "    .wandb-row { display: flex; flex-direction: row; flex-wrap: wrap; justify-content: flex-start; width: 100% }\n",
       "    .wandb-col { display: flex; flex-direction: column; flex-basis: 100%; flex: 1; padding: 10px; }\n",
       "    </style>\n",
       "<div class=\"wandb-row\"><div class=\"wandb-col\"><h3>Run history:</h3><br/><table class=\"wandb\"><tr><td>epoch</td><td>▁▁▁▂▂▂▂▂▂▃▃▃▃▃▃▄▄▄▄▄▅▅▅▅▅▅▆▆▆▆▆▆▇▇▇▇▇███</td></tr><tr><td>f1val</td><td>▁▃▆▇▆██▇▇▇█████████████▇▇▇▇▇▇▇▇▇▇▇▇▇▇▇▇▇</td></tr><tr><td>loss</td><td>█▇▅▅▄▄▃▃▃▃▂▂▂▂▂▂▂▂▂▂▁▁▁▁▁▁▁▁▁▁▁▁▁▁▁▁▁▁▁▁</td></tr><tr><td>lr</td><td>█▇▆▅▄▄▃▃▃▂▂▂▂▂▂▁▁▁▁▁▁▁▁▁▁▁▁▁▁▁▁▁▁▁▁▁▁▁▁▁</td></tr><tr><td>val</td><td>▁▂▆▇▆███▇▇███████████▇██████████████████</td></tr></table><br/></div><div class=\"wandb-col\"><h3>Run summary:</h3><br/><table class=\"wandb\"><tr><td>epoch</td><td>69</td></tr><tr><td>f1val</td><td>0.74986</td></tr><tr><td>loss</td><td>3.49695</td></tr><tr><td>lr</td><td>0.0</td></tr><tr><td>val</td><td>0.77586</td></tr></table><br/></div></div>"
      ],
      "text/plain": [
       "<IPython.core.display.HTML object>"
      ]
     },
     "metadata": {},
     "output_type": "display_data"
    },
    {
     "data": {
      "text/html": [
       " View run <strong style=\"color:#cdcd00\">mild-sweep-6</strong> at: <a href='https://wandb.ai/artzha/driver-intent-learning/runs/7uxvxung' target=\"_blank\">https://wandb.ai/artzha/driver-intent-learning/runs/7uxvxung</a><br/>Synced 6 W&B file(s), 0 media file(s), 0 artifact file(s) and 0 other file(s)"
      ],
      "text/plain": [
       "<IPython.core.display.HTML object>"
      ]
     },
     "metadata": {},
     "output_type": "display_data"
    },
    {
     "data": {
      "text/html": [
       "Find logs at: <code>./wandb/run-20230911_215659-7uxvxung/logs</code>"
      ],
      "text/plain": [
       "<IPython.core.display.HTML object>"
      ]
     },
     "metadata": {},
     "output_type": "display_data"
    },
    {
     "name": "stderr",
     "output_type": "stream",
     "text": [
      "\u001b[34m\u001b[1mwandb\u001b[0m: Agent Starting Run: col8i9ha with config:\n",
      "\u001b[34m\u001b[1mwandb\u001b[0m: \tdmodel: 64\n",
      "\u001b[34m\u001b[1mwandb\u001b[0m: \tdropout: 0.2140307784486059\n",
      "\u001b[34m\u001b[1mwandb\u001b[0m: \tfchiddendim: 512\n",
      "\u001b[34m\u001b[1mwandb\u001b[0m: \tgamma: 0.95\n",
      "\u001b[34m\u001b[1mwandb\u001b[0m: \thiddendim: 128\n",
      "\u001b[34m\u001b[1mwandb\u001b[0m: \tlr: 0.0004506338895565396\n",
      "\u001b[34m\u001b[1mwandb\u001b[0m: \tmomentum: 0.971663604739704\n",
      "\u001b[34m\u001b[1mwandb\u001b[0m: \tnumepochs: 70\n",
      "\u001b[34m\u001b[1mwandb\u001b[0m: \tnumheads: 8\n",
      "\u001b[34m\u001b[1mwandb\u001b[0m: \toptimizer: sgd\n",
      "\u001b[34m\u001b[1mwandb\u001b[0m: \tweight_decay: 0.0016111756104336308\n",
      "Failed to detect the name of this notebook, you can set it manually with the WANDB_NOTEBOOK_NAME environment variable to enable code saving.\n"
     ]
    },
    {
     "data": {
      "text/html": [
       "wandb version 0.15.10 is available!  To upgrade, please run:\n",
       " $ pip install wandb --upgrade"
      ],
      "text/plain": [
       "<IPython.core.display.HTML object>"
      ]
     },
     "metadata": {},
     "output_type": "display_data"
    },
    {
     "data": {
      "text/html": [
       "Tracking run with wandb version 0.15.9"
      ],
      "text/plain": [
       "<IPython.core.display.HTML object>"
      ]
     },
     "metadata": {},
     "output_type": "display_data"
    },
    {
     "data": {
      "text/html": [
       "Run data is saved locally in <code>/home/arthur/AMRL/Research/Driver-Intent-Prediction/models/wandb/run-20230911_215822-col8i9ha</code>"
      ],
      "text/plain": [
       "<IPython.core.display.HTML object>"
      ]
     },
     "metadata": {},
     "output_type": "display_data"
    },
    {
     "data": {
      "text/html": [
       "Syncing run <strong><a href='https://wandb.ai/artzha/driver-intent-learning/runs/col8i9ha' target=\"_blank\">rose-sweep-7</a></strong> to <a href='https://wandb.ai/artzha/driver-intent-learning' target=\"_blank\">Weights & Biases</a> (<a href='https://wandb.me/run' target=\"_blank\">docs</a>)<br/>Sweep page: <a href='https://wandb.ai/artzha/driver-intent-learning/sweeps/s79wrgdi' target=\"_blank\">https://wandb.ai/artzha/driver-intent-learning/sweeps/s79wrgdi</a>"
      ],
      "text/plain": [
       "<IPython.core.display.HTML object>"
      ]
     },
     "metadata": {},
     "output_type": "display_data"
    },
    {
     "data": {
      "text/html": [
       " View project at <a href='https://wandb.ai/artzha/driver-intent-learning' target=\"_blank\">https://wandb.ai/artzha/driver-intent-learning</a>"
      ],
      "text/plain": [
       "<IPython.core.display.HTML object>"
      ]
     },
     "metadata": {},
     "output_type": "display_data"
    },
    {
     "data": {
      "text/html": [
       " View sweep at <a href='https://wandb.ai/artzha/driver-intent-learning/sweeps/s79wrgdi' target=\"_blank\">https://wandb.ai/artzha/driver-intent-learning/sweeps/s79wrgdi</a>"
      ],
      "text/plain": [
       "<IPython.core.display.HTML object>"
      ]
     },
     "metadata": {},
     "output_type": "display_data"
    },
    {
     "data": {
      "text/html": [
       " View run at <a href='https://wandb.ai/artzha/driver-intent-learning/runs/col8i9ha' target=\"_blank\">https://wandb.ai/artzha/driver-intent-learning/runs/col8i9ha</a>"
      ],
      "text/plain": [
       "<IPython.core.display.HTML object>"
      ]
     },
     "metadata": {},
     "output_type": "display_data"
    },
    {
     "name": "stdout",
     "output_type": "stream",
     "text": [
      "Created model save dir for model root /home/arthur/AMRL/Research/Driver-Intent-Prediction/outputs/transformer_64_8_128_0.2140307784486059_0.0004506338895565396_sgd_0.971663604739704_0.0016111756104336308_0.95\n",
      "Created model save dir for checkpoints /home/arthur/AMRL/Research/Driver-Intent-Prediction/outputs/transformer_64_8_128_0.2140307784486059_0.0004506338895565396_sgd_0.971663604739704_0.0016111756104336308_0.95/ckpts\n",
      "eval: 0.3103448275862069         f1score: 0.09473684210526315\n",
      "eval: 0.46551724137931033         f1score: 0.26946236559139786\n",
      "eval: 0.5689655172413793         f1score: 0.44258760107816714\n",
      "eval: 0.603448275862069         f1score: 0.4417777777777777\n",
      "eval: 0.7068965517241379         f1score: 0.6773573699472452\n",
      "eval: 0.7586206896551724         f1score: 0.7415711315711315\n",
      "eval: 0.7413793103448276         f1score: 0.6990304901154356\n",
      "eval: 0.7413793103448276         f1score: 0.7254707803488292\n",
      "eval: 0.7241379310344828         f1score: 0.6800895400895401\n",
      "eval: 0.7758620689655172         f1score: 0.7198534798534799\n",
      "eval: 0.7758620689655172         f1score: 0.7569987228607918\n",
      "eval: 0.7931034482758621         f1score: 0.7718135376756066\n",
      "eval: 0.7586206896551724         f1score: 0.7135660184440672\n",
      "eval: 0.7413793103448276         f1score: 0.7292315270935961\n",
      "eval: 0.7758620689655172         f1score: 0.7625641025641026\n",
      "eval: 0.7758620689655172         f1score: 0.7590076138856626\n",
      "eval: 0.7413793103448276         f1score: 0.7315991140642304\n",
      "eval: 0.8103448275862069         f1score: 0.7523025773025773\n",
      "eval: 0.7586206896551724         f1score: 0.7456043956043955\n",
      "eval: 0.7931034482758621         f1score: 0.7719047619047619\n",
      "eval: 0.8103448275862069         f1score: 0.7866283524904214\n",
      "eval: 0.8103448275862069         f1score: 0.7866283524904214\n",
      "eval: 0.8103448275862069         f1score: 0.7843817102437792\n",
      "eval: 0.7758620689655172         f1score: 0.7590076138856626\n",
      "eval: 0.7758620689655172         f1score: 0.7590076138856626\n",
      "eval: 0.7931034482758621         f1score: 0.7719047619047619\n",
      "eval: 0.7758620689655172         f1score: 0.7590076138856626\n",
      "eval: 0.7758620689655172         f1score: 0.7590076138856626\n",
      "eval: 0.7931034482758621         f1score: 0.7719047619047619\n",
      "eval: 0.7931034482758621         f1score: 0.7719047619047619\n",
      "eval: 0.7931034482758621         f1score: 0.7719047619047619\n",
      "eval: 0.7758620689655172         f1score: 0.7590076138856626\n",
      "eval: 0.7758620689655172         f1score: 0.7590076138856626\n",
      "eval: 0.8103448275862069         f1score: 0.7843817102437792\n",
      "eval: 0.7758620689655172         f1score: 0.7590076138856626\n",
      "eval: 0.7758620689655172         f1score: 0.7590076138856626\n",
      "eval: 0.8103448275862069         f1score: 0.7843817102437792\n",
      "eval: 0.7758620689655172         f1score: 0.7590076138856626\n",
      "eval: 0.7758620689655172         f1score: 0.7590076138856626\n",
      "eval: 0.7758620689655172         f1score: 0.7590076138856626\n",
      "eval: 0.7931034482758621         f1score: 0.7719047619047619\n",
      "eval: 0.7931034482758621         f1score: 0.7719047619047619\n",
      "eval: 0.7758620689655172         f1score: 0.7590076138856626\n",
      "eval: 0.7758620689655172         f1score: 0.7590076138856626\n",
      "eval: 0.7758620689655172         f1score: 0.7590076138856626\n",
      "eval: 0.7931034482758621         f1score: 0.7719047619047619\n",
      "eval: 0.7931034482758621         f1score: 0.7719047619047619\n",
      "eval: 0.7931034482758621         f1score: 0.7719047619047619\n",
      "eval: 0.7931034482758621         f1score: 0.7719047619047619\n",
      "eval: 0.7758620689655172         f1score: 0.7590076138856626\n",
      "eval: 0.7758620689655172         f1score: 0.7590076138856626\n",
      "eval: 0.7931034482758621         f1score: 0.7719047619047619\n",
      "eval: 0.7931034482758621         f1score: 0.7719047619047619\n",
      "eval: 0.7931034482758621         f1score: 0.7719047619047619\n",
      "eval: 0.7931034482758621         f1score: 0.7719047619047619\n",
      "eval: 0.7931034482758621         f1score: 0.7719047619047619\n",
      "eval: 0.7758620689655172         f1score: 0.7590076138856626\n",
      "eval: 0.7758620689655172         f1score: 0.7590076138856626\n",
      "eval: 0.7931034482758621         f1score: 0.7719047619047619\n",
      "eval: 0.7931034482758621         f1score: 0.7719047619047619\n",
      "eval: 0.7931034482758621         f1score: 0.7719047619047619\n",
      "eval: 0.7931034482758621         f1score: 0.7719047619047619\n",
      "eval: 0.7931034482758621         f1score: 0.7719047619047619\n",
      "eval: 0.7931034482758621         f1score: 0.7719047619047619\n",
      "eval: 0.7931034482758621         f1score: 0.7719047619047619\n",
      "eval: 0.7931034482758621         f1score: 0.7719047619047619\n",
      "eval: 0.7931034482758621         f1score: 0.7719047619047619\n",
      "eval: 0.7931034482758621         f1score: 0.7719047619047619\n",
      "eval: 0.7931034482758621         f1score: 0.7719047619047619\n",
      "eval: 0.7931034482758621         f1score: 0.7719047619047619\n"
     ]
    },
    {
     "data": {
      "text/html": [
       "Waiting for W&B process to finish... <strong style=\"color:green\">(success).</strong>"
      ],
      "text/plain": [
       "<IPython.core.display.HTML object>"
      ]
     },
     "metadata": {},
     "output_type": "display_data"
    },
    {
     "name": "stderr",
     "output_type": "stream",
     "text": [
      "wandb: WARNING Source type is set to 'repo' but some required information is missing from the environment. A job will not be created from this run. See https://docs.wandb.ai/guides/launch/create-job\n"
     ]
    },
    {
     "data": {
      "application/vnd.jupyter.widget-view+json": {
       "model_id": "afd277f75d4f4cbaa745b756bfaf17dc",
       "version_major": 2,
       "version_minor": 0
      },
      "text/plain": [
       "VBox(children=(Label(value='0.003 MB of 0.003 MB uploaded (0.000 MB deduped)\\r'), FloatProgress(value=1.0, max…"
      ]
     },
     "metadata": {},
     "output_type": "display_data"
    },
    {
     "data": {
      "text/html": [
       "<style>\n",
       "    table.wandb td:nth-child(1) { padding: 0 10px; text-align: left ; width: auto;} td:nth-child(2) {text-align: left ; width: 100%}\n",
       "    .wandb-row { display: flex; flex-direction: row; flex-wrap: wrap; justify-content: flex-start; width: 100% }\n",
       "    .wandb-col { display: flex; flex-direction: column; flex-basis: 100%; flex: 1; padding: 10px; }\n",
       "    </style>\n",
       "<div class=\"wandb-row\"><div class=\"wandb-col\"><h3>Run history:</h3><br/><table class=\"wandb\"><tr><td>epoch</td><td>▁▁▁▂▂▂▂▂▂▃▃▃▃▃▃▄▄▄▄▄▅▅▅▅▅▅▆▆▆▆▆▆▇▇▇▇▇███</td></tr><tr><td>f1val</td><td>▁▃▅█▇▇█▇████████████████████████████████</td></tr><tr><td>loss</td><td>█▇▆▅▅▅▄▄▃▃▃▃▃▂▂▂▂▂▂▂▂▂▂▂▁▁▁▁▁▁▁▁▁▁▁▁▁▁▁▁</td></tr><tr><td>lr</td><td>██▇▆▆▆▅▅▄▄▄▄▃▃▃▃▃▂▂▂▂▂▂▂▂▂▁▁▁▁▁▁▁▁▁▁▁▁▁▁</td></tr><tr><td>val</td><td>▁▃▅▇▇▇█▇████████████████████████████████</td></tr></table><br/></div><div class=\"wandb-col\"><h3>Run summary:</h3><br/><table class=\"wandb\"><tr><td>epoch</td><td>69</td></tr><tr><td>f1val</td><td>0.7719</td></tr><tr><td>loss</td><td>2.18499</td></tr><tr><td>lr</td><td>1e-05</td></tr><tr><td>val</td><td>0.7931</td></tr></table><br/></div></div>"
      ],
      "text/plain": [
       "<IPython.core.display.HTML object>"
      ]
     },
     "metadata": {},
     "output_type": "display_data"
    },
    {
     "data": {
      "text/html": [
       " View run <strong style=\"color:#cdcd00\">rose-sweep-7</strong> at: <a href='https://wandb.ai/artzha/driver-intent-learning/runs/col8i9ha' target=\"_blank\">https://wandb.ai/artzha/driver-intent-learning/runs/col8i9ha</a><br/>Synced 6 W&B file(s), 0 media file(s), 0 artifact file(s) and 0 other file(s)"
      ],
      "text/plain": [
       "<IPython.core.display.HTML object>"
      ]
     },
     "metadata": {},
     "output_type": "display_data"
    },
    {
     "data": {
      "text/html": [
       "Find logs at: <code>./wandb/run-20230911_215822-col8i9ha/logs</code>"
      ],
      "text/plain": [
       "<IPython.core.display.HTML object>"
      ]
     },
     "metadata": {},
     "output_type": "display_data"
    },
    {
     "name": "stderr",
     "output_type": "stream",
     "text": [
      "\u001b[34m\u001b[1mwandb\u001b[0m: Sweep Agent: Waiting for job.\n",
      "\u001b[34m\u001b[1mwandb\u001b[0m: Job received.\n",
      "\u001b[34m\u001b[1mwandb\u001b[0m: Agent Starting Run: dvzzvug3 with config:\n",
      "\u001b[34m\u001b[1mwandb\u001b[0m: \tdmodel: 64\n",
      "\u001b[34m\u001b[1mwandb\u001b[0m: \tdropout: 0.24431535053185635\n",
      "\u001b[34m\u001b[1mwandb\u001b[0m: \tfchiddendim: 512\n",
      "\u001b[34m\u001b[1mwandb\u001b[0m: \tgamma: 0.99\n",
      "\u001b[34m\u001b[1mwandb\u001b[0m: \thiddendim: 128\n",
      "\u001b[34m\u001b[1mwandb\u001b[0m: \tlr: 0.0031390496694851384\n",
      "\u001b[34m\u001b[1mwandb\u001b[0m: \tmomentum: 0.9696202648137278\n",
      "\u001b[34m\u001b[1mwandb\u001b[0m: \tnumepochs: 70\n",
      "\u001b[34m\u001b[1mwandb\u001b[0m: \tnumheads: 16\n",
      "\u001b[34m\u001b[1mwandb\u001b[0m: \toptimizer: sgd\n",
      "\u001b[34m\u001b[1mwandb\u001b[0m: \tweight_decay: 0.005647131165505994\n",
      "Failed to detect the name of this notebook, you can set it manually with the WANDB_NOTEBOOK_NAME environment variable to enable code saving.\n"
     ]
    },
    {
     "data": {
      "text/html": [
       "wandb version 0.15.10 is available!  To upgrade, please run:\n",
       " $ pip install wandb --upgrade"
      ],
      "text/plain": [
       "<IPython.core.display.HTML object>"
      ]
     },
     "metadata": {},
     "output_type": "display_data"
    },
    {
     "data": {
      "text/html": [
       "Tracking run with wandb version 0.15.9"
      ],
      "text/plain": [
       "<IPython.core.display.HTML object>"
      ]
     },
     "metadata": {},
     "output_type": "display_data"
    },
    {
     "data": {
      "text/html": [
       "Run data is saved locally in <code>/home/arthur/AMRL/Research/Driver-Intent-Prediction/models/wandb/run-20230911_220003-dvzzvug3</code>"
      ],
      "text/plain": [
       "<IPython.core.display.HTML object>"
      ]
     },
     "metadata": {},
     "output_type": "display_data"
    },
    {
     "data": {
      "text/html": [
       "Syncing run <strong><a href='https://wandb.ai/artzha/driver-intent-learning/runs/dvzzvug3' target=\"_blank\">unique-sweep-8</a></strong> to <a href='https://wandb.ai/artzha/driver-intent-learning' target=\"_blank\">Weights & Biases</a> (<a href='https://wandb.me/run' target=\"_blank\">docs</a>)<br/>Sweep page: <a href='https://wandb.ai/artzha/driver-intent-learning/sweeps/s79wrgdi' target=\"_blank\">https://wandb.ai/artzha/driver-intent-learning/sweeps/s79wrgdi</a>"
      ],
      "text/plain": [
       "<IPython.core.display.HTML object>"
      ]
     },
     "metadata": {},
     "output_type": "display_data"
    },
    {
     "data": {
      "text/html": [
       " View project at <a href='https://wandb.ai/artzha/driver-intent-learning' target=\"_blank\">https://wandb.ai/artzha/driver-intent-learning</a>"
      ],
      "text/plain": [
       "<IPython.core.display.HTML object>"
      ]
     },
     "metadata": {},
     "output_type": "display_data"
    },
    {
     "data": {
      "text/html": [
       " View sweep at <a href='https://wandb.ai/artzha/driver-intent-learning/sweeps/s79wrgdi' target=\"_blank\">https://wandb.ai/artzha/driver-intent-learning/sweeps/s79wrgdi</a>"
      ],
      "text/plain": [
       "<IPython.core.display.HTML object>"
      ]
     },
     "metadata": {},
     "output_type": "display_data"
    },
    {
     "data": {
      "text/html": [
       " View run at <a href='https://wandb.ai/artzha/driver-intent-learning/runs/dvzzvug3' target=\"_blank\">https://wandb.ai/artzha/driver-intent-learning/runs/dvzzvug3</a>"
      ],
      "text/plain": [
       "<IPython.core.display.HTML object>"
      ]
     },
     "metadata": {},
     "output_type": "display_data"
    },
    {
     "name": "stdout",
     "output_type": "stream",
     "text": [
      "Created model save dir for model root /home/arthur/AMRL/Research/Driver-Intent-Prediction/outputs/transformer_64_16_128_0.24431535053185635_0.0031390496694851384_sgd_0.9696202648137278_0.005647131165505994_0.99\n",
      "Created model save dir for checkpoints /home/arthur/AMRL/Research/Driver-Intent-Prediction/outputs/transformer_64_16_128_0.24431535053185635_0.0031390496694851384_sgd_0.9696202648137278_0.005647131165505994_0.99/ckpts\n",
      "eval: 0.5689655172413793         f1score: 0.5854402673350042\n",
      "eval: 0.6379310344827587         f1score: 0.5678733031674208\n",
      "eval: 0.7241379310344828         f1score: 0.7221794871794872\n",
      "eval: 0.7586206896551724         f1score: 0.7522657952069718\n",
      "eval: 0.7758620689655172         f1score: 0.7677583854054443\n",
      "eval: 0.7068965517241379         f1score: 0.7138232037000847\n",
      "eval: 0.6724137931034483         f1score: 0.6146496640614287\n",
      "eval: 0.7413793103448276         f1score: 0.7252144708974733\n",
      "eval: 0.7931034482758621         f1score: 0.7508353435182703\n",
      "eval: 0.7931034482758621         f1score: 0.7974440374440375\n",
      "eval: 0.7068965517241379         f1score: 0.6883597883597883\n",
      "eval: 0.7241379310344828         f1score: 0.6807518796992481\n",
      "eval: 0.7758620689655172         f1score: 0.7471070148489503\n",
      "eval: 0.7931034482758621         f1score: 0.7757509157509157\n",
      "eval: 0.8275862068965517         f1score: 0.7947619047619047\n",
      "eval: 0.8103448275862069         f1score: 0.7877248677248676\n",
      "eval: 0.7931034482758621         f1score: 0.7747056195836682\n",
      "eval: 0.8275862068965517         f1score: 0.7946115288220551\n",
      "eval: 0.8103448275862069         f1score: 0.7802345903071857\n",
      "eval: 0.8275862068965517         f1score: 0.7844672258465362\n",
      "eval: 0.7586206896551724         f1score: 0.7452535612535612\n",
      "eval: 0.7931034482758621         f1score: 0.7599258435298479\n",
      "eval: 0.7931034482758621         f1score: 0.7720601237842617\n",
      "eval: 0.7931034482758621         f1score: 0.7651196957912022\n",
      "eval: 0.7758620689655172         f1score: 0.7600651496114291\n",
      "eval: 0.7931034482758621         f1score: 0.7724542124542124\n",
      "eval: 0.8275862068965517         f1score: 0.8007309165929856\n",
      "eval: 0.8275862068965517         f1score: 0.7947619047619047\n",
      "eval: 0.8103448275862069         f1score: 0.7721839080459769\n",
      "eval: 0.8103448275862069         f1score: 0.7772032130652821\n",
      "eval: 0.8275862068965517         f1score: 0.7939316924721896\n",
      "eval: 0.7931034482758621         f1score: 0.7599258435298479\n",
      "eval: 0.7758620689655172         f1score: 0.7463095238095236\n",
      "eval: 0.7931034482758621         f1score: 0.7647619047619048\n",
      "eval: 0.8103448275862069         f1score: 0.7882539682539682\n",
      "eval: 0.7758620689655172         f1score: 0.7565298142717498\n",
      "eval: 0.7758620689655172         f1score: 0.7709780314431478\n",
      "eval: 0.7413793103448276         f1score: 0.7050216450216451\n",
      "eval: 0.6724137931034483         f1score: 0.6551056786350904\n",
      "eval: 0.7586206896551724         f1score: 0.7453276353276354\n",
      "eval: 0.7758620689655172         f1score: 0.7550574712643678\n",
      "eval: 0.7586206896551724         f1score: 0.7495019157088122\n",
      "eval: 0.8103448275862069         f1score: 0.7865993265993265\n",
      "eval: 0.8103448275862069         f1score: 0.7767462422634837\n",
      "eval: 0.7758620689655172         f1score: 0.7562400111180599\n",
      "eval: 0.7758620689655172         f1score: 0.755319022063208\n",
      "eval: 0.7586206896551724         f1score: 0.7305137844611529\n",
      "eval: 0.7758620689655172         f1score: 0.742012617012617\n",
      "eval: 0.7586206896551724         f1score: 0.7347985347985347\n",
      "eval: 0.7586206896551724         f1score: 0.7347985347985347\n",
      "eval: 0.7758620689655172         f1score: 0.7462433862433862\n",
      "eval: 0.7931034482758621         f1score: 0.7593406593406593\n",
      "eval: 0.7931034482758621         f1score: 0.7593406593406593\n",
      "eval: 0.7931034482758621         f1score: 0.7593406593406593\n",
      "eval: 0.7931034482758621         f1score: 0.7593406593406593\n",
      "eval: 0.7931034482758621         f1score: 0.7593406593406593\n",
      "eval: 0.7931034482758621         f1score: 0.7593406593406593\n",
      "eval: 0.7931034482758621         f1score: 0.7593406593406593\n",
      "eval: 0.7931034482758621         f1score: 0.7593406593406593\n",
      "eval: 0.7931034482758621         f1score: 0.7647619047619048\n",
      "eval: 0.7931034482758621         f1score: 0.7647619047619048\n",
      "eval: 0.7931034482758621         f1score: 0.7647619047619048\n",
      "eval: 0.7931034482758621         f1score: 0.7593406593406593\n",
      "eval: 0.7931034482758621         f1score: 0.7593406593406593\n",
      "eval: 0.7931034482758621         f1score: 0.7593406593406593\n",
      "eval: 0.7931034482758621         f1score: 0.7593406593406593\n",
      "eval: 0.7931034482758621         f1score: 0.7593406593406593\n",
      "eval: 0.7931034482758621         f1score: 0.7593406593406593\n",
      "eval: 0.7931034482758621         f1score: 0.7593406593406593\n",
      "eval: 0.7931034482758621         f1score: 0.7593406593406593\n"
     ]
    },
    {
     "data": {
      "text/html": [
       "Waiting for W&B process to finish... <strong style=\"color:green\">(success).</strong>"
      ],
      "text/plain": [
       "<IPython.core.display.HTML object>"
      ]
     },
     "metadata": {},
     "output_type": "display_data"
    },
    {
     "name": "stderr",
     "output_type": "stream",
     "text": [
      "wandb: WARNING Source type is set to 'repo' but some required information is missing from the environment. A job will not be created from this run. See https://docs.wandb.ai/guides/launch/create-job\n"
     ]
    },
    {
     "data": {
      "application/vnd.jupyter.widget-view+json": {
       "model_id": "536c819541004faab5ccd228b97f6191",
       "version_major": 2,
       "version_minor": 0
      },
      "text/plain": [
       "VBox(children=(Label(value='0.003 MB of 0.003 MB uploaded (0.000 MB deduped)\\r'), FloatProgress(value=1.0, max…"
      ]
     },
     "metadata": {},
     "output_type": "display_data"
    },
    {
     "data": {
      "text/html": [
       "<style>\n",
       "    table.wandb td:nth-child(1) { padding: 0 10px; text-align: left ; width: auto;} td:nth-child(2) {text-align: left ; width: 100%}\n",
       "    .wandb-row { display: flex; flex-direction: row; flex-wrap: wrap; justify-content: flex-start; width: 100% }\n",
       "    .wandb-col { display: flex; flex-direction: column; flex-basis: 100%; flex: 1; padding: 10px; }\n",
       "    </style>\n",
       "<div class=\"wandb-row\"><div class=\"wandb-col\"><h3>Run history:</h3><br/><table class=\"wandb\"><tr><td>epoch</td><td>▁▁▁▂▂▂▂▂▂▃▃▃▃▃▃▄▄▄▄▄▅▅▅▅▅▅▆▆▆▆▆▆▇▇▇▇▇███</td></tr><tr><td>f1val</td><td>▂▁▇▅▆▇▅▆████▇▇▇█▇█▇▇▇▅▄▇█▇▆▆▆▇▇▇▇▇▇▇▇▇▇▇</td></tr><tr><td>loss</td><td>█▇▅▄▄▄▃▃▂▂▂▂▂▂▂▂▂▁▁▁▁▁▁▁▁▁▁▁▁▁▁▁▁▁▁▁▁▁▁▁</td></tr><tr><td>lr</td><td>███▇▇▇▇▆▆▆▆▆▅▅▅▅▅▄▄▄▄▄▄▃▃▃▃▃▃▂▂▂▂▂▂▂▁▁▁▁</td></tr><tr><td>val</td><td>▁▃▆▅▆▇▅▇████▇▇▇███▇▇▇▆▄▇█▇▆▇▆▇▇▇▇▇▇▇▇▇▇▇</td></tr></table><br/></div><div class=\"wandb-col\"><h3>Run summary:</h3><br/><table class=\"wandb\"><tr><td>epoch</td><td>69</td></tr><tr><td>f1val</td><td>0.75934</td></tr><tr><td>loss</td><td>0.926</td></tr><tr><td>lr</td><td>0.00155</td></tr><tr><td>val</td><td>0.7931</td></tr></table><br/></div></div>"
      ],
      "text/plain": [
       "<IPython.core.display.HTML object>"
      ]
     },
     "metadata": {},
     "output_type": "display_data"
    },
    {
     "data": {
      "text/html": [
       " View run <strong style=\"color:#cdcd00\">unique-sweep-8</strong> at: <a href='https://wandb.ai/artzha/driver-intent-learning/runs/dvzzvug3' target=\"_blank\">https://wandb.ai/artzha/driver-intent-learning/runs/dvzzvug3</a><br/>Synced 6 W&B file(s), 0 media file(s), 0 artifact file(s) and 0 other file(s)"
      ],
      "text/plain": [
       "<IPython.core.display.HTML object>"
      ]
     },
     "metadata": {},
     "output_type": "display_data"
    },
    {
     "data": {
      "text/html": [
       "Find logs at: <code>./wandb/run-20230911_220003-dvzzvug3/logs</code>"
      ],
      "text/plain": [
       "<IPython.core.display.HTML object>"
      ]
     },
     "metadata": {},
     "output_type": "display_data"
    },
    {
     "name": "stderr",
     "output_type": "stream",
     "text": [
      "\u001b[34m\u001b[1mwandb\u001b[0m: Sweep Agent: Waiting for job.\n",
      "\u001b[34m\u001b[1mwandb\u001b[0m: Job received.\n",
      "\u001b[34m\u001b[1mwandb\u001b[0m: Agent Starting Run: gfpil3a3 with config:\n",
      "\u001b[34m\u001b[1mwandb\u001b[0m: \tdmodel: 64\n",
      "\u001b[34m\u001b[1mwandb\u001b[0m: \tdropout: 0.24099530568313784\n",
      "\u001b[34m\u001b[1mwandb\u001b[0m: \tfchiddendim: 256\n",
      "\u001b[34m\u001b[1mwandb\u001b[0m: \tgamma: 0.99\n",
      "\u001b[34m\u001b[1mwandb\u001b[0m: \thiddendim: 128\n",
      "\u001b[34m\u001b[1mwandb\u001b[0m: \tlr: 0.004127175369948985\n",
      "\u001b[34m\u001b[1mwandb\u001b[0m: \tmomentum: 0.9886239927542342\n",
      "\u001b[34m\u001b[1mwandb\u001b[0m: \tnumepochs: 70\n",
      "\u001b[34m\u001b[1mwandb\u001b[0m: \tnumheads: 16\n",
      "\u001b[34m\u001b[1mwandb\u001b[0m: \toptimizer: sgd\n",
      "\u001b[34m\u001b[1mwandb\u001b[0m: \tweight_decay: 0.004524420210936625\n",
      "Failed to detect the name of this notebook, you can set it manually with the WANDB_NOTEBOOK_NAME environment variable to enable code saving.\n"
     ]
    },
    {
     "data": {
      "text/html": [
       "wandb version 0.15.10 is available!  To upgrade, please run:\n",
       " $ pip install wandb --upgrade"
      ],
      "text/plain": [
       "<IPython.core.display.HTML object>"
      ]
     },
     "metadata": {},
     "output_type": "display_data"
    },
    {
     "data": {
      "text/html": [
       "Tracking run with wandb version 0.15.9"
      ],
      "text/plain": [
       "<IPython.core.display.HTML object>"
      ]
     },
     "metadata": {},
     "output_type": "display_data"
    },
    {
     "data": {
      "text/html": [
       "Run data is saved locally in <code>/home/arthur/AMRL/Research/Driver-Intent-Prediction/models/wandb/run-20230911_220210-gfpil3a3</code>"
      ],
      "text/plain": [
       "<IPython.core.display.HTML object>"
      ]
     },
     "metadata": {},
     "output_type": "display_data"
    },
    {
     "data": {
      "text/html": [
       "Syncing run <strong><a href='https://wandb.ai/artzha/driver-intent-learning/runs/gfpil3a3' target=\"_blank\">woven-sweep-9</a></strong> to <a href='https://wandb.ai/artzha/driver-intent-learning' target=\"_blank\">Weights & Biases</a> (<a href='https://wandb.me/run' target=\"_blank\">docs</a>)<br/>Sweep page: <a href='https://wandb.ai/artzha/driver-intent-learning/sweeps/s79wrgdi' target=\"_blank\">https://wandb.ai/artzha/driver-intent-learning/sweeps/s79wrgdi</a>"
      ],
      "text/plain": [
       "<IPython.core.display.HTML object>"
      ]
     },
     "metadata": {},
     "output_type": "display_data"
    },
    {
     "data": {
      "text/html": [
       " View project at <a href='https://wandb.ai/artzha/driver-intent-learning' target=\"_blank\">https://wandb.ai/artzha/driver-intent-learning</a>"
      ],
      "text/plain": [
       "<IPython.core.display.HTML object>"
      ]
     },
     "metadata": {},
     "output_type": "display_data"
    },
    {
     "data": {
      "text/html": [
       " View sweep at <a href='https://wandb.ai/artzha/driver-intent-learning/sweeps/s79wrgdi' target=\"_blank\">https://wandb.ai/artzha/driver-intent-learning/sweeps/s79wrgdi</a>"
      ],
      "text/plain": [
       "<IPython.core.display.HTML object>"
      ]
     },
     "metadata": {},
     "output_type": "display_data"
    },
    {
     "data": {
      "text/html": [
       " View run at <a href='https://wandb.ai/artzha/driver-intent-learning/runs/gfpil3a3' target=\"_blank\">https://wandb.ai/artzha/driver-intent-learning/runs/gfpil3a3</a>"
      ],
      "text/plain": [
       "<IPython.core.display.HTML object>"
      ]
     },
     "metadata": {},
     "output_type": "display_data"
    },
    {
     "name": "stdout",
     "output_type": "stream",
     "text": [
      "Created model save dir for model root /home/arthur/AMRL/Research/Driver-Intent-Prediction/outputs/transformer_64_16_128_0.24099530568313784_0.004127175369948985_sgd_0.9886239927542342_0.004524420210936625_0.99\n",
      "Created model save dir for checkpoints /home/arthur/AMRL/Research/Driver-Intent-Prediction/outputs/transformer_64_16_128_0.24099530568313784_0.004127175369948985_sgd_0.9886239927542342_0.004524420210936625_0.99/ckpts\n",
      "eval: 0.5         f1score: 0.4082708821233411\n",
      "eval: 0.6206896551724138         f1score: 0.525462962962963\n",
      "eval: 0.7586206896551724         f1score: 0.7142745513208308\n",
      "eval: 0.7758620689655172         f1score: 0.74993837535014\n",
      "eval: 0.6896551724137931         f1score: 0.6628099979678928\n",
      "eval: 0.6724137931034483         f1score: 0.6698490648528013\n",
      "eval: 0.7931034482758621         f1score: 0.7703947368421052\n",
      "eval: 0.7586206896551724         f1score: 0.7410315430520035\n",
      "eval: 0.7068965517241379         f1score: 0.7024178628389155\n",
      "eval: 0.6551724137931034         f1score: 0.6832496463145178\n",
      "eval: 0.7413793103448276         f1score: 0.7046706805327496\n",
      "eval: 0.7241379310344828         f1score: 0.7567608861726509\n",
      "eval: 0.7068965517241379         f1score: 0.7249373433583959\n",
      "eval: 0.7068965517241379         f1score: 0.6932971014492753\n",
      "eval: 0.7413793103448276         f1score: 0.7262869922504811\n",
      "eval: 0.7586206896551724         f1score: 0.7367507002801121\n",
      "eval: 0.7586206896551724         f1score: 0.740899964104635\n",
      "eval: 0.7241379310344828         f1score: 0.7059983457402812\n",
      "eval: 0.7586206896551724         f1score: 0.7737712096332786\n",
      "eval: 0.6379310344827587         f1score: 0.6225876010781672\n",
      "eval: 0.8448275862068966         f1score: 0.8026691445809092\n",
      "eval: 0.6206896551724138         f1score: 0.619304237824162\n",
      "eval: 0.7931034482758621         f1score: 0.7958738036157391\n",
      "eval: 0.6896551724137931         f1score: 0.6617489177489178\n",
      "eval: 0.6896551724137931         f1score: 0.6547330189190654\n",
      "eval: 0.6896551724137931         f1score: 0.6324637681159421\n",
      "eval: 0.6379310344827587         f1score: 0.5296703296703296\n",
      "eval: 0.6551724137931034         f1score: 0.6447015703594651\n",
      "eval: 0.6379310344827587         f1score: 0.6119521761318072\n",
      "eval: 0.603448275862069         f1score: 0.49914778993039866\n",
      "eval: 0.6551724137931034         f1score: 0.6400310929380697\n",
      "eval: 0.7241379310344828         f1score: 0.7212523616734143\n",
      "eval: 0.6724137931034483         f1score: 0.6836710875331565\n",
      "eval: 0.6724137931034483         f1score: 0.6555336617405583\n",
      "eval: 0.7413793103448276         f1score: 0.7050216450216451\n",
      "eval: 0.7068965517241379         f1score: 0.6840788840788842\n",
      "eval: 0.7068965517241379         f1score: 0.7081375773236239\n",
      "eval: 0.7241379310344828         f1score: 0.6709853574504738\n",
      "eval: 0.7068965517241379         f1score: 0.6761294261294262\n",
      "eval: 0.6724137931034483         f1score: 0.626170542635659\n",
      "eval: 0.7413793103448276         f1score: 0.7069629629629629\n",
      "eval: 0.7931034482758621         f1score: 0.7772727272727272\n",
      "eval: 0.7586206896551724         f1score: 0.7438062015503876\n",
      "eval: 0.7586206896551724         f1score: 0.7407971014492754\n",
      "eval: 0.7586206896551724         f1score: 0.7442294291074779\n",
      "eval: 0.7586206896551724         f1score: 0.7479902705989663\n",
      "eval: 0.7586206896551724         f1score: 0.7479902705989663\n",
      "eval: 0.6896551724137931         f1score: 0.6597557180053594\n",
      "eval: 0.7586206896551724         f1score: 0.7130516542281248\n",
      "eval: 0.7758620689655172         f1score: 0.7563894639981597\n",
      "eval: 0.7413793103448276         f1score: 0.7321428571428571\n",
      "eval: 0.7241379310344828         f1score: 0.7153809523809523\n",
      "eval: 0.7413793103448276         f1score: 0.758265780730897\n",
      "eval: 0.7586206896551724         f1score: 0.7812486772486772\n",
      "eval: 0.7758620689655172         f1score: 0.7865389279650741\n",
      "eval: 0.7758620689655172         f1score: 0.7848815274902232\n",
      "eval: 0.7586206896551724         f1score: 0.7692429792429792\n",
      "eval: 0.7241379310344828         f1score: 0.744969474969475\n",
      "eval: 0.7413793103448276         f1score: 0.7353276353276353\n",
      "eval: 0.7586206896551724         f1score: 0.7482905982905983\n",
      "eval: 0.7413793103448276         f1score: 0.7353276353276353\n",
      "eval: 0.7413793103448276         f1score: 0.7318787878787879\n",
      "eval: 0.7413793103448276         f1score: 0.7318787878787879\n",
      "eval: 0.7413793103448276         f1score: 0.7318787878787879\n",
      "eval: 0.7241379310344828         f1score: 0.7201705426356589\n",
      "eval: 0.7413793103448276         f1score: 0.7335604395604395\n",
      "eval: 0.7413793103448276         f1score: 0.7039067306509168\n",
      "eval: 0.7241379310344828         f1score: 0.6928571428571428\n",
      "eval: 0.6724137931034483         f1score: 0.657344953896678\n",
      "eval: 0.6724137931034483         f1score: 0.657344953896678\n"
     ]
    },
    {
     "data": {
      "text/html": [
       "Waiting for W&B process to finish... <strong style=\"color:green\">(success).</strong>"
      ],
      "text/plain": [
       "<IPython.core.display.HTML object>"
      ]
     },
     "metadata": {},
     "output_type": "display_data"
    },
    {
     "name": "stderr",
     "output_type": "stream",
     "text": [
      "wandb: WARNING Source type is set to 'repo' but some required information is missing from the environment. A job will not be created from this run. See https://docs.wandb.ai/guides/launch/create-job\n"
     ]
    },
    {
     "data": {
      "application/vnd.jupyter.widget-view+json": {
       "model_id": "cb0375a0900342a2b91613f52a16b5c0",
       "version_major": 2,
       "version_minor": 0
      },
      "text/plain": [
       "VBox(children=(Label(value='0.003 MB of 0.003 MB uploaded (0.000 MB deduped)\\r'), FloatProgress(value=1.0, max…"
      ]
     },
     "metadata": {},
     "output_type": "display_data"
    },
    {
     "data": {
      "text/html": [
       "<style>\n",
       "    table.wandb td:nth-child(1) { padding: 0 10px; text-align: left ; width: auto;} td:nth-child(2) {text-align: left ; width: 100%}\n",
       "    .wandb-row { display: flex; flex-direction: row; flex-wrap: wrap; justify-content: flex-start; width: 100% }\n",
       "    .wandb-col { display: flex; flex-direction: column; flex-basis: 100%; flex: 1; padding: 10px; }\n",
       "    </style>\n",
       "<div class=\"wandb-row\"><div class=\"wandb-col\"><h3>Run history:</h3><br/><table class=\"wandb\"><tr><td>epoch</td><td>▁▁▁▂▂▂▂▂▂▃▃▃▃▃▃▄▄▄▄▄▅▅▅▅▅▅▆▆▆▆▆▆▇▇▇▇▇███</td></tr><tr><td>f1val</td><td>▁▃▇▆▇▆▆▇▇▇▇▅▅▆▆▃▅▅▇▆▆▆▆▇▇▇▇▆▇▇███▇▇▇▇▇▆▆</td></tr><tr><td>loss</td><td>█▇▅▅▄▄▄▃▃▃▃▃▃▃▃▂▂▂▂▂▂▂▂▂▂▂▂▂▁▁▁▁▁▁▁▁▁▁▁▁</td></tr><tr><td>lr</td><td>███▇▇▇▇▆▆▆▆▆▅▅▅▅▅▄▄▄▄▄▄▃▃▃▃▃▃▂▂▂▂▂▂▂▁▁▁▁</td></tr><tr><td>val</td><td>▁▄█▅█▆▇▆▇█▇▅▄▆▆▅▅▅▇▅▆▇▆▇███▆█▇███▇▇▇▇▇▇▅</td></tr></table><br/></div><div class=\"wandb-col\"><h3>Run summary:</h3><br/><table class=\"wandb\"><tr><td>epoch</td><td>69</td></tr><tr><td>f1val</td><td>0.65734</td></tr><tr><td>loss</td><td>2.10418</td></tr><tr><td>lr</td><td>0.00204</td></tr><tr><td>val</td><td>0.67241</td></tr></table><br/></div></div>"
      ],
      "text/plain": [
       "<IPython.core.display.HTML object>"
      ]
     },
     "metadata": {},
     "output_type": "display_data"
    },
    {
     "data": {
      "text/html": [
       " View run <strong style=\"color:#cdcd00\">woven-sweep-9</strong> at: <a href='https://wandb.ai/artzha/driver-intent-learning/runs/gfpil3a3' target=\"_blank\">https://wandb.ai/artzha/driver-intent-learning/runs/gfpil3a3</a><br/>Synced 6 W&B file(s), 0 media file(s), 0 artifact file(s) and 0 other file(s)"
      ],
      "text/plain": [
       "<IPython.core.display.HTML object>"
      ]
     },
     "metadata": {},
     "output_type": "display_data"
    },
    {
     "data": {
      "text/html": [
       "Find logs at: <code>./wandb/run-20230911_220210-gfpil3a3/logs</code>"
      ],
      "text/plain": [
       "<IPython.core.display.HTML object>"
      ]
     },
     "metadata": {},
     "output_type": "display_data"
    },
    {
     "name": "stderr",
     "output_type": "stream",
     "text": [
      "\u001b[34m\u001b[1mwandb\u001b[0m: Agent Starting Run: 8u8h8e2o with config:\n",
      "\u001b[34m\u001b[1mwandb\u001b[0m: \tdmodel: 64\n",
      "\u001b[34m\u001b[1mwandb\u001b[0m: \tdropout: 0.2150468999124623\n",
      "\u001b[34m\u001b[1mwandb\u001b[0m: \tfchiddendim: 256\n",
      "\u001b[34m\u001b[1mwandb\u001b[0m: \tgamma: 0.95\n",
      "\u001b[34m\u001b[1mwandb\u001b[0m: \thiddendim: 128\n",
      "\u001b[34m\u001b[1mwandb\u001b[0m: \tlr: 0.0013443924939954884\n",
      "\u001b[34m\u001b[1mwandb\u001b[0m: \tmomentum: 0.9678371962615786\n",
      "\u001b[34m\u001b[1mwandb\u001b[0m: \tnumepochs: 70\n",
      "\u001b[34m\u001b[1mwandb\u001b[0m: \tnumheads: 8\n",
      "\u001b[34m\u001b[1mwandb\u001b[0m: \toptimizer: sgd\n",
      "\u001b[34m\u001b[1mwandb\u001b[0m: \tweight_decay: 0.009312604341818886\n",
      "Failed to detect the name of this notebook, you can set it manually with the WANDB_NOTEBOOK_NAME environment variable to enable code saving.\n"
     ]
    },
    {
     "data": {
      "text/html": [
       "wandb version 0.15.10 is available!  To upgrade, please run:\n",
       " $ pip install wandb --upgrade"
      ],
      "text/plain": [
       "<IPython.core.display.HTML object>"
      ]
     },
     "metadata": {},
     "output_type": "display_data"
    },
    {
     "data": {
      "text/html": [
       "Tracking run with wandb version 0.15.9"
      ],
      "text/plain": [
       "<IPython.core.display.HTML object>"
      ]
     },
     "metadata": {},
     "output_type": "display_data"
    },
    {
     "data": {
      "text/html": [
       "Run data is saved locally in <code>/home/arthur/AMRL/Research/Driver-Intent-Prediction/models/wandb/run-20230911_220404-8u8h8e2o</code>"
      ],
      "text/plain": [
       "<IPython.core.display.HTML object>"
      ]
     },
     "metadata": {},
     "output_type": "display_data"
    },
    {
     "data": {
      "text/html": [
       "Syncing run <strong><a href='https://wandb.ai/artzha/driver-intent-learning/runs/8u8h8e2o' target=\"_blank\">fanciful-sweep-10</a></strong> to <a href='https://wandb.ai/artzha/driver-intent-learning' target=\"_blank\">Weights & Biases</a> (<a href='https://wandb.me/run' target=\"_blank\">docs</a>)<br/>Sweep page: <a href='https://wandb.ai/artzha/driver-intent-learning/sweeps/s79wrgdi' target=\"_blank\">https://wandb.ai/artzha/driver-intent-learning/sweeps/s79wrgdi</a>"
      ],
      "text/plain": [
       "<IPython.core.display.HTML object>"
      ]
     },
     "metadata": {},
     "output_type": "display_data"
    },
    {
     "data": {
      "text/html": [
       " View project at <a href='https://wandb.ai/artzha/driver-intent-learning' target=\"_blank\">https://wandb.ai/artzha/driver-intent-learning</a>"
      ],
      "text/plain": [
       "<IPython.core.display.HTML object>"
      ]
     },
     "metadata": {},
     "output_type": "display_data"
    },
    {
     "data": {
      "text/html": [
       " View sweep at <a href='https://wandb.ai/artzha/driver-intent-learning/sweeps/s79wrgdi' target=\"_blank\">https://wandb.ai/artzha/driver-intent-learning/sweeps/s79wrgdi</a>"
      ],
      "text/plain": [
       "<IPython.core.display.HTML object>"
      ]
     },
     "metadata": {},
     "output_type": "display_data"
    },
    {
     "data": {
      "text/html": [
       " View run at <a href='https://wandb.ai/artzha/driver-intent-learning/runs/8u8h8e2o' target=\"_blank\">https://wandb.ai/artzha/driver-intent-learning/runs/8u8h8e2o</a>"
      ],
      "text/plain": [
       "<IPython.core.display.HTML object>"
      ]
     },
     "metadata": {},
     "output_type": "display_data"
    },
    {
     "name": "stdout",
     "output_type": "stream",
     "text": [
      "Created model save dir for model root /home/arthur/AMRL/Research/Driver-Intent-Prediction/outputs/transformer_64_8_128_0.2150468999124623_0.0013443924939954884_sgd_0.9678371962615786_0.009312604341818886_0.95\n",
      "Created model save dir for checkpoints /home/arthur/AMRL/Research/Driver-Intent-Prediction/outputs/transformer_64_8_128_0.2150468999124623_0.0013443924939954884_sgd_0.9678371962615786_0.009312604341818886_0.95/ckpts\n",
      "eval: 0.41379310344827586         f1score: 0.25088278758652877\n",
      "eval: 0.6206896551724138         f1score: 0.5928755340520047\n",
      "eval: 0.7241379310344828         f1score: 0.6701194733995407\n",
      "eval: 0.7931034482758621         f1score: 0.7532561132561133\n",
      "eval: 0.7931034482758621         f1score: 0.7538461538461539\n",
      "eval: 0.7931034482758621         f1score: 0.7518908677529368\n",
      "eval: 0.7586206896551724         f1score: 0.7226600985221676\n",
      "eval: 0.8275862068965517         f1score: 0.8077922077922078\n",
      "eval: 0.7931034482758621         f1score: 0.7826600985221674\n",
      "eval: 0.7931034482758621         f1score: 0.7756596915217604\n",
      "eval: 0.7586206896551724         f1score: 0.7114066528327988\n",
      "eval: 0.7413793103448276         f1score: 0.6948770953422116\n",
      "eval: 0.7758620689655172         f1score: 0.7341534391534392\n",
      "eval: 0.7586206896551724         f1score: 0.722962962962963\n",
      "eval: 0.7586206896551724         f1score: 0.7214554508672155\n",
      "eval: 0.7758620689655172         f1score: 0.7347985347985347\n",
      "eval: 0.7758620689655172         f1score: 0.7352666952666953\n",
      "eval: 0.7758620689655172         f1score: 0.738730946472882\n",
      "eval: 0.7758620689655172         f1score: 0.7391991069410425\n",
      "eval: 0.7758620689655172         f1score: 0.7391991069410425\n",
      "eval: 0.7758620689655172         f1score: 0.738730946472882\n",
      "eval: 0.7758620689655172         f1score: 0.7352666952666953\n",
      "eval: 0.7758620689655172         f1score: 0.7352666952666953\n",
      "eval: 0.7758620689655172         f1score: 0.7347985347985347\n",
      "eval: 0.7931034482758621         f1score: 0.7532561132561133\n",
      "eval: 0.7931034482758621         f1score: 0.7532561132561133\n",
      "eval: 0.7931034482758621         f1score: 0.7480778870252555\n",
      "eval: 0.7931034482758621         f1score: 0.7532561132561133\n",
      "eval: 0.7931034482758621         f1score: 0.7532561132561133\n",
      "eval: 0.7758620689655172         f1score: 0.7352666952666953\n",
      "eval: 0.7931034482758621         f1score: 0.7532561132561133\n",
      "eval: 0.7758620689655172         f1score: 0.7352666952666953\n",
      "eval: 0.7758620689655172         f1score: 0.7352666952666953\n",
      "eval: 0.7758620689655172         f1score: 0.7352666952666953\n",
      "eval: 0.7931034482758621         f1score: 0.7532561132561133\n",
      "eval: 0.7931034482758621         f1score: 0.7532561132561133\n",
      "eval: 0.7931034482758621         f1score: 0.7532561132561133\n",
      "eval: 0.7931034482758621         f1score: 0.7532561132561133\n",
      "eval: 0.7931034482758621         f1score: 0.7532561132561133\n",
      "eval: 0.7931034482758621         f1score: 0.7532561132561133\n",
      "eval: 0.7931034482758621         f1score: 0.7532561132561133\n",
      "eval: 0.7931034482758621         f1score: 0.7532561132561133\n",
      "eval: 0.7931034482758621         f1score: 0.7532561132561133\n",
      "eval: 0.7931034482758621         f1score: 0.7532561132561133\n",
      "eval: 0.7931034482758621         f1score: 0.7532561132561133\n",
      "eval: 0.7931034482758621         f1score: 0.7532561132561133\n",
      "eval: 0.7931034482758621         f1score: 0.7532561132561133\n",
      "eval: 0.7931034482758621         f1score: 0.7532561132561133\n",
      "eval: 0.7931034482758621         f1score: 0.7532561132561133\n",
      "eval: 0.7931034482758621         f1score: 0.7532561132561133\n",
      "eval: 0.7931034482758621         f1score: 0.7532561132561133\n",
      "eval: 0.7931034482758621         f1score: 0.7532561132561133\n",
      "eval: 0.7931034482758621         f1score: 0.7532561132561133\n",
      "eval: 0.7931034482758621         f1score: 0.7532561132561133\n",
      "eval: 0.7931034482758621         f1score: 0.7532561132561133\n",
      "eval: 0.7931034482758621         f1score: 0.7532561132561133\n",
      "eval: 0.7931034482758621         f1score: 0.7532561132561133\n",
      "eval: 0.7931034482758621         f1score: 0.7532561132561133\n",
      "eval: 0.7931034482758621         f1score: 0.7532561132561133\n",
      "eval: 0.7931034482758621         f1score: 0.7532561132561133\n",
      "eval: 0.7931034482758621         f1score: 0.7532561132561133\n",
      "eval: 0.7931034482758621         f1score: 0.7532561132561133\n",
      "eval: 0.7931034482758621         f1score: 0.7532561132561133\n",
      "eval: 0.7931034482758621         f1score: 0.7532561132561133\n",
      "eval: 0.7931034482758621         f1score: 0.7532561132561133\n",
      "eval: 0.7931034482758621         f1score: 0.7532561132561133\n",
      "eval: 0.7931034482758621         f1score: 0.7532561132561133\n",
      "eval: 0.7931034482758621         f1score: 0.7532561132561133\n",
      "eval: 0.7931034482758621         f1score: 0.7532561132561133\n",
      "eval: 0.7931034482758621         f1score: 0.7532561132561133\n"
     ]
    },
    {
     "data": {
      "text/html": [
       "Waiting for W&B process to finish... <strong style=\"color:green\">(success).</strong>"
      ],
      "text/plain": [
       "<IPython.core.display.HTML object>"
      ]
     },
     "metadata": {},
     "output_type": "display_data"
    },
    {
     "name": "stderr",
     "output_type": "stream",
     "text": [
      "wandb: WARNING Source type is set to 'repo' but some required information is missing from the environment. A job will not be created from this run. See https://docs.wandb.ai/guides/launch/create-job\n"
     ]
    },
    {
     "data": {
      "application/vnd.jupyter.widget-view+json": {
       "model_id": "f7541300e03a487f978d2f39417a1625",
       "version_major": 2,
       "version_minor": 0
      },
      "text/plain": [
       "VBox(children=(Label(value='0.003 MB of 0.003 MB uploaded (0.000 MB deduped)\\r'), FloatProgress(value=1.0, max…"
      ]
     },
     "metadata": {},
     "output_type": "display_data"
    },
    {
     "data": {
      "text/html": [
       "<style>\n",
       "    table.wandb td:nth-child(1) { padding: 0 10px; text-align: left ; width: auto;} td:nth-child(2) {text-align: left ; width: 100%}\n",
       "    .wandb-row { display: flex; flex-direction: row; flex-wrap: wrap; justify-content: flex-start; width: 100% }\n",
       "    .wandb-col { display: flex; flex-direction: column; flex-basis: 100%; flex: 1; padding: 10px; }\n",
       "    </style>\n",
       "<div class=\"wandb-row\"><div class=\"wandb-col\"><h3>Run history:</h3><br/><table class=\"wandb\"><tr><td>epoch</td><td>▁▁▁▂▂▂▂▂▂▃▃▃▃▃▃▄▄▄▄▄▅▅▅▅▅▅▆▆▆▆▆▆▇▇▇▇▇███</td></tr><tr><td>f1val</td><td>▁▅▇▇██▇▇▇▇▇▇▇▇▇▇▇▇▇▇▇▇▇▇▇▇▇▇▇▇▇▇▇▇▇▇▇▇▇▇</td></tr><tr><td>loss</td><td>█▇▅▄▄▄▃▃▃▃▂▂▂▂▂▂▂▂▂▂▁▁▁▁▁▁▁▁▁▁▁▁▁▁▁▁▁▁▁▁</td></tr><tr><td>lr</td><td>██▇▆▆▆▅▅▄▄▄▄▃▃▃▃▃▂▂▂▂▂▂▂▂▂▁▁▁▁▁▁▁▁▁▁▁▁▁▁</td></tr><tr><td>val</td><td>▁▄▇▇█▇▇▇▇▇▇▇▇▇▇▇▇▇▇▇▇▇▇▇▇▇▇▇▇▇▇▇▇▇▇▇▇▇▇▇</td></tr></table><br/></div><div class=\"wandb-col\"><h3>Run summary:</h3><br/><table class=\"wandb\"><tr><td>epoch</td><td>69</td></tr><tr><td>f1val</td><td>0.75326</td></tr><tr><td>loss</td><td>1.18054</td></tr><tr><td>lr</td><td>4e-05</td></tr><tr><td>val</td><td>0.7931</td></tr></table><br/></div></div>"
      ],
      "text/plain": [
       "<IPython.core.display.HTML object>"
      ]
     },
     "metadata": {},
     "output_type": "display_data"
    },
    {
     "data": {
      "text/html": [
       " View run <strong style=\"color:#cdcd00\">fanciful-sweep-10</strong> at: <a href='https://wandb.ai/artzha/driver-intent-learning/runs/8u8h8e2o' target=\"_blank\">https://wandb.ai/artzha/driver-intent-learning/runs/8u8h8e2o</a><br/>Synced 6 W&B file(s), 0 media file(s), 0 artifact file(s) and 0 other file(s)"
      ],
      "text/plain": [
       "<IPython.core.display.HTML object>"
      ]
     },
     "metadata": {},
     "output_type": "display_data"
    },
    {
     "data": {
      "text/html": [
       "Find logs at: <code>./wandb/run-20230911_220404-8u8h8e2o/logs</code>"
      ],
      "text/plain": [
       "<IPython.core.display.HTML object>"
      ]
     },
     "metadata": {},
     "output_type": "display_data"
    },
    {
     "name": "stderr",
     "output_type": "stream",
     "text": [
      "\u001b[34m\u001b[1mwandb\u001b[0m: Agent Starting Run: ux7alww7 with config:\n",
      "\u001b[34m\u001b[1mwandb\u001b[0m: \tdmodel: 64\n",
      "\u001b[34m\u001b[1mwandb\u001b[0m: \tdropout: 0.21923201575788623\n",
      "\u001b[34m\u001b[1mwandb\u001b[0m: \tfchiddendim: 512\n",
      "\u001b[34m\u001b[1mwandb\u001b[0m: \tgamma: 0.99\n",
      "\u001b[34m\u001b[1mwandb\u001b[0m: \thiddendim: 128\n",
      "\u001b[34m\u001b[1mwandb\u001b[0m: \tlr: 0.008996816005940865\n",
      "\u001b[34m\u001b[1mwandb\u001b[0m: \tmomentum: 0.9302413941467976\n",
      "\u001b[34m\u001b[1mwandb\u001b[0m: \tnumepochs: 70\n",
      "\u001b[34m\u001b[1mwandb\u001b[0m: \tnumheads: 16\n",
      "\u001b[34m\u001b[1mwandb\u001b[0m: \toptimizer: sgd\n",
      "\u001b[34m\u001b[1mwandb\u001b[0m: \tweight_decay: 0.007418126155318398\n",
      "Failed to detect the name of this notebook, you can set it manually with the WANDB_NOTEBOOK_NAME environment variable to enable code saving.\n"
     ]
    },
    {
     "data": {
      "text/html": [
       "wandb version 0.15.10 is available!  To upgrade, please run:\n",
       " $ pip install wandb --upgrade"
      ],
      "text/plain": [
       "<IPython.core.display.HTML object>"
      ]
     },
     "metadata": {},
     "output_type": "display_data"
    },
    {
     "data": {
      "text/html": [
       "Tracking run with wandb version 0.15.9"
      ],
      "text/plain": [
       "<IPython.core.display.HTML object>"
      ]
     },
     "metadata": {},
     "output_type": "display_data"
    },
    {
     "data": {
      "text/html": [
       "Run data is saved locally in <code>/home/arthur/AMRL/Research/Driver-Intent-Prediction/models/wandb/run-20230911_220527-ux7alww7</code>"
      ],
      "text/plain": [
       "<IPython.core.display.HTML object>"
      ]
     },
     "metadata": {},
     "output_type": "display_data"
    },
    {
     "data": {
      "text/html": [
       "Syncing run <strong><a href='https://wandb.ai/artzha/driver-intent-learning/runs/ux7alww7' target=\"_blank\">divine-sweep-11</a></strong> to <a href='https://wandb.ai/artzha/driver-intent-learning' target=\"_blank\">Weights & Biases</a> (<a href='https://wandb.me/run' target=\"_blank\">docs</a>)<br/>Sweep page: <a href='https://wandb.ai/artzha/driver-intent-learning/sweeps/s79wrgdi' target=\"_blank\">https://wandb.ai/artzha/driver-intent-learning/sweeps/s79wrgdi</a>"
      ],
      "text/plain": [
       "<IPython.core.display.HTML object>"
      ]
     },
     "metadata": {},
     "output_type": "display_data"
    },
    {
     "data": {
      "text/html": [
       " View project at <a href='https://wandb.ai/artzha/driver-intent-learning' target=\"_blank\">https://wandb.ai/artzha/driver-intent-learning</a>"
      ],
      "text/plain": [
       "<IPython.core.display.HTML object>"
      ]
     },
     "metadata": {},
     "output_type": "display_data"
    },
    {
     "data": {
      "text/html": [
       " View sweep at <a href='https://wandb.ai/artzha/driver-intent-learning/sweeps/s79wrgdi' target=\"_blank\">https://wandb.ai/artzha/driver-intent-learning/sweeps/s79wrgdi</a>"
      ],
      "text/plain": [
       "<IPython.core.display.HTML object>"
      ]
     },
     "metadata": {},
     "output_type": "display_data"
    },
    {
     "data": {
      "text/html": [
       " View run at <a href='https://wandb.ai/artzha/driver-intent-learning/runs/ux7alww7' target=\"_blank\">https://wandb.ai/artzha/driver-intent-learning/runs/ux7alww7</a>"
      ],
      "text/plain": [
       "<IPython.core.display.HTML object>"
      ]
     },
     "metadata": {},
     "output_type": "display_data"
    },
    {
     "name": "stdout",
     "output_type": "stream",
     "text": [
      "Created model save dir for model root /home/arthur/AMRL/Research/Driver-Intent-Prediction/outputs/transformer_64_16_128_0.21923201575788623_0.008996816005940865_sgd_0.9302413941467976_0.007418126155318398_0.99\n",
      "Created model save dir for checkpoints /home/arthur/AMRL/Research/Driver-Intent-Prediction/outputs/transformer_64_16_128_0.21923201575788623_0.008996816005940865_sgd_0.9302413941467976_0.007418126155318398_0.99/ckpts\n",
      "eval: 0.5862068965517241         f1score: 0.4970404312668464\n",
      "eval: 0.7586206896551724         f1score: 0.6988634796035974\n",
      "eval: 0.6379310344827587         f1score: 0.623410138248848\n",
      "eval: 0.7586206896551724         f1score: 0.7724408384043272\n",
      "eval: 0.7758620689655172         f1score: 0.7578144078144078\n",
      "eval: 0.7413793103448276         f1score: 0.7295404640633842\n",
      "eval: 0.7586206896551724         f1score: 0.7873699633699635\n",
      "eval: 0.7931034482758621         f1score: 0.7993233082706768\n",
      "eval: 0.8103448275862069         f1score: 0.8176289247623411\n",
      "eval: 0.8103448275862069         f1score: 0.8148945307565997\n",
      "eval: 0.7931034482758621         f1score: 0.7645382939500586\n",
      "eval: 0.7758620689655172         f1score: 0.7529304029304029\n",
      "eval: 0.8275862068965517         f1score: 0.7924403183023874\n",
      "eval: 0.8103448275862069         f1score: 0.7785714285714285\n",
      "eval: 0.7758620689655172         f1score: 0.7485116106063021\n",
      "eval: 0.7586206896551724         f1score: 0.7376411170528817\n",
      "eval: 0.7241379310344828         f1score: 0.7067555130453265\n",
      "eval: 0.7758620689655172         f1score: 0.7485116106063021\n",
      "eval: 0.7758620689655172         f1score: 0.756066779852858\n",
      "eval: 0.7413793103448276         f1score: 0.7260405809186297\n",
      "eval: 0.7586206896551724         f1score: 0.7422880371660859\n",
      "eval: 0.7758620689655172         f1score: 0.7486123680241328\n",
      "eval: 0.7586206896551724         f1score: 0.7422880371660859\n",
      "eval: 0.7758620689655172         f1score: 0.7529304029304029\n",
      "eval: 0.7586206896551724         f1score: 0.7373669467787115\n",
      "eval: 0.7586206896551724         f1score: 0.7373669467787115\n",
      "eval: 0.7758620689655172         f1score: 0.7503365059551672\n",
      "eval: 0.7586206896551724         f1score: 0.7373669467787115\n",
      "eval: 0.7586206896551724         f1score: 0.7373669467787115\n",
      "eval: 0.7586206896551724         f1score: 0.7373669467787115\n",
      "eval: 0.7758620689655172         f1score: 0.7554212454212454\n",
      "eval: 0.7586206896551724         f1score: 0.7373669467787115\n",
      "eval: 0.7758620689655172         f1score: 0.7554212454212454\n",
      "eval: 0.7413793103448276         f1score: 0.7296296296296296\n",
      "eval: 0.7586206896551724         f1score: 0.7419949968730456\n",
      "eval: 0.7758620689655172         f1score: 0.7554212454212454\n",
      "eval: 0.7586206896551724         f1score: 0.742999592999593\n",
      "eval: 0.7586206896551724         f1score: 0.7419949968730456\n",
      "eval: 0.7586206896551724         f1score: 0.742999592999593\n",
      "eval: 0.7586206896551724         f1score: 0.742999592999593\n",
      "eval: 0.7586206896551724         f1score: 0.742999592999593\n",
      "eval: 0.7586206896551724         f1score: 0.742999592999593\n",
      "eval: 0.7586206896551724         f1score: 0.742999592999593\n",
      "eval: 0.7586206896551724         f1score: 0.742999592999593\n",
      "eval: 0.7586206896551724         f1score: 0.742999592999593\n",
      "eval: 0.7586206896551724         f1score: 0.742999592999593\n",
      "eval: 0.7586206896551724         f1score: 0.742999592999593\n",
      "eval: 0.7586206896551724         f1score: 0.742999592999593\n",
      "eval: 0.7586206896551724         f1score: 0.742999592999593\n",
      "eval: 0.7586206896551724         f1score: 0.742999592999593\n",
      "eval: 0.7586206896551724         f1score: 0.742999592999593\n",
      "eval: 0.7586206896551724         f1score: 0.742999592999593\n",
      "eval: 0.7586206896551724         f1score: 0.742999592999593\n",
      "eval: 0.7586206896551724         f1score: 0.742999592999593\n",
      "eval: 0.7586206896551724         f1score: 0.742999592999593\n",
      "eval: 0.7758620689655172         f1score: 0.7559151710694361\n",
      "eval: 0.7586206896551724         f1score: 0.742999592999593\n",
      "eval: 0.7586206896551724         f1score: 0.742999592999593\n",
      "eval: 0.7586206896551724         f1score: 0.742999592999593\n",
      "eval: 0.7586206896551724         f1score: 0.742999592999593\n",
      "eval: 0.7758620689655172         f1score: 0.7559151710694361\n",
      "eval: 0.7586206896551724         f1score: 0.742999592999593\n",
      "eval: 0.7586206896551724         f1score: 0.742999592999593\n",
      "eval: 0.7758620689655172         f1score: 0.7559151710694361\n",
      "eval: 0.7586206896551724         f1score: 0.742999592999593\n",
      "eval: 0.7586206896551724         f1score: 0.742999592999593\n",
      "eval: 0.7758620689655172         f1score: 0.7559151710694361\n",
      "eval: 0.7586206896551724         f1score: 0.742999592999593\n",
      "eval: 0.7586206896551724         f1score: 0.742999592999593\n",
      "eval: 0.7758620689655172         f1score: 0.7559151710694361\n"
     ]
    },
    {
     "data": {
      "text/html": [
       "Waiting for W&B process to finish... <strong style=\"color:green\">(success).</strong>"
      ],
      "text/plain": [
       "<IPython.core.display.HTML object>"
      ]
     },
     "metadata": {},
     "output_type": "display_data"
    },
    {
     "name": "stderr",
     "output_type": "stream",
     "text": [
      "wandb: WARNING Source type is set to 'repo' but some required information is missing from the environment. A job will not be created from this run. See https://docs.wandb.ai/guides/launch/create-job\n"
     ]
    },
    {
     "data": {
      "application/vnd.jupyter.widget-view+json": {
       "model_id": "17cb648d0ec04cc9a3521d35f81905d7",
       "version_major": 2,
       "version_minor": 0
      },
      "text/plain": [
       "VBox(children=(Label(value='0.003 MB of 0.003 MB uploaded (0.000 MB deduped)\\r'), FloatProgress(value=1.0, max…"
      ]
     },
     "metadata": {},
     "output_type": "display_data"
    },
    {
     "data": {
      "text/html": [
       "<style>\n",
       "    table.wandb td:nth-child(1) { padding: 0 10px; text-align: left ; width: auto;} td:nth-child(2) {text-align: left ; width: 100%}\n",
       "    .wandb-row { display: flex; flex-direction: row; flex-wrap: wrap; justify-content: flex-start; width: 100% }\n",
       "    .wandb-col { display: flex; flex-direction: column; flex-basis: 100%; flex: 1; padding: 10px; }\n",
       "    </style>\n",
       "<div class=\"wandb-row\"><div class=\"wandb-col\"><h3>Run history:</h3><br/><table class=\"wandb\"><tr><td>epoch</td><td>▁▁▁▂▂▂▂▂▂▃▃▃▃▃▃▄▄▄▄▄▅▅▅▅▅▅▆▆▆▆▆▆▇▇▇▇▇███</td></tr><tr><td>f1val</td><td>▁▅▇▆██▇▇▆▆▆▆▆▇▆▇▆▇▆▆▇▆▆▆▆▆▆▆▆▆▆▆▆▆▇▆▇▆▆▇</td></tr><tr><td>loss</td><td>█▆▅▄▄▃▃▃▂▂▂▂▂▂▂▂▂▂▁▁▁▁▁▁▁▁▁▁▁▁▁▁▁▁▁▁▁▁▁▁</td></tr><tr><td>lr</td><td>███▇▇▇▇▆▆▆▆▆▅▅▅▅▅▄▄▄▄▄▄▃▃▃▃▃▃▂▂▂▂▂▂▂▁▁▁▁</td></tr><tr><td>val</td><td>▁▆▆▅▇▇▇█▇▆▇▅▇▇▆▇▆▇▆▅▇▆▆▆▆▆▆▆▆▆▆▆▆▆▇▆▇▆▆▇</td></tr></table><br/></div><div class=\"wandb-col\"><h3>Run summary:</h3><br/><table class=\"wandb\"><tr><td>epoch</td><td>69</td></tr><tr><td>f1val</td><td>0.75592</td></tr><tr><td>loss</td><td>0.78925</td></tr><tr><td>lr</td><td>0.00445</td></tr><tr><td>val</td><td>0.77586</td></tr></table><br/></div></div>"
      ],
      "text/plain": [
       "<IPython.core.display.HTML object>"
      ]
     },
     "metadata": {},
     "output_type": "display_data"
    },
    {
     "data": {
      "text/html": [
       " View run <strong style=\"color:#cdcd00\">divine-sweep-11</strong> at: <a href='https://wandb.ai/artzha/driver-intent-learning/runs/ux7alww7' target=\"_blank\">https://wandb.ai/artzha/driver-intent-learning/runs/ux7alww7</a><br/>Synced 6 W&B file(s), 0 media file(s), 0 artifact file(s) and 0 other file(s)"
      ],
      "text/plain": [
       "<IPython.core.display.HTML object>"
      ]
     },
     "metadata": {},
     "output_type": "display_data"
    },
    {
     "data": {
      "text/html": [
       "Find logs at: <code>./wandb/run-20230911_220527-ux7alww7/logs</code>"
      ],
      "text/plain": [
       "<IPython.core.display.HTML object>"
      ]
     },
     "metadata": {},
     "output_type": "display_data"
    },
    {
     "name": "stderr",
     "output_type": "stream",
     "text": [
      "\u001b[34m\u001b[1mwandb\u001b[0m: Agent Starting Run: p33rwern with config:\n",
      "\u001b[34m\u001b[1mwandb\u001b[0m: \tdmodel: 64\n",
      "\u001b[34m\u001b[1mwandb\u001b[0m: \tdropout: 0.23234819018345437\n",
      "\u001b[34m\u001b[1mwandb\u001b[0m: \tfchiddendim: 512\n",
      "\u001b[34m\u001b[1mwandb\u001b[0m: \tgamma: 0.99\n",
      "\u001b[34m\u001b[1mwandb\u001b[0m: \thiddendim: 128\n",
      "\u001b[34m\u001b[1mwandb\u001b[0m: \tlr: 0.006372163305752902\n",
      "\u001b[34m\u001b[1mwandb\u001b[0m: \tmomentum: 0.9671588534983404\n",
      "\u001b[34m\u001b[1mwandb\u001b[0m: \tnumepochs: 70\n",
      "\u001b[34m\u001b[1mwandb\u001b[0m: \tnumheads: 16\n",
      "\u001b[34m\u001b[1mwandb\u001b[0m: \toptimizer: sgd\n",
      "\u001b[34m\u001b[1mwandb\u001b[0m: \tweight_decay: 0.009726026389863458\n",
      "Failed to detect the name of this notebook, you can set it manually with the WANDB_NOTEBOOK_NAME environment variable to enable code saving.\n"
     ]
    },
    {
     "data": {
      "text/html": [
       "wandb version 0.15.10 is available!  To upgrade, please run:\n",
       " $ pip install wandb --upgrade"
      ],
      "text/plain": [
       "<IPython.core.display.HTML object>"
      ]
     },
     "metadata": {},
     "output_type": "display_data"
    },
    {
     "data": {
      "text/html": [
       "Tracking run with wandb version 0.15.9"
      ],
      "text/plain": [
       "<IPython.core.display.HTML object>"
      ]
     },
     "metadata": {},
     "output_type": "display_data"
    },
    {
     "data": {
      "text/html": [
       "Run data is saved locally in <code>/home/arthur/AMRL/Research/Driver-Intent-Prediction/models/wandb/run-20230911_220728-p33rwern</code>"
      ],
      "text/plain": [
       "<IPython.core.display.HTML object>"
      ]
     },
     "metadata": {},
     "output_type": "display_data"
    },
    {
     "data": {
      "text/html": [
       "Syncing run <strong><a href='https://wandb.ai/artzha/driver-intent-learning/runs/p33rwern' target=\"_blank\">swept-sweep-12</a></strong> to <a href='https://wandb.ai/artzha/driver-intent-learning' target=\"_blank\">Weights & Biases</a> (<a href='https://wandb.me/run' target=\"_blank\">docs</a>)<br/>Sweep page: <a href='https://wandb.ai/artzha/driver-intent-learning/sweeps/s79wrgdi' target=\"_blank\">https://wandb.ai/artzha/driver-intent-learning/sweeps/s79wrgdi</a>"
      ],
      "text/plain": [
       "<IPython.core.display.HTML object>"
      ]
     },
     "metadata": {},
     "output_type": "display_data"
    },
    {
     "data": {
      "text/html": [
       " View project at <a href='https://wandb.ai/artzha/driver-intent-learning' target=\"_blank\">https://wandb.ai/artzha/driver-intent-learning</a>"
      ],
      "text/plain": [
       "<IPython.core.display.HTML object>"
      ]
     },
     "metadata": {},
     "output_type": "display_data"
    },
    {
     "data": {
      "text/html": [
       " View sweep at <a href='https://wandb.ai/artzha/driver-intent-learning/sweeps/s79wrgdi' target=\"_blank\">https://wandb.ai/artzha/driver-intent-learning/sweeps/s79wrgdi</a>"
      ],
      "text/plain": [
       "<IPython.core.display.HTML object>"
      ]
     },
     "metadata": {},
     "output_type": "display_data"
    },
    {
     "data": {
      "text/html": [
       " View run at <a href='https://wandb.ai/artzha/driver-intent-learning/runs/p33rwern' target=\"_blank\">https://wandb.ai/artzha/driver-intent-learning/runs/p33rwern</a>"
      ],
      "text/plain": [
       "<IPython.core.display.HTML object>"
      ]
     },
     "metadata": {},
     "output_type": "display_data"
    },
    {
     "name": "stdout",
     "output_type": "stream",
     "text": [
      "Created model save dir for model root /home/arthur/AMRL/Research/Driver-Intent-Prediction/outputs/transformer_64_16_128_0.23234819018345437_0.006372163305752902_sgd_0.9671588534983404_0.009726026389863458_0.99\n",
      "Created model save dir for checkpoints /home/arthur/AMRL/Research/Driver-Intent-Prediction/outputs/transformer_64_16_128_0.23234819018345437_0.006372163305752902_sgd_0.9671588534983404_0.009726026389863458_0.99/ckpts\n",
      "eval: 0.5517241379310345         f1score: 0.5147527910685806\n",
      "eval: 0.6206896551724138         f1score: 0.581331533963113\n",
      "eval: 0.7068965517241379         f1score: 0.6952983752983753\n",
      "eval: 0.7758620689655172         f1score: 0.7637405731523378\n",
      "eval: 0.8103448275862069         f1score: 0.8517019565800054\n",
      "eval: 0.7413793103448276         f1score: 0.7211232319014561\n",
      "eval: 0.7413793103448276         f1score: 0.7606227106227106\n",
      "eval: 0.7931034482758621         f1score: 0.769708274517712\n",
      "eval: 0.7758620689655172         f1score: 0.7538538205980067\n",
      "eval: 0.6896551724137931         f1score: 0.6772034066151713\n",
      "eval: 0.6724137931034483         f1score: 0.6629587199755604\n",
      "eval: 0.7586206896551724         f1score: 0.7468091168091168\n",
      "eval: 0.7931034482758621         f1score: 0.796624895572264\n",
      "eval: 0.7586206896551724         f1score: 0.7483559577677225\n",
      "eval: 0.7241379310344828         f1score: 0.7201812103140376\n",
      "eval: 0.7241379310344828         f1score: 0.6578266065664786\n",
      "eval: 0.8275862068965517         f1score: 0.8204444444444444\n",
      "eval: 0.7068965517241379         f1score: 0.7098093577448417\n",
      "eval: 0.7931034482758621         f1score: 0.7719274977895667\n",
      "eval: 0.7413793103448276         f1score: 0.736984555405608\n",
      "eval: 0.8103448275862069         f1score: 0.7860073260073259\n",
      "eval: 0.7931034482758621         f1score: 0.7738224287004775\n",
      "eval: 0.7068965517241379         f1score: 0.697964349376114\n",
      "eval: 0.7241379310344828         f1score: 0.693467787114846\n",
      "eval: 0.7586206896551724         f1score: 0.7564468864468865\n",
      "eval: 0.7931034482758621         f1score: 0.7703174603174603\n",
      "eval: 0.8275862068965517         f1score: 0.8050070976900244\n",
      "eval: 0.7931034482758621         f1score: 0.7673333333333334\n",
      "eval: 0.7586206896551724         f1score: 0.7496747967479676\n",
      "eval: 0.8103448275862069         f1score: 0.8178947368421052\n",
      "eval: 0.8103448275862069         f1score: 0.7890058479532164\n",
      "eval: 0.8103448275862069         f1score: 0.7860073260073259\n",
      "eval: 0.7931034482758621         f1score: 0.7729100529100529\n",
      "eval: 0.8103448275862069         f1score: 0.7890058479532164\n",
      "eval: 0.7931034482758621         f1score: 0.7760975609756098\n",
      "eval: 0.7931034482758621         f1score: 0.7743807795350444\n",
      "eval: 0.7931034482758621         f1score: 0.7743807795350444\n",
      "eval: 0.8275862068965517         f1score: 0.8007309165929856\n",
      "eval: 0.8103448275862069         f1score: 0.7890058479532164\n",
      "eval: 0.8103448275862069         f1score: 0.7860073260073259\n",
      "eval: 0.7931034482758621         f1score: 0.7743807795350444\n",
      "eval: 0.7931034482758621         f1score: 0.7743807795350444\n",
      "eval: 0.8103448275862069         f1score: 0.7860073260073259\n",
      "eval: 0.7931034482758621         f1score: 0.7743807795350444\n",
      "eval: 0.8103448275862069         f1score: 0.7890058479532164\n",
      "eval: 0.7931034482758621         f1score: 0.7743807795350444\n",
      "eval: 0.8103448275862069         f1score: 0.7890058479532164\n",
      "eval: 0.7931034482758621         f1score: 0.7743807795350444\n",
      "eval: 0.8103448275862069         f1score: 0.7890058479532164\n",
      "eval: 0.8103448275862069         f1score: 0.7860073260073259\n",
      "eval: 0.8103448275862069         f1score: 0.7860073260073259\n",
      "eval: 0.8103448275862069         f1score: 0.7890058479532164\n",
      "eval: 0.8103448275862069         f1score: 0.7890058479532164\n",
      "eval: 0.7931034482758621         f1score: 0.7743807795350444\n",
      "eval: 0.8103448275862069         f1score: 0.7890058479532164\n",
      "eval: 0.8103448275862069         f1score: 0.7890058479532164\n",
      "eval: 0.8103448275862069         f1score: 0.7890058479532164\n",
      "eval: 0.8103448275862069         f1score: 0.7890058479532164\n",
      "eval: 0.7931034482758621         f1score: 0.7743807795350444\n",
      "eval: 0.7931034482758621         f1score: 0.7743807795350444\n",
      "eval: 0.8103448275862069         f1score: 0.7890058479532164\n",
      "eval: 0.8103448275862069         f1score: 0.7890058479532164\n",
      "eval: 0.8103448275862069         f1score: 0.7890058479532164\n",
      "eval: 0.8103448275862069         f1score: 0.7890058479532164\n",
      "eval: 0.8103448275862069         f1score: 0.7890058479532164\n",
      "eval: 0.7931034482758621         f1score: 0.7743807795350444\n",
      "eval: 0.8103448275862069         f1score: 0.7890058479532164\n",
      "eval: 0.7931034482758621         f1score: 0.7743807795350444\n",
      "eval: 0.7931034482758621         f1score: 0.7743807795350444\n",
      "eval: 0.8103448275862069         f1score: 0.7890058479532164\n"
     ]
    },
    {
     "data": {
      "text/html": [
       "Waiting for W&B process to finish... <strong style=\"color:green\">(success).</strong>"
      ],
      "text/plain": [
       "<IPython.core.display.HTML object>"
      ]
     },
     "metadata": {},
     "output_type": "display_data"
    },
    {
     "name": "stderr",
     "output_type": "stream",
     "text": [
      "wandb: WARNING Source type is set to 'repo' but some required information is missing from the environment. A job will not be created from this run. See https://docs.wandb.ai/guides/launch/create-job\n"
     ]
    },
    {
     "data": {
      "application/vnd.jupyter.widget-view+json": {
       "model_id": "dbce9bef8789441fa1f2e42775f94648",
       "version_major": 2,
       "version_minor": 0
      },
      "text/plain": [
       "VBox(children=(Label(value='0.003 MB of 0.003 MB uploaded (0.000 MB deduped)\\r'), FloatProgress(value=1.0, max…"
      ]
     },
     "metadata": {},
     "output_type": "display_data"
    },
    {
     "data": {
      "text/html": [
       "<style>\n",
       "    table.wandb td:nth-child(1) { padding: 0 10px; text-align: left ; width: auto;} td:nth-child(2) {text-align: left ; width: 100%}\n",
       "    .wandb-row { display: flex; flex-direction: row; flex-wrap: wrap; justify-content: flex-start; width: 100% }\n",
       "    .wandb-col { display: flex; flex-direction: column; flex-basis: 100%; flex: 1; padding: 10px; }\n",
       "    </style>\n",
       "<div class=\"wandb-row\"><div class=\"wandb-col\"><h3>Run history:</h3><br/><table class=\"wandb\"><tr><td>epoch</td><td>▁▁▁▂▂▂▂▂▂▃▃▃▃▃▃▄▄▄▄▄▅▅▅▅▅▅▆▆▆▆▆▆▇▇▇▇▇███</td></tr><tr><td>f1val</td><td>▁▃▇▆▇▇▅█▆▄▆▆▇▅▇█▇███▇██▇███▇██▇██▇███▇▇█</td></tr><tr><td>loss</td><td>█▇▅▄▄▃▃▃▂▂▂▂▂▂▂▂▂▂▂▂▁▁▁▁▁▁▁▁▁▁▁▁▁▁▁▁▁▁▁▁</td></tr><tr><td>lr</td><td>███▇▇▇▇▆▆▆▆▆▅▅▅▅▅▄▄▄▄▄▄▃▃▃▃▃▃▂▂▂▂▂▂▂▁▁▁▁</td></tr><tr><td>val</td><td>▁▃▇▆▇▇▄▇▅▅▅▆▇▅▆█▆███▇██▇███▇██▇██▇███▇▇█</td></tr></table><br/></div><div class=\"wandb-col\"><h3>Run summary:</h3><br/><table class=\"wandb\"><tr><td>epoch</td><td>69</td></tr><tr><td>f1val</td><td>0.78901</td></tr><tr><td>loss</td><td>1.12296</td></tr><tr><td>lr</td><td>0.00315</td></tr><tr><td>val</td><td>0.81034</td></tr></table><br/></div></div>"
      ],
      "text/plain": [
       "<IPython.core.display.HTML object>"
      ]
     },
     "metadata": {},
     "output_type": "display_data"
    },
    {
     "data": {
      "text/html": [
       " View run <strong style=\"color:#cdcd00\">swept-sweep-12</strong> at: <a href='https://wandb.ai/artzha/driver-intent-learning/runs/p33rwern' target=\"_blank\">https://wandb.ai/artzha/driver-intent-learning/runs/p33rwern</a><br/>Synced 6 W&B file(s), 0 media file(s), 0 artifact file(s) and 0 other file(s)"
      ],
      "text/plain": [
       "<IPython.core.display.HTML object>"
      ]
     },
     "metadata": {},
     "output_type": "display_data"
    },
    {
     "data": {
      "text/html": [
       "Find logs at: <code>./wandb/run-20230911_220728-p33rwern/logs</code>"
      ],
      "text/plain": [
       "<IPython.core.display.HTML object>"
      ]
     },
     "metadata": {},
     "output_type": "display_data"
    },
    {
     "name": "stderr",
     "output_type": "stream",
     "text": [
      "\u001b[34m\u001b[1mwandb\u001b[0m: Agent Starting Run: vidtb2me with config:\n",
      "\u001b[34m\u001b[1mwandb\u001b[0m: \tdmodel: 64\n",
      "\u001b[34m\u001b[1mwandb\u001b[0m: \tdropout: 0.23791549912237173\n",
      "\u001b[34m\u001b[1mwandb\u001b[0m: \tfchiddendim: 128\n",
      "\u001b[34m\u001b[1mwandb\u001b[0m: \tgamma: 0.95\n",
      "\u001b[34m\u001b[1mwandb\u001b[0m: \thiddendim: 128\n",
      "\u001b[34m\u001b[1mwandb\u001b[0m: \tlr: 0.008698326802564464\n",
      "\u001b[34m\u001b[1mwandb\u001b[0m: \tmomentum: 0.9654356463106928\n",
      "\u001b[34m\u001b[1mwandb\u001b[0m: \tnumepochs: 70\n",
      "\u001b[34m\u001b[1mwandb\u001b[0m: \tnumheads: 16\n",
      "\u001b[34m\u001b[1mwandb\u001b[0m: \toptimizer: sgd\n",
      "\u001b[34m\u001b[1mwandb\u001b[0m: \tweight_decay: 0.00513919812876032\n",
      "Failed to detect the name of this notebook, you can set it manually with the WANDB_NOTEBOOK_NAME environment variable to enable code saving.\n"
     ]
    },
    {
     "data": {
      "text/html": [
       "wandb version 0.15.10 is available!  To upgrade, please run:\n",
       " $ pip install wandb --upgrade"
      ],
      "text/plain": [
       "<IPython.core.display.HTML object>"
      ]
     },
     "metadata": {},
     "output_type": "display_data"
    },
    {
     "data": {
      "text/html": [
       "Tracking run with wandb version 0.15.9"
      ],
      "text/plain": [
       "<IPython.core.display.HTML object>"
      ]
     },
     "metadata": {},
     "output_type": "display_data"
    },
    {
     "data": {
      "text/html": [
       "Run data is saved locally in <code>/home/arthur/AMRL/Research/Driver-Intent-Prediction/models/wandb/run-20230911_220935-vidtb2me</code>"
      ],
      "text/plain": [
       "<IPython.core.display.HTML object>"
      ]
     },
     "metadata": {},
     "output_type": "display_data"
    },
    {
     "data": {
      "text/html": [
       "Syncing run <strong><a href='https://wandb.ai/artzha/driver-intent-learning/runs/vidtb2me' target=\"_blank\">icy-sweep-13</a></strong> to <a href='https://wandb.ai/artzha/driver-intent-learning' target=\"_blank\">Weights & Biases</a> (<a href='https://wandb.me/run' target=\"_blank\">docs</a>)<br/>Sweep page: <a href='https://wandb.ai/artzha/driver-intent-learning/sweeps/s79wrgdi' target=\"_blank\">https://wandb.ai/artzha/driver-intent-learning/sweeps/s79wrgdi</a>"
      ],
      "text/plain": [
       "<IPython.core.display.HTML object>"
      ]
     },
     "metadata": {},
     "output_type": "display_data"
    },
    {
     "data": {
      "text/html": [
       " View project at <a href='https://wandb.ai/artzha/driver-intent-learning' target=\"_blank\">https://wandb.ai/artzha/driver-intent-learning</a>"
      ],
      "text/plain": [
       "<IPython.core.display.HTML object>"
      ]
     },
     "metadata": {},
     "output_type": "display_data"
    },
    {
     "data": {
      "text/html": [
       " View sweep at <a href='https://wandb.ai/artzha/driver-intent-learning/sweeps/s79wrgdi' target=\"_blank\">https://wandb.ai/artzha/driver-intent-learning/sweeps/s79wrgdi</a>"
      ],
      "text/plain": [
       "<IPython.core.display.HTML object>"
      ]
     },
     "metadata": {},
     "output_type": "display_data"
    },
    {
     "data": {
      "text/html": [
       " View run at <a href='https://wandb.ai/artzha/driver-intent-learning/runs/vidtb2me' target=\"_blank\">https://wandb.ai/artzha/driver-intent-learning/runs/vidtb2me</a>"
      ],
      "text/plain": [
       "<IPython.core.display.HTML object>"
      ]
     },
     "metadata": {},
     "output_type": "display_data"
    },
    {
     "name": "stdout",
     "output_type": "stream",
     "text": [
      "Created model save dir for model root /home/arthur/AMRL/Research/Driver-Intent-Prediction/outputs/transformer_64_16_128_0.23791549912237173_0.008698326802564464_sgd_0.9654356463106928_0.00513919812876032_0.95\n",
      "Created model save dir for checkpoints /home/arthur/AMRL/Research/Driver-Intent-Prediction/outputs/transformer_64_16_128_0.23791549912237173_0.008698326802564464_sgd_0.9654356463106928_0.00513919812876032_0.95/ckpts\n",
      "eval: 0.46551724137931033         f1score: 0.47386128364389235\n",
      "eval: 0.6896551724137931         f1score: 0.7025918187503553\n",
      "eval: 0.6206896551724138         f1score: 0.6184057971014492\n",
      "eval: 0.6896551724137931         f1score: 0.7011259805377452\n",
      "eval: 0.7931034482758621         f1score: 0.8211428571428572\n",
      "eval: 0.6724137931034483         f1score: 0.630095088202505\n",
      "eval: 0.7413793103448276         f1score: 0.7657617744574267\n",
      "eval: 0.6896551724137931         f1score: 0.6779905862216516\n",
      "eval: 0.6896551724137931         f1score: 0.6919354838709677\n",
      "eval: 0.7586206896551724         f1score: 0.74575983436853\n",
      "eval: 0.7413793103448276         f1score: 0.7183686232466721\n",
      "eval: 0.7413793103448276         f1score: 0.7229076522724436\n",
      "eval: 0.7068965517241379         f1score: 0.6995098039215686\n",
      "eval: 0.7413793103448276         f1score: 0.7160300751879699\n",
      "eval: 0.8103448275862069         f1score: 0.7824682002101357\n",
      "eval: 0.8103448275862069         f1score: 0.782183908045977\n",
      "eval: 0.7931034482758621         f1score: 0.7824175824175824\n",
      "eval: 0.8275862068965517         f1score: 0.7954963214487832\n",
      "eval: 0.8448275862068966         f1score: 0.808767576509512\n",
      "eval: 0.8103448275862069         f1score: 0.7701898119317475\n",
      "eval: 0.7758620689655172         f1score: 0.7436314363143631\n",
      "eval: 0.8103448275862069         f1score: 0.7797069597069597\n",
      "eval: 0.8275862068965517         f1score: 0.7924403183023874\n",
      "eval: 0.8103448275862069         f1score: 0.7809851551956816\n",
      "eval: 0.8103448275862069         f1score: 0.7809851551956816\n",
      "eval: 0.8103448275862069         f1score: 0.7809851551956816\n",
      "eval: 0.8103448275862069         f1score: 0.7809851551956816\n",
      "eval: 0.8103448275862069         f1score: 0.7809851551956816\n",
      "eval: 0.8103448275862069         f1score: 0.7809851551956816\n",
      "eval: 0.8103448275862069         f1score: 0.7809851551956816\n",
      "eval: 0.8103448275862069         f1score: 0.7809851551956816\n",
      "eval: 0.8103448275862069         f1score: 0.7809851551956816\n",
      "eval: 0.8103448275862069         f1score: 0.7809851551956816\n",
      "eval: 0.8103448275862069         f1score: 0.7809851551956816\n",
      "eval: 0.8103448275862069         f1score: 0.7809851551956816\n",
      "eval: 0.8103448275862069         f1score: 0.7809851551956816\n",
      "eval: 0.8103448275862069         f1score: 0.7809851551956816\n",
      "eval: 0.8103448275862069         f1score: 0.7809851551956816\n",
      "eval: 0.8103448275862069         f1score: 0.7809851551956816\n",
      "eval: 0.8103448275862069         f1score: 0.7809851551956816\n",
      "eval: 0.8103448275862069         f1score: 0.7809851551956816\n",
      "eval: 0.8103448275862069         f1score: 0.7809851551956816\n",
      "eval: 0.8103448275862069         f1score: 0.7809851551956816\n",
      "eval: 0.8103448275862069         f1score: 0.7809851551956816\n",
      "eval: 0.8103448275862069         f1score: 0.7809851551956816\n",
      "eval: 0.8103448275862069         f1score: 0.7809851551956816\n",
      "eval: 0.8103448275862069         f1score: 0.7809851551956816\n",
      "eval: 0.8103448275862069         f1score: 0.7809851551956816\n",
      "eval: 0.8103448275862069         f1score: 0.7809851551956816\n",
      "eval: 0.8103448275862069         f1score: 0.7809851551956816\n",
      "eval: 0.8103448275862069         f1score: 0.7809851551956816\n",
      "eval: 0.8103448275862069         f1score: 0.7809851551956816\n",
      "eval: 0.8103448275862069         f1score: 0.7809851551956816\n",
      "eval: 0.8103448275862069         f1score: 0.7809851551956816\n",
      "eval: 0.8103448275862069         f1score: 0.7809851551956816\n",
      "eval: 0.8103448275862069         f1score: 0.7809851551956816\n",
      "eval: 0.8103448275862069         f1score: 0.7809851551956816\n",
      "eval: 0.8103448275862069         f1score: 0.7809851551956816\n",
      "eval: 0.8103448275862069         f1score: 0.7809851551956816\n",
      "eval: 0.8103448275862069         f1score: 0.7809851551956816\n",
      "eval: 0.8103448275862069         f1score: 0.7809851551956816\n",
      "eval: 0.8103448275862069         f1score: 0.7809851551956816\n",
      "eval: 0.8103448275862069         f1score: 0.7809851551956816\n",
      "eval: 0.8103448275862069         f1score: 0.7809851551956816\n",
      "eval: 0.8103448275862069         f1score: 0.7809851551956816\n",
      "eval: 0.8103448275862069         f1score: 0.7809851551956816\n",
      "eval: 0.8103448275862069         f1score: 0.7809851551956816\n",
      "eval: 0.8103448275862069         f1score: 0.7809851551956816\n",
      "eval: 0.8103448275862069         f1score: 0.7809851551956816\n",
      "eval: 0.8103448275862069         f1score: 0.7809851551956816\n"
     ]
    },
    {
     "data": {
      "text/html": [
       "Waiting for W&B process to finish... <strong style=\"color:green\">(success).</strong>"
      ],
      "text/plain": [
       "<IPython.core.display.HTML object>"
      ]
     },
     "metadata": {},
     "output_type": "display_data"
    },
    {
     "name": "stderr",
     "output_type": "stream",
     "text": [
      "wandb: WARNING Source type is set to 'repo' but some required information is missing from the environment. A job will not be created from this run. See https://docs.wandb.ai/guides/launch/create-job\n"
     ]
    },
    {
     "data": {
      "application/vnd.jupyter.widget-view+json": {
       "model_id": "d7cfa4986d3746689b3bb67b0da13a72",
       "version_major": 2,
       "version_minor": 0
      },
      "text/plain": [
       "VBox(children=(Label(value='0.003 MB of 0.003 MB uploaded (0.000 MB deduped)\\r'), FloatProgress(value=1.0, max…"
      ]
     },
     "metadata": {},
     "output_type": "display_data"
    },
    {
     "data": {
      "text/html": [
       "<style>\n",
       "    table.wandb td:nth-child(1) { padding: 0 10px; text-align: left ; width: auto;} td:nth-child(2) {text-align: left ; width: 100%}\n",
       "    .wandb-row { display: flex; flex-direction: row; flex-wrap: wrap; justify-content: flex-start; width: 100% }\n",
       "    .wandb-col { display: flex; flex-direction: column; flex-basis: 100%; flex: 1; padding: 10px; }\n",
       "    </style>\n",
       "<div class=\"wandb-row\"><div class=\"wandb-col\"><h3>Run history:</h3><br/><table class=\"wandb\"><tr><td>epoch</td><td>▁▁▁▂▂▂▂▂▂▃▃▃▃▃▃▄▄▄▄▄▅▅▅▅▅▅▆▆▆▆▆▆▇▇▇▇▇███</td></tr><tr><td>f1val</td><td>▁▆▆▄▅▆▆▆███▇████████████████████████████</td></tr><tr><td>loss</td><td>█▆▅▄▄▄▃▃▃▃▂▂▂▂▂▂▂▂▂▁▁▁▁▁▁▁▁▁▁▁▁▁▁▁▁▁▁▁▁▁</td></tr><tr><td>lr</td><td>██▇▆▆▆▅▅▄▄▄▄▃▃▃▃▃▂▂▂▂▂▂▂▂▂▁▁▁▁▁▁▁▁▁▁▁▁▁▁</td></tr><tr><td>val</td><td>▁▅▅▅▅▅▆▆████████████████████████████████</td></tr></table><br/></div><div class=\"wandb-col\"><h3>Run summary:</h3><br/><table class=\"wandb\"><tr><td>epoch</td><td>69</td></tr><tr><td>f1val</td><td>0.78099</td></tr><tr><td>loss</td><td>0.99045</td></tr><tr><td>lr</td><td>0.00024</td></tr><tr><td>val</td><td>0.81034</td></tr></table><br/></div></div>"
      ],
      "text/plain": [
       "<IPython.core.display.HTML object>"
      ]
     },
     "metadata": {},
     "output_type": "display_data"
    },
    {
     "data": {
      "text/html": [
       " View run <strong style=\"color:#cdcd00\">icy-sweep-13</strong> at: <a href='https://wandb.ai/artzha/driver-intent-learning/runs/vidtb2me' target=\"_blank\">https://wandb.ai/artzha/driver-intent-learning/runs/vidtb2me</a><br/>Synced 6 W&B file(s), 0 media file(s), 0 artifact file(s) and 0 other file(s)"
      ],
      "text/plain": [
       "<IPython.core.display.HTML object>"
      ]
     },
     "metadata": {},
     "output_type": "display_data"
    },
    {
     "data": {
      "text/html": [
       "Find logs at: <code>./wandb/run-20230911_220935-vidtb2me/logs</code>"
      ],
      "text/plain": [
       "<IPython.core.display.HTML object>"
      ]
     },
     "metadata": {},
     "output_type": "display_data"
    },
    {
     "name": "stderr",
     "output_type": "stream",
     "text": [
      "\u001b[34m\u001b[1mwandb\u001b[0m: Agent Starting Run: gulpu214 with config:\n",
      "\u001b[34m\u001b[1mwandb\u001b[0m: \tdmodel: 64\n",
      "\u001b[34m\u001b[1mwandb\u001b[0m: \tdropout: 0.24326465560486188\n",
      "\u001b[34m\u001b[1mwandb\u001b[0m: \tfchiddendim: 128\n",
      "\u001b[34m\u001b[1mwandb\u001b[0m: \tgamma: 0.9\n",
      "\u001b[34m\u001b[1mwandb\u001b[0m: \thiddendim: 128\n",
      "\u001b[34m\u001b[1mwandb\u001b[0m: \tlr: 0.00788311368986683\n",
      "\u001b[34m\u001b[1mwandb\u001b[0m: \tmomentum: 0.9321522714557356\n",
      "\u001b[34m\u001b[1mwandb\u001b[0m: \tnumepochs: 70\n",
      "\u001b[34m\u001b[1mwandb\u001b[0m: \tnumheads: 16\n",
      "\u001b[34m\u001b[1mwandb\u001b[0m: \toptimizer: sgd\n",
      "\u001b[34m\u001b[1mwandb\u001b[0m: \tweight_decay: 0.007840473477917621\n",
      "Failed to detect the name of this notebook, you can set it manually with the WANDB_NOTEBOOK_NAME environment variable to enable code saving.\n"
     ]
    },
    {
     "data": {
      "text/html": [
       "wandb version 0.15.10 is available!  To upgrade, please run:\n",
       " $ pip install wandb --upgrade"
      ],
      "text/plain": [
       "<IPython.core.display.HTML object>"
      ]
     },
     "metadata": {},
     "output_type": "display_data"
    },
    {
     "data": {
      "text/html": [
       "Tracking run with wandb version 0.15.9"
      ],
      "text/plain": [
       "<IPython.core.display.HTML object>"
      ]
     },
     "metadata": {},
     "output_type": "display_data"
    },
    {
     "data": {
      "text/html": [
       "Run data is saved locally in <code>/home/arthur/AMRL/Research/Driver-Intent-Prediction/models/wandb/run-20230911_221310-gulpu214</code>"
      ],
      "text/plain": [
       "<IPython.core.display.HTML object>"
      ]
     },
     "metadata": {},
     "output_type": "display_data"
    },
    {
     "data": {
      "text/html": [
       "Syncing run <strong><a href='https://wandb.ai/artzha/driver-intent-learning/runs/gulpu214' target=\"_blank\">flowing-sweep-14</a></strong> to <a href='https://wandb.ai/artzha/driver-intent-learning' target=\"_blank\">Weights & Biases</a> (<a href='https://wandb.me/run' target=\"_blank\">docs</a>)<br/>Sweep page: <a href='https://wandb.ai/artzha/driver-intent-learning/sweeps/s79wrgdi' target=\"_blank\">https://wandb.ai/artzha/driver-intent-learning/sweeps/s79wrgdi</a>"
      ],
      "text/plain": [
       "<IPython.core.display.HTML object>"
      ]
     },
     "metadata": {},
     "output_type": "display_data"
    },
    {
     "data": {
      "text/html": [
       " View project at <a href='https://wandb.ai/artzha/driver-intent-learning' target=\"_blank\">https://wandb.ai/artzha/driver-intent-learning</a>"
      ],
      "text/plain": [
       "<IPython.core.display.HTML object>"
      ]
     },
     "metadata": {},
     "output_type": "display_data"
    },
    {
     "data": {
      "text/html": [
       " View sweep at <a href='https://wandb.ai/artzha/driver-intent-learning/sweeps/s79wrgdi' target=\"_blank\">https://wandb.ai/artzha/driver-intent-learning/sweeps/s79wrgdi</a>"
      ],
      "text/plain": [
       "<IPython.core.display.HTML object>"
      ]
     },
     "metadata": {},
     "output_type": "display_data"
    },
    {
     "data": {
      "text/html": [
       " View run at <a href='https://wandb.ai/artzha/driver-intent-learning/runs/gulpu214' target=\"_blank\">https://wandb.ai/artzha/driver-intent-learning/runs/gulpu214</a>"
      ],
      "text/plain": [
       "<IPython.core.display.HTML object>"
      ]
     },
     "metadata": {},
     "output_type": "display_data"
    },
    {
     "name": "stdout",
     "output_type": "stream",
     "text": [
      "Created model save dir for model root /home/arthur/AMRL/Research/Driver-Intent-Prediction/outputs/transformer_64_16_128_0.24326465560486188_0.00788311368986683_sgd_0.9321522714557356_0.007840473477917621_0.9\n",
      "Created model save dir for checkpoints /home/arthur/AMRL/Research/Driver-Intent-Prediction/outputs/transformer_64_16_128_0.24326465560486188_0.00788311368986683_sgd_0.9321522714557356_0.007840473477917621_0.9/ckpts\n",
      "eval: 0.43103448275862066         f1score: 0.22996031746031748\n",
      "eval: 0.5344827586206896         f1score: 0.5504162504162504\n",
      "eval: 0.7413793103448276         f1score: 0.7691646741374509\n",
      "eval: 0.6379310344827587         f1score: 0.6447186147186147\n",
      "eval: 0.6379310344827587         f1score: 0.6416940222897669\n",
      "eval: 0.7586206896551724         f1score: 0.7435516797585763\n",
      "eval: 0.8103448275862069         f1score: 0.7807048984468339\n",
      "eval: 0.7931034482758621         f1score: 0.7752788388082504\n",
      "eval: 0.7931034482758621         f1score: 0.7734391534391534\n",
      "eval: 0.7758620689655172         f1score: 0.7579641490490943\n",
      "eval: 0.7068965517241379         f1score: 0.7023046918099392\n",
      "eval: 0.7068965517241379         f1score: 0.7027261027261028\n",
      "eval: 0.7758620689655172         f1score: 0.7570431599942425\n",
      "eval: 0.7586206896551724         f1score: 0.7477085877085877\n",
      "eval: 0.7241379310344828         f1score: 0.7246805819101835\n",
      "eval: 0.7586206896551724         f1score: 0.724229429107478\n",
      "eval: 0.7758620689655172         f1score: 0.760419905297954\n",
      "eval: 0.7758620689655172         f1score: 0.760419905297954\n",
      "eval: 0.7758620689655172         f1score: 0.760419905297954\n",
      "eval: 0.7586206896551724         f1score: 0.7489036251105217\n",
      "eval: 0.7586206896551724         f1score: 0.7489036251105217\n",
      "eval: 0.7586206896551724         f1score: 0.7489036251105217\n",
      "eval: 0.7758620689655172         f1score: 0.760419905297954\n",
      "eval: 0.7758620689655172         f1score: 0.760419905297954\n",
      "eval: 0.7586206896551724         f1score: 0.7489036251105217\n",
      "eval: 0.7586206896551724         f1score: 0.7489036251105217\n",
      "eval: 0.7758620689655172         f1score: 0.760419905297954\n",
      "eval: 0.7758620689655172         f1score: 0.760419905297954\n",
      "eval: 0.7758620689655172         f1score: 0.760419905297954\n",
      "eval: 0.7586206896551724         f1score: 0.7489036251105217\n",
      "eval: 0.7586206896551724         f1score: 0.7489036251105217\n",
      "eval: 0.7586206896551724         f1score: 0.7489036251105217\n",
      "eval: 0.7586206896551724         f1score: 0.7489036251105217\n",
      "eval: 0.7586206896551724         f1score: 0.7489036251105217\n",
      "eval: 0.7586206896551724         f1score: 0.7489036251105217\n",
      "eval: 0.7586206896551724         f1score: 0.7489036251105217\n",
      "eval: 0.7586206896551724         f1score: 0.7489036251105217\n",
      "eval: 0.7586206896551724         f1score: 0.7489036251105217\n",
      "eval: 0.7586206896551724         f1score: 0.7489036251105217\n",
      "eval: 0.7586206896551724         f1score: 0.7489036251105217\n",
      "eval: 0.7586206896551724         f1score: 0.7489036251105217\n",
      "eval: 0.7586206896551724         f1score: 0.7489036251105217\n",
      "eval: 0.7586206896551724         f1score: 0.7489036251105217\n",
      "eval: 0.7586206896551724         f1score: 0.7489036251105217\n",
      "eval: 0.7586206896551724         f1score: 0.7489036251105217\n",
      "eval: 0.7586206896551724         f1score: 0.7489036251105217\n",
      "eval: 0.7586206896551724         f1score: 0.7489036251105217\n",
      "eval: 0.7586206896551724         f1score: 0.7489036251105217\n",
      "eval: 0.7586206896551724         f1score: 0.7489036251105217\n",
      "eval: 0.7586206896551724         f1score: 0.7489036251105217\n",
      "eval: 0.7586206896551724         f1score: 0.7489036251105217\n",
      "eval: 0.7586206896551724         f1score: 0.7489036251105217\n",
      "eval: 0.7586206896551724         f1score: 0.7489036251105217\n",
      "eval: 0.7586206896551724         f1score: 0.7489036251105217\n",
      "eval: 0.7586206896551724         f1score: 0.7489036251105217\n",
      "eval: 0.7586206896551724         f1score: 0.7489036251105217\n",
      "eval: 0.7586206896551724         f1score: 0.7489036251105217\n",
      "eval: 0.7586206896551724         f1score: 0.7489036251105217\n",
      "eval: 0.7586206896551724         f1score: 0.7489036251105217\n",
      "eval: 0.7586206896551724         f1score: 0.7489036251105217\n",
      "eval: 0.7586206896551724         f1score: 0.7489036251105217\n",
      "eval: 0.7586206896551724         f1score: 0.7489036251105217\n",
      "eval: 0.7586206896551724         f1score: 0.7489036251105217\n",
      "eval: 0.7586206896551724         f1score: 0.7489036251105217\n",
      "eval: 0.7586206896551724         f1score: 0.7489036251105217\n",
      "eval: 0.7586206896551724         f1score: 0.7489036251105217\n",
      "eval: 0.7586206896551724         f1score: 0.7489036251105217\n",
      "eval: 0.7586206896551724         f1score: 0.7489036251105217\n",
      "eval: 0.7586206896551724         f1score: 0.7489036251105217\n",
      "eval: 0.7586206896551724         f1score: 0.7489036251105217\n"
     ]
    },
    {
     "data": {
      "text/html": [
       "Waiting for W&B process to finish... <strong style=\"color:green\">(success).</strong>"
      ],
      "text/plain": [
       "<IPython.core.display.HTML object>"
      ]
     },
     "metadata": {},
     "output_type": "display_data"
    },
    {
     "name": "stderr",
     "output_type": "stream",
     "text": [
      "wandb: WARNING Source type is set to 'repo' but some required information is missing from the environment. A job will not be created from this run. See https://docs.wandb.ai/guides/launch/create-job\n"
     ]
    },
    {
     "data": {
      "application/vnd.jupyter.widget-view+json": {
       "model_id": "65d4d6dde9fa44928b25230f2efbcffe",
       "version_major": 2,
       "version_minor": 0
      },
      "text/plain": [
       "VBox(children=(Label(value='0.003 MB of 0.003 MB uploaded (0.000 MB deduped)\\r'), FloatProgress(value=1.0, max…"
      ]
     },
     "metadata": {},
     "output_type": "display_data"
    },
    {
     "data": {
      "text/html": [
       "<style>\n",
       "    table.wandb td:nth-child(1) { padding: 0 10px; text-align: left ; width: auto;} td:nth-child(2) {text-align: left ; width: 100%}\n",
       "    .wandb-row { display: flex; flex-direction: row; flex-wrap: wrap; justify-content: flex-start; width: 100% }\n",
       "    .wandb-col { display: flex; flex-direction: column; flex-basis: 100%; flex: 1; padding: 10px; }\n",
       "    </style>\n",
       "<div class=\"wandb-row\"><div class=\"wandb-col\"><h3>Run history:</h3><br/><table class=\"wandb\"><tr><td>epoch</td><td>▁▁▁▂▂▂▂▂▂▃▃▃▃▃▃▄▄▄▄▄▅▅▅▅▅▅▆▆▆▆▆▆▇▇▇▇▇███</td></tr><tr><td>f1val</td><td>▁▅▆███▇█▇▇██████████████████████████████</td></tr><tr><td>loss</td><td>█▇▅▄▄▃▃▃▃▂▂▂▂▂▂▂▂▂▂▁▁▁▁▁▁▁▁▁▁▁▁▁▁▁▁▁▁▁▁▁</td></tr><tr><td>lr</td><td>█▇▆▅▄▄▃▃▃▂▂▂▂▂▂▁▁▁▁▁▁▁▁▁▁▁▁▁▁▁▁▁▁▁▁▁▁▁▁▁</td></tr><tr><td>val</td><td>▁▃▅▇██▆█▇▇█▇▇█▇██▇▇▇▇▇▇▇▇▇▇▇▇▇▇▇▇▇▇▇▇▇▇▇</td></tr></table><br/></div><div class=\"wandb-col\"><h3>Run summary:</h3><br/><table class=\"wandb\"><tr><td>epoch</td><td>69</td></tr><tr><td>f1val</td><td>0.7489</td></tr><tr><td>loss</td><td>1.002</td></tr><tr><td>lr</td><td>0.0</td></tr><tr><td>val</td><td>0.75862</td></tr></table><br/></div></div>"
      ],
      "text/plain": [
       "<IPython.core.display.HTML object>"
      ]
     },
     "metadata": {},
     "output_type": "display_data"
    },
    {
     "data": {
      "text/html": [
       " View run <strong style=\"color:#cdcd00\">flowing-sweep-14</strong> at: <a href='https://wandb.ai/artzha/driver-intent-learning/runs/gulpu214' target=\"_blank\">https://wandb.ai/artzha/driver-intent-learning/runs/gulpu214</a><br/>Synced 6 W&B file(s), 0 media file(s), 0 artifact file(s) and 0 other file(s)"
      ],
      "text/plain": [
       "<IPython.core.display.HTML object>"
      ]
     },
     "metadata": {},
     "output_type": "display_data"
    },
    {
     "data": {
      "text/html": [
       "Find logs at: <code>./wandb/run-20230911_221310-gulpu214/logs</code>"
      ],
      "text/plain": [
       "<IPython.core.display.HTML object>"
      ]
     },
     "metadata": {},
     "output_type": "display_data"
    },
    {
     "name": "stderr",
     "output_type": "stream",
     "text": [
      "\u001b[34m\u001b[1mwandb\u001b[0m: Agent Starting Run: erbvp014 with config:\n",
      "\u001b[34m\u001b[1mwandb\u001b[0m: \tdmodel: 64\n",
      "\u001b[34m\u001b[1mwandb\u001b[0m: \tdropout: 0.19594351872989457\n",
      "\u001b[34m\u001b[1mwandb\u001b[0m: \tfchiddendim: 256\n",
      "\u001b[34m\u001b[1mwandb\u001b[0m: \tgamma: 0.95\n",
      "\u001b[34m\u001b[1mwandb\u001b[0m: \thiddendim: 128\n",
      "\u001b[34m\u001b[1mwandb\u001b[0m: \tlr: 0.007432053126618187\n",
      "\u001b[34m\u001b[1mwandb\u001b[0m: \tmomentum: 0.9554367230328776\n",
      "\u001b[34m\u001b[1mwandb\u001b[0m: \tnumepochs: 70\n",
      "\u001b[34m\u001b[1mwandb\u001b[0m: \tnumheads: 8\n",
      "\u001b[34m\u001b[1mwandb\u001b[0m: \toptimizer: sgd\n",
      "\u001b[34m\u001b[1mwandb\u001b[0m: \tweight_decay: 0.003707903695868079\n",
      "Failed to detect the name of this notebook, you can set it manually with the WANDB_NOTEBOOK_NAME environment variable to enable code saving.\n"
     ]
    },
    {
     "data": {
      "text/html": [
       "wandb version 0.15.10 is available!  To upgrade, please run:\n",
       " $ pip install wandb --upgrade"
      ],
      "text/plain": [
       "<IPython.core.display.HTML object>"
      ]
     },
     "metadata": {},
     "output_type": "display_data"
    },
    {
     "data": {
      "text/html": [
       "Tracking run with wandb version 0.15.9"
      ],
      "text/plain": [
       "<IPython.core.display.HTML object>"
      ]
     },
     "metadata": {},
     "output_type": "display_data"
    },
    {
     "data": {
      "text/html": [
       "Run data is saved locally in <code>/home/arthur/AMRL/Research/Driver-Intent-Prediction/models/wandb/run-20230911_221749-erbvp014</code>"
      ],
      "text/plain": [
       "<IPython.core.display.HTML object>"
      ]
     },
     "metadata": {},
     "output_type": "display_data"
    },
    {
     "data": {
      "text/html": [
       "Syncing run <strong><a href='https://wandb.ai/artzha/driver-intent-learning/runs/erbvp014' target=\"_blank\">brisk-sweep-15</a></strong> to <a href='https://wandb.ai/artzha/driver-intent-learning' target=\"_blank\">Weights & Biases</a> (<a href='https://wandb.me/run' target=\"_blank\">docs</a>)<br/>Sweep page: <a href='https://wandb.ai/artzha/driver-intent-learning/sweeps/s79wrgdi' target=\"_blank\">https://wandb.ai/artzha/driver-intent-learning/sweeps/s79wrgdi</a>"
      ],
      "text/plain": [
       "<IPython.core.display.HTML object>"
      ]
     },
     "metadata": {},
     "output_type": "display_data"
    },
    {
     "data": {
      "text/html": [
       " View project at <a href='https://wandb.ai/artzha/driver-intent-learning' target=\"_blank\">https://wandb.ai/artzha/driver-intent-learning</a>"
      ],
      "text/plain": [
       "<IPython.core.display.HTML object>"
      ]
     },
     "metadata": {},
     "output_type": "display_data"
    },
    {
     "data": {
      "text/html": [
       " View sweep at <a href='https://wandb.ai/artzha/driver-intent-learning/sweeps/s79wrgdi' target=\"_blank\">https://wandb.ai/artzha/driver-intent-learning/sweeps/s79wrgdi</a>"
      ],
      "text/plain": [
       "<IPython.core.display.HTML object>"
      ]
     },
     "metadata": {},
     "output_type": "display_data"
    },
    {
     "data": {
      "text/html": [
       " View run at <a href='https://wandb.ai/artzha/driver-intent-learning/runs/erbvp014' target=\"_blank\">https://wandb.ai/artzha/driver-intent-learning/runs/erbvp014</a>"
      ],
      "text/plain": [
       "<IPython.core.display.HTML object>"
      ]
     },
     "metadata": {},
     "output_type": "display_data"
    },
    {
     "name": "stdout",
     "output_type": "stream",
     "text": [
      "Created model save dir for model root /home/arthur/AMRL/Research/Driver-Intent-Prediction/outputs/transformer_64_8_128_0.19594351872989457_0.007432053126618187_sgd_0.9554367230328776_0.003707903695868079_0.95\n",
      "Created model save dir for checkpoints /home/arthur/AMRL/Research/Driver-Intent-Prediction/outputs/transformer_64_8_128_0.19594351872989457_0.007432053126618187_sgd_0.9554367230328776_0.003707903695868079_0.95/ckpts\n",
      "eval: 0.5         f1score: 0.39990147783251234\n",
      "eval: 0.6379310344827587         f1score: 0.5736918052707527\n",
      "eval: 0.5689655172413793         f1score: 0.5352789432789433\n",
      "eval: 0.6724137931034483         f1score: 0.7042933537051184\n",
      "eval: 0.8448275862068966         f1score: 0.8371614520171395\n",
      "eval: 0.7241379310344828         f1score: 0.7226994583516322\n",
      "eval: 0.7758620689655172         f1score: 0.786530612244898\n",
      "eval: 0.7758620689655172         f1score: 0.7535703278601413\n",
      "eval: 0.7931034482758621         f1score: 0.8120472120472121\n",
      "eval: 0.8103448275862069         f1score: 0.7900366300366299\n",
      "eval: 0.7586206896551724         f1score: 0.7477777777777778\n",
      "eval: 0.7931034482758621         f1score: 0.7749481356882534\n",
      "eval: 0.8275862068965517         f1score: 0.8283298284024238\n",
      "eval: 0.8275862068965517         f1score: 0.8021373024289249\n",
      "eval: 0.7241379310344828         f1score: 0.7459213250517598\n",
      "eval: 0.7586206896551724         f1score: 0.7549874686716792\n",
      "eval: 0.7931034482758621         f1score: 0.7802228609629787\n",
      "eval: 0.7931034482758621         f1score: 0.7726967285587975\n",
      "eval: 0.8103448275862069         f1score: 0.7862003939423294\n",
      "eval: 0.7931034482758621         f1score: 0.7764102564102564\n",
      "eval: 0.8275862068965517         f1score: 0.7940276937554615\n",
      "eval: 0.7241379310344828         f1score: 0.7212494172494172\n",
      "eval: 0.7758620689655172         f1score: 0.7589481356882534\n",
      "eval: 0.7758620689655172         f1score: 0.7589481356882534\n",
      "eval: 0.7758620689655172         f1score: 0.7589481356882534\n",
      "eval: 0.7758620689655172         f1score: 0.7589481356882534\n",
      "eval: 0.7758620689655172         f1score: 0.7589481356882534\n",
      "eval: 0.7758620689655172         f1score: 0.7589481356882534\n",
      "eval: 0.7758620689655172         f1score: 0.7589481356882534\n",
      "eval: 0.7758620689655172         f1score: 0.7573333333333333\n",
      "eval: 0.7758620689655172         f1score: 0.7573333333333333\n",
      "eval: 0.7758620689655172         f1score: 0.7573333333333333\n",
      "eval: 0.7758620689655172         f1score: 0.7573333333333333\n",
      "eval: 0.7758620689655172         f1score: 0.7573333333333333\n",
      "eval: 0.7758620689655172         f1score: 0.7573333333333333\n",
      "eval: 0.7758620689655172         f1score: 0.7573333333333333\n",
      "eval: 0.7758620689655172         f1score: 0.7573333333333333\n",
      "eval: 0.7758620689655172         f1score: 0.7573333333333333\n",
      "eval: 0.7758620689655172         f1score: 0.7573333333333333\n",
      "eval: 0.7758620689655172         f1score: 0.7573333333333333\n",
      "eval: 0.7758620689655172         f1score: 0.7573333333333333\n",
      "eval: 0.7758620689655172         f1score: 0.7573333333333333\n",
      "eval: 0.7758620689655172         f1score: 0.7573333333333333\n",
      "eval: 0.7758620689655172         f1score: 0.7573333333333333\n",
      "eval: 0.7758620689655172         f1score: 0.7573333333333333\n",
      "eval: 0.7758620689655172         f1score: 0.7573333333333333\n",
      "eval: 0.7758620689655172         f1score: 0.7573333333333333\n",
      "eval: 0.7758620689655172         f1score: 0.7573333333333333\n",
      "eval: 0.7758620689655172         f1score: 0.7573333333333333\n",
      "eval: 0.7931034482758621         f1score: 0.7712820512820513\n",
      "eval: 0.7931034482758621         f1score: 0.7712820512820513\n",
      "eval: 0.7931034482758621         f1score: 0.7712820512820513\n",
      "eval: 0.7931034482758621         f1score: 0.7712820512820513\n",
      "eval: 0.7931034482758621         f1score: 0.7712820512820513\n",
      "eval: 0.7931034482758621         f1score: 0.7712820512820513\n",
      "eval: 0.7931034482758621         f1score: 0.7712820512820513\n",
      "eval: 0.7931034482758621         f1score: 0.7712820512820513\n",
      "eval: 0.7931034482758621         f1score: 0.7712820512820513\n",
      "eval: 0.7931034482758621         f1score: 0.7712820512820513\n",
      "eval: 0.7931034482758621         f1score: 0.7712820512820513\n",
      "eval: 0.7931034482758621         f1score: 0.7712820512820513\n",
      "eval: 0.7931034482758621         f1score: 0.7712820512820513\n",
      "eval: 0.7931034482758621         f1score: 0.7712820512820513\n",
      "eval: 0.7931034482758621         f1score: 0.7712820512820513\n",
      "eval: 0.7931034482758621         f1score: 0.7712820512820513\n",
      "eval: 0.7931034482758621         f1score: 0.7712820512820513\n",
      "eval: 0.7931034482758621         f1score: 0.7712820512820513\n",
      "eval: 0.7931034482758621         f1score: 0.7712820512820513\n",
      "eval: 0.7931034482758621         f1score: 0.7712820512820513\n",
      "eval: 0.7931034482758621         f1score: 0.7712820512820513\n"
     ]
    },
    {
     "data": {
      "text/html": [
       "Waiting for W&B process to finish... <strong style=\"color:green\">(success).</strong>"
      ],
      "text/plain": [
       "<IPython.core.display.HTML object>"
      ]
     },
     "metadata": {},
     "output_type": "display_data"
    },
    {
     "name": "stderr",
     "output_type": "stream",
     "text": [
      "wandb: WARNING Source type is set to 'repo' but some required information is missing from the environment. A job will not be created from this run. See https://docs.wandb.ai/guides/launch/create-job\n"
     ]
    },
    {
     "data": {
      "application/vnd.jupyter.widget-view+json": {
       "model_id": "bcb92671495f4a17ab866cb4b0b058f4",
       "version_major": 2,
       "version_minor": 0
      },
      "text/plain": [
       "VBox(children=(Label(value='0.003 MB of 0.003 MB uploaded (0.000 MB deduped)\\r'), FloatProgress(value=1.0, max…"
      ]
     },
     "metadata": {},
     "output_type": "display_data"
    },
    {
     "data": {
      "text/html": [
       "<style>\n",
       "    table.wandb td:nth-child(1) { padding: 0 10px; text-align: left ; width: auto;} td:nth-child(2) {text-align: left ; width: 100%}\n",
       "    .wandb-row { display: flex; flex-direction: row; flex-wrap: wrap; justify-content: flex-start; width: 100% }\n",
       "    .wandb-col { display: flex; flex-direction: column; flex-basis: 100%; flex: 1; padding: 10px; }\n",
       "    </style>\n",
       "<div class=\"wandb-row\"><div class=\"wandb-col\"><h3>Run history:</h3><br/><table class=\"wandb\"><tr><td>epoch</td><td>▁▁▁▂▂▂▂▂▂▃▃▃▃▃▃▄▄▄▄▄▅▅▅▅▅▅▆▆▆▆▆▆▇▇▇▇▇███</td></tr><tr><td>f1val</td><td>▁▄▆▆▇█▇█▇▇▇▇▆▇▇▇▇▇▇▇▇▇▇▇▇▇▇▇▇▇▇▇▇▇▇▇▇▇▇▇</td></tr><tr><td>loss</td><td>█▇▆▅▄▄▃▃▃▂▂▂▂▂▂▂▂▂▂▁▁▁▁▁▁▁▁▁▁▁▁▁▁▁▁▁▁▁▁▁</td></tr><tr><td>lr</td><td>██▇▆▆▆▅▅▄▄▄▄▃▃▃▃▃▂▂▂▂▂▂▂▂▂▁▁▁▁▁▁▁▁▁▁▁▁▁▁</td></tr><tr><td>val</td><td>▁▄▅▆▇▇▇█▆▇▇▇▆▇▇▇▇▇▇▇▇▇▇▇▇▇▇▇▇▇▇▇▇▇▇▇▇▇▇▇</td></tr></table><br/></div><div class=\"wandb-col\"><h3>Run summary:</h3><br/><table class=\"wandb\"><tr><td>epoch</td><td>69</td></tr><tr><td>f1val</td><td>0.77128</td></tr><tr><td>loss</td><td>0.87992</td></tr><tr><td>lr</td><td>0.00021</td></tr><tr><td>val</td><td>0.7931</td></tr></table><br/></div></div>"
      ],
      "text/plain": [
       "<IPython.core.display.HTML object>"
      ]
     },
     "metadata": {},
     "output_type": "display_data"
    },
    {
     "data": {
      "text/html": [
       " View run <strong style=\"color:#cdcd00\">brisk-sweep-15</strong> at: <a href='https://wandb.ai/artzha/driver-intent-learning/runs/erbvp014' target=\"_blank\">https://wandb.ai/artzha/driver-intent-learning/runs/erbvp014</a><br/>Synced 6 W&B file(s), 0 media file(s), 0 artifact file(s) and 0 other file(s)"
      ],
      "text/plain": [
       "<IPython.core.display.HTML object>"
      ]
     },
     "metadata": {},
     "output_type": "display_data"
    },
    {
     "data": {
      "text/html": [
       "Find logs at: <code>./wandb/run-20230911_221749-erbvp014/logs</code>"
      ],
      "text/plain": [
       "<IPython.core.display.HTML object>"
      ]
     },
     "metadata": {},
     "output_type": "display_data"
    },
    {
     "name": "stderr",
     "output_type": "stream",
     "text": [
      "\u001b[34m\u001b[1mwandb\u001b[0m: Agent Starting Run: hovp1i9d with config:\n",
      "\u001b[34m\u001b[1mwandb\u001b[0m: \tdmodel: 64\n",
      "\u001b[34m\u001b[1mwandb\u001b[0m: \tdropout: 0.2012954953841673\n",
      "\u001b[34m\u001b[1mwandb\u001b[0m: \tfchiddendim: 256\n",
      "\u001b[34m\u001b[1mwandb\u001b[0m: \tgamma: 0.9\n",
      "\u001b[34m\u001b[1mwandb\u001b[0m: \thiddendim: 128\n",
      "\u001b[34m\u001b[1mwandb\u001b[0m: \tlr: 0.00700626550420649\n",
      "\u001b[34m\u001b[1mwandb\u001b[0m: \tmomentum: 0.9062974767556036\n",
      "\u001b[34m\u001b[1mwandb\u001b[0m: \tnumepochs: 70\n",
      "\u001b[34m\u001b[1mwandb\u001b[0m: \tnumheads: 8\n",
      "\u001b[34m\u001b[1mwandb\u001b[0m: \toptimizer: sgd\n",
      "\u001b[34m\u001b[1mwandb\u001b[0m: \tweight_decay: 0.009689657128706187\n",
      "Failed to detect the name of this notebook, you can set it manually with the WANDB_NOTEBOOK_NAME environment variable to enable code saving.\n"
     ]
    },
    {
     "data": {
      "text/html": [
       "wandb version 0.15.10 is available!  To upgrade, please run:\n",
       " $ pip install wandb --upgrade"
      ],
      "text/plain": [
       "<IPython.core.display.HTML object>"
      ]
     },
     "metadata": {},
     "output_type": "display_data"
    },
    {
     "data": {
      "text/html": [
       "Tracking run with wandb version 0.15.9"
      ],
      "text/plain": [
       "<IPython.core.display.HTML object>"
      ]
     },
     "metadata": {},
     "output_type": "display_data"
    },
    {
     "data": {
      "text/html": [
       "Run data is saved locally in <code>/home/arthur/AMRL/Research/Driver-Intent-Prediction/models/wandb/run-20230911_222154-hovp1i9d</code>"
      ],
      "text/plain": [
       "<IPython.core.display.HTML object>"
      ]
     },
     "metadata": {},
     "output_type": "display_data"
    },
    {
     "data": {
      "text/html": [
       "Syncing run <strong><a href='https://wandb.ai/artzha/driver-intent-learning/runs/hovp1i9d' target=\"_blank\">ruby-sweep-16</a></strong> to <a href='https://wandb.ai/artzha/driver-intent-learning' target=\"_blank\">Weights & Biases</a> (<a href='https://wandb.me/run' target=\"_blank\">docs</a>)<br/>Sweep page: <a href='https://wandb.ai/artzha/driver-intent-learning/sweeps/s79wrgdi' target=\"_blank\">https://wandb.ai/artzha/driver-intent-learning/sweeps/s79wrgdi</a>"
      ],
      "text/plain": [
       "<IPython.core.display.HTML object>"
      ]
     },
     "metadata": {},
     "output_type": "display_data"
    },
    {
     "data": {
      "text/html": [
       " View project at <a href='https://wandb.ai/artzha/driver-intent-learning' target=\"_blank\">https://wandb.ai/artzha/driver-intent-learning</a>"
      ],
      "text/plain": [
       "<IPython.core.display.HTML object>"
      ]
     },
     "metadata": {},
     "output_type": "display_data"
    },
    {
     "data": {
      "text/html": [
       " View sweep at <a href='https://wandb.ai/artzha/driver-intent-learning/sweeps/s79wrgdi' target=\"_blank\">https://wandb.ai/artzha/driver-intent-learning/sweeps/s79wrgdi</a>"
      ],
      "text/plain": [
       "<IPython.core.display.HTML object>"
      ]
     },
     "metadata": {},
     "output_type": "display_data"
    },
    {
     "data": {
      "text/html": [
       " View run at <a href='https://wandb.ai/artzha/driver-intent-learning/runs/hovp1i9d' target=\"_blank\">https://wandb.ai/artzha/driver-intent-learning/runs/hovp1i9d</a>"
      ],
      "text/plain": [
       "<IPython.core.display.HTML object>"
      ]
     },
     "metadata": {},
     "output_type": "display_data"
    },
    {
     "name": "stdout",
     "output_type": "stream",
     "text": [
      "Created model save dir for model root /home/arthur/AMRL/Research/Driver-Intent-Prediction/outputs/transformer_64_8_128_0.2012954953841673_0.00700626550420649_sgd_0.9062974767556036_0.009689657128706187_0.9\n",
      "Created model save dir for checkpoints /home/arthur/AMRL/Research/Driver-Intent-Prediction/outputs/transformer_64_8_128_0.2012954953841673_0.00700626550420649_sgd_0.9062974767556036_0.009689657128706187_0.9/ckpts\n",
      "eval: 0.5689655172413793         f1score: 0.40066094535840796\n",
      "eval: 0.7068965517241379         f1score: 0.668051948051948\n",
      "eval: 0.6724137931034483         f1score: 0.6317402597402596\n",
      "eval: 0.7241379310344828         f1score: 0.678515651554191\n",
      "eval: 0.7068965517241379         f1score: 0.6621578421578421\n",
      "eval: 0.7068965517241379         f1score: 0.6672486772486772\n",
      "eval: 0.7241379310344828         f1score: 0.6917032967032968\n",
      "eval: 0.6724137931034483         f1score: 0.6480352497743802\n",
      "eval: 0.6896551724137931         f1score: 0.6738190616748492\n",
      "eval: 0.7068965517241379         f1score: 0.6729100529100529\n",
      "eval: 0.7068965517241379         f1score: 0.6679059829059829\n",
      "eval: 0.6896551724137931         f1score: 0.6666085706408287\n",
      "eval: 0.7413793103448276         f1score: 0.7113026407144055\n",
      "eval: 0.7586206896551724         f1score: 0.7152940302940304\n",
      "eval: 0.7758620689655172         f1score: 0.736987742261576\n",
      "eval: 0.7758620689655172         f1score: 0.736987742261576\n",
      "eval: 0.7758620689655172         f1score: 0.736987742261576\n",
      "eval: 0.7758620689655172         f1score: 0.736987742261576\n",
      "eval: 0.7758620689655172         f1score: 0.736987742261576\n",
      "eval: 0.7758620689655172         f1score: 0.736987742261576\n",
      "eval: 0.7758620689655172         f1score: 0.736987742261576\n",
      "eval: 0.7758620689655172         f1score: 0.736987742261576\n",
      "eval: 0.7758620689655172         f1score: 0.736987742261576\n",
      "eval: 0.7758620689655172         f1score: 0.736987742261576\n",
      "eval: 0.7758620689655172         f1score: 0.736987742261576\n",
      "eval: 0.7758620689655172         f1score: 0.736987742261576\n",
      "eval: 0.7758620689655172         f1score: 0.736987742261576\n",
      "eval: 0.7758620689655172         f1score: 0.736987742261576\n",
      "eval: 0.7758620689655172         f1score: 0.736987742261576\n",
      "eval: 0.7758620689655172         f1score: 0.736987742261576\n",
      "eval: 0.7758620689655172         f1score: 0.736987742261576\n",
      "eval: 0.7758620689655172         f1score: 0.736987742261576\n",
      "eval: 0.7758620689655172         f1score: 0.736987742261576\n",
      "eval: 0.7758620689655172         f1score: 0.736987742261576\n",
      "eval: 0.7758620689655172         f1score: 0.736987742261576\n",
      "eval: 0.7758620689655172         f1score: 0.736987742261576\n",
      "eval: 0.7758620689655172         f1score: 0.736987742261576\n",
      "eval: 0.7758620689655172         f1score: 0.736987742261576\n",
      "eval: 0.7758620689655172         f1score: 0.736987742261576\n",
      "eval: 0.7758620689655172         f1score: 0.736987742261576\n",
      "eval: 0.7758620689655172         f1score: 0.736987742261576\n",
      "eval: 0.7758620689655172         f1score: 0.736987742261576\n",
      "eval: 0.7758620689655172         f1score: 0.736987742261576\n",
      "eval: 0.7758620689655172         f1score: 0.736987742261576\n",
      "eval: 0.7758620689655172         f1score: 0.736987742261576\n",
      "eval: 0.7758620689655172         f1score: 0.736987742261576\n",
      "eval: 0.7758620689655172         f1score: 0.736987742261576\n",
      "eval: 0.7758620689655172         f1score: 0.736987742261576\n",
      "eval: 0.7758620689655172         f1score: 0.736987742261576\n",
      "eval: 0.7758620689655172         f1score: 0.736987742261576\n",
      "eval: 0.7758620689655172         f1score: 0.736987742261576\n",
      "eval: 0.7758620689655172         f1score: 0.736987742261576\n",
      "eval: 0.7758620689655172         f1score: 0.736987742261576\n",
      "eval: 0.7758620689655172         f1score: 0.736987742261576\n",
      "eval: 0.7758620689655172         f1score: 0.736987742261576\n",
      "eval: 0.7758620689655172         f1score: 0.736987742261576\n",
      "eval: 0.7758620689655172         f1score: 0.736987742261576\n",
      "eval: 0.7758620689655172         f1score: 0.736987742261576\n",
      "eval: 0.7758620689655172         f1score: 0.736987742261576\n",
      "eval: 0.7758620689655172         f1score: 0.736987742261576\n",
      "eval: 0.7758620689655172         f1score: 0.736987742261576\n",
      "eval: 0.7758620689655172         f1score: 0.736987742261576\n",
      "eval: 0.7758620689655172         f1score: 0.736987742261576\n",
      "eval: 0.7758620689655172         f1score: 0.736987742261576\n",
      "eval: 0.7758620689655172         f1score: 0.736987742261576\n",
      "eval: 0.7758620689655172         f1score: 0.736987742261576\n",
      "eval: 0.7758620689655172         f1score: 0.736987742261576\n",
      "eval: 0.7758620689655172         f1score: 0.736987742261576\n",
      "eval: 0.7758620689655172         f1score: 0.736987742261576\n",
      "eval: 0.7758620689655172         f1score: 0.736987742261576\n"
     ]
    },
    {
     "data": {
      "text/html": [
       "Waiting for W&B process to finish... <strong style=\"color:green\">(success).</strong>"
      ],
      "text/plain": [
       "<IPython.core.display.HTML object>"
      ]
     },
     "metadata": {},
     "output_type": "display_data"
    },
    {
     "name": "stderr",
     "output_type": "stream",
     "text": [
      "wandb: WARNING Source type is set to 'repo' but some required information is missing from the environment. A job will not be created from this run. See https://docs.wandb.ai/guides/launch/create-job\n"
     ]
    },
    {
     "data": {
      "text/html": [
       "<style>\n",
       "    table.wandb td:nth-child(1) { padding: 0 10px; text-align: left ; width: auto;} td:nth-child(2) {text-align: left ; width: 100%}\n",
       "    .wandb-row { display: flex; flex-direction: row; flex-wrap: wrap; justify-content: flex-start; width: 100% }\n",
       "    .wandb-col { display: flex; flex-direction: column; flex-basis: 100%; flex: 1; padding: 10px; }\n",
       "    </style>\n",
       "<div class=\"wandb-row\"><div class=\"wandb-col\"><h3>Run history:</h3><br/><table class=\"wandb\"><tr><td>epoch</td><td>▁▁▁▂▂▂▂▂▂▃▃▃▃▃▃▄▄▄▄▄▅▅▅▅▅▅▆▆▆▆▆▆▇▇▇▇▇███</td></tr><tr><td>f1val</td><td>▁▇▇▇▆▇▇▇████████████████████████████████</td></tr><tr><td>loss</td><td>█▇▅▄▃▃▃▂▂▂▂▂▂▂▂▂▁▁▁▁▁▁▁▁▁▁▁▁▁▁▁▁▁▁▁▁▁▁▁▁</td></tr><tr><td>lr</td><td>█▇▆▅▄▄▃▃▃▂▂▂▂▂▂▁▁▁▁▁▁▁▁▁▁▁▁▁▁▁▁▁▁▁▁▁▁▁▁▁</td></tr><tr><td>val</td><td>▁▆▆▆▄▅▆▇████████████████████████████████</td></tr></table><br/></div><div class=\"wandb-col\"><h3>Run summary:</h3><br/><table class=\"wandb\"><tr><td>epoch</td><td>69</td></tr><tr><td>f1val</td><td>0.73699</td></tr><tr><td>loss</td><td>0.8534</td></tr><tr><td>lr</td><td>0.0</td></tr><tr><td>val</td><td>0.77586</td></tr></table><br/></div></div>"
      ],
      "text/plain": [
       "<IPython.core.display.HTML object>"
      ]
     },
     "metadata": {},
     "output_type": "display_data"
    },
    {
     "data": {
      "text/html": [
       " View run <strong style=\"color:#cdcd00\">ruby-sweep-16</strong> at: <a href='https://wandb.ai/artzha/driver-intent-learning/runs/hovp1i9d' target=\"_blank\">https://wandb.ai/artzha/driver-intent-learning/runs/hovp1i9d</a><br/>Synced 6 W&B file(s), 0 media file(s), 0 artifact file(s) and 0 other file(s)"
      ],
      "text/plain": [
       "<IPython.core.display.HTML object>"
      ]
     },
     "metadata": {},
     "output_type": "display_data"
    },
    {
     "data": {
      "text/html": [
       "Find logs at: <code>./wandb/run-20230911_222154-hovp1i9d/logs</code>"
      ],
      "text/plain": [
       "<IPython.core.display.HTML object>"
      ]
     },
     "metadata": {},
     "output_type": "display_data"
    },
    {
     "name": "stderr",
     "output_type": "stream",
     "text": [
      "\u001b[34m\u001b[1mwandb\u001b[0m: Agent Starting Run: cirm2d0m with config:\n",
      "\u001b[34m\u001b[1mwandb\u001b[0m: \tdmodel: 64\n",
      "\u001b[34m\u001b[1mwandb\u001b[0m: \tdropout: 0.2153550620568162\n",
      "\u001b[34m\u001b[1mwandb\u001b[0m: \tfchiddendim: 256\n",
      "\u001b[34m\u001b[1mwandb\u001b[0m: \tgamma: 0.99\n",
      "\u001b[34m\u001b[1mwandb\u001b[0m: \thiddendim: 128\n",
      "\u001b[34m\u001b[1mwandb\u001b[0m: \tlr: 0.002100388288315401\n",
      "\u001b[34m\u001b[1mwandb\u001b[0m: \tmomentum: 0.9114363477297568\n",
      "\u001b[34m\u001b[1mwandb\u001b[0m: \tnumepochs: 70\n",
      "\u001b[34m\u001b[1mwandb\u001b[0m: \tnumheads: 16\n",
      "\u001b[34m\u001b[1mwandb\u001b[0m: \toptimizer: sgd\n",
      "\u001b[34m\u001b[1mwandb\u001b[0m: \tweight_decay: 0.009212929401273329\n",
      "Failed to detect the name of this notebook, you can set it manually with the WANDB_NOTEBOOK_NAME environment variable to enable code saving.\n"
     ]
    },
    {
     "data": {
      "text/html": [
       "wandb version 0.15.10 is available!  To upgrade, please run:\n",
       " $ pip install wandb --upgrade"
      ],
      "text/plain": [
       "<IPython.core.display.HTML object>"
      ]
     },
     "metadata": {},
     "output_type": "display_data"
    },
    {
     "data": {
      "text/html": [
       "Tracking run with wandb version 0.15.9"
      ],
      "text/plain": [
       "<IPython.core.display.HTML object>"
      ]
     },
     "metadata": {},
     "output_type": "display_data"
    },
    {
     "data": {
      "text/html": [
       "Run data is saved locally in <code>/home/arthur/AMRL/Research/Driver-Intent-Prediction/models/wandb/run-20230911_222321-cirm2d0m</code>"
      ],
      "text/plain": [
       "<IPython.core.display.HTML object>"
      ]
     },
     "metadata": {},
     "output_type": "display_data"
    },
    {
     "data": {
      "text/html": [
       "Syncing run <strong><a href='https://wandb.ai/artzha/driver-intent-learning/runs/cirm2d0m' target=\"_blank\">deft-sweep-17</a></strong> to <a href='https://wandb.ai/artzha/driver-intent-learning' target=\"_blank\">Weights & Biases</a> (<a href='https://wandb.me/run' target=\"_blank\">docs</a>)<br/>Sweep page: <a href='https://wandb.ai/artzha/driver-intent-learning/sweeps/s79wrgdi' target=\"_blank\">https://wandb.ai/artzha/driver-intent-learning/sweeps/s79wrgdi</a>"
      ],
      "text/plain": [
       "<IPython.core.display.HTML object>"
      ]
     },
     "metadata": {},
     "output_type": "display_data"
    },
    {
     "data": {
      "text/html": [
       " View project at <a href='https://wandb.ai/artzha/driver-intent-learning' target=\"_blank\">https://wandb.ai/artzha/driver-intent-learning</a>"
      ],
      "text/plain": [
       "<IPython.core.display.HTML object>"
      ]
     },
     "metadata": {},
     "output_type": "display_data"
    },
    {
     "data": {
      "text/html": [
       " View sweep at <a href='https://wandb.ai/artzha/driver-intent-learning/sweeps/s79wrgdi' target=\"_blank\">https://wandb.ai/artzha/driver-intent-learning/sweeps/s79wrgdi</a>"
      ],
      "text/plain": [
       "<IPython.core.display.HTML object>"
      ]
     },
     "metadata": {},
     "output_type": "display_data"
    },
    {
     "data": {
      "text/html": [
       " View run at <a href='https://wandb.ai/artzha/driver-intent-learning/runs/cirm2d0m' target=\"_blank\">https://wandb.ai/artzha/driver-intent-learning/runs/cirm2d0m</a>"
      ],
      "text/plain": [
       "<IPython.core.display.HTML object>"
      ]
     },
     "metadata": {},
     "output_type": "display_data"
    },
    {
     "name": "stdout",
     "output_type": "stream",
     "text": [
      "Created model save dir for model root /home/arthur/AMRL/Research/Driver-Intent-Prediction/outputs/transformer_64_16_128_0.2153550620568162_0.002100388288315401_sgd_0.9114363477297568_0.009212929401273329_0.99\n",
      "Created model save dir for checkpoints /home/arthur/AMRL/Research/Driver-Intent-Prediction/outputs/transformer_64_16_128_0.2153550620568162_0.002100388288315401_sgd_0.9114363477297568_0.009212929401273329_0.99/ckpts\n",
      "eval: 0.46551724137931033         f1score: 0.2885002649708531\n",
      "eval: 0.6379310344827587         f1score: 0.5845714285714285\n",
      "eval: 0.7413793103448276         f1score: 0.7041190476190475\n",
      "eval: 0.7413793103448276         f1score: 0.6956580005360493\n",
      "eval: 0.7931034482758621         f1score: 0.7515473032714411\n",
      "eval: 0.7931034482758621         f1score: 0.7646706805327496\n",
      "eval: 0.7586206896551724         f1score: 0.7426772486772487\n",
      "eval: 0.7758620689655172         f1score: 0.7395032553653244\n",
      "eval: 0.7586206896551724         f1score: 0.7228174603174603\n",
      "eval: 0.7758620689655172         f1score: 0.7346660024079379\n",
      "eval: 0.8103448275862069         f1score: 0.7715409212686889\n",
      "eval: 0.8103448275862069         f1score: 0.7506112762011129\n",
      "eval: 0.7758620689655172         f1score: 0.7212454212454211\n",
      "eval: 0.7931034482758621         f1score: 0.7465162907268169\n",
      "eval: 0.7931034482758621         f1score: 0.7593406593406593\n",
      "eval: 0.8103448275862069         f1score: 0.7715409212686889\n",
      "eval: 0.7758620689655172         f1score: 0.7346660024079379\n",
      "eval: 0.7758620689655172         f1score: 0.7346660024079379\n",
      "eval: 0.7758620689655172         f1score: 0.7346660024079379\n",
      "eval: 0.7931034482758621         f1score: 0.7465162907268169\n",
      "eval: 0.7931034482758621         f1score: 0.7593050193050193\n",
      "eval: 0.7758620689655172         f1score: 0.7346660024079379\n",
      "eval: 0.8103448275862069         f1score: 0.7715409212686889\n",
      "eval: 0.7931034482758621         f1score: 0.7593050193050193\n",
      "eval: 0.7758620689655172         f1score: 0.7346660024079379\n",
      "eval: 0.7758620689655172         f1score: 0.7212454212454211\n",
      "eval: 0.7758620689655172         f1score: 0.7346660024079379\n",
      "eval: 0.7758620689655172         f1score: 0.7346660024079379\n",
      "eval: 0.7758620689655172         f1score: 0.7346660024079379\n",
      "eval: 0.7931034482758621         f1score: 0.7593050193050193\n",
      "eval: 0.7758620689655172         f1score: 0.7346660024079379\n",
      "eval: 0.7758620689655172         f1score: 0.7346660024079379\n",
      "eval: 0.7931034482758621         f1score: 0.7593050193050193\n",
      "eval: 0.7758620689655172         f1score: 0.7346660024079379\n",
      "eval: 0.7931034482758621         f1score: 0.7593050193050193\n",
      "eval: 0.7931034482758621         f1score: 0.7593050193050193\n",
      "eval: 0.7758620689655172         f1score: 0.7346660024079379\n",
      "eval: 0.7758620689655172         f1score: 0.7346660024079379\n",
      "eval: 0.7931034482758621         f1score: 0.7593050193050193\n",
      "eval: 0.7931034482758621         f1score: 0.7593050193050193\n",
      "eval: 0.7931034482758621         f1score: 0.7593050193050193\n",
      "eval: 0.7931034482758621         f1score: 0.7593050193050193\n",
      "eval: 0.7931034482758621         f1score: 0.7593050193050193\n",
      "eval: 0.7931034482758621         f1score: 0.7593050193050193\n",
      "eval: 0.7931034482758621         f1score: 0.7593050193050193\n",
      "eval: 0.7931034482758621         f1score: 0.7593050193050193\n",
      "eval: 0.7931034482758621         f1score: 0.7593050193050193\n",
      "eval: 0.7931034482758621         f1score: 0.7593050193050193\n",
      "eval: 0.7931034482758621         f1score: 0.7593050193050193\n",
      "eval: 0.7931034482758621         f1score: 0.7593050193050193\n",
      "eval: 0.7931034482758621         f1score: 0.7593050193050193\n",
      "eval: 0.7931034482758621         f1score: 0.7593050193050193\n",
      "eval: 0.7931034482758621         f1score: 0.7593050193050193\n",
      "eval: 0.7931034482758621         f1score: 0.7593050193050193\n",
      "eval: 0.7931034482758621         f1score: 0.7593050193050193\n",
      "eval: 0.7931034482758621         f1score: 0.7593050193050193\n",
      "eval: 0.7931034482758621         f1score: 0.7593050193050193\n",
      "eval: 0.7931034482758621         f1score: 0.7593050193050193\n",
      "eval: 0.7931034482758621         f1score: 0.7593050193050193\n",
      "eval: 0.7931034482758621         f1score: 0.7593050193050193\n",
      "eval: 0.7931034482758621         f1score: 0.7593050193050193\n",
      "eval: 0.7931034482758621         f1score: 0.7593050193050193\n",
      "eval: 0.7931034482758621         f1score: 0.7593050193050193\n",
      "eval: 0.7931034482758621         f1score: 0.7593050193050193\n",
      "eval: 0.7931034482758621         f1score: 0.7593050193050193\n",
      "eval: 0.7931034482758621         f1score: 0.7593050193050193\n",
      "eval: 0.7931034482758621         f1score: 0.7593050193050193\n",
      "eval: 0.7931034482758621         f1score: 0.7593050193050193\n",
      "eval: 0.7931034482758621         f1score: 0.7593050193050193\n",
      "eval: 0.7931034482758621         f1score: 0.7593050193050193\n"
     ]
    },
    {
     "data": {
      "text/html": [
       "Waiting for W&B process to finish... <strong style=\"color:green\">(success).</strong>"
      ],
      "text/plain": [
       "<IPython.core.display.HTML object>"
      ]
     },
     "metadata": {},
     "output_type": "display_data"
    },
    {
     "name": "stderr",
     "output_type": "stream",
     "text": [
      "wandb: WARNING Source type is set to 'repo' but some required information is missing from the environment. A job will not be created from this run. See https://docs.wandb.ai/guides/launch/create-job\n"
     ]
    },
    {
     "data": {
      "application/vnd.jupyter.widget-view+json": {
       "model_id": "961a0c810fa0469c97107820e8429ad0",
       "version_major": 2,
       "version_minor": 0
      },
      "text/plain": [
       "VBox(children=(Label(value='0.003 MB of 0.015 MB uploaded (0.000 MB deduped)\\r'), FloatProgress(value=0.209407…"
      ]
     },
     "metadata": {},
     "output_type": "display_data"
    },
    {
     "data": {
      "text/html": [
       "<style>\n",
       "    table.wandb td:nth-child(1) { padding: 0 10px; text-align: left ; width: auto;} td:nth-child(2) {text-align: left ; width: 100%}\n",
       "    .wandb-row { display: flex; flex-direction: row; flex-wrap: wrap; justify-content: flex-start; width: 100% }\n",
       "    .wandb-col { display: flex; flex-direction: column; flex-basis: 100%; flex: 1; padding: 10px; }\n",
       "    </style>\n",
       "<div class=\"wandb-row\"><div class=\"wandb-col\"><h3>Run history:</h3><br/><table class=\"wandb\"><tr><td>epoch</td><td>▁▁▁▂▂▂▂▂▂▃▃▃▃▃▃▄▄▄▄▄▅▅▅▅▅▅▆▆▆▆▆▆▇▇▇▇▇███</td></tr><tr><td>f1val</td><td>▁▅▇██▇█▇██▇█▇█▇▇▇▇▇▇█▇██████████████████</td></tr><tr><td>loss</td><td>█▇▅▅▄▄▃▃▃▂▂▂▂▂▂▂▂▂▂▁▁▁▁▁▁▁▁▁▁▁▁▁▁▁▁▁▁▁▁▁</td></tr><tr><td>lr</td><td>███▇▇▇▇▆▆▆▆▆▅▅▅▅▅▄▄▄▄▄▄▃▃▃▃▃▃▂▂▂▂▂▂▂▁▁▁▁</td></tr><tr><td>val</td><td>▁▅▇█▇▇█▇██▇█▇█▇▇▇▇▇▇█▇██████████████████</td></tr></table><br/></div><div class=\"wandb-col\"><h3>Run summary:</h3><br/><table class=\"wandb\"><tr><td>epoch</td><td>69</td></tr><tr><td>f1val</td><td>0.75931</td></tr><tr><td>loss</td><td>1.0403</td></tr><tr><td>lr</td><td>0.00104</td></tr><tr><td>val</td><td>0.7931</td></tr></table><br/></div></div>"
      ],
      "text/plain": [
       "<IPython.core.display.HTML object>"
      ]
     },
     "metadata": {},
     "output_type": "display_data"
    },
    {
     "data": {
      "text/html": [
       " View run <strong style=\"color:#cdcd00\">deft-sweep-17</strong> at: <a href='https://wandb.ai/artzha/driver-intent-learning/runs/cirm2d0m' target=\"_blank\">https://wandb.ai/artzha/driver-intent-learning/runs/cirm2d0m</a><br/>Synced 6 W&B file(s), 0 media file(s), 0 artifact file(s) and 0 other file(s)"
      ],
      "text/plain": [
       "<IPython.core.display.HTML object>"
      ]
     },
     "metadata": {},
     "output_type": "display_data"
    },
    {
     "data": {
      "text/html": [
       "Find logs at: <code>./wandb/run-20230911_222321-cirm2d0m/logs</code>"
      ],
      "text/plain": [
       "<IPython.core.display.HTML object>"
      ]
     },
     "metadata": {},
     "output_type": "display_data"
    },
    {
     "name": "stderr",
     "output_type": "stream",
     "text": [
      "\u001b[34m\u001b[1mwandb\u001b[0m: Agent Starting Run: 5wtcuo6a with config:\n",
      "\u001b[34m\u001b[1mwandb\u001b[0m: \tdmodel: 64\n",
      "\u001b[34m\u001b[1mwandb\u001b[0m: \tdropout: 0.214485220545174\n",
      "\u001b[34m\u001b[1mwandb\u001b[0m: \tfchiddendim: 512\n",
      "\u001b[34m\u001b[1mwandb\u001b[0m: \tgamma: 0.99\n",
      "\u001b[34m\u001b[1mwandb\u001b[0m: \thiddendim: 128\n",
      "\u001b[34m\u001b[1mwandb\u001b[0m: \tlr: 0.00577368082436713\n",
      "\u001b[34m\u001b[1mwandb\u001b[0m: \tmomentum: 0.939987643408039\n",
      "\u001b[34m\u001b[1mwandb\u001b[0m: \tnumepochs: 70\n",
      "\u001b[34m\u001b[1mwandb\u001b[0m: \tnumheads: 16\n",
      "\u001b[34m\u001b[1mwandb\u001b[0m: \toptimizer: sgd\n",
      "\u001b[34m\u001b[1mwandb\u001b[0m: \tweight_decay: 0.008573043065000506\n",
      "Failed to detect the name of this notebook, you can set it manually with the WANDB_NOTEBOOK_NAME environment variable to enable code saving.\n"
     ]
    },
    {
     "data": {
      "text/html": [
       "wandb version 0.15.10 is available!  To upgrade, please run:\n",
       " $ pip install wandb --upgrade"
      ],
      "text/plain": [
       "<IPython.core.display.HTML object>"
      ]
     },
     "metadata": {},
     "output_type": "display_data"
    },
    {
     "data": {
      "text/html": [
       "Tracking run with wandb version 0.15.9"
      ],
      "text/plain": [
       "<IPython.core.display.HTML object>"
      ]
     },
     "metadata": {},
     "output_type": "display_data"
    },
    {
     "data": {
      "text/html": [
       "Run data is saved locally in <code>/home/arthur/AMRL/Research/Driver-Intent-Prediction/models/wandb/run-20230911_222515-5wtcuo6a</code>"
      ],
      "text/plain": [
       "<IPython.core.display.HTML object>"
      ]
     },
     "metadata": {},
     "output_type": "display_data"
    },
    {
     "data": {
      "text/html": [
       "Syncing run <strong><a href='https://wandb.ai/artzha/driver-intent-learning/runs/5wtcuo6a' target=\"_blank\">vibrant-sweep-18</a></strong> to <a href='https://wandb.ai/artzha/driver-intent-learning' target=\"_blank\">Weights & Biases</a> (<a href='https://wandb.me/run' target=\"_blank\">docs</a>)<br/>Sweep page: <a href='https://wandb.ai/artzha/driver-intent-learning/sweeps/s79wrgdi' target=\"_blank\">https://wandb.ai/artzha/driver-intent-learning/sweeps/s79wrgdi</a>"
      ],
      "text/plain": [
       "<IPython.core.display.HTML object>"
      ]
     },
     "metadata": {},
     "output_type": "display_data"
    },
    {
     "data": {
      "text/html": [
       " View project at <a href='https://wandb.ai/artzha/driver-intent-learning' target=\"_blank\">https://wandb.ai/artzha/driver-intent-learning</a>"
      ],
      "text/plain": [
       "<IPython.core.display.HTML object>"
      ]
     },
     "metadata": {},
     "output_type": "display_data"
    },
    {
     "data": {
      "text/html": [
       " View sweep at <a href='https://wandb.ai/artzha/driver-intent-learning/sweeps/s79wrgdi' target=\"_blank\">https://wandb.ai/artzha/driver-intent-learning/sweeps/s79wrgdi</a>"
      ],
      "text/plain": [
       "<IPython.core.display.HTML object>"
      ]
     },
     "metadata": {},
     "output_type": "display_data"
    },
    {
     "data": {
      "text/html": [
       " View run at <a href='https://wandb.ai/artzha/driver-intent-learning/runs/5wtcuo6a' target=\"_blank\">https://wandb.ai/artzha/driver-intent-learning/runs/5wtcuo6a</a>"
      ],
      "text/plain": [
       "<IPython.core.display.HTML object>"
      ]
     },
     "metadata": {},
     "output_type": "display_data"
    },
    {
     "name": "stdout",
     "output_type": "stream",
     "text": [
      "Created model save dir for model root /home/arthur/AMRL/Research/Driver-Intent-Prediction/outputs/transformer_64_16_128_0.214485220545174_0.00577368082436713_sgd_0.939987643408039_0.008573043065000506_0.99\n",
      "Created model save dir for checkpoints /home/arthur/AMRL/Research/Driver-Intent-Prediction/outputs/transformer_64_16_128_0.214485220545174_0.00577368082436713_sgd_0.939987643408039_0.008573043065000506_0.99/ckpts\n",
      "eval: 0.7068965517241379         f1score: 0.6627838827838828\n",
      "eval: 0.8275862068965517         f1score: 0.8105128205128205\n",
      "eval: 0.7241379310344828         f1score: 0.7613669467787115\n",
      "eval: 0.6896551724137931         f1score: 0.6898110661268555\n",
      "eval: 0.6724137931034483         f1score: 0.6927812284334024\n",
      "eval: 0.7413793103448276         f1score: 0.7259343053460701\n",
      "eval: 0.7068965517241379         f1score: 0.6952813852813853\n",
      "eval: 0.7586206896551724         f1score: 0.7274452679103842\n",
      "eval: 0.7586206896551724         f1score: 0.7393449687567333\n",
      "eval: 0.7758620689655172         f1score: 0.7832193732193733\n",
      "eval: 0.7931034482758621         f1score: 0.7749214226633582\n",
      "eval: 0.7413793103448276         f1score: 0.7246801346801346\n",
      "eval: 0.7586206896551724         f1score: 0.7403226118033421\n",
      "eval: 0.8103448275862069         f1score: 0.7928030303030302\n",
      "eval: 0.7586206896551724         f1score: 0.7550738916256158\n",
      "eval: 0.7068965517241379         f1score: 0.7042063492063492\n",
      "eval: 0.8103448275862069         f1score: 0.8147619047619049\n",
      "eval: 0.7413793103448276         f1score: 0.7548351648351648\n",
      "eval: 0.6896551724137931         f1score: 0.6537562234925318\n",
      "eval: 0.7758620689655172         f1score: 0.8088554720133668\n",
      "eval: 0.6896551724137931         f1score: 0.694313725490196\n",
      "eval: 0.7241379310344828         f1score: 0.7250574712643678\n",
      "eval: 0.7413793103448276         f1score: 0.7445451864956509\n",
      "eval: 0.7586206896551724         f1score: 0.7483768561187916\n",
      "eval: 0.7931034482758621         f1score: 0.7749481356882534\n",
      "eval: 0.7931034482758621         f1score: 0.7832421091041781\n",
      "eval: 0.7931034482758621         f1score: 0.7753895831315185\n",
      "eval: 0.7931034482758621         f1score: 0.7756596915217605\n",
      "eval: 0.7931034482758621         f1score: 0.7756596915217605\n",
      "eval: 0.7931034482758621         f1score: 0.7756596915217605\n",
      "eval: 0.7931034482758621         f1score: 0.7756596915217605\n",
      "eval: 0.8103448275862069         f1score: 0.7875243664717348\n",
      "eval: 0.8103448275862069         f1score: 0.7875243664717348\n",
      "eval: 0.7931034482758621         f1score: 0.7756596915217605\n",
      "eval: 0.7931034482758621         f1score: 0.7756596915217605\n",
      "eval: 0.8103448275862069         f1score: 0.7875243664717348\n",
      "eval: 0.8103448275862069         f1score: 0.7875243664717348\n",
      "eval: 0.7931034482758621         f1score: 0.7756596915217605\n",
      "eval: 0.8103448275862069         f1score: 0.7875243664717348\n",
      "eval: 0.8103448275862069         f1score: 0.7875243664717348\n",
      "eval: 0.8103448275862069         f1score: 0.7875243664717348\n",
      "eval: 0.8103448275862069         f1score: 0.7875243664717348\n",
      "eval: 0.8103448275862069         f1score: 0.7875243664717348\n",
      "eval: 0.8103448275862069         f1score: 0.7875243664717348\n",
      "eval: 0.8103448275862069         f1score: 0.7875243664717348\n",
      "eval: 0.8103448275862069         f1score: 0.7875243664717348\n",
      "eval: 0.8103448275862069         f1score: 0.7875243664717348\n",
      "eval: 0.8103448275862069         f1score: 0.7875243664717348\n",
      "eval: 0.8103448275862069         f1score: 0.7875243664717348\n",
      "eval: 0.8103448275862069         f1score: 0.7875243664717348\n",
      "eval: 0.8103448275862069         f1score: 0.7875243664717348\n",
      "eval: 0.8103448275862069         f1score: 0.7875243664717348\n",
      "eval: 0.8103448275862069         f1score: 0.7875243664717348\n",
      "eval: 0.8103448275862069         f1score: 0.7875243664717348\n",
      "eval: 0.8103448275862069         f1score: 0.7875243664717348\n",
      "eval: 0.8103448275862069         f1score: 0.7875243664717348\n",
      "eval: 0.8103448275862069         f1score: 0.7875243664717348\n",
      "eval: 0.8103448275862069         f1score: 0.7875243664717348\n",
      "eval: 0.8103448275862069         f1score: 0.7875243664717348\n",
      "eval: 0.8103448275862069         f1score: 0.7875243664717348\n",
      "eval: 0.8103448275862069         f1score: 0.7875243664717348\n",
      "eval: 0.8103448275862069         f1score: 0.7875243664717348\n",
      "eval: 0.8103448275862069         f1score: 0.7875243664717348\n",
      "eval: 0.8103448275862069         f1score: 0.7875243664717348\n",
      "eval: 0.8103448275862069         f1score: 0.7875243664717348\n",
      "eval: 0.8103448275862069         f1score: 0.7875243664717348\n",
      "eval: 0.8103448275862069         f1score: 0.7875243664717348\n",
      "eval: 0.8103448275862069         f1score: 0.7875243664717348\n",
      "eval: 0.8103448275862069         f1score: 0.7875243664717348\n",
      "eval: 0.8103448275862069         f1score: 0.7875243664717348\n"
     ]
    },
    {
     "data": {
      "text/html": [
       "Waiting for W&B process to finish... <strong style=\"color:green\">(success).</strong>"
      ],
      "text/plain": [
       "<IPython.core.display.HTML object>"
      ]
     },
     "metadata": {},
     "output_type": "display_data"
    },
    {
     "name": "stderr",
     "output_type": "stream",
     "text": [
      "wandb: WARNING Source type is set to 'repo' but some required information is missing from the environment. A job will not be created from this run. See https://docs.wandb.ai/guides/launch/create-job\n"
     ]
    },
    {
     "data": {
      "text/html": [
       "<style>\n",
       "    table.wandb td:nth-child(1) { padding: 0 10px; text-align: left ; width: auto;} td:nth-child(2) {text-align: left ; width: 100%}\n",
       "    .wandb-row { display: flex; flex-direction: row; flex-wrap: wrap; justify-content: flex-start; width: 100% }\n",
       "    .wandb-col { display: flex; flex-direction: column; flex-basis: 100%; flex: 1; padding: 10px; }\n",
       "    </style>\n",
       "<div class=\"wandb-row\"><div class=\"wandb-col\"><h3>Run history:</h3><br/><table class=\"wandb\"><tr><td>epoch</td><td>▁▁▁▂▂▂▂▂▂▃▃▃▃▃▃▄▄▄▄▄▅▅▅▅▅▅▆▆▆▆▆▆▇▇▇▇▇███</td></tr><tr><td>f1val</td><td>▁█▂▄▄▅▆▅▅▃▅█▄▅▆▆▆▆▇▆▇▆▇▇▇▇▇▇▇▇▇▇▇▇▇▇▇▇▇▇</td></tr><tr><td>loss</td><td>█▆▅▅▄▄▃▃▃▃▂▂▂▂▂▂▂▂▂▂▁▁▁▁▁▁▁▁▁▁▁▁▁▁▁▁▁▁▁▁</td></tr><tr><td>lr</td><td>███▇▇▇▇▆▆▆▆▆▅▅▅▅▅▄▄▄▄▄▄▃▃▃▃▃▃▂▂▂▂▂▂▂▁▁▁▁</td></tr><tr><td>val</td><td>▂█▁▄▄▄▆▄▄▂▄▅▃▄▆▆▆▆▇▆▇▆▇▇▇▇▇▇▇▇▇▇▇▇▇▇▇▇▇▇</td></tr></table><br/></div><div class=\"wandb-col\"><h3>Run summary:</h3><br/><table class=\"wandb\"><tr><td>epoch</td><td>69</td></tr><tr><td>f1val</td><td>0.78752</td></tr><tr><td>loss</td><td>1.08054</td></tr><tr><td>lr</td><td>0.00286</td></tr><tr><td>val</td><td>0.81034</td></tr></table><br/></div></div>"
      ],
      "text/plain": [
       "<IPython.core.display.HTML object>"
      ]
     },
     "metadata": {},
     "output_type": "display_data"
    },
    {
     "data": {
      "text/html": [
       " View run <strong style=\"color:#cdcd00\">vibrant-sweep-18</strong> at: <a href='https://wandb.ai/artzha/driver-intent-learning/runs/5wtcuo6a' target=\"_blank\">https://wandb.ai/artzha/driver-intent-learning/runs/5wtcuo6a</a><br/>Synced 6 W&B file(s), 0 media file(s), 0 artifact file(s) and 0 other file(s)"
      ],
      "text/plain": [
       "<IPython.core.display.HTML object>"
      ]
     },
     "metadata": {},
     "output_type": "display_data"
    },
    {
     "data": {
      "text/html": [
       "Find logs at: <code>./wandb/run-20230911_222515-5wtcuo6a/logs</code>"
      ],
      "text/plain": [
       "<IPython.core.display.HTML object>"
      ]
     },
     "metadata": {},
     "output_type": "display_data"
    },
    {
     "name": "stderr",
     "output_type": "stream",
     "text": [
      "\u001b[34m\u001b[1mwandb\u001b[0m: Agent Starting Run: ct99jhls with config:\n",
      "\u001b[34m\u001b[1mwandb\u001b[0m: \tdmodel: 64\n",
      "\u001b[34m\u001b[1mwandb\u001b[0m: \tdropout: 0.16316714562501972\n",
      "\u001b[34m\u001b[1mwandb\u001b[0m: \tfchiddendim: 256\n",
      "\u001b[34m\u001b[1mwandb\u001b[0m: \tgamma: 0.99\n",
      "\u001b[34m\u001b[1mwandb\u001b[0m: \thiddendim: 128\n",
      "\u001b[34m\u001b[1mwandb\u001b[0m: \tlr: 0.0033262459051136384\n",
      "\u001b[34m\u001b[1mwandb\u001b[0m: \tmomentum: 0.9785824745785552\n",
      "\u001b[34m\u001b[1mwandb\u001b[0m: \tnumepochs: 70\n",
      "\u001b[34m\u001b[1mwandb\u001b[0m: \tnumheads: 8\n",
      "\u001b[34m\u001b[1mwandb\u001b[0m: \toptimizer: sgd\n",
      "\u001b[34m\u001b[1mwandb\u001b[0m: \tweight_decay: 0.0009514754792009736\n",
      "Failed to detect the name of this notebook, you can set it manually with the WANDB_NOTEBOOK_NAME environment variable to enable code saving.\n"
     ]
    },
    {
     "data": {
      "text/html": [
       "wandb version 0.15.10 is available!  To upgrade, please run:\n",
       " $ pip install wandb --upgrade"
      ],
      "text/plain": [
       "<IPython.core.display.HTML object>"
      ]
     },
     "metadata": {},
     "output_type": "display_data"
    },
    {
     "data": {
      "text/html": [
       "Tracking run with wandb version 0.15.9"
      ],
      "text/plain": [
       "<IPython.core.display.HTML object>"
      ]
     },
     "metadata": {},
     "output_type": "display_data"
    },
    {
     "data": {
      "text/html": [
       "Run data is saved locally in <code>/home/arthur/AMRL/Research/Driver-Intent-Prediction/models/wandb/run-20230911_222723-ct99jhls</code>"
      ],
      "text/plain": [
       "<IPython.core.display.HTML object>"
      ]
     },
     "metadata": {},
     "output_type": "display_data"
    },
    {
     "data": {
      "text/html": [
       "Syncing run <strong><a href='https://wandb.ai/artzha/driver-intent-learning/runs/ct99jhls' target=\"_blank\">misty-sweep-19</a></strong> to <a href='https://wandb.ai/artzha/driver-intent-learning' target=\"_blank\">Weights & Biases</a> (<a href='https://wandb.me/run' target=\"_blank\">docs</a>)<br/>Sweep page: <a href='https://wandb.ai/artzha/driver-intent-learning/sweeps/s79wrgdi' target=\"_blank\">https://wandb.ai/artzha/driver-intent-learning/sweeps/s79wrgdi</a>"
      ],
      "text/plain": [
       "<IPython.core.display.HTML object>"
      ]
     },
     "metadata": {},
     "output_type": "display_data"
    },
    {
     "data": {
      "text/html": [
       " View project at <a href='https://wandb.ai/artzha/driver-intent-learning' target=\"_blank\">https://wandb.ai/artzha/driver-intent-learning</a>"
      ],
      "text/plain": [
       "<IPython.core.display.HTML object>"
      ]
     },
     "metadata": {},
     "output_type": "display_data"
    },
    {
     "data": {
      "text/html": [
       " View sweep at <a href='https://wandb.ai/artzha/driver-intent-learning/sweeps/s79wrgdi' target=\"_blank\">https://wandb.ai/artzha/driver-intent-learning/sweeps/s79wrgdi</a>"
      ],
      "text/plain": [
       "<IPython.core.display.HTML object>"
      ]
     },
     "metadata": {},
     "output_type": "display_data"
    },
    {
     "data": {
      "text/html": [
       " View run at <a href='https://wandb.ai/artzha/driver-intent-learning/runs/ct99jhls' target=\"_blank\">https://wandb.ai/artzha/driver-intent-learning/runs/ct99jhls</a>"
      ],
      "text/plain": [
       "<IPython.core.display.HTML object>"
      ]
     },
     "metadata": {},
     "output_type": "display_data"
    },
    {
     "name": "stdout",
     "output_type": "stream",
     "text": [
      "Created model save dir for model root /home/arthur/AMRL/Research/Driver-Intent-Prediction/outputs/transformer_64_8_128_0.16316714562501972_0.0033262459051136384_sgd_0.9785824745785552_0.0009514754792009736_0.99\n",
      "Created model save dir for checkpoints /home/arthur/AMRL/Research/Driver-Intent-Prediction/outputs/transformer_64_8_128_0.16316714562501972_0.0033262459051136384_sgd_0.9785824745785552_0.0009514754792009736_0.99/ckpts\n",
      "eval: 0.5172413793103449         f1score: 0.48150183150183157\n",
      "eval: 0.6896551724137931         f1score: 0.6134757834757835\n",
      "eval: 0.7413793103448276         f1score: 0.7193636428930548\n",
      "eval: 0.7068965517241379         f1score: 0.5884178628389154\n",
      "eval: 0.7413793103448276         f1score: 0.6902597242085563\n",
      "eval: 0.7931034482758621         f1score: 0.7246115288220552\n",
      "eval: 0.7413793103448276         f1score: 0.6750245202146967\n",
      "eval: 0.7068965517241379         f1score: 0.6878838808250572\n",
      "eval: 0.7413793103448276         f1score: 0.6774641536201044\n",
      "eval: 0.7758620689655172         f1score: 0.7728321804761967\n",
      "eval: 0.6896551724137931         f1score: 0.721016731016731\n",
      "eval: 0.7586206896551724         f1score: 0.7414251963032451\n",
      "eval: 0.6379310344827587         f1score: 0.6127099567099568\n",
      "eval: 0.7586206896551724         f1score: 0.7074418604651163\n",
      "eval: 0.6724137931034483         f1score: 0.6728025693035835\n",
      "eval: 0.7068965517241379         f1score: 0.682822966507177\n",
      "eval: 0.6379310344827587         f1score: 0.6236399861399862\n",
      "eval: 0.7068965517241379         f1score: 0.6923754789272031\n",
      "eval: 0.7586206896551724         f1score: 0.7495687494598565\n",
      "eval: 0.7241379310344828         f1score: 0.7159443419078307\n",
      "eval: 0.6551724137931034         f1score: 0.6450364873222016\n",
      "eval: 0.6896551724137931         f1score: 0.6865956727518593\n",
      "eval: 0.7068965517241379         f1score: 0.6811125993261558\n",
      "eval: 0.7413793103448276         f1score: 0.7395604395604396\n",
      "eval: 0.7413793103448276         f1score: 0.7269230769230769\n",
      "eval: 0.7241379310344828         f1score: 0.6825906331208558\n",
      "eval: 0.7413793103448276         f1score: 0.6923980201399557\n",
      "eval: 0.6724137931034483         f1score: 0.6456166056166055\n",
      "eval: 0.7413793103448276         f1score: 0.7253846153846155\n",
      "eval: 0.7758620689655172         f1score: 0.7339939888034261\n",
      "eval: 0.7413793103448276         f1score: 0.7186429512516469\n",
      "eval: 0.7758620689655172         f1score: 0.7447082745177118\n",
      "eval: 0.6896551724137931         f1score: 0.660479252429717\n",
      "eval: 0.7068965517241379         f1score: 0.70001295001295\n",
      "eval: 0.6896551724137931         f1score: 0.6752747252747253\n",
      "eval: 0.6724137931034483         f1score: 0.6761072261072262\n",
      "eval: 0.7068965517241379         f1score: 0.7299687461547928\n",
      "eval: 0.7241379310344828         f1score: 0.7127176159976832\n",
      "eval: 0.7586206896551724         f1score: 0.7583574320416425\n",
      "eval: 0.7241379310344828         f1score: 0.7486080586080586\n",
      "eval: 0.7586206896551724         f1score: 0.7716556776556777\n",
      "eval: 0.7413793103448276         f1score: 0.7677248677248676\n",
      "eval: 0.7241379310344828         f1score: 0.7557395819464784\n",
      "eval: 0.7413793103448276         f1score: 0.7682101806239737\n",
      "eval: 0.7241379310344828         f1score: 0.7460098522167489\n",
      "eval: 0.7413793103448276         f1score: 0.7582745306883238\n",
      "eval: 0.7413793103448276         f1score: 0.7569234739966448\n",
      "eval: 0.7413793103448276         f1score: 0.7569234739966448\n",
      "eval: 0.7586206896551724         f1score: 0.7686609686609687\n",
      "eval: 0.7586206896551724         f1score: 0.7686609686609687\n",
      "eval: 0.7586206896551724         f1score: 0.7686609686609687\n",
      "eval: 0.7586206896551724         f1score: 0.7686609686609687\n",
      "eval: 0.7413793103448276         f1score: 0.7569234739966448\n",
      "eval: 0.7413793103448276         f1score: 0.7569234739966448\n",
      "eval: 0.7413793103448276         f1score: 0.7569234739966448\n",
      "eval: 0.7413793103448276         f1score: 0.7569234739966448\n",
      "eval: 0.7413793103448276         f1score: 0.7569234739966448\n",
      "eval: 0.7413793103448276         f1score: 0.7569234739966448\n",
      "eval: 0.7413793103448276         f1score: 0.7569234739966448\n",
      "eval: 0.7413793103448276         f1score: 0.7569234739966448\n",
      "eval: 0.7413793103448276         f1score: 0.7569234739966448\n",
      "eval: 0.7413793103448276         f1score: 0.7569234739966448\n",
      "eval: 0.7413793103448276         f1score: 0.7569234739966448\n",
      "eval: 0.7413793103448276         f1score: 0.7569234739966448\n",
      "eval: 0.7413793103448276         f1score: 0.7569234739966448\n",
      "eval: 0.7413793103448276         f1score: 0.7569234739966448\n",
      "eval: 0.7413793103448276         f1score: 0.7569234739966448\n",
      "eval: 0.7413793103448276         f1score: 0.7569234739966448\n",
      "eval: 0.7413793103448276         f1score: 0.7569234739966448\n",
      "eval: 0.7413793103448276         f1score: 0.7569234739966448\n"
     ]
    },
    {
     "data": {
      "text/html": [
       "Waiting for W&B process to finish... <strong style=\"color:green\">(success).</strong>"
      ],
      "text/plain": [
       "<IPython.core.display.HTML object>"
      ]
     },
     "metadata": {},
     "output_type": "display_data"
    },
    {
     "name": "stderr",
     "output_type": "stream",
     "text": [
      "wandb: WARNING Source type is set to 'repo' but some required information is missing from the environment. A job will not be created from this run. See https://docs.wandb.ai/guides/launch/create-job\n"
     ]
    },
    {
     "data": {
      "application/vnd.jupyter.widget-view+json": {
       "model_id": "5ed857ef3e9f4c0aa4e575b2476238bf",
       "version_major": 2,
       "version_minor": 0
      },
      "text/plain": [
       "VBox(children=(Label(value='0.003 MB of 0.003 MB uploaded (0.000 MB deduped)\\r'), FloatProgress(value=1.0, max…"
      ]
     },
     "metadata": {},
     "output_type": "display_data"
    },
    {
     "data": {
      "text/html": [
       "<style>\n",
       "    table.wandb td:nth-child(1) { padding: 0 10px; text-align: left ; width: auto;} td:nth-child(2) {text-align: left ; width: 100%}\n",
       "    .wandb-row { display: flex; flex-direction: row; flex-wrap: wrap; justify-content: flex-start; width: 100% }\n",
       "    .wandb-col { display: flex; flex-direction: column; flex-basis: 100%; flex: 1; padding: 10px; }\n",
       "    </style>\n",
       "<div class=\"wandb-row\"><div class=\"wandb-col\"><h3>Run history:</h3><br/><table class=\"wandb\"><tr><td>epoch</td><td>▁▁▁▂▂▂▂▂▂▃▃▃▃▃▃▄▄▄▄▄▅▅▅▅▅▅▆▆▆▆▆▆▇▇▇▇▇███</td></tr><tr><td>f1val</td><td>▁▄▄▇▆▆▇▄▆▆▆▇▆▇▇▆▇▇▇▆▆▇███▇██████████████</td></tr><tr><td>loss</td><td>█▇▆▅▄▄▄▃▃▃▃▃▂▂▂▂▂▂▂▂▂▂▂▂▁▁▁▁▁▁▁▁▁▁▁▁▁▁▁▁</td></tr><tr><td>lr</td><td>███▇▇▇▇▆▆▆▆▆▅▅▅▅▅▄▄▄▄▄▄▃▃▃▃▃▃▂▂▂▂▂▂▂▁▁▁▁</td></tr><tr><td>val</td><td>▁▅▆█▆▇▅▄▅▆▆▆▅▇▇▇▇▇█▆▅▆▇▇▆▆▇▇▇▇▇▇▇▇▇▇▇▇▇▇</td></tr></table><br/></div><div class=\"wandb-col\"><h3>Run summary:</h3><br/><table class=\"wandb\"><tr><td>epoch</td><td>69</td></tr><tr><td>f1val</td><td>0.75692</td></tr><tr><td>loss</td><td>1.3492</td></tr><tr><td>lr</td><td>0.00165</td></tr><tr><td>val</td><td>0.74138</td></tr></table><br/></div></div>"
      ],
      "text/plain": [
       "<IPython.core.display.HTML object>"
      ]
     },
     "metadata": {},
     "output_type": "display_data"
    },
    {
     "data": {
      "text/html": [
       " View run <strong style=\"color:#cdcd00\">misty-sweep-19</strong> at: <a href='https://wandb.ai/artzha/driver-intent-learning/runs/ct99jhls' target=\"_blank\">https://wandb.ai/artzha/driver-intent-learning/runs/ct99jhls</a><br/>Synced 6 W&B file(s), 0 media file(s), 0 artifact file(s) and 0 other file(s)"
      ],
      "text/plain": [
       "<IPython.core.display.HTML object>"
      ]
     },
     "metadata": {},
     "output_type": "display_data"
    },
    {
     "data": {
      "text/html": [
       "Find logs at: <code>./wandb/run-20230911_222723-ct99jhls/logs</code>"
      ],
      "text/plain": [
       "<IPython.core.display.HTML object>"
      ]
     },
     "metadata": {},
     "output_type": "display_data"
    },
    {
     "name": "stderr",
     "output_type": "stream",
     "text": [
      "\u001b[34m\u001b[1mwandb\u001b[0m: Agent Starting Run: 65tg4vw6 with config:\n",
      "\u001b[34m\u001b[1mwandb\u001b[0m: \tdmodel: 64\n",
      "\u001b[34m\u001b[1mwandb\u001b[0m: \tdropout: 0.2465154744266923\n",
      "\u001b[34m\u001b[1mwandb\u001b[0m: \tfchiddendim: 512\n",
      "\u001b[34m\u001b[1mwandb\u001b[0m: \tgamma: 0.95\n",
      "\u001b[34m\u001b[1mwandb\u001b[0m: \thiddendim: 128\n",
      "\u001b[34m\u001b[1mwandb\u001b[0m: \tlr: 0.000501885772060554\n",
      "\u001b[34m\u001b[1mwandb\u001b[0m: \tmomentum: 0.9269208751291592\n",
      "\u001b[34m\u001b[1mwandb\u001b[0m: \tnumepochs: 70\n",
      "\u001b[34m\u001b[1mwandb\u001b[0m: \tnumheads: 8\n",
      "\u001b[34m\u001b[1mwandb\u001b[0m: \toptimizer: sgd\n",
      "\u001b[34m\u001b[1mwandb\u001b[0m: \tweight_decay: 0.005543936789512844\n",
      "Failed to detect the name of this notebook, you can set it manually with the WANDB_NOTEBOOK_NAME environment variable to enable code saving.\n"
     ]
    },
    {
     "data": {
      "text/html": [
       "wandb version 0.15.10 is available!  To upgrade, please run:\n",
       " $ pip install wandb --upgrade"
      ],
      "text/plain": [
       "<IPython.core.display.HTML object>"
      ]
     },
     "metadata": {},
     "output_type": "display_data"
    },
    {
     "data": {
      "text/html": [
       "Tracking run with wandb version 0.15.9"
      ],
      "text/plain": [
       "<IPython.core.display.HTML object>"
      ]
     },
     "metadata": {},
     "output_type": "display_data"
    },
    {
     "data": {
      "text/html": [
       "Run data is saved locally in <code>/home/arthur/AMRL/Research/Driver-Intent-Prediction/models/wandb/run-20230911_223137-65tg4vw6</code>"
      ],
      "text/plain": [
       "<IPython.core.display.HTML object>"
      ]
     },
     "metadata": {},
     "output_type": "display_data"
    },
    {
     "data": {
      "text/html": [
       "Syncing run <strong><a href='https://wandb.ai/artzha/driver-intent-learning/runs/65tg4vw6' target=\"_blank\">amber-sweep-20</a></strong> to <a href='https://wandb.ai/artzha/driver-intent-learning' target=\"_blank\">Weights & Biases</a> (<a href='https://wandb.me/run' target=\"_blank\">docs</a>)<br/>Sweep page: <a href='https://wandb.ai/artzha/driver-intent-learning/sweeps/s79wrgdi' target=\"_blank\">https://wandb.ai/artzha/driver-intent-learning/sweeps/s79wrgdi</a>"
      ],
      "text/plain": [
       "<IPython.core.display.HTML object>"
      ]
     },
     "metadata": {},
     "output_type": "display_data"
    },
    {
     "data": {
      "text/html": [
       " View project at <a href='https://wandb.ai/artzha/driver-intent-learning' target=\"_blank\">https://wandb.ai/artzha/driver-intent-learning</a>"
      ],
      "text/plain": [
       "<IPython.core.display.HTML object>"
      ]
     },
     "metadata": {},
     "output_type": "display_data"
    },
    {
     "data": {
      "text/html": [
       " View sweep at <a href='https://wandb.ai/artzha/driver-intent-learning/sweeps/s79wrgdi' target=\"_blank\">https://wandb.ai/artzha/driver-intent-learning/sweeps/s79wrgdi</a>"
      ],
      "text/plain": [
       "<IPython.core.display.HTML object>"
      ]
     },
     "metadata": {},
     "output_type": "display_data"
    },
    {
     "data": {
      "text/html": [
       " View run at <a href='https://wandb.ai/artzha/driver-intent-learning/runs/65tg4vw6' target=\"_blank\">https://wandb.ai/artzha/driver-intent-learning/runs/65tg4vw6</a>"
      ],
      "text/plain": [
       "<IPython.core.display.HTML object>"
      ]
     },
     "metadata": {},
     "output_type": "display_data"
    },
    {
     "name": "stdout",
     "output_type": "stream",
     "text": [
      "Created model save dir for model root /home/arthur/AMRL/Research/Driver-Intent-Prediction/outputs/transformer_64_8_128_0.2465154744266923_0.000501885772060554_sgd_0.9269208751291592_0.005543936789512844_0.95\n",
      "Created model save dir for checkpoints /home/arthur/AMRL/Research/Driver-Intent-Prediction/outputs/transformer_64_8_128_0.2465154744266923_0.000501885772060554_sgd_0.9269208751291592_0.005543936789512844_0.95/ckpts\n",
      "eval: 0.3275862068965517         f1score: 0.0987012987012987\n",
      "eval: 0.5517241379310345         f1score: 0.36323649754500814\n",
      "eval: 0.5517241379310345         f1score: 0.47519827998088865\n",
      "eval: 0.6206896551724138         f1score: 0.5309438470728793\n",
      "eval: 0.7413793103448276         f1score: 0.723189199051268\n",
      "eval: 0.7068965517241379         f1score: 0.6852110208631947\n",
      "eval: 0.7068965517241379         f1score: 0.6852110208631947\n",
      "eval: 0.7413793103448276         f1score: 0.7155028153939225\n",
      "eval: 0.7413793103448276         f1score: 0.7093129093129092\n",
      "eval: 0.7241379310344828         f1score: 0.6968176538908247\n",
      "eval: 0.7758620689655172         f1score: 0.7283808332588821\n",
      "eval: 0.7586206896551724         f1score: 0.7381847781847782\n",
      "eval: 0.7758620689655172         f1score: 0.7411477411477412\n",
      "eval: 0.7758620689655172         f1score: 0.7420634920634921\n",
      "eval: 0.7758620689655172         f1score: 0.7629100529100529\n",
      "eval: 0.7586206896551724         f1score: 0.738088669950739\n",
      "eval: 0.7758620689655172         f1score: 0.7589481356882535\n",
      "eval: 0.7931034482758621         f1score: 0.7782539682539682\n",
      "eval: 0.7758620689655172         f1score: 0.7611428571428571\n",
      "eval: 0.7931034482758621         f1score: 0.7726967285587975\n",
      "eval: 0.7931034482758621         f1score: 0.7726967285587975\n",
      "eval: 0.7758620689655172         f1score: 0.7608448767069456\n",
      "eval: 0.7931034482758621         f1score: 0.7747056195836682\n",
      "eval: 0.7758620689655172         f1score: 0.7629100529100529\n",
      "eval: 0.7758620689655172         f1score: 0.7608448767069456\n",
      "eval: 0.7758620689655172         f1score: 0.7608448767069456\n",
      "eval: 0.7758620689655172         f1score: 0.7629100529100529\n",
      "eval: 0.7931034482758621         f1score: 0.7747056195836682\n",
      "eval: 0.7758620689655172         f1score: 0.7608448767069456\n",
      "eval: 0.7758620689655172         f1score: 0.7629100529100529\n",
      "eval: 0.7758620689655172         f1score: 0.7608448767069456\n",
      "eval: 0.7931034482758621         f1score: 0.7747056195836682\n",
      "eval: 0.7758620689655172         f1score: 0.7629100529100529\n",
      "eval: 0.7758620689655172         f1score: 0.7608448767069456\n",
      "eval: 0.7931034482758621         f1score: 0.7747056195836682\n",
      "eval: 0.7758620689655172         f1score: 0.7608448767069456\n",
      "eval: 0.7931034482758621         f1score: 0.7747056195836682\n",
      "eval: 0.7758620689655172         f1score: 0.7629100529100529\n",
      "eval: 0.7758620689655172         f1score: 0.7629100529100529\n",
      "eval: 0.7758620689655172         f1score: 0.7629100529100529\n",
      "eval: 0.7931034482758621         f1score: 0.7747056195836682\n",
      "eval: 0.7758620689655172         f1score: 0.7629100529100529\n",
      "eval: 0.7758620689655172         f1score: 0.7629100529100529\n",
      "eval: 0.7931034482758621         f1score: 0.7747056195836682\n",
      "eval: 0.7758620689655172         f1score: 0.7608448767069456\n",
      "eval: 0.7758620689655172         f1score: 0.7608448767069456\n",
      "eval: 0.7758620689655172         f1score: 0.7629100529100529\n",
      "eval: 0.7758620689655172         f1score: 0.7629100529100529\n",
      "eval: 0.7758620689655172         f1score: 0.7629100529100529\n",
      "eval: 0.7758620689655172         f1score: 0.7629100529100529\n",
      "eval: 0.7758620689655172         f1score: 0.7629100529100529\n",
      "eval: 0.7758620689655172         f1score: 0.7629100529100529\n",
      "eval: 0.7758620689655172         f1score: 0.7629100529100529\n",
      "eval: 0.7758620689655172         f1score: 0.7629100529100529\n",
      "eval: 0.7758620689655172         f1score: 0.7629100529100529\n",
      "eval: 0.7758620689655172         f1score: 0.7629100529100529\n",
      "eval: 0.7758620689655172         f1score: 0.7629100529100529\n",
      "eval: 0.7758620689655172         f1score: 0.7629100529100529\n",
      "eval: 0.7758620689655172         f1score: 0.7629100529100529\n",
      "eval: 0.7758620689655172         f1score: 0.7629100529100529\n",
      "eval: 0.7758620689655172         f1score: 0.7629100529100529\n",
      "eval: 0.7758620689655172         f1score: 0.7629100529100529\n",
      "eval: 0.7758620689655172         f1score: 0.7629100529100529\n",
      "eval: 0.7758620689655172         f1score: 0.7629100529100529\n",
      "eval: 0.7758620689655172         f1score: 0.7629100529100529\n",
      "eval: 0.7758620689655172         f1score: 0.7629100529100529\n",
      "eval: 0.7758620689655172         f1score: 0.7629100529100529\n",
      "eval: 0.7758620689655172         f1score: 0.7629100529100529\n",
      "eval: 0.7758620689655172         f1score: 0.7629100529100529\n",
      "eval: 0.7758620689655172         f1score: 0.7629100529100529\n"
     ]
    },
    {
     "data": {
      "text/html": [
       "Waiting for W&B process to finish... <strong style=\"color:green\">(success).</strong>"
      ],
      "text/plain": [
       "<IPython.core.display.HTML object>"
      ]
     },
     "metadata": {},
     "output_type": "display_data"
    },
    {
     "name": "stderr",
     "output_type": "stream",
     "text": [
      "wandb: WARNING Source type is set to 'repo' but some required information is missing from the environment. A job will not be created from this run. See https://docs.wandb.ai/guides/launch/create-job\n"
     ]
    },
    {
     "data": {
      "application/vnd.jupyter.widget-view+json": {
       "model_id": "de6915dc14524d5c8a787db09adb6170",
       "version_major": 2,
       "version_minor": 0
      },
      "text/plain": [
       "VBox(children=(Label(value='0.003 MB of 0.013 MB uploaded (0.000 MB deduped)\\r'), FloatProgress(value=0.234450…"
      ]
     },
     "metadata": {},
     "output_type": "display_data"
    },
    {
     "data": {
      "text/html": [
       "<style>\n",
       "    table.wandb td:nth-child(1) { padding: 0 10px; text-align: left ; width: auto;} td:nth-child(2) {text-align: left ; width: 100%}\n",
       "    .wandb-row { display: flex; flex-direction: row; flex-wrap: wrap; justify-content: flex-start; width: 100% }\n",
       "    .wandb-col { display: flex; flex-direction: column; flex-basis: 100%; flex: 1; padding: 10px; }\n",
       "    </style>\n",
       "<div class=\"wandb-row\"><div class=\"wandb-col\"><h3>Run history:</h3><br/><table class=\"wandb\"><tr><td>epoch</td><td>▁▁▁▂▂▂▂▂▂▃▃▃▃▃▃▄▄▄▄▄▅▅▅▅▅▅▆▆▆▆▆▆▇▇▇▇▇███</td></tr><tr><td>f1val</td><td>▁▄▅▇▇▇▇█████████████████████████████████</td></tr><tr><td>loss</td><td>█▇▆▅▄▄▄▃▃▃▃▃▂▂▂▂▂▂▂▂▂▂▂▂▁▁▁▁▁▁▁▁▁▁▁▁▁▁▁▁</td></tr><tr><td>lr</td><td>██▇▆▆▆▅▅▄▄▄▄▃▃▃▃▃▂▂▂▂▂▂▂▂▂▁▁▁▁▁▁▁▁▁▁▁▁▁▁</td></tr><tr><td>val</td><td>▁▄▅▇▇▇███▇██████████████████████████████</td></tr></table><br/></div><div class=\"wandb-col\"><h3>Run summary:</h3><br/><table class=\"wandb\"><tr><td>epoch</td><td>69</td></tr><tr><td>f1val</td><td>0.76291</td></tr><tr><td>loss</td><td>3.29364</td></tr><tr><td>lr</td><td>1e-05</td></tr><tr><td>val</td><td>0.77586</td></tr></table><br/></div></div>"
      ],
      "text/plain": [
       "<IPython.core.display.HTML object>"
      ]
     },
     "metadata": {},
     "output_type": "display_data"
    },
    {
     "data": {
      "text/html": [
       " View run <strong style=\"color:#cdcd00\">amber-sweep-20</strong> at: <a href='https://wandb.ai/artzha/driver-intent-learning/runs/65tg4vw6' target=\"_blank\">https://wandb.ai/artzha/driver-intent-learning/runs/65tg4vw6</a><br/>Synced 6 W&B file(s), 0 media file(s), 0 artifact file(s) and 0 other file(s)"
      ],
      "text/plain": [
       "<IPython.core.display.HTML object>"
      ]
     },
     "metadata": {},
     "output_type": "display_data"
    },
    {
     "data": {
      "text/html": [
       "Find logs at: <code>./wandb/run-20230911_223137-65tg4vw6/logs</code>"
      ],
      "text/plain": [
       "<IPython.core.display.HTML object>"
      ]
     },
     "metadata": {},
     "output_type": "display_data"
    },
    {
     "name": "stderr",
     "output_type": "stream",
     "text": [
      "\u001b[34m\u001b[1mwandb\u001b[0m: Agent Starting Run: jpei6mzh with config:\n",
      "\u001b[34m\u001b[1mwandb\u001b[0m: \tdmodel: 64\n",
      "\u001b[34m\u001b[1mwandb\u001b[0m: \tdropout: 0.15700434880612116\n",
      "\u001b[34m\u001b[1mwandb\u001b[0m: \tfchiddendim: 256\n",
      "\u001b[34m\u001b[1mwandb\u001b[0m: \tgamma: 0.95\n",
      "\u001b[34m\u001b[1mwandb\u001b[0m: \thiddendim: 128\n",
      "\u001b[34m\u001b[1mwandb\u001b[0m: \tlr: 0.002638657489734131\n",
      "\u001b[34m\u001b[1mwandb\u001b[0m: \tmomentum: 0.9638022345796764\n",
      "\u001b[34m\u001b[1mwandb\u001b[0m: \tnumepochs: 70\n",
      "\u001b[34m\u001b[1mwandb\u001b[0m: \tnumheads: 16\n",
      "\u001b[34m\u001b[1mwandb\u001b[0m: \toptimizer: sgd\n",
      "\u001b[34m\u001b[1mwandb\u001b[0m: \tweight_decay: 0.005111570634783322\n",
      "Failed to detect the name of this notebook, you can set it manually with the WANDB_NOTEBOOK_NAME environment variable to enable code saving.\n"
     ]
    },
    {
     "data": {
      "text/html": [
       "wandb version 0.15.10 is available!  To upgrade, please run:\n",
       " $ pip install wandb --upgrade"
      ],
      "text/plain": [
       "<IPython.core.display.HTML object>"
      ]
     },
     "metadata": {},
     "output_type": "display_data"
    },
    {
     "data": {
      "text/html": [
       "Tracking run with wandb version 0.15.9"
      ],
      "text/plain": [
       "<IPython.core.display.HTML object>"
      ]
     },
     "metadata": {},
     "output_type": "display_data"
    },
    {
     "data": {
      "text/html": [
       "Run data is saved locally in <code>/home/arthur/AMRL/Research/Driver-Intent-Prediction/models/wandb/run-20230911_223613-jpei6mzh</code>"
      ],
      "text/plain": [
       "<IPython.core.display.HTML object>"
      ]
     },
     "metadata": {},
     "output_type": "display_data"
    },
    {
     "data": {
      "text/html": [
       "Syncing run <strong><a href='https://wandb.ai/artzha/driver-intent-learning/runs/jpei6mzh' target=\"_blank\">dazzling-sweep-21</a></strong> to <a href='https://wandb.ai/artzha/driver-intent-learning' target=\"_blank\">Weights & Biases</a> (<a href='https://wandb.me/run' target=\"_blank\">docs</a>)<br/>Sweep page: <a href='https://wandb.ai/artzha/driver-intent-learning/sweeps/s79wrgdi' target=\"_blank\">https://wandb.ai/artzha/driver-intent-learning/sweeps/s79wrgdi</a>"
      ],
      "text/plain": [
       "<IPython.core.display.HTML object>"
      ]
     },
     "metadata": {},
     "output_type": "display_data"
    },
    {
     "data": {
      "text/html": [
       " View project at <a href='https://wandb.ai/artzha/driver-intent-learning' target=\"_blank\">https://wandb.ai/artzha/driver-intent-learning</a>"
      ],
      "text/plain": [
       "<IPython.core.display.HTML object>"
      ]
     },
     "metadata": {},
     "output_type": "display_data"
    },
    {
     "data": {
      "text/html": [
       " View sweep at <a href='https://wandb.ai/artzha/driver-intent-learning/sweeps/s79wrgdi' target=\"_blank\">https://wandb.ai/artzha/driver-intent-learning/sweeps/s79wrgdi</a>"
      ],
      "text/plain": [
       "<IPython.core.display.HTML object>"
      ]
     },
     "metadata": {},
     "output_type": "display_data"
    },
    {
     "data": {
      "text/html": [
       " View run at <a href='https://wandb.ai/artzha/driver-intent-learning/runs/jpei6mzh' target=\"_blank\">https://wandb.ai/artzha/driver-intent-learning/runs/jpei6mzh</a>"
      ],
      "text/plain": [
       "<IPython.core.display.HTML object>"
      ]
     },
     "metadata": {},
     "output_type": "display_data"
    },
    {
     "name": "stdout",
     "output_type": "stream",
     "text": [
      "Created model save dir for model root /home/arthur/AMRL/Research/Driver-Intent-Prediction/outputs/transformer_64_16_128_0.15700434880612116_0.002638657489734131_sgd_0.9638022345796764_0.005111570634783322_0.95\n",
      "Created model save dir for checkpoints /home/arthur/AMRL/Research/Driver-Intent-Prediction/outputs/transformer_64_16_128_0.15700434880612116_0.002638657489734131_sgd_0.9638022345796764_0.005111570634783322_0.95/ckpts\n",
      "eval: 0.4827586206896552         f1score: 0.34011705685618726\n",
      "eval: 0.7413793103448276         f1score: 0.7256849816849817\n",
      "eval: 0.7758620689655172         f1score: 0.7446381205001894\n",
      "eval: 0.7758620689655172         f1score: 0.7492213421565819\n",
      "eval: 0.7413793103448276         f1score: 0.7052789802789803\n",
      "eval: 0.8103448275862069         f1score: 0.7940159644112545\n",
      "eval: 0.6896551724137931         f1score: 0.6721647112951461\n",
      "eval: 0.8448275862068966         f1score: 0.8199488966318235\n",
      "eval: 0.7413793103448276         f1score: 0.731111111111111\n",
      "eval: 0.8275862068965517         f1score: 0.7976456876456877\n",
      "eval: 0.7758620689655172         f1score: 0.7699220032840723\n",
      "eval: 0.7758620689655172         f1score: 0.737404295051354\n",
      "eval: 0.7931034482758621         f1score: 0.7737280701754385\n",
      "eval: 0.7758620689655172         f1score: 0.7635141329258976\n",
      "eval: 0.8275862068965517         f1score: 0.7764761904761905\n",
      "eval: 0.8275862068965517         f1score: 0.8023391812865498\n",
      "eval: 0.8448275862068966         f1score: 0.8139184345635959\n",
      "eval: 0.7931034482758621         f1score: 0.7758333333333334\n",
      "eval: 0.8103448275862069         f1score: 0.7869240669240669\n",
      "eval: 0.8103448275862069         f1score: 0.7869240669240669\n",
      "eval: 0.8103448275862069         f1score: 0.7869240669240669\n",
      "eval: 0.8103448275862069         f1score: 0.7869240669240669\n",
      "eval: 0.8275862068965517         f1score: 0.798700198772794\n",
      "eval: 0.8103448275862069         f1score: 0.7869240669240669\n",
      "eval: 0.8275862068965517         f1score: 0.8002930402930403\n",
      "eval: 0.8275862068965517         f1score: 0.8002930402930403\n",
      "eval: 0.8275862068965517         f1score: 0.8002930402930403\n",
      "eval: 0.8275862068965517         f1score: 0.8002930402930403\n",
      "eval: 0.8275862068965517         f1score: 0.798700198772794\n",
      "eval: 0.8275862068965517         f1score: 0.798700198772794\n",
      "eval: 0.8275862068965517         f1score: 0.8002930402930403\n",
      "eval: 0.8275862068965517         f1score: 0.8002930402930403\n",
      "eval: 0.8275862068965517         f1score: 0.798700198772794\n",
      "eval: 0.8275862068965517         f1score: 0.798700198772794\n",
      "eval: 0.8275862068965517         f1score: 0.798700198772794\n",
      "eval: 0.8275862068965517         f1score: 0.798700198772794\n",
      "eval: 0.8275862068965517         f1score: 0.8002930402930403\n",
      "eval: 0.8275862068965517         f1score: 0.8002930402930403\n",
      "eval: 0.8275862068965517         f1score: 0.8002930402930403\n",
      "eval: 0.8275862068965517         f1score: 0.8002930402930403\n",
      "eval: 0.8275862068965517         f1score: 0.8002930402930403\n",
      "eval: 0.8275862068965517         f1score: 0.8002930402930403\n",
      "eval: 0.8275862068965517         f1score: 0.8002930402930403\n",
      "eval: 0.8275862068965517         f1score: 0.8002930402930403\n",
      "eval: 0.8275862068965517         f1score: 0.8002930402930403\n",
      "eval: 0.8275862068965517         f1score: 0.8002930402930403\n",
      "eval: 0.8275862068965517         f1score: 0.8002930402930403\n",
      "eval: 0.8275862068965517         f1score: 0.8002930402930403\n",
      "eval: 0.8275862068965517         f1score: 0.8002930402930403\n",
      "eval: 0.8275862068965517         f1score: 0.8002930402930403\n",
      "eval: 0.8275862068965517         f1score: 0.8002930402930403\n",
      "eval: 0.8275862068965517         f1score: 0.8002930402930403\n",
      "eval: 0.8275862068965517         f1score: 0.8002930402930403\n",
      "eval: 0.8275862068965517         f1score: 0.8002930402930403\n",
      "eval: 0.8275862068965517         f1score: 0.8002930402930403\n",
      "eval: 0.8275862068965517         f1score: 0.8002930402930403\n",
      "eval: 0.8275862068965517         f1score: 0.8002930402930403\n",
      "eval: 0.8275862068965517         f1score: 0.8002930402930403\n",
      "eval: 0.8275862068965517         f1score: 0.8002930402930403\n",
      "eval: 0.8275862068965517         f1score: 0.8002930402930403\n",
      "eval: 0.8275862068965517         f1score: 0.8002930402930403\n",
      "eval: 0.8275862068965517         f1score: 0.8002930402930403\n",
      "eval: 0.8275862068965517         f1score: 0.8002930402930403\n",
      "eval: 0.8275862068965517         f1score: 0.8002930402930403\n",
      "eval: 0.8275862068965517         f1score: 0.8002930402930403\n",
      "eval: 0.8275862068965517         f1score: 0.8002930402930403\n",
      "eval: 0.8275862068965517         f1score: 0.8002930402930403\n",
      "eval: 0.8275862068965517         f1score: 0.8002930402930403\n",
      "eval: 0.8275862068965517         f1score: 0.8002930402930403\n",
      "eval: 0.8275862068965517         f1score: 0.8002930402930403\n"
     ]
    },
    {
     "data": {
      "text/html": [
       "Waiting for W&B process to finish... <strong style=\"color:green\">(success).</strong>"
      ],
      "text/plain": [
       "<IPython.core.display.HTML object>"
      ]
     },
     "metadata": {},
     "output_type": "display_data"
    },
    {
     "name": "stderr",
     "output_type": "stream",
     "text": [
      "wandb: WARNING Source type is set to 'repo' but some required information is missing from the environment. A job will not be created from this run. See https://docs.wandb.ai/guides/launch/create-job\n"
     ]
    },
    {
     "data": {
      "application/vnd.jupyter.widget-view+json": {
       "model_id": "f3f2ba380f344dad96fe58bbd19c034f",
       "version_major": 2,
       "version_minor": 0
      },
      "text/plain": [
       "VBox(children=(Label(value='0.003 MB of 0.003 MB uploaded (0.000 MB deduped)\\r'), FloatProgress(value=1.0, max…"
      ]
     },
     "metadata": {},
     "output_type": "display_data"
    },
    {
     "data": {
      "text/html": [
       "<style>\n",
       "    table.wandb td:nth-child(1) { padding: 0 10px; text-align: left ; width: auto;} td:nth-child(2) {text-align: left ; width: 100%}\n",
       "    .wandb-row { display: flex; flex-direction: row; flex-wrap: wrap; justify-content: flex-start; width: 100% }\n",
       "    .wandb-col { display: flex; flex-direction: column; flex-basis: 100%; flex: 1; padding: 10px; }\n",
       "    </style>\n",
       "<div class=\"wandb-row\"><div class=\"wandb-col\"><h3>Run history:</h3><br/><table class=\"wandb\"><tr><td>epoch</td><td>▁▁▁▂▂▂▂▂▂▃▃▃▃▃▃▄▄▄▄▄▅▅▅▅▅▅▆▆▆▆▆▆▇▇▇▇▇███</td></tr><tr><td>f1val</td><td>▁▇▇██▇▇▇▇█▇█████████████████████████████</td></tr><tr><td>loss</td><td>█▆▅▄▄▄▃▃▃▃▂▂▂▂▂▂▂▂▂▁▁▁▁▁▁▁▁▁▁▁▁▁▁▁▁▁▁▁▁▁</td></tr><tr><td>lr</td><td>██▇▆▆▆▅▅▄▄▄▄▃▃▃▃▃▂▂▂▂▂▂▂▂▂▁▁▁▁▁▁▁▁▁▁▁▁▁▁</td></tr><tr><td>val</td><td>▁▆▇▇█▆▇▇██▇▇▇▇██████████████████████████</td></tr></table><br/></div><div class=\"wandb-col\"><h3>Run summary:</h3><br/><table class=\"wandb\"><tr><td>epoch</td><td>69</td></tr><tr><td>f1val</td><td>0.80029</td></tr><tr><td>loss</td><td>0.93935</td></tr><tr><td>lr</td><td>7e-05</td></tr><tr><td>val</td><td>0.82759</td></tr></table><br/></div></div>"
      ],
      "text/plain": [
       "<IPython.core.display.HTML object>"
      ]
     },
     "metadata": {},
     "output_type": "display_data"
    },
    {
     "data": {
      "text/html": [
       " View run <strong style=\"color:#cdcd00\">dazzling-sweep-21</strong> at: <a href='https://wandb.ai/artzha/driver-intent-learning/runs/jpei6mzh' target=\"_blank\">https://wandb.ai/artzha/driver-intent-learning/runs/jpei6mzh</a><br/>Synced 6 W&B file(s), 0 media file(s), 0 artifact file(s) and 0 other file(s)"
      ],
      "text/plain": [
       "<IPython.core.display.HTML object>"
      ]
     },
     "metadata": {},
     "output_type": "display_data"
    },
    {
     "data": {
      "text/html": [
       "Find logs at: <code>./wandb/run-20230911_223613-jpei6mzh/logs</code>"
      ],
      "text/plain": [
       "<IPython.core.display.HTML object>"
      ]
     },
     "metadata": {},
     "output_type": "display_data"
    },
    {
     "name": "stderr",
     "output_type": "stream",
     "text": [
      "\u001b[34m\u001b[1mwandb\u001b[0m: Sweep Agent: Waiting for job.\n",
      "\u001b[34m\u001b[1mwandb\u001b[0m: Job received.\n",
      "\u001b[34m\u001b[1mwandb\u001b[0m: Agent Starting Run: 84nsdjcq with config:\n",
      "\u001b[34m\u001b[1mwandb\u001b[0m: \tdmodel: 64\n",
      "\u001b[34m\u001b[1mwandb\u001b[0m: \tdropout: 0.17850328834330167\n",
      "\u001b[34m\u001b[1mwandb\u001b[0m: \tfchiddendim: 128\n",
      "\u001b[34m\u001b[1mwandb\u001b[0m: \tgamma: 0.9\n",
      "\u001b[34m\u001b[1mwandb\u001b[0m: \thiddendim: 128\n",
      "\u001b[34m\u001b[1mwandb\u001b[0m: \tlr: 0.0006009022978477416\n",
      "\u001b[34m\u001b[1mwandb\u001b[0m: \tmomentum: 0.9078182720873617\n",
      "\u001b[34m\u001b[1mwandb\u001b[0m: \tnumepochs: 70\n",
      "\u001b[34m\u001b[1mwandb\u001b[0m: \tnumheads: 16\n",
      "\u001b[34m\u001b[1mwandb\u001b[0m: \toptimizer: sgd\n",
      "\u001b[34m\u001b[1mwandb\u001b[0m: \tweight_decay: 0.005464302485704905\n",
      "Failed to detect the name of this notebook, you can set it manually with the WANDB_NOTEBOOK_NAME environment variable to enable code saving.\n"
     ]
    },
    {
     "data": {
      "text/html": [
       "wandb version 0.15.10 is available!  To upgrade, please run:\n",
       " $ pip install wandb --upgrade"
      ],
      "text/plain": [
       "<IPython.core.display.HTML object>"
      ]
     },
     "metadata": {},
     "output_type": "display_data"
    },
    {
     "data": {
      "text/html": [
       "Tracking run with wandb version 0.15.9"
      ],
      "text/plain": [
       "<IPython.core.display.HTML object>"
      ]
     },
     "metadata": {},
     "output_type": "display_data"
    },
    {
     "data": {
      "text/html": [
       "Run data is saved locally in <code>/home/arthur/AMRL/Research/Driver-Intent-Prediction/models/wandb/run-20230911_223817-84nsdjcq</code>"
      ],
      "text/plain": [
       "<IPython.core.display.HTML object>"
      ]
     },
     "metadata": {},
     "output_type": "display_data"
    },
    {
     "data": {
      "text/html": [
       "Syncing run <strong><a href='https://wandb.ai/artzha/driver-intent-learning/runs/84nsdjcq' target=\"_blank\">graceful-sweep-22</a></strong> to <a href='https://wandb.ai/artzha/driver-intent-learning' target=\"_blank\">Weights & Biases</a> (<a href='https://wandb.me/run' target=\"_blank\">docs</a>)<br/>Sweep page: <a href='https://wandb.ai/artzha/driver-intent-learning/sweeps/s79wrgdi' target=\"_blank\">https://wandb.ai/artzha/driver-intent-learning/sweeps/s79wrgdi</a>"
      ],
      "text/plain": [
       "<IPython.core.display.HTML object>"
      ]
     },
     "metadata": {},
     "output_type": "display_data"
    },
    {
     "data": {
      "text/html": [
       " View project at <a href='https://wandb.ai/artzha/driver-intent-learning' target=\"_blank\">https://wandb.ai/artzha/driver-intent-learning</a>"
      ],
      "text/plain": [
       "<IPython.core.display.HTML object>"
      ]
     },
     "metadata": {},
     "output_type": "display_data"
    },
    {
     "data": {
      "text/html": [
       " View sweep at <a href='https://wandb.ai/artzha/driver-intent-learning/sweeps/s79wrgdi' target=\"_blank\">https://wandb.ai/artzha/driver-intent-learning/sweeps/s79wrgdi</a>"
      ],
      "text/plain": [
       "<IPython.core.display.HTML object>"
      ]
     },
     "metadata": {},
     "output_type": "display_data"
    },
    {
     "data": {
      "text/html": [
       " View run at <a href='https://wandb.ai/artzha/driver-intent-learning/runs/84nsdjcq' target=\"_blank\">https://wandb.ai/artzha/driver-intent-learning/runs/84nsdjcq</a>"
      ],
      "text/plain": [
       "<IPython.core.display.HTML object>"
      ]
     },
     "metadata": {},
     "output_type": "display_data"
    },
    {
     "name": "stdout",
     "output_type": "stream",
     "text": [
      "Created model save dir for model root /home/arthur/AMRL/Research/Driver-Intent-Prediction/outputs/transformer_64_16_128_0.17850328834330167_0.0006009022978477416_sgd_0.9078182720873617_0.005464302485704905_0.9\n",
      "Created model save dir for checkpoints /home/arthur/AMRL/Research/Driver-Intent-Prediction/outputs/transformer_64_16_128_0.17850328834330167_0.0006009022978477416_sgd_0.9078182720873617_0.005464302485704905_0.9/ckpts\n",
      "eval: 0.3275862068965517         f1score: 0.0987012987012987\n",
      "eval: 0.46551724137931033         f1score: 0.30242224880382773\n",
      "eval: 0.5         f1score: 0.3276190476190476\n",
      "eval: 0.5517241379310345         f1score: 0.36845842068483575\n",
      "eval: 0.5517241379310345         f1score: 0.4357549857549857\n",
      "eval: 0.5862068965517241         f1score: 0.4647293447293448\n",
      "eval: 0.6379310344827587         f1score: 0.6385864135864135\n",
      "eval: 0.6551724137931034         f1score: 0.6532459880544987\n",
      "eval: 0.6379310344827587         f1score: 0.6291247759332865\n",
      "eval: 0.6896551724137931         f1score: 0.6686354128214593\n",
      "eval: 0.6379310344827587         f1score: 0.6232161917638328\n",
      "eval: 0.7241379310344828         f1score: 0.6876828806181204\n",
      "eval: 0.6724137931034483         f1score: 0.6498744218744219\n",
      "eval: 0.7068965517241379         f1score: 0.6758241758241759\n",
      "eval: 0.6896551724137931         f1score: 0.6635072076932542\n",
      "eval: 0.7241379310344828         f1score: 0.6876828806181204\n",
      "eval: 0.7241379310344828         f1score: 0.6876828806181204\n",
      "eval: 0.6896551724137931         f1score: 0.6620403782264248\n",
      "eval: 0.7413793103448276         f1score: 0.7130015619368018\n",
      "eval: 0.7413793103448276         f1score: 0.7130015619368018\n",
      "eval: 0.7413793103448276         f1score: 0.7130015619368018\n",
      "eval: 0.7413793103448276         f1score: 0.7130015619368018\n",
      "eval: 0.7241379310344828         f1score: 0.6988505747126437\n",
      "eval: 0.7413793103448276         f1score: 0.7130015619368018\n",
      "eval: 0.7413793103448276         f1score: 0.7130015619368018\n",
      "eval: 0.7413793103448276         f1score: 0.7130015619368018\n",
      "eval: 0.7413793103448276         f1score: 0.7130015619368018\n",
      "eval: 0.7413793103448276         f1score: 0.7130015619368018\n",
      "eval: 0.7413793103448276         f1score: 0.7130015619368018\n",
      "eval: 0.7413793103448276         f1score: 0.7130015619368018\n",
      "eval: 0.7413793103448276         f1score: 0.7130015619368018\n",
      "eval: 0.7413793103448276         f1score: 0.7130015619368018\n",
      "eval: 0.7413793103448276         f1score: 0.7130015619368018\n",
      "eval: 0.7413793103448276         f1score: 0.7130015619368018\n",
      "eval: 0.7413793103448276         f1score: 0.7130015619368018\n",
      "eval: 0.7413793103448276         f1score: 0.7130015619368018\n",
      "eval: 0.7413793103448276         f1score: 0.7130015619368018\n",
      "eval: 0.7413793103448276         f1score: 0.7130015619368018\n",
      "eval: 0.7413793103448276         f1score: 0.7130015619368018\n",
      "eval: 0.7413793103448276         f1score: 0.7130015619368018\n",
      "eval: 0.7413793103448276         f1score: 0.7130015619368018\n",
      "eval: 0.7413793103448276         f1score: 0.7130015619368018\n",
      "eval: 0.7413793103448276         f1score: 0.7130015619368018\n",
      "eval: 0.7413793103448276         f1score: 0.7130015619368018\n",
      "eval: 0.7413793103448276         f1score: 0.7130015619368018\n",
      "eval: 0.7413793103448276         f1score: 0.7130015619368018\n",
      "eval: 0.7413793103448276         f1score: 0.7130015619368018\n",
      "eval: 0.7413793103448276         f1score: 0.7130015619368018\n",
      "eval: 0.7413793103448276         f1score: 0.7130015619368018\n",
      "eval: 0.7413793103448276         f1score: 0.7130015619368018\n",
      "eval: 0.7413793103448276         f1score: 0.7130015619368018\n",
      "eval: 0.7413793103448276         f1score: 0.7130015619368018\n",
      "eval: 0.7413793103448276         f1score: 0.7130015619368018\n",
      "eval: 0.7413793103448276         f1score: 0.7130015619368018\n",
      "eval: 0.7413793103448276         f1score: 0.7130015619368018\n",
      "eval: 0.7413793103448276         f1score: 0.7130015619368018\n",
      "eval: 0.7413793103448276         f1score: 0.7130015619368018\n",
      "eval: 0.7413793103448276         f1score: 0.7130015619368018\n",
      "eval: 0.7413793103448276         f1score: 0.7130015619368018\n",
      "eval: 0.7413793103448276         f1score: 0.7130015619368018\n",
      "eval: 0.7413793103448276         f1score: 0.7130015619368018\n",
      "eval: 0.7413793103448276         f1score: 0.7130015619368018\n",
      "eval: 0.7413793103448276         f1score: 0.7130015619368018\n",
      "eval: 0.7413793103448276         f1score: 0.7130015619368018\n",
      "eval: 0.7413793103448276         f1score: 0.7130015619368018\n",
      "eval: 0.7413793103448276         f1score: 0.7130015619368018\n",
      "eval: 0.7413793103448276         f1score: 0.7130015619368018\n",
      "eval: 0.7413793103448276         f1score: 0.7130015619368018\n",
      "eval: 0.7413793103448276         f1score: 0.7130015619368018\n",
      "eval: 0.7413793103448276         f1score: 0.7130015619368018\n"
     ]
    },
    {
     "data": {
      "text/html": [
       "Waiting for W&B process to finish... <strong style=\"color:green\">(success).</strong>"
      ],
      "text/plain": [
       "<IPython.core.display.HTML object>"
      ]
     },
     "metadata": {},
     "output_type": "display_data"
    },
    {
     "name": "stderr",
     "output_type": "stream",
     "text": [
      "wandb: WARNING Source type is set to 'repo' but some required information is missing from the environment. A job will not be created from this run. See https://docs.wandb.ai/guides/launch/create-job\n"
     ]
    },
    {
     "data": {
      "application/vnd.jupyter.widget-view+json": {
       "model_id": "aafd0114e9334031ac9b76f45c43d89f",
       "version_major": 2,
       "version_minor": 0
      },
      "text/plain": [
       "VBox(children=(Label(value='0.003 MB of 0.003 MB uploaded (0.000 MB deduped)\\r'), FloatProgress(value=1.0, max…"
      ]
     },
     "metadata": {},
     "output_type": "display_data"
    },
    {
     "data": {
      "text/html": [
       "<style>\n",
       "    table.wandb td:nth-child(1) { padding: 0 10px; text-align: left ; width: auto;} td:nth-child(2) {text-align: left ; width: 100%}\n",
       "    .wandb-row { display: flex; flex-direction: row; flex-wrap: wrap; justify-content: flex-start; width: 100% }\n",
       "    .wandb-col { display: flex; flex-direction: column; flex-basis: 100%; flex: 1; padding: 10px; }\n",
       "    </style>\n",
       "<div class=\"wandb-row\"><div class=\"wandb-col\"><h3>Run history:</h3><br/><table class=\"wandb\"><tr><td>epoch</td><td>▁▁▁▂▂▂▂▂▂▃▃▃▃▃▃▄▄▄▄▄▅▅▅▅▅▅▆▆▆▆▆▆▇▇▇▇▇███</td></tr><tr><td>f1val</td><td>▁▃▄▅▇▇▇▇▇█▇█████████████████████████████</td></tr><tr><td>loss</td><td>█▇▆▅▅▄▄▃▃▃▃▃▂▂▂▂▂▂▂▂▂▂▂▁▁▁▁▁▁▁▁▁▁▁▁▁▁▁▁▁</td></tr><tr><td>lr</td><td>█▇▆▅▄▄▃▃▃▂▂▂▂▂▂▁▁▁▁▁▁▁▁▁▁▁▁▁▁▁▁▁▁▁▁▁▁▁▁▁</td></tr><tr><td>val</td><td>▁▃▅▅▇▆▆▇▇█▇█████████████████████████████</td></tr></table><br/></div><div class=\"wandb-col\"><h3>Run summary:</h3><br/><table class=\"wandb\"><tr><td>epoch</td><td>69</td></tr><tr><td>f1val</td><td>0.713</td></tr><tr><td>loss</td><td>5.88577</td></tr><tr><td>lr</td><td>0.0</td></tr><tr><td>val</td><td>0.74138</td></tr></table><br/></div></div>"
      ],
      "text/plain": [
       "<IPython.core.display.HTML object>"
      ]
     },
     "metadata": {},
     "output_type": "display_data"
    },
    {
     "data": {
      "text/html": [
       " View run <strong style=\"color:#cdcd00\">graceful-sweep-22</strong> at: <a href='https://wandb.ai/artzha/driver-intent-learning/runs/84nsdjcq' target=\"_blank\">https://wandb.ai/artzha/driver-intent-learning/runs/84nsdjcq</a><br/>Synced 6 W&B file(s), 0 media file(s), 0 artifact file(s) and 0 other file(s)"
      ],
      "text/plain": [
       "<IPython.core.display.HTML object>"
      ]
     },
     "metadata": {},
     "output_type": "display_data"
    },
    {
     "data": {
      "text/html": [
       "Find logs at: <code>./wandb/run-20230911_223817-84nsdjcq/logs</code>"
      ],
      "text/plain": [
       "<IPython.core.display.HTML object>"
      ]
     },
     "metadata": {},
     "output_type": "display_data"
    },
    {
     "name": "stderr",
     "output_type": "stream",
     "text": [
      "\u001b[34m\u001b[1mwandb\u001b[0m: Agent Starting Run: 0s2e25lp with config:\n",
      "\u001b[34m\u001b[1mwandb\u001b[0m: \tdmodel: 64\n",
      "\u001b[34m\u001b[1mwandb\u001b[0m: \tdropout: 0.16081605319071005\n",
      "\u001b[34m\u001b[1mwandb\u001b[0m: \tfchiddendim: 128\n",
      "\u001b[34m\u001b[1mwandb\u001b[0m: \tgamma: 0.99\n",
      "\u001b[34m\u001b[1mwandb\u001b[0m: \thiddendim: 128\n",
      "\u001b[34m\u001b[1mwandb\u001b[0m: \tlr: 0.007111239630591467\n",
      "\u001b[34m\u001b[1mwandb\u001b[0m: \tmomentum: 0.9083105199987984\n",
      "\u001b[34m\u001b[1mwandb\u001b[0m: \tnumepochs: 70\n",
      "\u001b[34m\u001b[1mwandb\u001b[0m: \tnumheads: 16\n",
      "\u001b[34m\u001b[1mwandb\u001b[0m: \toptimizer: sgd\n",
      "\u001b[34m\u001b[1mwandb\u001b[0m: \tweight_decay: 0.00616878272100351\n",
      "Failed to detect the name of this notebook, you can set it manually with the WANDB_NOTEBOOK_NAME environment variable to enable code saving.\n"
     ]
    },
    {
     "data": {
      "text/html": [
       "wandb version 0.15.10 is available!  To upgrade, please run:\n",
       " $ pip install wandb --upgrade"
      ],
      "text/plain": [
       "<IPython.core.display.HTML object>"
      ]
     },
     "metadata": {},
     "output_type": "display_data"
    },
    {
     "data": {
      "text/html": [
       "Tracking run with wandb version 0.15.9"
      ],
      "text/plain": [
       "<IPython.core.display.HTML object>"
      ]
     },
     "metadata": {},
     "output_type": "display_data"
    },
    {
     "data": {
      "text/html": [
       "Run data is saved locally in <code>/home/arthur/AMRL/Research/Driver-Intent-Prediction/models/wandb/run-20230911_224011-0s2e25lp</code>"
      ],
      "text/plain": [
       "<IPython.core.display.HTML object>"
      ]
     },
     "metadata": {},
     "output_type": "display_data"
    },
    {
     "data": {
      "text/html": [
       "Syncing run <strong><a href='https://wandb.ai/artzha/driver-intent-learning/runs/0s2e25lp' target=\"_blank\">peach-sweep-23</a></strong> to <a href='https://wandb.ai/artzha/driver-intent-learning' target=\"_blank\">Weights & Biases</a> (<a href='https://wandb.me/run' target=\"_blank\">docs</a>)<br/>Sweep page: <a href='https://wandb.ai/artzha/driver-intent-learning/sweeps/s79wrgdi' target=\"_blank\">https://wandb.ai/artzha/driver-intent-learning/sweeps/s79wrgdi</a>"
      ],
      "text/plain": [
       "<IPython.core.display.HTML object>"
      ]
     },
     "metadata": {},
     "output_type": "display_data"
    },
    {
     "data": {
      "text/html": [
       " View project at <a href='https://wandb.ai/artzha/driver-intent-learning' target=\"_blank\">https://wandb.ai/artzha/driver-intent-learning</a>"
      ],
      "text/plain": [
       "<IPython.core.display.HTML object>"
      ]
     },
     "metadata": {},
     "output_type": "display_data"
    },
    {
     "data": {
      "text/html": [
       " View sweep at <a href='https://wandb.ai/artzha/driver-intent-learning/sweeps/s79wrgdi' target=\"_blank\">https://wandb.ai/artzha/driver-intent-learning/sweeps/s79wrgdi</a>"
      ],
      "text/plain": [
       "<IPython.core.display.HTML object>"
      ]
     },
     "metadata": {},
     "output_type": "display_data"
    },
    {
     "data": {
      "text/html": [
       " View run at <a href='https://wandb.ai/artzha/driver-intent-learning/runs/0s2e25lp' target=\"_blank\">https://wandb.ai/artzha/driver-intent-learning/runs/0s2e25lp</a>"
      ],
      "text/plain": [
       "<IPython.core.display.HTML object>"
      ]
     },
     "metadata": {},
     "output_type": "display_data"
    },
    {
     "name": "stdout",
     "output_type": "stream",
     "text": [
      "Created model save dir for model root /home/arthur/AMRL/Research/Driver-Intent-Prediction/outputs/transformer_64_16_128_0.16081605319071005_0.007111239630591467_sgd_0.9083105199987984_0.00616878272100351_0.99\n",
      "Created model save dir for checkpoints /home/arthur/AMRL/Research/Driver-Intent-Prediction/outputs/transformer_64_16_128_0.16081605319071005_0.007111239630591467_sgd_0.9083105199987984_0.00616878272100351_0.99/ckpts\n",
      "eval: 0.5862068965517241         f1score: 0.506969696969697\n",
      "eval: 0.7586206896551724         f1score: 0.6821719457013575\n",
      "eval: 0.7413793103448276         f1score: 0.7024360943715783\n",
      "eval: 0.7413793103448276         f1score: 0.720942760942761\n",
      "eval: 0.7586206896551724         f1score: 0.7965314685314685\n",
      "eval: 0.7931034482758621         f1score: 0.79828197945845\n",
      "eval: 0.6379310344827587         f1score: 0.6553669467787115\n",
      "eval: 0.7931034482758621         f1score: 0.7764941724941725\n",
      "eval: 0.7931034482758621         f1score: 0.7641729862676778\n",
      "eval: 0.8103448275862069         f1score: 0.8222433862433862\n",
      "eval: 0.7586206896551724         f1score: 0.7446920182214299\n",
      "eval: 0.7758620689655172         f1score: 0.7521568627450981\n",
      "eval: 0.7931034482758621         f1score: 0.7957745041336374\n",
      "eval: 0.7758620689655172         f1score: 0.7508417508417508\n",
      "eval: 0.7758620689655172         f1score: 0.7489543496985357\n",
      "eval: 0.8103448275862069         f1score: 0.7834358974358975\n",
      "eval: 0.7758620689655172         f1score: 0.7486901535682022\n",
      "eval: 0.7931034482758621         f1score: 0.7684584584584585\n",
      "eval: 0.7931034482758621         f1score: 0.7734391534391534\n",
      "eval: 0.7758620689655172         f1score: 0.7618665880734845\n",
      "eval: 0.7931034482758621         f1score: 0.7764102564102564\n",
      "eval: 0.7931034482758621         f1score: 0.7704588394062079\n",
      "eval: 0.8103448275862069         f1score: 0.7824682002101357\n",
      "eval: 0.7931034482758621         f1score: 0.7684584584584585\n",
      "eval: 0.7931034482758621         f1score: 0.7684584584584585\n",
      "eval: 0.7931034482758621         f1score: 0.7684584584584585\n",
      "eval: 0.7931034482758621         f1score: 0.7684584584584585\n",
      "eval: 0.7931034482758621         f1score: 0.7684584584584585\n",
      "eval: 0.7931034482758621         f1score: 0.7684584584584585\n",
      "eval: 0.7931034482758621         f1score: 0.7684584584584585\n",
      "eval: 0.7931034482758621         f1score: 0.7684584584584585\n",
      "eval: 0.7758620689655172         f1score: 0.7559151710694361\n",
      "eval: 0.7758620689655172         f1score: 0.7559151710694361\n",
      "eval: 0.7931034482758621         f1score: 0.7684584584584585\n",
      "eval: 0.7758620689655172         f1score: 0.7559151710694361\n",
      "eval: 0.7758620689655172         f1score: 0.7559151710694361\n",
      "eval: 0.7758620689655172         f1score: 0.7559151710694361\n",
      "eval: 0.7758620689655172         f1score: 0.7559151710694361\n",
      "eval: 0.7758620689655172         f1score: 0.7559151710694361\n",
      "eval: 0.7758620689655172         f1score: 0.7559151710694361\n",
      "eval: 0.7758620689655172         f1score: 0.7559151710694361\n",
      "eval: 0.7758620689655172         f1score: 0.7559151710694361\n",
      "eval: 0.7758620689655172         f1score: 0.7559151710694361\n",
      "eval: 0.7758620689655172         f1score: 0.7559151710694361\n",
      "eval: 0.7758620689655172         f1score: 0.7559151710694361\n",
      "eval: 0.7758620689655172         f1score: 0.7559151710694361\n",
      "eval: 0.7758620689655172         f1score: 0.7559151710694361\n",
      "eval: 0.7758620689655172         f1score: 0.7559151710694361\n",
      "eval: 0.7758620689655172         f1score: 0.7559151710694361\n",
      "eval: 0.7758620689655172         f1score: 0.7559151710694361\n",
      "eval: 0.7758620689655172         f1score: 0.7559151710694361\n",
      "eval: 0.7758620689655172         f1score: 0.7559151710694361\n",
      "eval: 0.7758620689655172         f1score: 0.7559151710694361\n",
      "eval: 0.7758620689655172         f1score: 0.7559151710694361\n",
      "eval: 0.7758620689655172         f1score: 0.7559151710694361\n",
      "eval: 0.7758620689655172         f1score: 0.7559151710694361\n",
      "eval: 0.7758620689655172         f1score: 0.7559151710694361\n",
      "eval: 0.7758620689655172         f1score: 0.7559151710694361\n",
      "eval: 0.7758620689655172         f1score: 0.7559151710694361\n",
      "eval: 0.7758620689655172         f1score: 0.7559151710694361\n",
      "eval: 0.7758620689655172         f1score: 0.7559151710694361\n",
      "eval: 0.7758620689655172         f1score: 0.7559151710694361\n",
      "eval: 0.7758620689655172         f1score: 0.7559151710694361\n",
      "eval: 0.7758620689655172         f1score: 0.7559151710694361\n",
      "eval: 0.7758620689655172         f1score: 0.7559151710694361\n",
      "eval: 0.7758620689655172         f1score: 0.7559151710694361\n",
      "eval: 0.7758620689655172         f1score: 0.7559151710694361\n",
      "eval: 0.7758620689655172         f1score: 0.7559151710694361\n",
      "eval: 0.7758620689655172         f1score: 0.7559151710694361\n",
      "eval: 0.7758620689655172         f1score: 0.7559151710694361\n"
     ]
    },
    {
     "data": {
      "text/html": [
       "Waiting for W&B process to finish... <strong style=\"color:green\">(success).</strong>"
      ],
      "text/plain": [
       "<IPython.core.display.HTML object>"
      ]
     },
     "metadata": {},
     "output_type": "display_data"
    },
    {
     "name": "stderr",
     "output_type": "stream",
     "text": [
      "wandb: WARNING Source type is set to 'repo' but some required information is missing from the environment. A job will not be created from this run. See https://docs.wandb.ai/guides/launch/create-job\n"
     ]
    },
    {
     "data": {
      "text/html": [
       "<style>\n",
       "    table.wandb td:nth-child(1) { padding: 0 10px; text-align: left ; width: auto;} td:nth-child(2) {text-align: left ; width: 100%}\n",
       "    .wandb-row { display: flex; flex-direction: row; flex-wrap: wrap; justify-content: flex-start; width: 100% }\n",
       "    .wandb-col { display: flex; flex-direction: column; flex-basis: 100%; flex: 1; padding: 10px; }\n",
       "    </style>\n",
       "<div class=\"wandb-row\"><div class=\"wandb-col\"><h3>Run history:</h3><br/><table class=\"wandb\"><tr><td>epoch</td><td>▁▁▁▂▂▂▂▂▂▃▃▃▃▃▃▄▄▄▄▄▅▅▅▅▅▅▆▆▆▆▆▆▇▇▇▇▇███</td></tr><tr><td>f1val</td><td>▁▅▆█▇▇▇█▇█▇▇▇▇▇▇▇▇▇▇▇▇▇▇▇▇▇▇▇▇▇▇▇▇▇▇▇▇▇▇</td></tr><tr><td>loss</td><td>█▇▅▄▄▃▃▃▂▂▂▂▂▂▂▂▂▁▁▁▁▁▁▁▁▁▁▁▁▁▁▁▁▁▁▁▁▁▁▁</td></tr><tr><td>lr</td><td>███▇▇▇▇▆▆▆▆▆▅▅▅▅▅▄▄▄▄▄▄▃▃▃▃▃▃▂▂▂▂▂▂▂▁▁▁▁</td></tr><tr><td>val</td><td>▁▆▆▇▇▇▆▇▇█▇▇▇▇▇▇▇▇▇▇▇▇▇▇▇▇▇▇▇▇▇▇▇▇▇▇▇▇▇▇</td></tr></table><br/></div><div class=\"wandb-col\"><h3>Run summary:</h3><br/><table class=\"wandb\"><tr><td>epoch</td><td>69</td></tr><tr><td>f1val</td><td>0.75592</td></tr><tr><td>loss</td><td>0.73559</td></tr><tr><td>lr</td><td>0.00352</td></tr><tr><td>val</td><td>0.77586</td></tr></table><br/></div></div>"
      ],
      "text/plain": [
       "<IPython.core.display.HTML object>"
      ]
     },
     "metadata": {},
     "output_type": "display_data"
    },
    {
     "data": {
      "text/html": [
       " View run <strong style=\"color:#cdcd00\">peach-sweep-23</strong> at: <a href='https://wandb.ai/artzha/driver-intent-learning/runs/0s2e25lp' target=\"_blank\">https://wandb.ai/artzha/driver-intent-learning/runs/0s2e25lp</a><br/>Synced 6 W&B file(s), 0 media file(s), 0 artifact file(s) and 0 other file(s)"
      ],
      "text/plain": [
       "<IPython.core.display.HTML object>"
      ]
     },
     "metadata": {},
     "output_type": "display_data"
    },
    {
     "data": {
      "text/html": [
       "Find logs at: <code>./wandb/run-20230911_224011-0s2e25lp/logs</code>"
      ],
      "text/plain": [
       "<IPython.core.display.HTML object>"
      ]
     },
     "metadata": {},
     "output_type": "display_data"
    },
    {
     "name": "stderr",
     "output_type": "stream",
     "text": [
      "\u001b[34m\u001b[1mwandb\u001b[0m: Agent Starting Run: cydz40r1 with config:\n",
      "\u001b[34m\u001b[1mwandb\u001b[0m: \tdmodel: 64\n",
      "\u001b[34m\u001b[1mwandb\u001b[0m: \tdropout: 0.185482243474422\n",
      "\u001b[34m\u001b[1mwandb\u001b[0m: \tfchiddendim: 256\n",
      "\u001b[34m\u001b[1mwandb\u001b[0m: \tgamma: 0.95\n",
      "\u001b[34m\u001b[1mwandb\u001b[0m: \thiddendim: 128\n",
      "\u001b[34m\u001b[1mwandb\u001b[0m: \tlr: 0.008530266713863274\n",
      "\u001b[34m\u001b[1mwandb\u001b[0m: \tmomentum: 0.944974545958687\n",
      "\u001b[34m\u001b[1mwandb\u001b[0m: \tnumepochs: 70\n",
      "\u001b[34m\u001b[1mwandb\u001b[0m: \tnumheads: 8\n",
      "\u001b[34m\u001b[1mwandb\u001b[0m: \toptimizer: sgd\n",
      "\u001b[34m\u001b[1mwandb\u001b[0m: \tweight_decay: 0.006420896109014282\n",
      "Failed to detect the name of this notebook, you can set it manually with the WANDB_NOTEBOOK_NAME environment variable to enable code saving.\n"
     ]
    },
    {
     "data": {
      "text/html": [
       "wandb version 0.15.10 is available!  To upgrade, please run:\n",
       " $ pip install wandb --upgrade"
      ],
      "text/plain": [
       "<IPython.core.display.HTML object>"
      ]
     },
     "metadata": {},
     "output_type": "display_data"
    },
    {
     "data": {
      "text/html": [
       "Tracking run with wandb version 0.15.9"
      ],
      "text/plain": [
       "<IPython.core.display.HTML object>"
      ]
     },
     "metadata": {},
     "output_type": "display_data"
    },
    {
     "data": {
      "text/html": [
       "Run data is saved locally in <code>/home/arthur/AMRL/Research/Driver-Intent-Prediction/models/wandb/run-20230911_224208-cydz40r1</code>"
      ],
      "text/plain": [
       "<IPython.core.display.HTML object>"
      ]
     },
     "metadata": {},
     "output_type": "display_data"
    },
    {
     "data": {
      "text/html": [
       "Syncing run <strong><a href='https://wandb.ai/artzha/driver-intent-learning/runs/cydz40r1' target=\"_blank\">lyric-sweep-24</a></strong> to <a href='https://wandb.ai/artzha/driver-intent-learning' target=\"_blank\">Weights & Biases</a> (<a href='https://wandb.me/run' target=\"_blank\">docs</a>)<br/>Sweep page: <a href='https://wandb.ai/artzha/driver-intent-learning/sweeps/s79wrgdi' target=\"_blank\">https://wandb.ai/artzha/driver-intent-learning/sweeps/s79wrgdi</a>"
      ],
      "text/plain": [
       "<IPython.core.display.HTML object>"
      ]
     },
     "metadata": {},
     "output_type": "display_data"
    },
    {
     "data": {
      "text/html": [
       " View project at <a href='https://wandb.ai/artzha/driver-intent-learning' target=\"_blank\">https://wandb.ai/artzha/driver-intent-learning</a>"
      ],
      "text/plain": [
       "<IPython.core.display.HTML object>"
      ]
     },
     "metadata": {},
     "output_type": "display_data"
    },
    {
     "data": {
      "text/html": [
       " View sweep at <a href='https://wandb.ai/artzha/driver-intent-learning/sweeps/s79wrgdi' target=\"_blank\">https://wandb.ai/artzha/driver-intent-learning/sweeps/s79wrgdi</a>"
      ],
      "text/plain": [
       "<IPython.core.display.HTML object>"
      ]
     },
     "metadata": {},
     "output_type": "display_data"
    },
    {
     "data": {
      "text/html": [
       " View run at <a href='https://wandb.ai/artzha/driver-intent-learning/runs/cydz40r1' target=\"_blank\">https://wandb.ai/artzha/driver-intent-learning/runs/cydz40r1</a>"
      ],
      "text/plain": [
       "<IPython.core.display.HTML object>"
      ]
     },
     "metadata": {},
     "output_type": "display_data"
    },
    {
     "name": "stdout",
     "output_type": "stream",
     "text": [
      "Created model save dir for model root /home/arthur/AMRL/Research/Driver-Intent-Prediction/outputs/transformer_64_8_128_0.185482243474422_0.008530266713863274_sgd_0.944974545958687_0.006420896109014282_0.95\n",
      "Created model save dir for checkpoints /home/arthur/AMRL/Research/Driver-Intent-Prediction/outputs/transformer_64_8_128_0.185482243474422_0.008530266713863274_sgd_0.944974545958687_0.006420896109014282_0.95/ckpts\n",
      "eval: 0.6379310344827587         f1score: 0.6407051282051281\n",
      "eval: 0.7241379310344828         f1score: 0.7160087719298247\n",
      "eval: 0.7068965517241379         f1score: 0.7232173506007177\n",
      "eval: 0.6551724137931034         f1score: 0.6584615384615385\n",
      "eval: 0.6551724137931034         f1score: 0.5897243880592632\n",
      "eval: 0.7931034482758621         f1score: 0.7531023357852626\n",
      "eval: 0.8103448275862069         f1score: 0.7813807240636509\n",
      "eval: 0.8103448275862069         f1score: 0.7908201058201059\n",
      "eval: 0.7586206896551724         f1score: 0.7457271906052393\n",
      "eval: 0.7931034482758621         f1score: 0.7721229983298947\n",
      "eval: 0.7758620689655172         f1score: 0.7690276854928018\n",
      "eval: 0.7758620689655172         f1score: 0.7852184400964889\n",
      "eval: 0.7068965517241379         f1score: 0.690821340821341\n",
      "eval: 0.7758620689655172         f1score: 0.7457510944340212\n",
      "eval: 0.7413793103448276         f1score: 0.714065934065934\n",
      "eval: 0.7931034482758621         f1score: 0.7674358974358975\n",
      "eval: 0.7241379310344828         f1score: 0.6896054421768707\n",
      "eval: 0.7758620689655172         f1score: 0.7562400111180598\n",
      "eval: 0.7758620689655172         f1score: 0.7618518518518518\n",
      "eval: 0.7758620689655172         f1score: 0.7682539682539683\n",
      "eval: 0.7758620689655172         f1score: 0.7621786492374728\n",
      "eval: 0.7758620689655172         f1score: 0.7572853072853072\n",
      "eval: 0.7931034482758621         f1score: 0.7757509157509157\n",
      "eval: 0.8103448275862069         f1score: 0.7869240669240669\n",
      "eval: 0.7931034482758621         f1score: 0.7757509157509157\n",
      "eval: 0.7931034482758621         f1score: 0.7757509157509157\n",
      "eval: 0.7931034482758621         f1score: 0.7757509157509157\n",
      "eval: 0.7931034482758621         f1score: 0.7757509157509157\n",
      "eval: 0.7931034482758621         f1score: 0.7757509157509157\n",
      "eval: 0.7931034482758621         f1score: 0.7757509157509157\n",
      "eval: 0.7931034482758621         f1score: 0.7757509157509157\n",
      "eval: 0.7931034482758621         f1score: 0.7757509157509157\n",
      "eval: 0.7931034482758621         f1score: 0.7757509157509157\n",
      "eval: 0.7931034482758621         f1score: 0.7757509157509157\n",
      "eval: 0.7931034482758621         f1score: 0.7757509157509157\n",
      "eval: 0.7931034482758621         f1score: 0.7757509157509157\n",
      "eval: 0.7931034482758621         f1score: 0.7757509157509157\n",
      "eval: 0.7931034482758621         f1score: 0.7757509157509157\n",
      "eval: 0.7931034482758621         f1score: 0.7757509157509157\n",
      "eval: 0.7931034482758621         f1score: 0.7757509157509157\n",
      "eval: 0.7931034482758621         f1score: 0.7757509157509157\n",
      "eval: 0.7931034482758621         f1score: 0.7757509157509157\n",
      "eval: 0.7931034482758621         f1score: 0.7757509157509157\n",
      "eval: 0.7931034482758621         f1score: 0.7757509157509157\n",
      "eval: 0.7931034482758621         f1score: 0.7757509157509157\n",
      "eval: 0.7931034482758621         f1score: 0.7757509157509157\n",
      "eval: 0.7931034482758621         f1score: 0.7757509157509157\n",
      "eval: 0.7931034482758621         f1score: 0.7757509157509157\n",
      "eval: 0.7931034482758621         f1score: 0.7757509157509157\n",
      "eval: 0.7931034482758621         f1score: 0.7757509157509157\n",
      "eval: 0.7931034482758621         f1score: 0.7757509157509157\n",
      "eval: 0.7931034482758621         f1score: 0.7757509157509157\n",
      "eval: 0.7931034482758621         f1score: 0.7757509157509157\n",
      "eval: 0.7931034482758621         f1score: 0.7757509157509157\n",
      "eval: 0.7931034482758621         f1score: 0.7757509157509157\n",
      "eval: 0.7931034482758621         f1score: 0.7757509157509157\n",
      "eval: 0.7931034482758621         f1score: 0.7757509157509157\n",
      "eval: 0.7931034482758621         f1score: 0.7757509157509157\n",
      "eval: 0.7931034482758621         f1score: 0.7757509157509157\n",
      "eval: 0.7931034482758621         f1score: 0.7757509157509157\n",
      "eval: 0.7931034482758621         f1score: 0.7757509157509157\n",
      "eval: 0.7931034482758621         f1score: 0.7757509157509157\n",
      "eval: 0.7931034482758621         f1score: 0.7757509157509157\n",
      "eval: 0.7931034482758621         f1score: 0.7757509157509157\n",
      "eval: 0.7931034482758621         f1score: 0.7757509157509157\n",
      "eval: 0.7931034482758621         f1score: 0.7757509157509157\n",
      "eval: 0.7931034482758621         f1score: 0.7757509157509157\n",
      "eval: 0.7931034482758621         f1score: 0.7757509157509157\n",
      "eval: 0.7931034482758621         f1score: 0.7757509157509157\n",
      "eval: 0.7931034482758621         f1score: 0.7757509157509157\n"
     ]
    },
    {
     "data": {
      "text/html": [
       "Waiting for W&B process to finish... <strong style=\"color:green\">(success).</strong>"
      ],
      "text/plain": [
       "<IPython.core.display.HTML object>"
      ]
     },
     "metadata": {},
     "output_type": "display_data"
    },
    {
     "name": "stderr",
     "output_type": "stream",
     "text": [
      "wandb: WARNING Source type is set to 'repo' but some required information is missing from the environment. A job will not be created from this run. See https://docs.wandb.ai/guides/launch/create-job\n"
     ]
    },
    {
     "data": {
      "text/html": [
       "<style>\n",
       "    table.wandb td:nth-child(1) { padding: 0 10px; text-align: left ; width: auto;} td:nth-child(2) {text-align: left ; width: 100%}\n",
       "    .wandb-row { display: flex; flex-direction: row; flex-wrap: wrap; justify-content: flex-start; width: 100% }\n",
       "    .wandb-col { display: flex; flex-direction: column; flex-basis: 100%; flex: 1; padding: 10px; }\n",
       "    </style>\n",
       "<div class=\"wandb-row\"><div class=\"wandb-col\"><h3>Run history:</h3><br/><table class=\"wandb\"><tr><td>epoch</td><td>▁▁▁▂▂▂▂▂▂▃▃▃▃▃▃▄▄▄▄▄▅▅▅▅▅▅▆▆▆▆▆▆▇▇▇▇▇███</td></tr><tr><td>f1val</td><td>▁▅▂▆█▆▇▃▄▇▆▇▆█▇▇▇▇▇▇▇▇▇▇▇▇▇▇▇▇▇▇▇▇▇▇▇▇▇▇</td></tr><tr><td>loss</td><td>█▆▅▄▄▄▃▃▃▃▂▂▂▂▂▂▂▂▂▂▁▁▁▁▁▁▁▁▁▁▁▁▁▁▁▁▁▁▁▁</td></tr><tr><td>lr</td><td>██▇▆▆▆▅▅▄▄▄▄▃▃▃▃▃▂▂▂▂▂▂▂▂▂▁▁▁▁▁▁▁▁▁▁▁▁▁▁</td></tr><tr><td>val</td><td>▁▄▂▇█▆▇▄▅▇▇▇▇█▇▇▇▇▇▇▇▇▇▇▇▇▇▇▇▇▇▇▇▇▇▇▇▇▇▇</td></tr></table><br/></div><div class=\"wandb-col\"><h3>Run summary:</h3><br/><table class=\"wandb\"><tr><td>epoch</td><td>69</td></tr><tr><td>f1val</td><td>0.77575</td></tr><tr><td>loss</td><td>0.87899</td></tr><tr><td>lr</td><td>0.00024</td></tr><tr><td>val</td><td>0.7931</td></tr></table><br/></div></div>"
      ],
      "text/plain": [
       "<IPython.core.display.HTML object>"
      ]
     },
     "metadata": {},
     "output_type": "display_data"
    },
    {
     "data": {
      "text/html": [
       " View run <strong style=\"color:#cdcd00\">lyric-sweep-24</strong> at: <a href='https://wandb.ai/artzha/driver-intent-learning/runs/cydz40r1' target=\"_blank\">https://wandb.ai/artzha/driver-intent-learning/runs/cydz40r1</a><br/>Synced 6 W&B file(s), 0 media file(s), 0 artifact file(s) and 0 other file(s)"
      ],
      "text/plain": [
       "<IPython.core.display.HTML object>"
      ]
     },
     "metadata": {},
     "output_type": "display_data"
    },
    {
     "data": {
      "text/html": [
       "Find logs at: <code>./wandb/run-20230911_224208-cydz40r1/logs</code>"
      ],
      "text/plain": [
       "<IPython.core.display.HTML object>"
      ]
     },
     "metadata": {},
     "output_type": "display_data"
    },
    {
     "name": "stderr",
     "output_type": "stream",
     "text": [
      "\u001b[34m\u001b[1mwandb\u001b[0m: Sweep Agent: Waiting for job.\n",
      "\u001b[34m\u001b[1mwandb\u001b[0m: Job received.\n",
      "\u001b[34m\u001b[1mwandb\u001b[0m: Agent Starting Run: egqavizc with config:\n",
      "\u001b[34m\u001b[1mwandb\u001b[0m: \tdmodel: 64\n",
      "\u001b[34m\u001b[1mwandb\u001b[0m: \tdropout: 0.2140756695080173\n",
      "\u001b[34m\u001b[1mwandb\u001b[0m: \tfchiddendim: 128\n",
      "\u001b[34m\u001b[1mwandb\u001b[0m: \tgamma: 0.9\n",
      "\u001b[34m\u001b[1mwandb\u001b[0m: \thiddendim: 128\n",
      "\u001b[34m\u001b[1mwandb\u001b[0m: \tlr: 0.0007278954634186135\n",
      "\u001b[34m\u001b[1mwandb\u001b[0m: \tmomentum: 0.9578851027040268\n",
      "\u001b[34m\u001b[1mwandb\u001b[0m: \tnumepochs: 70\n",
      "\u001b[34m\u001b[1mwandb\u001b[0m: \tnumheads: 8\n",
      "\u001b[34m\u001b[1mwandb\u001b[0m: \toptimizer: sgd\n",
      "\u001b[34m\u001b[1mwandb\u001b[0m: \tweight_decay: 0.007921921644875955\n",
      "Failed to detect the name of this notebook, you can set it manually with the WANDB_NOTEBOOK_NAME environment variable to enable code saving.\n"
     ]
    },
    {
     "data": {
      "text/html": [
       "wandb version 0.15.10 is available!  To upgrade, please run:\n",
       " $ pip install wandb --upgrade"
      ],
      "text/plain": [
       "<IPython.core.display.HTML object>"
      ]
     },
     "metadata": {},
     "output_type": "display_data"
    },
    {
     "data": {
      "text/html": [
       "Tracking run with wandb version 0.15.9"
      ],
      "text/plain": [
       "<IPython.core.display.HTML object>"
      ]
     },
     "metadata": {},
     "output_type": "display_data"
    },
    {
     "data": {
      "text/html": [
       "Run data is saved locally in <code>/home/arthur/AMRL/Research/Driver-Intent-Prediction/models/wandb/run-20230911_224341-egqavizc</code>"
      ],
      "text/plain": [
       "<IPython.core.display.HTML object>"
      ]
     },
     "metadata": {},
     "output_type": "display_data"
    },
    {
     "data": {
      "text/html": [
       "Syncing run <strong><a href='https://wandb.ai/artzha/driver-intent-learning/runs/egqavizc' target=\"_blank\">solar-sweep-25</a></strong> to <a href='https://wandb.ai/artzha/driver-intent-learning' target=\"_blank\">Weights & Biases</a> (<a href='https://wandb.me/run' target=\"_blank\">docs</a>)<br/>Sweep page: <a href='https://wandb.ai/artzha/driver-intent-learning/sweeps/s79wrgdi' target=\"_blank\">https://wandb.ai/artzha/driver-intent-learning/sweeps/s79wrgdi</a>"
      ],
      "text/plain": [
       "<IPython.core.display.HTML object>"
      ]
     },
     "metadata": {},
     "output_type": "display_data"
    },
    {
     "data": {
      "text/html": [
       " View project at <a href='https://wandb.ai/artzha/driver-intent-learning' target=\"_blank\">https://wandb.ai/artzha/driver-intent-learning</a>"
      ],
      "text/plain": [
       "<IPython.core.display.HTML object>"
      ]
     },
     "metadata": {},
     "output_type": "display_data"
    },
    {
     "data": {
      "text/html": [
       " View sweep at <a href='https://wandb.ai/artzha/driver-intent-learning/sweeps/s79wrgdi' target=\"_blank\">https://wandb.ai/artzha/driver-intent-learning/sweeps/s79wrgdi</a>"
      ],
      "text/plain": [
       "<IPython.core.display.HTML object>"
      ]
     },
     "metadata": {},
     "output_type": "display_data"
    },
    {
     "data": {
      "text/html": [
       " View run at <a href='https://wandb.ai/artzha/driver-intent-learning/runs/egqavizc' target=\"_blank\">https://wandb.ai/artzha/driver-intent-learning/runs/egqavizc</a>"
      ],
      "text/plain": [
       "<IPython.core.display.HTML object>"
      ]
     },
     "metadata": {},
     "output_type": "display_data"
    },
    {
     "name": "stdout",
     "output_type": "stream",
     "text": [
      "Created model save dir for model root /home/arthur/AMRL/Research/Driver-Intent-Prediction/outputs/transformer_64_8_128_0.2140756695080173_0.0007278954634186135_sgd_0.9578851027040268_0.007921921644875955_0.9\n",
      "Created model save dir for checkpoints /home/arthur/AMRL/Research/Driver-Intent-Prediction/outputs/transformer_64_8_128_0.2140756695080173_0.0007278954634186135_sgd_0.9578851027040268_0.007921921644875955_0.9/ckpts\n",
      "eval: 0.3275862068965517         f1score: 0.11952941176470588\n",
      "eval: 0.5         f1score: 0.43231850117096016\n",
      "eval: 0.6551724137931034         f1score: 0.5742222222222223\n"
     ]
    }
   ],
   "source": [
    "sweep_id = wandb.sweep(sweep_config, project=\"driver-intent-learning\")\n",
    "wandb.agent(sweep_id, function=train, count=50)"
   ]
  },
  {
   "cell_type": "code",
   "execution_count": null,
   "metadata": {},
   "outputs": [],
   "source": [
    "torch.save(net1.state_dict(), \"C:/Users/ykung/Downloads/b4c/LSTMFull91\")"
   ]
  },
  {
   "cell_type": "code",
   "execution_count": null,
   "metadata": {},
   "outputs": [],
   "source": [
    "# the values recorded from the best models from each split\n",
    "recacc = [0.89655,0.89655,0.8793,0.862,0.8448,0.8793,0.8448,0.8621,0.9138,0.8448]\n",
    "recf1 = [0.9106,0.84262,0.870255,0.8374,0.8449,0.88,0.874,0.8202,0.8905,0.79139]"
   ]
  },
  {
   "cell_type": "code",
   "execution_count": null,
   "metadata": {},
   "outputs": [],
   "source": [
    "print(np.average(recacc))\n",
    "print(np.std(recacc))\n",
    "print(np.average(recf1))\n",
    "print(np.std(recf1))"
   ]
  },
  {
   "cell_type": "markdown",
   "metadata": {},
   "source": [
    "#### Varying time to manuever"
   ]
  },
  {
   "cell_type": "code",
   "execution_count": null,
   "metadata": {},
   "outputs": [],
   "source": [
    "def train2(net, trainloader, optimizer, loss_fn, num_epochs):\n",
    "    # Put the network in training mode\n",
    "    net.train()\n",
    "\n",
    "    # Training loop\n",
    "    for epoch in range(num_epochs):\n",
    "        running_loss = 0\n",
    "        for batch_idx, (data, targets) in enumerate(trainloader):\n",
    "            # TODO: zero the parameter gradients + forward pass + loss computation + backward pass + weight update\n",
    "            data = np.array(data)\n",
    "            tdata = torch.tensor(data)\n",
    "            ttargets = torch.tensor(targets)\n",
    "            zten = torch.zeros((len(data),30,32))\n",
    "            \n",
    "            optimizer.zero_grad()\n",
    "            prediction = net(tdata)\n",
    "            loss = loss_fn(prediction, ttargets)           \n",
    "            loss.backward()\n",
    "            optimizer.step()\n",
    "            running_loss += loss.item()\n",
    "            \n",
    "            optimizer.zero_grad()\n",
    "            prediction = net(torch.cat((zten,tdata[:,0:120,:]), 1))\n",
    "            loss = loss_fn(prediction, ttargets)           \n",
    "            loss.backward()\n",
    "            optimizer.step()\n",
    "            running_loss += loss.item()\n",
    "                             \n",
    "            optimizer.zero_grad()\n",
    "            prediction = net(torch.cat((zten,zten,tdata[:,0:90,:]), 1))\n",
    "            loss = loss_fn(prediction, ttargets)           \n",
    "            loss.backward()\n",
    "            optimizer.step()\n",
    "            running_loss += loss.item()\n",
    "            \n",
    "            optimizer.zero_grad()\n",
    "            prediction = net(torch.cat((zten,zten,zten,tdata[:,0:60,:]), 1))\n",
    "            loss = loss_fn(prediction, ttargets)           \n",
    "            loss.backward()\n",
    "            optimizer.step()\n",
    "            running_loss += loss.item()\n",
    "                             \n",
    "            optimizer.zero_grad()\n",
    "            prediction = net(torch.cat((zten,zten,zten,zten,tdata[:,0:30,:]), 1))\n",
    "            loss = loss_fn(prediction, ttargets)           \n",
    "            loss.backward()\n",
    "            optimizer.step()\n",
    "            running_loss += loss.item()\n",
    "                             \n",
    "        print(running_loss)"
   ]
  },
  {
   "cell_type": "code",
   "execution_count": null,
   "metadata": {
    "scrolled": true
   },
   "outputs": [],
   "source": [
    "for i in range(50): # train/val for varying time to manuever\n",
    "    print(i)\n",
    "    train2(net1,trainloader,optimizer,loss_fn,1)\n",
    "    evalval, f1val = eval(net1,valloader)\n",
    "    print('eval: '+str(evalval) + '         f1score: ' + str(f1val))\n",
    "    if evalval > 0.80:\n",
    "        break"
   ]
  },
  {
   "cell_type": "code",
   "execution_count": null,
   "metadata": {},
   "outputs": [],
   "source": [
    "def eval2(net, loader):\n",
    "    net.eval()\n",
    "    t2m = np.zeros(1,100)\n",
    "    totalcorrect = np.zeros((1,5,100))\n",
    "    i1 = 0\n",
    "    for batch_idx, (data, targets) in enumerate(loader):\n",
    "        data = np.array(data)\n",
    "        tdata = torch.tensor(data)\n",
    "        zten = torch.zeros((len(data),30,32))\n",
    "        \n",
    "        y = net(torch.cat((zten,zten,zten,zten,tdata[:,0:30,:]), 1))\n",
    "        if int(torch.argmax(y)) == targets[0]:\n",
    "            t2m[i1] = 5\n",
    "            totalcorrect[0,i1] = 1\n",
    "            \n",
    "        y = net(torch.cat((zten,zten,zten,tdata[:,0:60,:]), 1))\n",
    "        if int(torch.argmax(y)) == targets[0]:\n",
    "            if t2m[i1] == 0:\n",
    "                t2m[i1] = 4\n",
    "            totalcorrect[1,i1] = 1\n",
    "            \n",
    "        y = net(torch.cat((zten,zten,tdata[:,0:90,:]), 1))\n",
    "        if int(torch.argmax(y)) == targets[0]:\n",
    "            if t2m[i1] == 0:\n",
    "                t2m[i1] = 3\n",
    "            totalcorrect[2,i1] = 1\n",
    "            \n",
    "        y = net(torch.cat((zten,tdata[:,0:120,:]), 1))\n",
    "        if int(torch.argmax(y)) == targets[0]:\n",
    "            if t2m[i1] == 0:\n",
    "                t2m[i1] = 2\n",
    "            totalcorrect[3,i1] = 1\n",
    "            \n",
    "        y = net(tdata)\n",
    "        if int(torch.argmax(y)) == targets[0]:\n",
    "            if t2m[i1] == 0:\n",
    "                t2m[i1] = 1\n",
    "            totalcorrect[4,i1] = 1\n",
    "            \n",
    "        i1+=1\n",
    "        \n",
    "    return t2m[0:i1], totalcorrect[:,0:i1]"
   ]
  },
  {
   "cell_type": "code",
   "execution_count": null,
   "metadata": {},
   "outputs": [],
   "source": [
    "time_to_maneuver, correct_expansion = eval2(net1, valloader)"
   ]
  },
  {
   "cell_type": "code",
   "execution_count": null,
   "metadata": {},
   "outputs": [],
   "source": [
    "lt2m = len(time_to_maneuver)\n",
    "print('Total maneuvers: ' + str(lt2m))\n",
    "instancescorrect = 0\n",
    "for i in time_to_maneuver:\n",
    "    if i == 5:\n",
    "        instancescorrect += 1\n",
    "\n",
    "per5 = instancescorrect/lt2m\n",
    "avgtime = 5*instancescorrect\n",
    "print('Percentage correct 5 s in advance: ' + str(per5))\n",
    "\n",
    "numleft = lt2m - instancescorrect\n",
    "instancescorrect = 0\n",
    "for i in time_to_maneuver:\n",
    "    if i == 4:\n",
    "        instancescorrect += 1\n",
    "\n",
    "per4 = instancescorrect/numleft\n",
    "avgtime = avgtime + 4*instancescorrect\n",
    "print('Percentage correct 4 s in advance: ' + str(per4))\n",
    "\n",
    "numleft = numleft - instancescorrect\n",
    "instancescorrect = 0\n",
    "for i in time_to_maneuver:\n",
    "    if i == 3:\n",
    "        instancescorrect += 1\n",
    "\n",
    "per3 = instancescorrect/numleft\n",
    "avgtime = avgtime + 3*instancescorrect\n",
    "print('Percentage correct 3 s in advance: ' + str(per3))\n",
    "\n",
    "numleft = numleft - instancescorrect\n",
    "instancescorrect = 0\n",
    "for i in time_to_maneuver:\n",
    "    if i == 2:\n",
    "        instancescorrect += 1\n",
    "\n",
    "per2 = instancescorrect/numleft\n",
    "avgtime = avgtime + 2*instancescorrect\n",
    "print('Percentage correct 2 s in advance: ' + str(per2))\n",
    "\n",
    "numleft = numleft - instancescorrect\n",
    "instancescorrect = 0\n",
    "for i in time_to_maneuver:\n",
    "    if i == 1:\n",
    "        instancescorrect += 1\n",
    "\n",
    "per1 = instancescorrect/numleft\n",
    "avgtime = avgtime + 1*instancescorrect\n",
    "print('Percentage correct 1 s in advance: ' + str(per1))\n",
    "\n",
    "avgtime = avgtime/(lt2m-numleft)\n",
    "print('Avg time for correct prediction: ' + str(avgtime))"
   ]
  },
  {
   "cell_type": "code",
   "execution_count": null,
   "metadata": {},
   "outputs": [],
   "source": [
    "fillerarray = np.zeros((1,len(time_to_maneuver)))\n",
    "fillerarray[0,:] = time_to_maneuver\n",
    "tim2mset = np.concatenate((tim2mset,fillerarray),axis=0)\n",
    "fillerarray = np.zeros((1,5,len(time_to_maneuver)))\n",
    "fillerarray[0,:,:] = correct_expansion\n",
    "expandedset = np.concatenate((expandedset,fillerarray),axis=0)"
   ]
  },
  {
   "cell_type": "code",
   "execution_count": null,
   "metadata": {},
   "outputs": [],
   "source": [
    "np.shape(tim2mset)"
   ]
  },
  {
   "cell_type": "code",
   "execution_count": null,
   "metadata": {},
   "outputs": [],
   "source": [
    "np.shape(expandedset)"
   ]
  },
  {
   "cell_type": "code",
   "execution_count": null,
   "metadata": {},
   "outputs": [],
   "source": [
    "np.save(\"C:/Users/ykung/Downloads/b4c/timevaryingtim2mset\", tim2mset)"
   ]
  },
  {
   "cell_type": "code",
   "execution_count": null,
   "metadata": {},
   "outputs": [],
   "source": [
    "np.save(\"C:/Users/ykung/Downloads/b4c/expandedset\", expandedset)"
   ]
  },
  {
   "cell_type": "code",
   "execution_count": null,
   "metadata": {},
   "outputs": [],
   "source": [
    "num5s = 0\n",
    "num4s = 0\n",
    "num3s = 0\n",
    "num2s = 0\n",
    "num1s = 0\n",
    "total = 580\n",
    "tolcorr = 0\n",
    "for i in range(10):\n",
    "    for j in range(58):\n",
    "        if tim2mset[i,j] == 5:\n",
    "            num5s += 1\n",
    "            tolcorr += 1\n",
    "        elif tim2mset[i,j] == 4:\n",
    "            num4s += 1\n",
    "            tolcorr += 1\n",
    "        elif tim2mset[i,j] == 3:\n",
    "            num3s += 1\n",
    "            tolcorr += 1\n",
    "        elif tim2mset[i,j] == 2:\n",
    "            num2s += 1\n",
    "            tolcorr += 1\n",
    "        elif tim2mset[i,j] == 1:\n",
    "            num1s += 1\n",
    "            tolcorr += 1\n",
    "print('5s pecentage: ' + str(num5s/total))\n",
    "print('4s pecentage: ' + str(num4s/(total-num5s)))\n",
    "print('3s pecentage: ' + str(num3s/(total-num5s-num4s)))\n",
    "print('2s pecentage: ' + str(num2s/(total-num5s-num4s-num3s)))\n",
    "print('1s pecentage: ' + str(num1s/(total-num5s-num4s-num3s-num2s)))\n",
    "print('total avg pred time: ' + str((num5s*5+num4s*4+num3s*3+num2s*2+num1s)/tolcorr))"
   ]
  },
  {
   "cell_type": "code",
   "execution_count": null,
   "metadata": {},
   "outputs": [],
   "source": [
    "expandedset = np.load(\"C:/Users/ykung/Downloads/b4c/expandedset.npy\")"
   ]
  },
  {
   "cell_type": "code",
   "execution_count": null,
   "metadata": {},
   "outputs": [],
   "source": [
    "np.shape(expandedset)"
   ]
  },
  {
   "cell_type": "code",
   "execution_count": null,
   "metadata": {},
   "outputs": [],
   "source": [
    "num5s = 0\n",
    "num4s = 0\n",
    "num3s = 0\n",
    "num2s = 0\n",
    "num1s = 0\n",
    "total = 580\n",
    "for i in range(10):\n",
    "    for j in range(58):\n",
    "        if expandedset[i,0,j] == 1:\n",
    "            num5s += 1\n",
    "            \n",
    "        if expandedset[i,1,j] == 1:\n",
    "            num4s += 1\n",
    "            \n",
    "        if expandedset[i,2,j] == 1:\n",
    "            num3s += 1\n",
    "            \n",
    "        if expandedset[i,3,j] == 1:\n",
    "            num2s += 1\n",
    "            \n",
    "        if expandedset[i,4,j] == 1:\n",
    "            num1s += 1\n",
    "            \n",
    "print('5s pecentage: ' + str(num5s/total))\n",
    "print('4s pecentage: ' + str(num4s/total))\n",
    "print('3s pecentage: ' + str(num3s/total))\n",
    "print('2s pecentage: ' + str(num2s/total))\n",
    "print('1s pecentage: ' + str(num1s/total))"
   ]
  },
  {
   "cell_type": "code",
   "execution_count": null,
   "metadata": {},
   "outputs": [],
   "source": []
  }
 ],
 "metadata": {
  "kernelspec": {
   "display_name": "driverintent",
   "language": "python",
   "name": "python3"
  },
  "language_info": {
   "codemirror_mode": {
    "name": "ipython",
    "version": 3
   },
   "file_extension": ".py",
   "mimetype": "text/x-python",
   "name": "python",
   "nbconvert_exporter": "python",
   "pygments_lexer": "ipython3",
   "version": "3.8.17"
  },
  "vscode": {
   "interpreter": {
    "hash": "cc2a2d6b0738fdf5dfd9815610e5c105a008f99b94911a0fa7537ac36895ef3d"
   }
  }
 },
 "nbformat": 4,
 "nbformat_minor": 2
}

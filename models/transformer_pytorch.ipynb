{
 "cells": [
  {
   "cell_type": "markdown",
   "metadata": {},
   "source": [
    "# LSTM\n"
   ]
  },
  {
   "cell_type": "markdown",
   "metadata": {},
   "source": [
    "### Imports"
   ]
  },
  {
   "cell_type": "code",
   "execution_count": 1,
   "metadata": {},
   "outputs": [],
   "source": [
    "import yaml\n",
    "import torch\n",
    "import torch.nn as nn\n",
    "import torch.nn.functional as F"
   ]
  },
  {
   "cell_type": "code",
   "execution_count": 2,
   "metadata": {},
   "outputs": [],
   "source": [
    "import torch.optim as optim\n",
    "import torch.utils.data as data\n",
    "import math\n",
    "import copy"
   ]
  },
  {
   "cell_type": "markdown",
   "metadata": {},
   "source": [
    "### Data Loading"
   ]
  },
  {
   "cell_type": "code",
   "execution_count": 3,
   "metadata": {},
   "outputs": [],
   "source": [
    "# cd Downloads"
   ]
  },
  {
   "cell_type": "code",
   "execution_count": null,
   "metadata": {},
   "outputs": [],
   "source": [
    "# cd b4c"
   ]
  },
  {
   "cell_type": "code",
   "execution_count": null,
   "metadata": {},
   "outputs": [],
   "source": [
    "# cd Brains4Cars"
   ]
  },
  {
   "cell_type": "markdown",
   "metadata": {},
   "source": [
    "Straight from github"
   ]
  },
  {
   "cell_type": "code",
   "execution_count": 4,
   "metadata": {},
   "outputs": [],
   "source": [
    "import os\n",
    "from os.path import join\n",
    "import copy\n",
    "\n",
    "from multiprocessing import Pool\n",
    "import tqdm\n",
    "\n",
    "import numpy as np\n",
    "import pickle\n",
    "from torch.utils.data import Dataset, DataLoader\n",
    "\n",
    "ACTION_TO_ID_MAP= {\n",
    "    'end_action':   0,\n",
    "    'lchange':      1,\n",
    "    'lturn':        2,\n",
    "    'rchange':      3,\n",
    "    'rturn':        4\n",
    "}\n",
    "\n",
    "rng = np.random.default_rng(seed=42)\n",
    "MAX_FRAMES=150\n",
    "\n",
    "\n",
    "class B4CDataset(Dataset):\n",
    "    \"\"\"\n",
    "    end_action - 0\n",
    "    lchange - 1\n",
    "    lturn - 2\n",
    "    rchange - 3\n",
    "    rturn - 4\n",
    "    \"\"\"\n",
    "    def __init__(self, data_cfg, split=\"train\", create_dataset=False):\n",
    "        self.data_cfg   = data_cfg['DATALOADER_CONFIG']\n",
    "        self.actions    = self.data_cfg['ACTIONS']\n",
    "        self.cameras    = self.data_cfg['CAMERAS']\n",
    "        self.data_dir   = self.data_cfg['DATA_DIR']\n",
    "        self.split      = split\n",
    "\n",
    "        videos_dict = self.read_videos_by_action()        \n",
    "\n",
    "        if create_dataset:\n",
    "            # self.create_gt_road_labels(videos_dict)\n",
    "            self.generate_imagesets(videos_dict)\n",
    "        \n",
    "        self.image_sets = {}\n",
    "        splits_process = [self.split] if self.split in [\"train\", \"val\", \"test\"] else [\"train\", \"val\", \"test\"]\n",
    "\n",
    "        for camera in self.cameras:\n",
    "            if camera not in self.image_sets:\n",
    "                self.image_sets[camera] = []\n",
    "\n",
    "            for curr_split in splits_process:\n",
    "                imageset_path = join(self.data_dir, f'ImageSets_{camera}', f'{curr_split}.txt')\n",
    "                self.image_sets[camera].extend([line.strip() for line in open(imageset_path, 'r')])\n",
    "\n",
    "        # Drop nondivisible videos for fold splits from end\n",
    "        if \"fold\" in self.split:\n",
    "            num_folds = int(self.split.split(\"_\")[0])\n",
    "            num_to_drop = len(self) % num_folds\n",
    "            self.image_sets = {k: v[:-num_to_drop] for k, v in self.image_sets.items()}\n",
    "\n",
    "        print(f'Added {len(self)} videos to the dataset.')\n",
    "\n",
    "    def read_videos_by_action(self):\n",
    "        videos_dict = {}\n",
    "        # Combine image sets for all cameras\n",
    "        for camera in self.cameras:\n",
    "            camera_dir = join(self.data_dir, camera+\"_processed\")\n",
    "\n",
    "            for action in self.actions:\n",
    "                action_dir = join(camera_dir, action)\n",
    "\n",
    "                if action not in videos_dict:\n",
    "                    videos_dict[action] = []\n",
    "\n",
    "                # Take the set intersection between all the cameras sequentially\n",
    "                video_action_set = set([f for f in os.listdir(action_dir) if os.path.isdir(join(action_dir, f))])\n",
    "\n",
    "                if len(videos_dict[action])==0:\n",
    "                    videos_dict[action] = video_action_set\n",
    "                else:\n",
    "                    videos_dict[action] = videos_dict[action].intersection(video_action_set)\n",
    "\n",
    "        # Convert videos_dict back to list\n",
    "        for action in self.actions:\n",
    "            videos_dict[action] = list(videos_dict[action])\n",
    "\n",
    "        # Check that files exist\n",
    "        for camera in self.cameras:\n",
    "            camera_dir = join(self.data_dir, camera+\"_processed\")\n",
    "\n",
    "            for action in self.actions:\n",
    "                action_dir = join(camera_dir, action)\n",
    "\n",
    "                for video_dir in videos_dict[action]:\n",
    "                    video_dir = join(action_dir, video_dir)\n",
    "                    assert os.path.exists(video_dir), f\"Video directory {video_dir} does not exist.\"\n",
    "\n",
    "        print(\"Finished reading all valid videos by directory.\")\n",
    "        return videos_dict\n",
    "\n",
    "    @staticmethod\n",
    "    def write_list_to_file(file_path, data_list):\n",
    "        \"\"\"\n",
    "        Create/overwrite a .txt file and write each line of the Python list to a new line in the file.\n",
    "\n",
    "        Parameters:\n",
    "            file_path : str\n",
    "                The path to the .txt file.\n",
    "            data_list : list\n",
    "                The Python list containing data to write to the file.\n",
    "        \"\"\"\n",
    "        with open(file_path, 'w') as file:\n",
    "            file.writelines(f\"{item}\\n\" for item in data_list)\n",
    "\n",
    "    def check_data_quality(self, video_subdirs, camera):\n",
    "        \"\"\"\n",
    "        Check that all videos have the same number of frames and that the number of frames is less than MAX_FRAMES.\n",
    "\n",
    "        Parameters:\n",
    "            videos_dict : dict\n",
    "                Dictionary containing the list of videos for each action.\n",
    "        \"\"\"\n",
    "\n",
    "        valid_videos_mask = np.zeros(len(video_subdirs), dtype=bool)\n",
    "        for video_idx, video_subdir in enumerate(video_subdirs):\n",
    "            video_path = join(self.data_dir, video_subdir)\n",
    "            data_dict = {}\n",
    "\n",
    "            # Check that all videos have the full frame set\n",
    "            if camera==\"face\":\n",
    "                data_dict['gt_gazepose'] = self.get_face_labels(video_path)\n",
    "                valid_videos_mask[video_idx] = len(data_dict['gt_gazepose'])>=MAX_FRAMES-1 # gazepose has 149\n",
    "            elif camera==\"road\":\n",
    "                data_dict['gt_bbox'], data_dict['gt_lanes'] = self.get_road_labels(video_path)\n",
    "                valid_videos_mask[video_idx] = len(data_dict['gt_bbox'])>=MAX_FRAMES and len(data_dict['gt_lanes'])>=MAX_FRAMES\n",
    "\n",
    "            if valid_videos_mask[video_idx]==0:\n",
    "                print(f'Video {video_subdir} does not have the full frame set, skipping...')\n",
    "\n",
    "        return valid_videos_mask\n",
    "            \n",
    "\n",
    "    def generate_imagesets(self, videos_dict):    \n",
    "        print(\"Generating imagesets...\")\n",
    "        facecam_imageset_dict = {'train': [], 'val': [], 'test': []}\n",
    "        roadcam_imageset_dict = copy.deepcopy(facecam_imageset_dict)\n",
    "        train_pct, val_pct, test_pct = 0.7, 0.15, 0.15\n",
    "        for action, action_videos in videos_dict.items():\n",
    "            road_cam_action_dir = join('road_camera_processed_combined', action)\n",
    "            road_cam_video_labels = np.array([join(road_cam_action_dir, f) for f in action_videos])\n",
    "            road_cam_video_mask = self.check_data_quality(road_cam_video_labels, \"road\")\n",
    "\n",
    "            face_cam_action_dir = join('face_camera_processed', action)\n",
    "            face_cam_video_labels = np.array([join(face_cam_action_dir, f) for f in action_videos])\n",
    "            face_cam_video_mask = self.check_data_quality(face_cam_video_labels, \"face\")\n",
    "\n",
    "            combined_cam_video_mask = np.logical_and(road_cam_video_mask, face_cam_video_mask)\n",
    "            road_cam_video_labels = road_cam_video_labels[combined_cam_video_mask]\n",
    "            face_cam_video_labels = face_cam_video_labels[combined_cam_video_mask]\n",
    "\n",
    "            road_cam_video_labels_sort_idx = np.argsort(road_cam_video_labels)\n",
    "            road_cam_video_labels = road_cam_video_labels[road_cam_video_labels_sort_idx]\n",
    "            face_cam_video_labels = face_cam_video_labels[road_cam_video_labels_sort_idx]\n",
    "\n",
    "            # Ensure file order matches for road and face camera\n",
    "            for i in range(len(road_cam_video_labels)):\n",
    "                assert os.path.basename(road_cam_video_labels[i])==os.path.basename(face_cam_video_labels[i]), 'Video labels do not match'\n",
    "            num_videos = len(road_cam_video_labels)\n",
    "\n",
    "            num_train       = int(num_videos * train_pct)\n",
    "            num_val         = int(num_videos * val_pct)\n",
    "            num_test        = int(num_videos * test_pct)\n",
    "\n",
    "            indices = np.arange(0, num_videos, 1)\n",
    "            rng.shuffle(indices)\n",
    "\n",
    "            videos_indices = {\"train\": [], \"val\": [], \"test\": []}\n",
    "            videos_indices['train'], videos_indices['val'], videos_indices['test'] = indices[:num_train], \\\n",
    "                indices[num_train:num_train+num_val],  indices[num_train+num_val:num_train+num_val+num_test]\n",
    "\n",
    "            for split in facecam_imageset_dict.keys():\n",
    "                roadcam_imageset_dict[split].extend(road_cam_video_labels[videos_indices[split]].tolist())\n",
    "                facecam_imageset_dict[split].extend(face_cam_video_labels[videos_indices[split]].tolist())\n",
    "\n",
    "        # Dump to imageset files for road and face camera\n",
    "        roadcam_imagesets_dir = join(self.data_dir, \"ImageSets_road_camera\")\n",
    "        facecam_imagesets_dir = join(self.data_dir, \"ImageSets_face_camera\")\n",
    "        if not os.path.exists(roadcam_imagesets_dir):\n",
    "            print(f'Video root directory {roadcam_imagesets_dir} does not exist. Creating...')\n",
    "            os.mkdir(roadcam_imagesets_dir)\n",
    "        if not os.path.exists(facecam_imagesets_dir):\n",
    "            print(f'Video root directory {facecam_imagesets_dir} does not exist. Creating...')\n",
    "            os.mkdir(facecam_imagesets_dir)\n",
    "\n",
    "        for split_key in facecam_imageset_dict.keys():\n",
    "            road_cam_split_path = join(roadcam_imagesets_dir, f'{split_key}.txt')\n",
    "            face_cam_split_path = join(facecam_imagesets_dir, f'{split_key}.txt')\n",
    "            print(f'Saving imageset file {split_key} for road {road_cam_split_path} and {face_cam_split_path}')\n",
    "            self.write_list_to_file(road_cam_split_path, roadcam_imageset_dict[split_key])\n",
    "            self.write_list_to_file(face_cam_split_path, facecam_imageset_dict[split_key])\n",
    "\n",
    "    def __len__(self):\n",
    "        num_files = 0\n",
    "        for camera in self.cameras: \n",
    "            assert num_files==0 or num_files==len(self.image_sets[camera]), \"Number files in dataset not correct\"\n",
    "            num_files=len(self.image_sets[camera])\n",
    "        return num_files\n",
    "    \n",
    "    def collate_fn(self, data):\n",
    "        # print(data[0][1])\n",
    "        data_batch = [bi[0] for bi in data]\n",
    "        action_batch = [bi[1] for bi in data]\n",
    "        return data_batch, action_batch\n",
    "\n",
    "    def get_face_labels(self, label_dir):  \n",
    "        gazepose_path = join(label_dir, 'gazepose.npy')\n",
    "        assert os.path.exists(gazepose_path), f'Label file {gazepose_path} does not exist'\n",
    "        gt_gazepose = np.load(gazepose_path)\n",
    "\n",
    "        if gt_gazepose.shape[0] < MAX_FRAMES:\n",
    "            # print(f'Gaze pose {gazepose_path} has less than 150 frames, padding with zeros...')\n",
    "            # Pad with zeros\n",
    "            gt_gazepose = np.pad(gt_gazepose, ((0, MAX_FRAMES-gt_gazepose.shape[0]), (0, 0)), mode='constant')\n",
    "        # Assume gt_gazepose is not smaller than MAX_FRAMES\n",
    "        num_frames = min(MAX_FRAMES, gt_gazepose.shape[0])\n",
    "        gt_gazepose = gt_gazepose[:num_frames, :]\n",
    "\n",
    "        return gt_gazepose\n",
    "\n",
    "    def get_road_labels(self, label_dir):\n",
    "        \n",
    "        bbox_file = join(label_dir, 'bbox_labels.pkl')\n",
    "        lane_file = join(label_dir, 'lane_labels.pkl')\n",
    "\n",
    "        assert os.path.exists(bbox_file), f'Label directory {bbox_file} does not exist'\n",
    "        assert os.path.exists(lane_file), f'Label directory {lane_file} does not exist'\n",
    "\n",
    "        # Load bbox detections\n",
    "        with open(bbox_file, 'rb') as f:\n",
    "            gt_bbox = pickle.load(f)\n",
    "        # Load road labels\n",
    "        with open(lane_file, 'rb') as f:\n",
    "            gt_lanes = pickle.load(f)\n",
    "\n",
    "        gt_bbox = gt_bbox[:MAX_FRAMES]\n",
    "        gt_lanes = gt_lanes[:MAX_FRAMES]\n",
    "\n",
    "        return gt_bbox, gt_lanes\n",
    "    \n",
    "    def get_action_label(self, video_dir):\n",
    "        action_label = video_dir.split('/')[-2]\n",
    "        assert action_label in ACTION_TO_ID_MAP.keys(), f'Action {action_label} not in action map'\n",
    "        action_id = ACTION_TO_ID_MAP[action_label]\n",
    "        return action_id\n",
    "\n",
    "    @staticmethod\n",
    "    def combine_img_labels(args):\n",
    "        split_video_path, combined_video_path = args\n",
    "        img_label_files = [f for f in os.listdir(split_video_path) if f.endswith('.pkl')]\n",
    "\n",
    "        MAX_NUM_BBOXES = 5 \n",
    "        full_img_label_np = np.ones((MAX_FRAMES+1, MAX_NUM_BBOXES*5)) * -1\n",
    "        num_img_label_files = len(img_label_files)\n",
    "        for img_label_idx, img_label_file in enumerate(img_label_files):\n",
    "            img_label_path = join(split_video_path, img_label_file)\n",
    "            with open(img_label_path, 'rb') as f:\n",
    "                img_data = pickle.load(f)\n",
    "                IMG_W, IMG_H = 720, 480\n",
    "\n",
    "                #1 Convert to xc, yc, w, h\n",
    "                x1, x2, y1, y2 = img_data['xyxy'][:, 0], img_data['xyxy'][:, 2], img_data['xyxy'][:, 1], img_data['xyxy'][:, 3]\n",
    "                xc = (x1 + x2) / 2\n",
    "                yc = (y1 + y2) / 2\n",
    "                h = (x2 - x1)\n",
    "                w = (y2 - y1)\n",
    "            \n",
    "                #2 Only keep bboxes with h and w < 0.33 (Ignore large bboxes of self)\n",
    "                bbox_size_mask = np.logical_and(h < IMG_W*0.33, w < IMG_H*0.33)\n",
    "\n",
    "                #3 Only keep labels with class_ids = 0, 1, 2, 3, 4 (Ignore 5 Date)\n",
    "                class_ids = img_data['class_id'] \n",
    "                class_ids_mask = np.logical_and(class_ids >= 0, class_ids <= 4)\n",
    "\n",
    "                bbox_mask = np.logical_and(bbox_size_mask, class_ids_mask)\n",
    "                proc_img_label = np.ones((MAX_NUM_BBOXES, 5), dtype=int)*-1 # max of five bbox detections per image\n",
    "\n",
    "                if np.sum(bbox_mask)>0:\n",
    "                    xc = xc[bbox_mask].astype(int)\n",
    "                    yc = yc[bbox_mask].astype(int)\n",
    "                    h = h[bbox_mask].astype(int)\n",
    "                    w = w[bbox_mask].astype(int)\n",
    "                    class_ids = class_ids[bbox_mask]\n",
    "                    gt_objs = np.stack((xc, yc, w, h, class_ids), axis=1)\n",
    "\n",
    "                    #4 Select top 5 largest boxes\n",
    "                    gt_obj_areas = gt_objs[:, 2] * gt_objs[:, 3]\n",
    "                    gt_objs_sort_idx = np.argsort(-gt_obj_areas, kind='stable') # Sort high to low\n",
    "                    num_objs = min(MAX_NUM_BBOXES, len(gt_objs_sort_idx))\n",
    "\n",
    "                    proc_img_label[:num_objs, :] = gt_objs[gt_objs_sort_idx[:num_objs], :]\n",
    "\n",
    "                proc_img_label = proc_img_label.flatten()\n",
    "                proc_img_label = np.expand_dims(proc_img_label, axis=0)\n",
    "                full_img_label_np[img_label_idx] = proc_img_label\n",
    "\n",
    "        assert os.path.exists(combined_video_path), f'Video label directory {combined_video_path} does not exist'\n",
    "        video_path = join(combined_video_path, 'bbox_labels.pkl')\n",
    "        with open(video_path, 'wb') as f:\n",
    "            pickle.dump(full_img_label_np, f)\n",
    "        print(\"Saved combined bbox labels to: \", video_path)\n",
    "\n",
    "        # Load, pad, save lane dets\n",
    "        original_label_dir = split_video_path.replace('road_camera_processed', 'road_camera').replace('labels/', '')\n",
    "        road_path = join(original_label_dir+\".txt\")\n",
    "        gt_lanes = np.loadtxt(road_path, delimiter=',', dtype=int).reshape(1, -1)\n",
    "        gt_lanes_padded = np.ones((MAX_FRAMES, 3)) * -1\n",
    "        num_valid_gt_lanes = min(num_img_label_files, MAX_FRAMES)\n",
    "        gt_lanes_padded[:num_valid_gt_lanes] = np.repeat(gt_lanes, [num_valid_gt_lanes], axis=0)\n",
    "\n",
    "        lanes_path = join(combined_video_path, 'lane_labels.pkl')\n",
    "        with open(lanes_path, 'wb') as f:\n",
    "            pickle.dump(gt_lanes_padded, f)\n",
    "\n",
    "    def create_gt_road_labels(self, videos_dict):\n",
    "        split_video_path_list = []\n",
    "        combined_video_path_list = []\n",
    "        for action, action_videos in videos_dict.items():\n",
    "            for video in action_videos:\n",
    "                video_path = join(self.data_dir, 'road_camera_processed', 'labels', action, video)\n",
    "                if not os.path.exists(video_path):\n",
    "                    print(f'Video path {video_path} does not exist')\n",
    "                    continue\n",
    "                assert os.path.exists(video_path), f'Video path {video_path} does not exist'\n",
    "\n",
    "                video_label_dir = join(self.data_dir, \"road_camera_processed_combined\", action, video)\n",
    "                if not os.path.exists(video_label_dir):\n",
    "                    print(\"Creating directory: \", video_label_dir)\n",
    "                    os.makedirs(video_label_dir)\n",
    "                \n",
    "                split_video_path_list.append(video_path)\n",
    "                combined_video_path_list.append(video_label_dir)\n",
    "            # self.combine_img_labels((split_video_path_list[0], combined_video_path_list[0]))\n",
    "        pool = Pool(processes=16)\n",
    "        for _ in tqdm.tqdm(pool.imap_unordered(self.combine_img_labels, zip(split_video_path_list, \n",
    "            combined_video_path_list)), total=len(split_video_path_list)):\n",
    "            pass\n",
    "\n",
    "    def __getitem__(self, idx):\n",
    "        data_dict = {}\n",
    "        action_id=None\n",
    "\n",
    "        for camera in self.cameras:\n",
    "            video_subdir    = self.image_sets[camera][idx]\n",
    "            video_fulldir   = join(self.data_dir, video_subdir)\n",
    "\n",
    "            if camera == 'face_camera':\n",
    "                data_dict['gt_gazepose'] = self.get_face_labels(video_fulldir)\n",
    "            elif camera == 'road_camera':\n",
    "                # Load all pickle files in the video directory\n",
    "                data_dict['gt_bbox'], data_dict['gt_lanes'] = self.get_road_labels(video_fulldir)\n",
    "\n",
    "            if action_id is None:\n",
    "                action_id = self.get_action_label(video_fulldir)\n",
    "\n",
    "        # Sort dict by key so that it is is consistent\n",
    "        sorted_data_dict = dict(sorted(data_dict.items(), key=lambda item: item[0]))\n",
    "\n",
    "        sorted_gt_np = np.empty((MAX_FRAMES, 0))\n",
    "        # Stack all values from data_dict into a single np array\n",
    "\n",
    "        for _, items in sorted_data_dict.items():\n",
    "            sorted_gt_np = np.hstack((sorted_gt_np, items))\n",
    "\n",
    "        # TOOD: Extract action label from Imageset file\n",
    "        #  150 x [ (5x5) (2) (2) (3) ] # Pad if not enough frames obj_detections, gazepose, lane_detections # 150 x 32\n",
    "        return sorted_gt_np, action_id # processed_input, action_label one hot vector "
   ]
  },
  {
   "cell_type": "markdown",
   "metadata": {},
   "source": [
    "config file"
   ]
  },
  {
   "cell_type": "code",
   "execution_count": 5,
   "metadata": {},
   "outputs": [],
   "source": [
    "cfg=None\n",
    "with open(\"../config/lstm_all.yaml\", 'r') as file:\n",
    "    cfg = yaml.safe_load(file)"
   ]
  },
  {
   "cell_type": "code",
   "execution_count": 6,
   "metadata": {},
   "outputs": [],
   "source": [
    "batch = 50"
   ]
  },
  {
   "cell_type": "markdown",
   "metadata": {},
   "source": [
    "make dataset (do once)"
   ]
  },
  {
   "cell_type": "code",
   "execution_count": 7,
   "metadata": {},
   "outputs": [
    {
     "name": "stdout",
     "output_type": "stream",
     "text": [
      "Finished reading all valid videos by directory.\n",
      "Added 585 videos to the dataset.\n"
     ]
    }
   ],
   "source": [
    "dataset = B4CDataset(cfg, split=\"5_fold\", create_dataset=False)"
   ]
  },
  {
   "cell_type": "code",
   "execution_count": null,
   "metadata": {},
   "outputs": [],
   "source": [
    "#dataloader = DataLoader(dataset, collate_fn=dataset.collate_fn, batch_size=batch, shuffle=True)"
   ]
  },
  {
   "cell_type": "code",
   "execution_count": null,
   "metadata": {},
   "outputs": [],
   "source": [
    "#valdataset = B4CDataset(cfg, split=\"val\", create_dataset=False)\n",
    "#val_loader = DataLoader(valdataset, collate_fn=dataset.collate_fn, batch_size=1, shuffle=True)"
   ]
  },
  {
   "cell_type": "code",
   "execution_count": null,
   "metadata": {},
   "outputs": [],
   "source": [
    "#testdataset = B4CDataset(cfg, split=\"test\", create_dataset=False)\n",
    "#test_loader = DataLoader(testdataset, collate_fn=dataset.collate_fn, batch_size=1, shuffle=True)"
   ]
  },
  {
   "cell_type": "markdown",
   "metadata": {},
   "source": [
    "#### Define your network, loss function and optimizer"
   ]
  },
  {
   "cell_type": "code",
   "execution_count": 8,
   "metadata": {},
   "outputs": [],
   "source": [
    "#multiheaded attention\n",
    "class MultiHeadAttention(nn.Module):\n",
    "    def __init__(self, d_model, num_heads):\n",
    "        super(MultiHeadAttention, self).__init__()\n",
    "        #d_model must be divisible by num_heads\n",
    "        \n",
    "        self.d_model = d_model\n",
    "        self.num_heads = num_heads\n",
    "        self.d_k = d_model // num_heads\n",
    "        \n",
    "        self.W_q = nn.Linear(d_model, d_model)\n",
    "        self.W_k = nn.Linear(d_model, d_model)\n",
    "        self.W_v = nn.Linear(d_model, d_model)\n",
    "        self.W_o = nn.Linear(d_model, d_model)\n",
    "        nn.init.normal_(self.W_q.weight, mean=0., std=np.sqrt(2 / (d_model+d_model)))\n",
    "        nn.init.normal_(self.W_k.weight, mean=0., std=np.sqrt(2 / (d_model+d_model)))\n",
    "        nn.init.normal_(self.W_v.weight, mean=0., std=np.sqrt(2 / (d_model+d_model)))\n",
    "        nn.init.normal_(self.W_o.weight, mean=0., std=np.sqrt(2 / (d_model+d_model)))\n",
    "        # nn.init.xavier_uniform_(self.W_q.weight)\n",
    "        # nn.init.xavier_uniform_(self.W_k.weight)\n",
    "        # nn.init.xavier_uniform_(self.W_v.weight)\n",
    "        # nn.init.xavier_uniform_(self.W_o.weight)\n",
    "        \n",
    "    def scaled_dot_product_attention(self, Q, K, V, mask=None):\n",
    "        attn_scores = torch.matmul(Q, K.transpose(-2, -1)) / math.sqrt(self.d_k)\n",
    "        if mask is not None:\n",
    "            attn_scores = attn_scores.masked_fill(mask == 0, -1e9)\n",
    "        attn_probs = torch.softmax(attn_scores, dim=-1)\n",
    "        output = torch.matmul(attn_probs, V)\n",
    "        return output\n",
    "        \n",
    "    def split_heads(self, x):\n",
    "        batch_size, seq_length, d_model = x.size()\n",
    "        return x.view(batch_size, seq_length, self.num_heads, self.d_k).transpose(1, 2)\n",
    "        \n",
    "    def combine_heads(self, x):\n",
    "        batch_size, _, seq_length, d_k = x.size()\n",
    "        return x.transpose(1, 2).contiguous().view(batch_size, seq_length, self.d_model)\n",
    "        \n",
    "    def forward(self, Q, K, V, mask=None):\n",
    "        Q = self.split_heads(self.W_q(Q))\n",
    "        K = self.split_heads(self.W_k(K))\n",
    "        V = self.split_heads(self.W_v(V))\n",
    "        \n",
    "        attn_output = self.scaled_dot_product_attention(Q, K, V, mask)\n",
    "        output = self.W_o(self.combine_heads(attn_output))\n",
    "        return output\n",
    "    \n",
    "#position feedforward\n",
    "class PositionWiseFeedForward(nn.Module):\n",
    "    def __init__(self, d_model, d_ff):\n",
    "        super(PositionWiseFeedForward, self).__init__()\n",
    "        self.fc1 = nn.Linear(d_model, d_ff)\n",
    "        self.fc2 = nn.Linear(d_ff, d_model)\n",
    "        self.relu = nn.ReLU()\n",
    "\n",
    "        # nn.init.xavier_uniform_(self.fc1.weight)\n",
    "        # nn.init.xavier_uniform_(self.fc2.weight)\n",
    "\n",
    "    def forward(self, x):\n",
    "        return self.fc2(self.relu(self.fc1(x)))\n",
    "    \n",
    "#position encoding\n",
    "class PositionalEncoding(nn.Module):\n",
    "    def __init__(self, d_model, max_seq_length):\n",
    "        super(PositionalEncoding, self).__init__()\n",
    "        \n",
    "        pe = torch.zeros(max_seq_length, d_model)\n",
    "        position = torch.arange(0, max_seq_length, dtype=torch.float).unsqueeze(1)\n",
    "        div_term = torch.exp(torch.arange(0, d_model, 2).float() * -(math.log(10000.0) / d_model))\n",
    "        \n",
    "        pe[:, 0::2] = torch.sin(position * div_term)\n",
    "        pe[:, 1::2] = torch.cos(position * div_term)\n",
    "        \n",
    "        self.register_buffer('pe', pe.unsqueeze(0))\n",
    "        \n",
    "    def forward(self, x):\n",
    "        return x + self.pe[:, :x.size(1)]\n",
    "\n",
    "#encoder no decoder\n",
    "class EncoderLayer(nn.Module):\n",
    "    def __init__(self, d_model, num_heads, d_ff, dropout, d_hidden):\n",
    "        super(EncoderLayer, self).__init__()\n",
    "        self.self_attn = MultiHeadAttention(d_model, num_heads)\n",
    "        self.feed_forward = PositionWiseFeedForward(d_model, d_ff)\n",
    "        self.norm1 = nn.LayerNorm(d_model)\n",
    "        self.norm2 = nn.LayerNorm(d_model)\n",
    "        self.dropout = nn.Dropout(dropout)\n",
    "        # self.fc1 = nn.Linear(d_model*150,5)\n",
    "        self.pfc1 = nn.Linear(4,32)\n",
    "        self.pfc2 = nn.Linear(25,16)\n",
    "        self.pfc3 = nn.Linear(3,16)\n",
    "        self.sig = nn.Sigmoid()\n",
    "\n",
    "        self.x1norm = nn.LayerNorm(32)\n",
    "        self.x2norm = nn.LayerNorm(16)\n",
    "        self.x3norm = nn.LayerNorm(16)\n",
    "\n",
    "        self.fc1 = nn.Linear(d_model*150,d_hidden)\n",
    "        self.relu = nn.ReLU()\n",
    "        self.fc2 = nn.Linear(d_hidden, 5)\n",
    "\n",
    "        # nn.init.xavier_uniform_(self.fc1.weight)\n",
    "        # nn.init.xavier_uniform_(self.pfc1.weight)\n",
    "        # nn.init.xavier_uniform_(self.pfc2.weight)\n",
    "        # nn.init.xavier_uniform_(self.pfc3.weight)\n",
    "        \n",
    "    def forward(self, x):\n",
    "        x1 = self.pfc1(x[:,:,25:29])\n",
    "        x1 = self.sig(x1)\n",
    "        x2 = self.pfc2(x[:,:,0:25])\n",
    "        x2 = self.sig(x2)\n",
    "        x3 = self.pfc3(x[:,:,29:32])\n",
    "        x3 = self.sig(x3)\n",
    "\n",
    "        x1 = self.x1norm(x1)\n",
    "        x2 = self.x2norm(x2)\n",
    "        x3 = self.x3norm(x3)\n",
    "        #x1 = torch.flatten(x1, start_dim=1)\n",
    "        #x2 = torch.flatten(x2, start_dim=1)\n",
    "        #x3 = torch.flatten(x3, start_dim=1)\n",
    "        x = torch.cat((x1,x2,x3), 2)\n",
    "        attn_output = self.self_attn(x, x, x, mask=None)\n",
    "        x = self.norm1(x + self.dropout(attn_output))\n",
    "        ff_output = self.feed_forward(x)\n",
    "        x = self.norm2(x + self.dropout(ff_output))\n",
    "        x = torch.flatten(x, start_dim=1)\n",
    "        # x = self.fc1(x)\n",
    "        x = self.fc2(self.relu(self.fc1(x)))\n",
    "\n",
    "        return x"
   ]
  },
  {
   "cell_type": "code",
   "execution_count": 9,
   "metadata": {},
   "outputs": [],
   "source": [
    "# fine-violet-267\n",
    "modeldim = 64\n",
    "numheads = 8\n",
    "hiddendim = 128 # modeldim*2\n",
    "lr = 0.001\n",
    "dropout = 0.20\n",
    "num_epochs = 100\n",
    "fchiddendim = 64\n",
    "T_max = num_epochs / 2\n",
    "final_lr = 0.1*lr\n",
    "\n",
    "net1 = EncoderLayer(modeldim,numheads,hiddendim,dropout,fchiddendim)\n",
    "loss_fn = nn.CrossEntropyLoss()\n",
    "optimizer = torch.optim.SGD(net1.parameters(), lr=lr, momentum=0.9, weight_decay=0.001)\n",
    "# lr_scheduler = torch.optim.lr_scheduler.CosineAnnealingLR(optimizer, T_max, final_lr)\n",
    "lr_scheduler = torch.optim.lr_scheduler.ExponentialLR(optimizer, gamma=0.95)"
   ]
  },
  {
   "cell_type": "code",
   "execution_count": null,
   "metadata": {},
   "outputs": [],
   "source": [
    "# modeldim = 64\n",
    "# numheads = 8\n",
    "# hiddendim = 128 # modeldim*2\n",
    "# lr = 0.001\n",
    "# dropout = 0.2\n",
    "# num_epochs = 100\n",
    "# T_max = num_epochs / 2\n",
    "# final_lr = 0.1*lr\n",
    "\n",
    "# net1 = EncoderLayer(modeldim,numheads,hiddendim,dropout)\n",
    "# loss_fn = nn.CrossEntropyLoss()\n",
    "# optimizer = torch.optim.SGD(net1.parameters(), lr=lr, momentum=0.85, weight_decay=0.001)\n",
    "# # lr_scheduler = torch.optim.lr_scheduler.CosineAnnealingLR(optimizer, T_max, final_lr)\n",
    "# lr_scheduler = torch.optim.lr_scheduler.ExponentialLR(optimizer, gamma=0.95)"
   ]
  },
  {
   "cell_type": "markdown",
   "metadata": {},
   "source": [
    "#### Implement the training loop function"
   ]
  },
  {
   "cell_type": "code",
   "execution_count": 10,
   "metadata": {},
   "outputs": [],
   "source": [
    "import random\n",
    "\n",
    "random.seed(42)\n",
    "# k-split validation\n",
    "totalsize = len(dataset)\n",
    "indices = list(range(0,totalsize))\n",
    "random.shuffle(indices)\n",
    "seg = int(totalsize/10) # number of splits\n",
    "\n"
   ]
  },
  {
   "cell_type": "code",
   "execution_count": null,
   "metadata": {},
   "outputs": [],
   "source": [
    "split = 0 #change for each k-validation split\n",
    "\n",
    "trainlefti = indices[0:split*seg]\n",
    "trainrighti = indices[min(split*seg + seg,totalsize):totalsize]\n",
    "traini = trainlefti + trainrighti\n",
    "vali = indices[split*seg:min(totalsize,seg*split+seg)]\n",
    "\n",
    "train_set = torch.utils.data.dataset.Subset(dataset,traini)\n",
    "val_set = torch.utils.data.dataset.Subset(dataset,vali)\n",
    "\n",
    "trainloader = DataLoader(train_set, collate_fn=dataset.collate_fn, batch_size=batch, shuffle=True)\n",
    "valloader = DataLoader(val_set, collate_fn=dataset.collate_fn, batch_size=1, shuffle=True)"
   ]
  },
  {
   "cell_type": "code",
   "execution_count": 11,
   "metadata": {},
   "outputs": [],
   "source": [
    "def train(net, trainloader, optimizer, loss_fn, lr_scheduler, num_epochs, epoch_count=0, split=0):\n",
    "    import wandb\n",
    "    # Put the network in training mode\n",
    "    net.train()\n",
    "\n",
    "    # Training loop\n",
    "    for epoch in range(num_epochs):\n",
    "        running_loss = 0\n",
    "        for batch_idx, (data, targets) in enumerate(trainloader):\n",
    "            # TODO: zero the parameter gradients + forward pass + loss computation + backward pass + weight update\n",
    "            data = np.array(data)\n",
    "            tdata = torch.tensor(data)\n",
    "            optimizer.zero_grad()\n",
    "            prediction = net(tdata.float())\n",
    "            ttargets = torch.tensor(targets)\n",
    "\n",
    "            loss = loss_fn(prediction, ttargets)\n",
    "            loss.backward()\n",
    "            optimizer.step()\n",
    "            running_loss += loss.item()\n",
    "        lr_scheduler.step()\n",
    "        print(running_loss)\n",
    "\n",
    "        ckpt_save_dir = f'/home/arthur/AMRL/Research/Driver-Intent-Prediction/outputs/default/ckpts_{split}'\n",
    "        if not os.path.exists(ckpt_save_dir):\n",
    "            os.makedirs(ckpt_save_dir)\n",
    "        torch.save(net1.state_dict(), os.path.join(ckpt_save_dir, f'epoch_{epoch_count}.pth'))\n",
    "\n",
    "        wandb.log({\"loss\": running_loss / (len(trainloader) * batch), \"epoch\": epoch, \"lr\": lr_scheduler.get_last_lr()[0]}) \n"
   ]
  },
  {
   "cell_type": "markdown",
   "metadata": {},
   "source": [
    "Evaluate"
   ]
  },
  {
   "cell_type": "code",
   "execution_count": 12,
   "metadata": {},
   "outputs": [],
   "source": [
    "import sklearn\n",
    "from sklearn import metrics"
   ]
  },
  {
   "cell_type": "code",
   "execution_count": 13,
   "metadata": {},
   "outputs": [],
   "source": [
    "def eval(net, loader):\n",
    "    net.eval()\n",
    "    se = 0 # sum of correct pred\n",
    "    total = 0\n",
    "    f1input = np.zeros(100)\n",
    "    f1target = np.zeros(100)\n",
    "    i1 = 0\n",
    "    for batch_idx, (data, targets) in enumerate(loader):\n",
    "        data = np.array(data)\n",
    "        tdata = torch.tensor(data)\n",
    "        y = net(tdata.float())\n",
    "        f1input[i1] = int(torch.argmax(y))\n",
    "        f1target[i1] = int(targets[0])\n",
    "\n",
    "        i1 += 1\n",
    "        if int(torch.argmax(y)) == targets[0]:\n",
    "            se += 1\n",
    "        total += 1\n",
    "        \n",
    "    f1score = sklearn.metrics.f1_score(f1target[0:i1], f1input[0:i1], average = 'macro')\n",
    "    return float(se/total), f1score"
   ]
  },
  {
   "cell_type": "code",
   "execution_count": null,
   "metadata": {
    "scrolled": true
   },
   "outputs": [],
   "source": [
    "import wandb\n",
    "\n",
    "wandb.init(\n",
    "    project=\"Driver-Intent-Prediction-models\",\n",
    "    config={\n",
    "        \"optimizer\": \"SGD\",\n",
    "        \"lr\": lr,\n",
    "        \"dropout\": dropout,\n",
    "        \"num_epochs\": num_epochs,\n",
    "        \"batch_size\": batch,\n",
    "        \"modeldim\": modeldim,\n",
    "        \"numheads\": numheads,\n",
    "        \"hiddendim\": hiddendim,\n",
    "    }\n",
    ")\n",
    "\n",
    "for i in range(num_epochs): # for train/val stationary time before manuever\n",
    "    print(i)\n",
    "    train(net1,trainloader,optimizer,loss_fn, lr_scheduler, 1, epoch_count=i)\n",
    "    evalval, f1val = eval(net1,valloader)\n",
    "    print('eval: '+str(evalval) + '         f1score: ' + str(f1val))\n",
    "    wandb.log({\"val\": evalval, \"f1val\": f1val})\n",
    "    if evalval > 0.92:\n",
    "        break\n",
    "\n",
    "wandb.finish()"
   ]
  },
  {
   "cell_type": "code",
   "execution_count": null,
   "metadata": {},
   "outputs": [],
   "source": [
    "# torch.save(net1.state_dict(), \"C:/Users/ykung/Downloads/b4c/LSTMFull91\")\n",
    "\n",
    "net1.load_state_dict(torch.load(\"/home/arthur/AMRL/Research/Driver-Intent-Prediction/outputs/default/ckpts/epoch_20.pth\"))"
   ]
  },
  {
   "attachments": {},
   "cell_type": "markdown",
   "metadata": {},
   "source": [
    "Cross Validation"
   ]
  },
  {
   "cell_type": "code",
   "execution_count": 14,
   "metadata": {},
   "outputs": [
    {
     "name": "stderr",
     "output_type": "stream",
     "text": [
      "Failed to detect the name of this notebook, you can set it manually with the WANDB_NOTEBOOK_NAME environment variable to enable code saving.\n"
     ]
    },
    {
     "name": "stdout",
     "output_type": "stream",
     "text": [
      "[0, 1, 2, 3, 4, 5, 6, 7, 8, 9]\n"
     ]
    },
    {
     "name": "stderr",
     "output_type": "stream",
     "text": [
      "\u001b[34m\u001b[1mwandb\u001b[0m: Currently logged in as: \u001b[33martzha\u001b[0m. Use \u001b[1m`wandb login --relogin`\u001b[0m to force relogin\n"
     ]
    },
    {
     "data": {
      "text/html": [
       "wandb version 0.15.10 is available!  To upgrade, please run:\n",
       " $ pip install wandb --upgrade"
      ],
      "text/plain": [
       "<IPython.core.display.HTML object>"
      ]
     },
     "metadata": {},
     "output_type": "display_data"
    },
    {
     "data": {
      "text/html": [
       "Tracking run with wandb version 0.15.9"
      ],
      "text/plain": [
       "<IPython.core.display.HTML object>"
      ]
     },
     "metadata": {},
     "output_type": "display_data"
    },
    {
     "data": {
      "text/html": [
       "Run data is saved locally in <code>/home/arthur/AMRL/Research/Driver-Intent-Prediction/models/wandb/run-20230911_230045-1b05wgnw</code>"
      ],
      "text/plain": [
       "<IPython.core.display.HTML object>"
      ]
     },
     "metadata": {},
     "output_type": "display_data"
    },
    {
     "data": {
      "text/html": [
       "Syncing run <strong><a href='https://wandb.ai/artzha/Driver-Intent-Prediction-Models-Cross-Validation/runs/1b05wgnw' target=\"_blank\">cross_validation_split0</a></strong> to <a href='https://wandb.ai/artzha/Driver-Intent-Prediction-Models-Cross-Validation' target=\"_blank\">Weights & Biases</a> (<a href='https://wandb.me/run' target=\"_blank\">docs</a>)<br/>"
      ],
      "text/plain": [
       "<IPython.core.display.HTML object>"
      ]
     },
     "metadata": {},
     "output_type": "display_data"
    },
    {
     "data": {
      "text/html": [
       " View project at <a href='https://wandb.ai/artzha/Driver-Intent-Prediction-Models-Cross-Validation' target=\"_blank\">https://wandb.ai/artzha/Driver-Intent-Prediction-Models-Cross-Validation</a>"
      ],
      "text/plain": [
       "<IPython.core.display.HTML object>"
      ]
     },
     "metadata": {},
     "output_type": "display_data"
    },
    {
     "data": {
      "text/html": [
       " View run at <a href='https://wandb.ai/artzha/Driver-Intent-Prediction-Models-Cross-Validation/runs/1b05wgnw' target=\"_blank\">https://wandb.ai/artzha/Driver-Intent-Prediction-Models-Cross-Validation/runs/1b05wgnw</a>"
      ],
      "text/plain": [
       "<IPython.core.display.HTML object>"
      ]
     },
     "metadata": {},
     "output_type": "display_data"
    },
    {
     "name": "stdout",
     "output_type": "stream",
     "text": [
      "0\n",
      "15.814381718635559\n",
      "eval: 0.3793103448275862         f1score: 0.17759892689470153\n",
      "1\n",
      "12.981415569782257\n",
      "eval: 0.4827586206896552         f1score: 0.3212088191493226\n",
      "2\n",
      "10.56434714794159\n",
      "eval: 0.6551724137931034         f1score: 0.5480863649807749\n",
      "3\n",
      "8.77808392047882\n",
      "eval: 0.6379310344827587         f1score: 0.6176073926073926\n",
      "4\n",
      "7.5812618136405945\n",
      "eval: 0.7241379310344828         f1score: 0.6956190476190477\n",
      "5\n",
      "6.575533837080002\n",
      "eval: 0.7586206896551724         f1score: 0.7323976488627653\n",
      "6\n",
      "6.038686901330948\n",
      "eval: 0.6896551724137931         f1score: 0.6571658615136876\n",
      "7\n",
      "5.357866287231445\n",
      "eval: 0.7758620689655172         f1score: 0.7457875457875458\n",
      "8\n",
      "4.951022207736969\n",
      "eval: 0.7068965517241379         f1score: 0.6687232574189095\n",
      "9\n",
      "4.605223625898361\n",
      "eval: 0.8103448275862069         f1score: 0.769180245042314\n",
      "10\n",
      "4.300177216529846\n",
      "eval: 0.7931034482758621         f1score: 0.7586209634990123\n",
      "11\n",
      "3.9513242840766907\n",
      "eval: 0.7413793103448276         f1score: 0.6975991140642304\n",
      "12\n",
      "3.7379772067070007\n",
      "eval: 0.7758620689655172         f1score: 0.7457875457875458\n",
      "13\n",
      "3.425117641687393\n",
      "eval: 0.7931034482758621         f1score: 0.7586209634990123\n",
      "14\n",
      "3.286397859454155\n",
      "eval: 0.7586206896551724         f1score: 0.7109890109890109\n",
      "15\n",
      "3.1625367254018784\n",
      "eval: 0.7758620689655172         f1score: 0.7238224287004774\n",
      "16\n",
      "3.0259993076324463\n",
      "eval: 0.7758620689655172         f1score: 0.7174684574684574\n",
      "17\n",
      "2.7675338834524155\n",
      "eval: 0.7931034482758621         f1score: 0.7515343915343916\n",
      "18\n",
      "2.7104686498641968\n",
      "eval: 0.7931034482758621         f1score: 0.73003663003663\n",
      "19\n",
      "2.5579807609319687\n",
      "eval: 0.7586206896551724         f1score: 0.7109890109890109\n",
      "20\n",
      "2.432378113269806\n",
      "eval: 0.7758620689655172         f1score: 0.7174684574684574\n",
      "21\n",
      "2.4398654997348785\n",
      "eval: 0.7758620689655172         f1score: 0.7174684574684574\n",
      "22\n",
      "2.248530685901642\n",
      "eval: 0.7586206896551724         f1score: 0.7109890109890109\n",
      "23\n",
      "2.2692044228315353\n",
      "eval: 0.7758620689655172         f1score: 0.7174684574684574\n",
      "24\n",
      "2.1175311654806137\n",
      "eval: 0.7586206896551724         f1score: 0.7109890109890109\n",
      "25\n",
      "2.0971901193261147\n",
      "eval: 0.7758620689655172         f1score: 0.7174684574684574\n",
      "26\n",
      "2.1030567586421967\n",
      "eval: 0.7931034482758621         f1score: 0.7515343915343916\n",
      "27\n",
      "1.9950794726610184\n",
      "eval: 0.7758620689655172         f1score: 0.7174684574684574\n",
      "28\n",
      "1.8947878256440163\n",
      "eval: 0.7586206896551724         f1score: 0.7044492093272581\n",
      "29\n",
      "1.8576780557632446\n",
      "eval: 0.7586206896551724         f1score: 0.6885714285714285\n",
      "30\n",
      "1.8669585287570953\n",
      "eval: 0.7758620689655172         f1score: 0.7174684574684574\n",
      "31\n",
      "1.7479424104094505\n",
      "eval: 0.7758620689655172         f1score: 0.7174684574684574\n",
      "32\n",
      "1.7381842732429504\n",
      "eval: 0.7586206896551724         f1score: 0.6885714285714285\n",
      "33\n",
      "1.699129730463028\n",
      "eval: 0.7758620689655172         f1score: 0.7174684574684574\n",
      "34\n",
      "1.6775814890861511\n",
      "eval: 0.7758620689655172         f1score: 0.7174684574684574\n",
      "35\n",
      "1.6092763543128967\n",
      "eval: 0.7758620689655172         f1score: 0.7174684574684574\n",
      "36\n",
      "1.564538687467575\n",
      "eval: 0.7758620689655172         f1score: 0.7174684574684574\n",
      "37\n",
      "1.5625580623745918\n",
      "eval: 0.7758620689655172         f1score: 0.7174684574684574\n",
      "38\n",
      "1.594548761844635\n",
      "eval: 0.7758620689655172         f1score: 0.7174684574684574\n",
      "39\n",
      "1.5390478819608688\n",
      "eval: 0.7586206896551724         f1score: 0.6885714285714285\n",
      "40\n",
      "1.504058577120304\n",
      "eval: 0.7586206896551724         f1score: 0.6885714285714285\n",
      "41\n",
      "1.5525697618722916\n",
      "eval: 0.7586206896551724         f1score: 0.6885714285714285\n",
      "42\n",
      "1.4782408252358437\n",
      "eval: 0.7586206896551724         f1score: 0.6885714285714285\n",
      "43\n",
      "1.4687509834766388\n",
      "eval: 0.7758620689655172         f1score: 0.7174684574684574\n",
      "44\n",
      "1.3995539173483849\n",
      "eval: 0.7586206896551724         f1score: 0.6885714285714285\n",
      "45\n",
      "1.4129084274172783\n",
      "eval: 0.7586206896551724         f1score: 0.6885714285714285\n",
      "46\n",
      "1.4763427525758743\n",
      "eval: 0.7586206896551724         f1score: 0.6885714285714285\n",
      "47\n",
      "1.371957890689373\n",
      "eval: 0.7586206896551724         f1score: 0.6885714285714285\n",
      "48\n",
      "1.3724806010723114\n",
      "eval: 0.7586206896551724         f1score: 0.6885714285714285\n",
      "49\n",
      "1.3934065774083138\n",
      "eval: 0.7586206896551724         f1score: 0.6885714285714285\n",
      "50\n",
      "1.4068683460354805\n",
      "eval: 0.7586206896551724         f1score: 0.6885714285714285\n",
      "51\n",
      "1.3844008892774582\n",
      "eval: 0.7586206896551724         f1score: 0.6885714285714285\n",
      "52\n",
      "1.416255660355091\n",
      "eval: 0.7586206896551724         f1score: 0.6885714285714285\n",
      "53\n",
      "1.3104855716228485\n",
      "eval: 0.7586206896551724         f1score: 0.6885714285714285\n",
      "54\n",
      "1.3374772295355797\n",
      "eval: 0.7586206896551724         f1score: 0.6885714285714285\n",
      "55\n",
      "1.2796481773257256\n",
      "eval: 0.7586206896551724         f1score: 0.6885714285714285\n",
      "56\n",
      "1.3306910395622253\n",
      "eval: 0.7586206896551724         f1score: 0.6885714285714285\n",
      "57\n",
      "1.3145360946655273\n",
      "eval: 0.7586206896551724         f1score: 0.6885714285714285\n",
      "58\n",
      "1.274304449558258\n",
      "eval: 0.7586206896551724         f1score: 0.6885714285714285\n",
      "59\n",
      "1.2495328560471535\n",
      "eval: 0.7586206896551724         f1score: 0.6885714285714285\n",
      "60\n",
      "1.3172729685902596\n",
      "eval: 0.7586206896551724         f1score: 0.6885714285714285\n",
      "61\n",
      "1.2771824449300766\n",
      "eval: 0.7586206896551724         f1score: 0.6885714285714285\n",
      "62\n",
      "1.2422828152775764\n",
      "eval: 0.7586206896551724         f1score: 0.6885714285714285\n",
      "63\n",
      "1.2761210799217224\n",
      "eval: 0.7586206896551724         f1score: 0.6885714285714285\n",
      "64\n",
      "1.2332151755690575\n",
      "eval: 0.7586206896551724         f1score: 0.6885714285714285\n",
      "65\n",
      "1.2160360589623451\n",
      "eval: 0.7586206896551724         f1score: 0.6885714285714285\n",
      "66\n",
      "1.2715101763606071\n",
      "eval: 0.7586206896551724         f1score: 0.6885714285714285\n",
      "67\n",
      "1.245788335800171\n",
      "eval: 0.7586206896551724         f1score: 0.6885714285714285\n",
      "68\n",
      "1.1908780932426453\n",
      "eval: 0.7586206896551724         f1score: 0.6885714285714285\n",
      "69\n",
      "1.2353552505373955\n",
      "eval: 0.7586206896551724         f1score: 0.6885714285714285\n"
     ]
    },
    {
     "data": {
      "text/html": [
       "Waiting for W&B process to finish... <strong style=\"color:green\">(success).</strong>"
      ],
      "text/plain": [
       "<IPython.core.display.HTML object>"
      ]
     },
     "metadata": {},
     "output_type": "display_data"
    },
    {
     "name": "stderr",
     "output_type": "stream",
     "text": [
      "wandb: WARNING Source type is set to 'repo' but some required information is missing from the environment. A job will not be created from this run. See https://docs.wandb.ai/guides/launch/create-job\n"
     ]
    },
    {
     "data": {
      "application/vnd.jupyter.widget-view+json": {
       "model_id": "b6032b47a1614390966d55b640e71141",
       "version_major": 2,
       "version_minor": 0
      },
      "text/plain": [
       "VBox(children=(Label(value='0.003 MB of 0.003 MB uploaded (0.000 MB deduped)\\r'), FloatProgress(value=1.0, max…"
      ]
     },
     "metadata": {},
     "output_type": "display_data"
    },
    {
     "data": {
      "text/html": [
       "<style>\n",
       "    table.wandb td:nth-child(1) { padding: 0 10px; text-align: left ; width: auto;} td:nth-child(2) {text-align: left ; width: 100%}\n",
       "    .wandb-row { display: flex; flex-direction: row; flex-wrap: wrap; justify-content: flex-start; width: 100% }\n",
       "    .wandb-col { display: flex; flex-direction: column; flex-basis: 100%; flex: 1; padding: 10px; }\n",
       "    </style>\n",
       "<div class=\"wandb-row\"><div class=\"wandb-col\"><h3>Run history:</h3><br/><table class=\"wandb\"><tr><td>epoch</td><td>▁▁▁▁▁▁▁▁▁▁▁▁▁▁▁▁▁▁▁▁▁▁▁▁▁▁▁▁▁▁▁▁▁▁▁▁▁▁▁▁</td></tr><tr><td>f1val</td><td>▁▃▆██▇██▇██▇██▇█▇██████▇▇▇▇▇▇▇▇▇▇▇▇▇▇▇▇▇</td></tr><tr><td>loss</td><td>█▇▅▄▃▃▂▂▂▂▂▂▂▂▁▁▁▁▁▁▁▁▁▁▁▁▁▁▁▁▁▁▁▁▁▁▁▁▁▁</td></tr><tr><td>lr</td><td>██▇▆▆▆▅▅▄▄▄▄▃▃▃▃▃▂▂▂▂▂▂▂▂▂▁▁▁▁▁▁▁▁▁▁▁▁▁▁</td></tr><tr><td>val</td><td>▁▃▅▇█▇██▇██▇██▇█▇██████▇▇▇▇▇▇▇▇▇▇▇▇▇▇▇▇▇</td></tr></table><br/></div><div class=\"wandb-col\"><h3>Run summary:</h3><br/><table class=\"wandb\"><tr><td>epoch</td><td>0</td></tr><tr><td>f1val</td><td>0.68857</td></tr><tr><td>loss</td><td>0.00225</td></tr><tr><td>lr</td><td>3e-05</td></tr><tr><td>val</td><td>0.75862</td></tr></table><br/></div></div>"
      ],
      "text/plain": [
       "<IPython.core.display.HTML object>"
      ]
     },
     "metadata": {},
     "output_type": "display_data"
    },
    {
     "data": {
      "text/html": [
       " View run <strong style=\"color:#cdcd00\">cross_validation_split0</strong> at: <a href='https://wandb.ai/artzha/Driver-Intent-Prediction-Models-Cross-Validation/runs/1b05wgnw' target=\"_blank\">https://wandb.ai/artzha/Driver-Intent-Prediction-Models-Cross-Validation/runs/1b05wgnw</a><br/>Synced 6 W&B file(s), 0 media file(s), 0 artifact file(s) and 0 other file(s)"
      ],
      "text/plain": [
       "<IPython.core.display.HTML object>"
      ]
     },
     "metadata": {},
     "output_type": "display_data"
    },
    {
     "data": {
      "text/html": [
       "Find logs at: <code>./wandb/run-20230911_230045-1b05wgnw/logs</code>"
      ],
      "text/plain": [
       "<IPython.core.display.HTML object>"
      ]
     },
     "metadata": {},
     "output_type": "display_data"
    },
    {
     "data": {
      "application/vnd.jupyter.widget-view+json": {
       "model_id": "10b7dcc7bc104057ae2ec423c47e0a07",
       "version_major": 2,
       "version_minor": 0
      },
      "text/plain": [
       "VBox(children=(Label(value='Waiting for wandb.init()...\\r'), FloatProgress(value=0.016668636366618254, max=1.0…"
      ]
     },
     "metadata": {},
     "output_type": "display_data"
    },
    {
     "data": {
      "text/html": [
       "wandb version 0.15.10 is available!  To upgrade, please run:\n",
       " $ pip install wandb --upgrade"
      ],
      "text/plain": [
       "<IPython.core.display.HTML object>"
      ]
     },
     "metadata": {},
     "output_type": "display_data"
    },
    {
     "data": {
      "text/html": [
       "Tracking run with wandb version 0.15.9"
      ],
      "text/plain": [
       "<IPython.core.display.HTML object>"
      ]
     },
     "metadata": {},
     "output_type": "display_data"
    },
    {
     "data": {
      "text/html": [
       "Run data is saved locally in <code>/home/arthur/AMRL/Research/Driver-Intent-Prediction/models/wandb/run-20230911_230203-d6dapqye</code>"
      ],
      "text/plain": [
       "<IPython.core.display.HTML object>"
      ]
     },
     "metadata": {},
     "output_type": "display_data"
    },
    {
     "data": {
      "text/html": [
       "Syncing run <strong><a href='https://wandb.ai/artzha/Driver-Intent-Prediction-Models-Cross-Validation/runs/d6dapqye' target=\"_blank\">cross_validation_split1</a></strong> to <a href='https://wandb.ai/artzha/Driver-Intent-Prediction-Models-Cross-Validation' target=\"_blank\">Weights & Biases</a> (<a href='https://wandb.me/run' target=\"_blank\">docs</a>)<br/>"
      ],
      "text/plain": [
       "<IPython.core.display.HTML object>"
      ]
     },
     "metadata": {},
     "output_type": "display_data"
    },
    {
     "data": {
      "text/html": [
       " View project at <a href='https://wandb.ai/artzha/Driver-Intent-Prediction-Models-Cross-Validation' target=\"_blank\">https://wandb.ai/artzha/Driver-Intent-Prediction-Models-Cross-Validation</a>"
      ],
      "text/plain": [
       "<IPython.core.display.HTML object>"
      ]
     },
     "metadata": {},
     "output_type": "display_data"
    },
    {
     "data": {
      "text/html": [
       " View run at <a href='https://wandb.ai/artzha/Driver-Intent-Prediction-Models-Cross-Validation/runs/d6dapqye' target=\"_blank\">https://wandb.ai/artzha/Driver-Intent-Prediction-Models-Cross-Validation/runs/d6dapqye</a>"
      ],
      "text/plain": [
       "<IPython.core.display.HTML object>"
      ]
     },
     "metadata": {},
     "output_type": "display_data"
    },
    {
     "name": "stdout",
     "output_type": "stream",
     "text": [
      "0\n",
      "16.705782175064087\n",
      "eval: 0.5689655172413793         f1score: 0.3136173767752715\n",
      "1\n",
      "13.243318319320679\n",
      "eval: 0.6551724137931034         f1score: 0.4087912087912088\n",
      "2\n",
      "11.48274677991867\n",
      "eval: 0.6206896551724138         f1score: 0.37281262858639136\n",
      "3\n",
      "9.909279346466064\n",
      "eval: 0.6551724137931034         f1score: 0.5055574229691876\n",
      "4\n",
      "8.664392113685608\n",
      "eval: 0.6724137931034483         f1score: 0.5016304428454863\n",
      "5\n",
      "7.915194272994995\n",
      "eval: 0.6896551724137931         f1score: 0.555287356321839\n",
      "6\n",
      "7.10442653298378\n",
      "eval: 0.6724137931034483         f1score: 0.5377192982456139\n",
      "7\n",
      "6.336791843175888\n",
      "eval: 0.7068965517241379         f1score: 0.6001990269792128\n",
      "8\n",
      "5.900714635848999\n",
      "eval: 0.6896551724137931         f1score: 0.5911764705882353\n",
      "9\n",
      "5.448321968317032\n",
      "eval: 0.6896551724137931         f1score: 0.5766666666666665\n",
      "10\n",
      "5.319511443376541\n",
      "eval: 0.6724137931034483         f1score: 0.5368522637216555\n",
      "11\n",
      "5.060990691184998\n",
      "eval: 0.6724137931034483         f1score: 0.5368522637216555\n",
      "12\n",
      "4.77200710773468\n",
      "eval: 0.7068965517241379         f1score: 0.5891534391534391\n",
      "13\n",
      "4.2434365302324295\n",
      "eval: 0.7068965517241379         f1score: 0.6185185185185185\n",
      "14\n",
      "4.117417603731155\n",
      "eval: 0.7068965517241379         f1score: 0.586080586080586\n",
      "15\n",
      "3.9556528329849243\n",
      "eval: 0.7068965517241379         f1score: 0.5789787798408488\n",
      "16\n",
      "3.8087659776210785\n",
      "eval: 0.6896551724137931         f1score: 0.5766666666666665\n",
      "17\n",
      "3.5187986940145493\n",
      "eval: 0.7241379310344828         f1score: 0.6311171009284215\n",
      "18\n",
      "3.3072859197854996\n",
      "eval: 0.7241379310344828         f1score: 0.6067892204115115\n",
      "19\n",
      "3.2806425988674164\n",
      "eval: 0.7068965517241379         f1score: 0.5891534391534391\n",
      "20\n",
      "3.1549122035503387\n",
      "eval: 0.7413793103448276         f1score: 0.6511683053788317\n",
      "21\n",
      "3.0341781973838806\n",
      "eval: 0.7241379310344828         f1score: 0.6333533133533134\n",
      "22\n",
      "2.8376021683216095\n",
      "eval: 0.7241379310344828         f1score: 0.5980590616813528\n",
      "23\n",
      "3.000090792775154\n",
      "eval: 0.7068965517241379         f1score: 0.6027637721755369\n",
      "24\n",
      "2.876602441072464\n",
      "eval: 0.7586206896551724         f1score: 0.6928938647559337\n",
      "25\n",
      "2.7458976954221725\n",
      "eval: 0.7068965517241379         f1score: 0.6233986928104575\n",
      "26\n",
      "2.648294508457184\n",
      "eval: 0.7068965517241379         f1score: 0.5910415178217037\n",
      "27\n",
      "2.555179238319397\n",
      "eval: 0.7413793103448276         f1score: 0.6761238761238761\n",
      "28\n",
      "2.4837446361780167\n",
      "eval: 0.7413793103448276         f1score: 0.6761238761238761\n",
      "29\n",
      "2.4688575342297554\n",
      "eval: 0.7241379310344828         f1score: 0.6382094376212023\n",
      "30\n",
      "2.4495640099048615\n",
      "eval: 0.7413793103448276         f1score: 0.6761238761238761\n",
      "31\n",
      "2.3161294162273407\n",
      "eval: 0.7413793103448276         f1score: 0.6761238761238761\n",
      "32\n",
      "2.301235169172287\n",
      "eval: 0.7413793103448276         f1score: 0.6761238761238761\n",
      "33\n",
      "2.340081438422203\n",
      "eval: 0.7241379310344828         f1score: 0.6441507615191826\n",
      "34\n",
      "2.2614035829901695\n",
      "eval: 0.7413793103448276         f1score: 0.6761238761238761\n",
      "35\n",
      "2.166877880692482\n",
      "eval: 0.7413793103448276         f1score: 0.6582644941265631\n",
      "36\n",
      "2.208428919315338\n",
      "eval: 0.7413793103448276         f1score: 0.6761238761238761\n",
      "37\n",
      "2.1013408601284027\n",
      "eval: 0.7413793103448276         f1score: 0.6761238761238761\n",
      "38\n",
      "2.096292033791542\n",
      "eval: 0.7241379310344828         f1score: 0.6441507615191826\n",
      "39\n",
      "2.026571251451969\n",
      "eval: 0.7413793103448276         f1score: 0.6761238761238761\n",
      "40\n",
      "2.0206648409366608\n",
      "eval: 0.7413793103448276         f1score: 0.6761238761238761\n",
      "41\n",
      "2.018478140234947\n",
      "eval: 0.7586206896551724         f1score: 0.6902592144697408\n",
      "42\n",
      "2.007526807487011\n",
      "eval: 0.7413793103448276         f1score: 0.6761238761238761\n",
      "43\n",
      "1.9789418429136276\n",
      "eval: 0.7413793103448276         f1score: 0.6761238761238761\n",
      "44\n",
      "1.987802617251873\n",
      "eval: 0.7413793103448276         f1score: 0.6761238761238761\n",
      "45\n",
      "1.9457203596830368\n",
      "eval: 0.7413793103448276         f1score: 0.6761238761238761\n",
      "46\n",
      "1.8996349349617958\n",
      "eval: 0.7413793103448276         f1score: 0.6582644941265631\n",
      "47\n",
      "1.8695469051599503\n",
      "eval: 0.7413793103448276         f1score: 0.6761238761238761\n",
      "48\n",
      "1.824457786977291\n",
      "eval: 0.7586206896551724         f1score: 0.6902592144697408\n",
      "49\n",
      "1.836634911596775\n",
      "eval: 0.7413793103448276         f1score: 0.6761238761238761\n",
      "50\n",
      "1.8084178641438484\n",
      "eval: 0.7586206896551724         f1score: 0.6902592144697408\n",
      "51\n",
      "1.853444665670395\n",
      "eval: 0.7586206896551724         f1score: 0.6902592144697408\n",
      "52\n",
      "1.8065300732851028\n",
      "eval: 0.7586206896551724         f1score: 0.6902592144697408\n",
      "53\n",
      "1.8144352808594704\n",
      "eval: 0.7586206896551724         f1score: 0.6902592144697408\n",
      "54\n",
      "1.7825620397925377\n",
      "eval: 0.7413793103448276         f1score: 0.6761238761238761\n",
      "55\n",
      "1.8209645450115204\n",
      "eval: 0.7586206896551724         f1score: 0.6902592144697408\n",
      "56\n",
      "1.7312929034233093\n",
      "eval: 0.7586206896551724         f1score: 0.6902592144697408\n",
      "57\n",
      "1.7309122830629349\n",
      "eval: 0.7586206896551724         f1score: 0.6902592144697408\n",
      "58\n",
      "1.7769895121455193\n",
      "eval: 0.7413793103448276         f1score: 0.6761238761238761\n",
      "59\n",
      "1.7154656574130058\n",
      "eval: 0.7586206896551724         f1score: 0.6902592144697408\n",
      "60\n",
      "1.7046077623963356\n",
      "eval: 0.7586206896551724         f1score: 0.6902592144697408\n",
      "61\n",
      "1.7419528290629387\n",
      "eval: 0.7586206896551724         f1score: 0.6902592144697408\n",
      "62\n",
      "1.7378330752253532\n",
      "eval: 0.7413793103448276         f1score: 0.6761238761238761\n",
      "63\n",
      "1.7277073562145233\n",
      "eval: 0.7413793103448276         f1score: 0.6761238761238761\n",
      "64\n",
      "1.6605332046747208\n",
      "eval: 0.7586206896551724         f1score: 0.6902592144697408\n",
      "65\n",
      "1.6643636748194695\n",
      "eval: 0.7586206896551724         f1score: 0.6902592144697408\n",
      "66\n",
      "1.6974896937608719\n",
      "eval: 0.7586206896551724         f1score: 0.6902592144697408\n",
      "67\n",
      "1.6938087791204453\n",
      "eval: 0.7586206896551724         f1score: 0.6902592144697408\n",
      "68\n",
      "1.6820876449346542\n",
      "eval: 0.7586206896551724         f1score: 0.6902592144697408\n",
      "69\n",
      "1.6287697106599808\n",
      "eval: 0.7586206896551724         f1score: 0.6902592144697408\n"
     ]
    },
    {
     "data": {
      "text/html": [
       "Waiting for W&B process to finish... <strong style=\"color:green\">(success).</strong>"
      ],
      "text/plain": [
       "<IPython.core.display.HTML object>"
      ]
     },
     "metadata": {},
     "output_type": "display_data"
    },
    {
     "name": "stderr",
     "output_type": "stream",
     "text": [
      "wandb: WARNING Source type is set to 'repo' but some required information is missing from the environment. A job will not be created from this run. See https://docs.wandb.ai/guides/launch/create-job\n"
     ]
    },
    {
     "data": {
      "application/vnd.jupyter.widget-view+json": {
       "model_id": "b11817f572034ccc9e7de10e53e3e691",
       "version_major": 2,
       "version_minor": 0
      },
      "text/plain": [
       "VBox(children=(Label(value='0.003 MB of 0.014 MB uploaded (0.000 MB deduped)\\r'), FloatProgress(value=0.222379…"
      ]
     },
     "metadata": {},
     "output_type": "display_data"
    },
    {
     "data": {
      "text/html": [
       "<style>\n",
       "    table.wandb td:nth-child(1) { padding: 0 10px; text-align: left ; width: auto;} td:nth-child(2) {text-align: left ; width: 100%}\n",
       "    .wandb-row { display: flex; flex-direction: row; flex-wrap: wrap; justify-content: flex-start; width: 100% }\n",
       "    .wandb-col { display: flex; flex-direction: column; flex-basis: 100%; flex: 1; padding: 10px; }\n",
       "    </style>\n",
       "<div class=\"wandb-row\"><div class=\"wandb-col\"><h3>Run history:</h3><br/><table class=\"wandb\"><tr><td>epoch</td><td>▁▁▁▁▁▁▁▁▁▁▁▁▁▁▁▁▁▁▁▁▁▁▁▁▁▁▁▁▁▁▁▁▁▁▁▁▁▁▁▁</td></tr><tr><td>f1val</td><td>▁▃▅▅▆▆▅▆▆▆▇▆▇▆█▆███▇▇█▇███▇█████████████</td></tr><tr><td>loss</td><td>█▆▅▄▃▃▃▂▂▂▂▂▂▂▂▁▁▁▁▁▁▁▁▁▁▁▁▁▁▁▁▁▁▁▁▁▁▁▁▁</td></tr><tr><td>lr</td><td>██▇▆▆▆▅▅▄▄▄▄▃▃▃▃▃▂▂▂▂▂▂▂▂▂▁▁▁▁▁▁▁▁▁▁▁▁▁▁</td></tr><tr><td>val</td><td>▁▄▄▅▆▅▅▆▆▆▇▆▇▆█▆▇▇▇▇▇▇▇▇▇▇▇▇▇██▇█▇██▇███</td></tr></table><br/></div><div class=\"wandb-col\"><h3>Run summary:</h3><br/><table class=\"wandb\"><tr><td>epoch</td><td>0</td></tr><tr><td>f1val</td><td>0.69026</td></tr><tr><td>loss</td><td>0.00296</td></tr><tr><td>lr</td><td>3e-05</td></tr><tr><td>val</td><td>0.75862</td></tr></table><br/></div></div>"
      ],
      "text/plain": [
       "<IPython.core.display.HTML object>"
      ]
     },
     "metadata": {},
     "output_type": "display_data"
    },
    {
     "data": {
      "text/html": [
       " View run <strong style=\"color:#cdcd00\">cross_validation_split1</strong> at: <a href='https://wandb.ai/artzha/Driver-Intent-Prediction-Models-Cross-Validation/runs/d6dapqye' target=\"_blank\">https://wandb.ai/artzha/Driver-Intent-Prediction-Models-Cross-Validation/runs/d6dapqye</a><br/>Synced 6 W&B file(s), 0 media file(s), 0 artifact file(s) and 0 other file(s)"
      ],
      "text/plain": [
       "<IPython.core.display.HTML object>"
      ]
     },
     "metadata": {},
     "output_type": "display_data"
    },
    {
     "data": {
      "text/html": [
       "Find logs at: <code>./wandb/run-20230911_230203-d6dapqye/logs</code>"
      ],
      "text/plain": [
       "<IPython.core.display.HTML object>"
      ]
     },
     "metadata": {},
     "output_type": "display_data"
    },
    {
     "data": {
      "application/vnd.jupyter.widget-view+json": {
       "model_id": "9dbedf1576b24ed1950fd5d668a4c108",
       "version_major": 2,
       "version_minor": 0
      },
      "text/plain": [
       "VBox(children=(Label(value='Waiting for wandb.init()...\\r'), FloatProgress(value=0.016669646783338977, max=1.0…"
      ]
     },
     "metadata": {},
     "output_type": "display_data"
    },
    {
     "data": {
      "text/html": [
       "wandb version 0.15.10 is available!  To upgrade, please run:\n",
       " $ pip install wandb --upgrade"
      ],
      "text/plain": [
       "<IPython.core.display.HTML object>"
      ]
     },
     "metadata": {},
     "output_type": "display_data"
    },
    {
     "data": {
      "text/html": [
       "Tracking run with wandb version 0.15.9"
      ],
      "text/plain": [
       "<IPython.core.display.HTML object>"
      ]
     },
     "metadata": {},
     "output_type": "display_data"
    },
    {
     "data": {
      "text/html": [
       "Run data is saved locally in <code>/home/arthur/AMRL/Research/Driver-Intent-Prediction/models/wandb/run-20230911_230322-60n7igr9</code>"
      ],
      "text/plain": [
       "<IPython.core.display.HTML object>"
      ]
     },
     "metadata": {},
     "output_type": "display_data"
    },
    {
     "data": {
      "text/html": [
       "Syncing run <strong><a href='https://wandb.ai/artzha/Driver-Intent-Prediction-Models-Cross-Validation/runs/60n7igr9' target=\"_blank\">cross_validation_split2</a></strong> to <a href='https://wandb.ai/artzha/Driver-Intent-Prediction-Models-Cross-Validation' target=\"_blank\">Weights & Biases</a> (<a href='https://wandb.me/run' target=\"_blank\">docs</a>)<br/>"
      ],
      "text/plain": [
       "<IPython.core.display.HTML object>"
      ]
     },
     "metadata": {},
     "output_type": "display_data"
    },
    {
     "data": {
      "text/html": [
       " View project at <a href='https://wandb.ai/artzha/Driver-Intent-Prediction-Models-Cross-Validation' target=\"_blank\">https://wandb.ai/artzha/Driver-Intent-Prediction-Models-Cross-Validation</a>"
      ],
      "text/plain": [
       "<IPython.core.display.HTML object>"
      ]
     },
     "metadata": {},
     "output_type": "display_data"
    },
    {
     "data": {
      "text/html": [
       " View run at <a href='https://wandb.ai/artzha/Driver-Intent-Prediction-Models-Cross-Validation/runs/60n7igr9' target=\"_blank\">https://wandb.ai/artzha/Driver-Intent-Prediction-Models-Cross-Validation/runs/60n7igr9</a>"
      ],
      "text/plain": [
       "<IPython.core.display.HTML object>"
      ]
     },
     "metadata": {},
     "output_type": "display_data"
    },
    {
     "name": "stdout",
     "output_type": "stream",
     "text": [
      "0\n",
      "15.91739571094513\n",
      "eval: 0.4482758620689655         f1score: 0.20054794520547947\n",
      "1\n",
      "13.021990299224854\n",
      "eval: 0.5         f1score: 0.32775318578135487\n",
      "2\n",
      "10.724472165107727\n",
      "eval: 0.5517241379310345         f1score: 0.4529192546583851\n",
      "3\n",
      "8.720082402229309\n",
      "eval: 0.603448275862069         f1score: 0.5570075757575758\n",
      "4\n",
      "7.643564820289612\n",
      "eval: 0.6724137931034483         f1score: 0.702048174048174\n",
      "5\n",
      "6.328321695327759\n",
      "eval: 0.6379310344827587         f1score: 0.682718339861197\n",
      "6\n",
      "5.406238794326782\n",
      "eval: 0.6896551724137931         f1score: 0.7184003152088259\n",
      "7\n",
      "4.711895316839218\n",
      "eval: 0.6724137931034483         f1score: 0.7078132045088567\n",
      "8\n",
      "4.156149759888649\n",
      "eval: 0.6724137931034483         f1score: 0.7009712509712509\n",
      "9\n",
      "3.9647527933120728\n",
      "eval: 0.7068965517241379         f1score: 0.7324444444444443\n",
      "10\n",
      "3.550213932991028\n",
      "eval: 0.7241379310344828         f1score: 0.7408565209807445\n",
      "11\n",
      "3.280630901455879\n",
      "eval: 0.7241379310344828         f1score: 0.7412045088566828\n",
      "12\n",
      "2.9676313996315002\n",
      "eval: 0.7241379310344828         f1score: 0.742549238201412\n",
      "13\n",
      "2.7418057173490524\n",
      "eval: 0.7241379310344828         f1score: 0.7283333333333334\n",
      "14\n",
      "2.592621237039566\n",
      "eval: 0.7241379310344828         f1score: 0.7575324417184883\n",
      "15\n",
      "2.566203385591507\n",
      "eval: 0.7413793103448276         f1score: 0.7520882584712372\n",
      "16\n",
      "2.3900810331106186\n",
      "eval: 0.7241379310344828         f1score: 0.7601813001813003\n",
      "17\n",
      "2.307668909430504\n",
      "eval: 0.7241379310344828         f1score: 0.7626455026455027\n",
      "18\n",
      "2.063904568552971\n",
      "eval: 0.7241379310344828         f1score: 0.739957264957265\n",
      "19\n",
      "2.0095264464616776\n",
      "eval: 0.7241379310344828         f1score: 0.7411221853082318\n",
      "20\n",
      "1.9335933849215508\n",
      "eval: 0.7586206896551724         f1score: 0.7819001610305958\n",
      "21\n",
      "1.7971492111682892\n",
      "eval: 0.7586206896551724         f1score: 0.7819001610305958\n",
      "22\n",
      "1.7647934928536415\n",
      "eval: 0.7586206896551724         f1score: 0.7846568246568247\n",
      "23\n",
      "1.7039898559451103\n",
      "eval: 0.7586206896551724         f1score: 0.7819001610305958\n",
      "24\n",
      "1.6502496674656868\n",
      "eval: 0.7758620689655172         f1score: 0.7958518518518518\n",
      "25\n",
      "1.5517204999923706\n",
      "eval: 0.7758620689655172         f1score: 0.7840740740740741\n",
      "26\n",
      "1.4466101229190826\n",
      "eval: 0.7586206896551724         f1score: 0.7819001610305958\n",
      "27\n",
      "1.4570498019456863\n",
      "eval: 0.7758620689655172         f1score: 0.7958518518518518\n",
      "28\n",
      "1.4194083139300346\n",
      "eval: 0.7758620689655172         f1score: 0.7958518518518518\n",
      "29\n",
      "1.3641960248351097\n",
      "eval: 0.7758620689655172         f1score: 0.7958518518518518\n",
      "30\n",
      "1.3247331455349922\n",
      "eval: 0.7758620689655172         f1score: 0.7840740740740741\n",
      "31\n",
      "1.3209251090884209\n",
      "eval: 0.7586206896551724         f1score: 0.7699194847020935\n",
      "32\n",
      "1.329245112836361\n",
      "eval: 0.7758620689655172         f1score: 0.7840740740740741\n",
      "33\n",
      "1.2599537074565887\n",
      "eval: 0.7758620689655172         f1score: 0.7840740740740741\n",
      "34\n",
      "1.2660010382533073\n",
      "eval: 0.7586206896551724         f1score: 0.7699194847020935\n",
      "35\n",
      "1.1939055919647217\n",
      "eval: 0.7758620689655172         f1score: 0.7840740740740741\n",
      "36\n",
      "1.1913898773491383\n",
      "eval: 0.7758620689655172         f1score: 0.7840740740740741\n",
      "37\n",
      "1.1728931069374084\n",
      "eval: 0.7758620689655172         f1score: 0.7840740740740741\n",
      "38\n",
      "1.136215701699257\n",
      "eval: 0.7758620689655172         f1score: 0.7840740740740741\n",
      "39\n",
      "1.1653272956609726\n",
      "eval: 0.7758620689655172         f1score: 0.7840740740740741\n",
      "40\n",
      "1.1023654863238335\n",
      "eval: 0.7758620689655172         f1score: 0.7840740740740741\n",
      "41\n",
      "1.0970388129353523\n",
      "eval: 0.7758620689655172         f1score: 0.7840740740740741\n",
      "42\n",
      "1.078092522919178\n",
      "eval: 0.7758620689655172         f1score: 0.7840740740740741\n",
      "43\n",
      "1.0431919991970062\n",
      "eval: 0.7758620689655172         f1score: 0.7840740740740741\n",
      "44\n",
      "1.0402327477931976\n",
      "eval: 0.7758620689655172         f1score: 0.7840740740740741\n",
      "45\n",
      "1.0568636357784271\n",
      "eval: 0.7758620689655172         f1score: 0.7840740740740741\n",
      "46\n",
      "1.0263724476099014\n",
      "eval: 0.7758620689655172         f1score: 0.7840740740740741\n",
      "47\n",
      "0.9856297001242638\n",
      "eval: 0.7758620689655172         f1score: 0.7840740740740741\n",
      "48\n",
      "1.003854662179947\n",
      "eval: 0.7758620689655172         f1score: 0.7840740740740741\n",
      "49\n",
      "1.0169569104909897\n",
      "eval: 0.7758620689655172         f1score: 0.7840740740740741\n",
      "50\n",
      "0.9866167269647121\n",
      "eval: 0.7758620689655172         f1score: 0.7840740740740741\n",
      "51\n",
      "0.9650698825716972\n",
      "eval: 0.7758620689655172         f1score: 0.7840740740740741\n",
      "52\n",
      "0.9829767607152462\n",
      "eval: 0.7758620689655172         f1score: 0.7840740740740741\n",
      "53\n",
      "0.977101519703865\n",
      "eval: 0.7758620689655172         f1score: 0.7840740740740741\n",
      "54\n",
      "0.9746690504252911\n",
      "eval: 0.7758620689655172         f1score: 0.7840740740740741\n",
      "55\n",
      "0.9713397957384586\n",
      "eval: 0.7758620689655172         f1score: 0.7840740740740741\n",
      "56\n",
      "0.9670080691576004\n",
      "eval: 0.7758620689655172         f1score: 0.7840740740740741\n",
      "57\n",
      "0.9515931531786919\n",
      "eval: 0.7758620689655172         f1score: 0.7840740740740741\n",
      "58\n",
      "0.941580094397068\n",
      "eval: 0.7758620689655172         f1score: 0.7840740740740741\n",
      "59\n",
      "0.9200702719390392\n",
      "eval: 0.7758620689655172         f1score: 0.7840740740740741\n",
      "60\n",
      "0.9830576702952385\n",
      "eval: 0.7758620689655172         f1score: 0.7840740740740741\n",
      "61\n",
      "0.9165719076991081\n",
      "eval: 0.7758620689655172         f1score: 0.7840740740740741\n",
      "62\n",
      "0.9231699109077454\n",
      "eval: 0.7758620689655172         f1score: 0.7840740740740741\n",
      "63\n",
      "0.9248361848294735\n",
      "eval: 0.7758620689655172         f1score: 0.7840740740740741\n",
      "64\n",
      "0.9422972463071346\n",
      "eval: 0.7758620689655172         f1score: 0.7840740740740741\n",
      "65\n",
      "0.8954043462872505\n",
      "eval: 0.7758620689655172         f1score: 0.7840740740740741\n",
      "66\n",
      "0.8888238333165646\n",
      "eval: 0.7758620689655172         f1score: 0.7840740740740741\n",
      "67\n",
      "0.9222855269908905\n",
      "eval: 0.7758620689655172         f1score: 0.7840740740740741\n",
      "68\n",
      "0.9371329322457314\n",
      "eval: 0.7758620689655172         f1score: 0.7840740740740741\n",
      "69\n",
      "0.8874299637973309\n",
      "eval: 0.7758620689655172         f1score: 0.7840740740740741\n"
     ]
    },
    {
     "data": {
      "text/html": [
       "Waiting for W&B process to finish... <strong style=\"color:green\">(success).</strong>"
      ],
      "text/plain": [
       "<IPython.core.display.HTML object>"
      ]
     },
     "metadata": {},
     "output_type": "display_data"
    },
    {
     "name": "stderr",
     "output_type": "stream",
     "text": [
      "wandb: WARNING Source type is set to 'repo' but some required information is missing from the environment. A job will not be created from this run. See https://docs.wandb.ai/guides/launch/create-job\n"
     ]
    },
    {
     "data": {
      "text/html": [
       "<style>\n",
       "    table.wandb td:nth-child(1) { padding: 0 10px; text-align: left ; width: auto;} td:nth-child(2) {text-align: left ; width: 100%}\n",
       "    .wandb-row { display: flex; flex-direction: row; flex-wrap: wrap; justify-content: flex-start; width: 100% }\n",
       "    .wandb-col { display: flex; flex-direction: column; flex-basis: 100%; flex: 1; padding: 10px; }\n",
       "    </style>\n",
       "<div class=\"wandb-row\"><div class=\"wandb-col\"><h3>Run history:</h3><br/><table class=\"wandb\"><tr><td>epoch</td><td>▁▁▁▁▁▁▁▁▁▁▁▁▁▁▁▁▁▁▁▁▁▁▁▁▁▁▁▁▁▁▁▁▁▁▁▁▁▁▁▁</td></tr><tr><td>f1val</td><td>▁▂▅▇▇▇▇▇█▇█▇████████████████████████████</td></tr><tr><td>loss</td><td>█▇▅▄▃▃▂▂▂▂▂▂▁▁▁▁▁▁▁▁▁▁▁▁▁▁▁▁▁▁▁▁▁▁▁▁▁▁▁▁</td></tr><tr><td>lr</td><td>██▇▆▆▆▅▅▄▄▄▄▃▃▃▃▃▂▂▂▂▂▂▂▂▂▁▁▁▁▁▁▁▁▁▁▁▁▁▁</td></tr><tr><td>val</td><td>▁▂▄▅▆▆▇▇▇▇▇▇████████████████████████████</td></tr></table><br/></div><div class=\"wandb-col\"><h3>Run summary:</h3><br/><table class=\"wandb\"><tr><td>epoch</td><td>0</td></tr><tr><td>f1val</td><td>0.78407</td></tr><tr><td>loss</td><td>0.00161</td></tr><tr><td>lr</td><td>3e-05</td></tr><tr><td>val</td><td>0.77586</td></tr></table><br/></div></div>"
      ],
      "text/plain": [
       "<IPython.core.display.HTML object>"
      ]
     },
     "metadata": {},
     "output_type": "display_data"
    },
    {
     "data": {
      "text/html": [
       " View run <strong style=\"color:#cdcd00\">cross_validation_split2</strong> at: <a href='https://wandb.ai/artzha/Driver-Intent-Prediction-Models-Cross-Validation/runs/60n7igr9' target=\"_blank\">https://wandb.ai/artzha/Driver-Intent-Prediction-Models-Cross-Validation/runs/60n7igr9</a><br/>Synced 6 W&B file(s), 0 media file(s), 0 artifact file(s) and 0 other file(s)"
      ],
      "text/plain": [
       "<IPython.core.display.HTML object>"
      ]
     },
     "metadata": {},
     "output_type": "display_data"
    },
    {
     "data": {
      "text/html": [
       "Find logs at: <code>./wandb/run-20230911_230322-60n7igr9/logs</code>"
      ],
      "text/plain": [
       "<IPython.core.display.HTML object>"
      ]
     },
     "metadata": {},
     "output_type": "display_data"
    },
    {
     "data": {
      "application/vnd.jupyter.widget-view+json": {
       "model_id": "3f757d02617b451083322df3f365c2eb",
       "version_major": 2,
       "version_minor": 0
      },
      "text/plain": [
       "VBox(children=(Label(value='Waiting for wandb.init()...\\r'), FloatProgress(value=0.016669814866691012, max=1.0…"
      ]
     },
     "metadata": {},
     "output_type": "display_data"
    },
    {
     "data": {
      "text/html": [
       "wandb version 0.15.10 is available!  To upgrade, please run:\n",
       " $ pip install wandb --upgrade"
      ],
      "text/plain": [
       "<IPython.core.display.HTML object>"
      ]
     },
     "metadata": {},
     "output_type": "display_data"
    },
    {
     "data": {
      "text/html": [
       "Tracking run with wandb version 0.15.9"
      ],
      "text/plain": [
       "<IPython.core.display.HTML object>"
      ]
     },
     "metadata": {},
     "output_type": "display_data"
    },
    {
     "data": {
      "text/html": [
       "Run data is saved locally in <code>/home/arthur/AMRL/Research/Driver-Intent-Prediction/models/wandb/run-20230911_230439-5j0w0567</code>"
      ],
      "text/plain": [
       "<IPython.core.display.HTML object>"
      ]
     },
     "metadata": {},
     "output_type": "display_data"
    },
    {
     "data": {
      "text/html": [
       "Syncing run <strong><a href='https://wandb.ai/artzha/Driver-Intent-Prediction-Models-Cross-Validation/runs/5j0w0567' target=\"_blank\">cross_validation_split3</a></strong> to <a href='https://wandb.ai/artzha/Driver-Intent-Prediction-Models-Cross-Validation' target=\"_blank\">Weights & Biases</a> (<a href='https://wandb.me/run' target=\"_blank\">docs</a>)<br/>"
      ],
      "text/plain": [
       "<IPython.core.display.HTML object>"
      ]
     },
     "metadata": {},
     "output_type": "display_data"
    },
    {
     "data": {
      "text/html": [
       " View project at <a href='https://wandb.ai/artzha/Driver-Intent-Prediction-Models-Cross-Validation' target=\"_blank\">https://wandb.ai/artzha/Driver-Intent-Prediction-Models-Cross-Validation</a>"
      ],
      "text/plain": [
       "<IPython.core.display.HTML object>"
      ]
     },
     "metadata": {},
     "output_type": "display_data"
    },
    {
     "data": {
      "text/html": [
       " View run at <a href='https://wandb.ai/artzha/Driver-Intent-Prediction-Models-Cross-Validation/runs/5j0w0567' target=\"_blank\">https://wandb.ai/artzha/Driver-Intent-Prediction-Models-Cross-Validation/runs/5j0w0567</a>"
      ],
      "text/plain": [
       "<IPython.core.display.HTML object>"
      ]
     },
     "metadata": {},
     "output_type": "display_data"
    },
    {
     "name": "stdout",
     "output_type": "stream",
     "text": [
      "0\n",
      "15.013159155845642\n",
      "eval: 0.4482758620689655         f1score: 0.28857808857808853\n",
      "1\n",
      "11.492665231227875\n",
      "eval: 0.7068965517241379         f1score: 0.5614814814814815\n",
      "2\n",
      "8.993632912635803\n",
      "eval: 0.7586206896551724         f1score: 0.7277106908685855\n",
      "3\n",
      "7.44922000169754\n",
      "eval: 0.7586206896551724         f1score: 0.6164834168822205\n",
      "4\n",
      "6.800191700458527\n",
      "eval: 0.8103448275862069         f1score: 0.7381988304093567\n",
      "5\n",
      "6.1469354927539825\n",
      "eval: 0.7931034482758621         f1score: 0.7288244139761169\n",
      "6\n",
      "5.58998915553093\n",
      "eval: 0.8103448275862069         f1score: 0.7083170163170164\n",
      "7\n",
      "5.104052573442459\n",
      "eval: 0.8103448275862069         f1score: 0.7669010989010989\n",
      "8\n",
      "4.477040112018585\n",
      "eval: 0.8103448275862069         f1score: 0.746953046953047\n",
      "9\n",
      "4.195429772138596\n",
      "eval: 0.8620689655172413         f1score: 0.8131320754716983\n",
      "10\n",
      "3.7981453090906143\n",
      "eval: 0.8620689655172413         f1score: 0.7887365967365968\n",
      "11\n",
      "3.525368183851242\n",
      "eval: 0.8275862068965517         f1score: 0.7734887334887334\n",
      "12\n",
      "3.412018433213234\n",
      "eval: 0.8448275862068966         f1score: 0.789338765809354\n",
      "13\n",
      "3.1951505094766617\n",
      "eval: 0.8448275862068966         f1score: 0.772872335211958\n",
      "14\n",
      "2.9410716742277145\n",
      "eval: 0.8275862068965517         f1score: 0.7612787212787213\n",
      "15\n",
      "2.7932187020778656\n",
      "eval: 0.8275862068965517         f1score: 0.7612787212787213\n",
      "16\n",
      "2.5918499380350113\n",
      "eval: 0.8448275862068966         f1score: 0.789338765809354\n",
      "17\n",
      "2.501833975315094\n",
      "eval: 0.8275862068965517         f1score: 0.7674968306547254\n",
      "18\n",
      "2.4502137154340744\n",
      "eval: 0.8275862068965517         f1score: 0.7734887334887334\n",
      "19\n",
      "2.378922924399376\n",
      "eval: 0.8275862068965517         f1score: 0.7674968306547254\n",
      "20\n",
      "2.2756870090961456\n",
      "eval: 0.8448275862068966         f1score: 0.789338765809354\n",
      "21\n",
      "2.200323238968849\n",
      "eval: 0.8275862068965517         f1score: 0.7674968306547254\n",
      "22\n",
      "2.1171025931835175\n",
      "eval: 0.8275862068965517         f1score: 0.7674968306547254\n",
      "23\n",
      "2.00650255382061\n",
      "eval: 0.8275862068965517         f1score: 0.7674968306547254\n",
      "24\n",
      "1.914761245250702\n",
      "eval: 0.8275862068965517         f1score: 0.7674968306547254\n",
      "25\n",
      "1.8234419971704483\n",
      "eval: 0.8275862068965517         f1score: 0.7674968306547254\n",
      "26\n",
      "1.8520003110170364\n",
      "eval: 0.8275862068965517         f1score: 0.7627602339181286\n",
      "27\n",
      "1.84804767370224\n",
      "eval: 0.8275862068965517         f1score: 0.7627602339181286\n",
      "28\n",
      "1.7837218269705772\n",
      "eval: 0.8275862068965517         f1score: 0.7627602339181286\n",
      "29\n",
      "1.7646371871232986\n",
      "eval: 0.8275862068965517         f1score: 0.7627602339181286\n",
      "30\n",
      "1.7450133934617043\n",
      "eval: 0.8275862068965517         f1score: 0.7627602339181286\n",
      "31\n",
      "1.6960574388504028\n",
      "eval: 0.8275862068965517         f1score: 0.7627602339181286\n",
      "32\n",
      "1.6128424778580666\n",
      "eval: 0.8275862068965517         f1score: 0.7627602339181286\n",
      "33\n",
      "1.6171543076634407\n",
      "eval: 0.8448275862068966         f1score: 0.7797987421383648\n",
      "34\n",
      "1.59962048381567\n",
      "eval: 0.8448275862068966         f1score: 0.7738181818181817\n",
      "35\n",
      "1.5860740765929222\n",
      "eval: 0.8448275862068966         f1score: 0.7738181818181817\n",
      "36\n",
      "1.5739758685231209\n",
      "eval: 0.8448275862068966         f1score: 0.7797987421383648\n",
      "37\n",
      "1.4968392476439476\n",
      "eval: 0.8448275862068966         f1score: 0.7738181818181817\n",
      "38\n",
      "1.4888074025511742\n",
      "eval: 0.8275862068965517         f1score: 0.7627602339181286\n",
      "39\n",
      "1.4519433230161667\n",
      "eval: 0.8448275862068966         f1score: 0.7797987421383648\n",
      "40\n",
      "1.4582578241825104\n",
      "eval: 0.8448275862068966         f1score: 0.7738181818181817\n",
      "41\n",
      "1.4184147864580154\n",
      "eval: 0.8448275862068966         f1score: 0.7738181818181817\n",
      "42\n",
      "1.4655722342431545\n",
      "eval: 0.8448275862068966         f1score: 0.7797987421383648\n",
      "43\n",
      "1.35492342710495\n",
      "eval: 0.8448275862068966         f1score: 0.7738181818181817\n",
      "44\n",
      "1.4222148805856705\n",
      "eval: 0.8448275862068966         f1score: 0.7738181818181817\n",
      "45\n",
      "1.3612097427248955\n",
      "eval: 0.8448275862068966         f1score: 0.7738181818181817\n",
      "46\n",
      "1.3093382716178894\n",
      "eval: 0.8448275862068966         f1score: 0.7738181818181817\n",
      "47\n",
      "1.3424847051501274\n",
      "eval: 0.8620689655172413         f1score: 0.7912202729044833\n",
      "48\n",
      "1.321180984377861\n",
      "eval: 0.8448275862068966         f1score: 0.7738181818181817\n",
      "49\n",
      "1.3280800990760326\n",
      "eval: 0.8448275862068966         f1score: 0.7738181818181817\n",
      "50\n",
      "1.3035253584384918\n",
      "eval: 0.8448275862068966         f1score: 0.7738181818181817\n",
      "51\n",
      "1.2852693423628807\n",
      "eval: 0.8448275862068966         f1score: 0.7738181818181817\n",
      "52\n",
      "1.2861093506217003\n",
      "eval: 0.8448275862068966         f1score: 0.7738181818181817\n",
      "53\n",
      "1.3100332915782928\n",
      "eval: 0.8448275862068966         f1score: 0.7738181818181817\n",
      "54\n",
      "1.2510439045727253\n",
      "eval: 0.8448275862068966         f1score: 0.7738181818181817\n",
      "55\n",
      "1.2334292754530907\n",
      "eval: 0.8448275862068966         f1score: 0.7738181818181817\n",
      "56\n",
      "1.2305974587798119\n",
      "eval: 0.8448275862068966         f1score: 0.7738181818181817\n",
      "57\n",
      "1.2329003885388374\n",
      "eval: 0.8620689655172413         f1score: 0.7912202729044833\n",
      "58\n",
      "1.2883428931236267\n",
      "eval: 0.8448275862068966         f1score: 0.7738181818181817\n",
      "59\n",
      "1.2834099121391773\n",
      "eval: 0.8448275862068966         f1score: 0.7738181818181817\n",
      "60\n",
      "1.1971066445112228\n",
      "eval: 0.8448275862068966         f1score: 0.7738181818181817\n",
      "61\n",
      "1.2102317176759243\n",
      "eval: 0.8448275862068966         f1score: 0.7738181818181817\n",
      "62\n",
      "1.1832482255995274\n",
      "eval: 0.8620689655172413         f1score: 0.7912202729044833\n",
      "63\n",
      "1.2079760059714317\n",
      "eval: 0.8448275862068966         f1score: 0.7738181818181817\n",
      "64\n",
      "1.215649038553238\n",
      "eval: 0.8448275862068966         f1score: 0.7738181818181817\n",
      "65\n",
      "1.2243448123335838\n",
      "eval: 0.8448275862068966         f1score: 0.7738181818181817\n",
      "66\n",
      "1.2349592372775078\n",
      "eval: 0.8448275862068966         f1score: 0.7738181818181817\n",
      "67\n",
      "1.1814439073204994\n",
      "eval: 0.8448275862068966         f1score: 0.7738181818181817\n",
      "68\n",
      "1.2126983255147934\n",
      "eval: 0.8448275862068966         f1score: 0.7738181818181817\n",
      "69\n",
      "1.2224266156554222\n",
      "eval: 0.8448275862068966         f1score: 0.7738181818181817\n"
     ]
    },
    {
     "data": {
      "text/html": [
       "Waiting for W&B process to finish... <strong style=\"color:green\">(success).</strong>"
      ],
      "text/plain": [
       "<IPython.core.display.HTML object>"
      ]
     },
     "metadata": {},
     "output_type": "display_data"
    },
    {
     "name": "stderr",
     "output_type": "stream",
     "text": [
      "wandb: WARNING Source type is set to 'repo' but some required information is missing from the environment. A job will not be created from this run. See https://docs.wandb.ai/guides/launch/create-job\n"
     ]
    },
    {
     "data": {
      "application/vnd.jupyter.widget-view+json": {
       "model_id": "8d8b85bc085b4414b26112cfcd9d9528",
       "version_major": 2,
       "version_minor": 0
      },
      "text/plain": [
       "VBox(children=(Label(value='0.003 MB of 0.003 MB uploaded (0.000 MB deduped)\\r'), FloatProgress(value=1.0, max…"
      ]
     },
     "metadata": {},
     "output_type": "display_data"
    },
    {
     "data": {
      "text/html": [
       "<style>\n",
       "    table.wandb td:nth-child(1) { padding: 0 10px; text-align: left ; width: auto;} td:nth-child(2) {text-align: left ; width: 100%}\n",
       "    .wandb-row { display: flex; flex-direction: row; flex-wrap: wrap; justify-content: flex-start; width: 100% }\n",
       "    .wandb-col { display: flex; flex-direction: column; flex-basis: 100%; flex: 1; padding: 10px; }\n",
       "    </style>\n",
       "<div class=\"wandb-row\"><div class=\"wandb-col\"><h3>Run history:</h3><br/><table class=\"wandb\"><tr><td>epoch</td><td>▁▁▁▁▁▁▁▁▁▁▁▁▁▁▁▁▁▁▁▁▁▁▁▁▁▁▁▁▁▁▁▁▁▁▁▁▁▁▁▁</td></tr><tr><td>f1val</td><td>▁▅▆▇█▇██████████████████████████████████</td></tr><tr><td>loss</td><td>█▆▄▄▃▃▂▂▂▂▂▂▂▁▁▁▁▁▁▁▁▁▁▁▁▁▁▁▁▁▁▁▁▁▁▁▁▁▁▁</td></tr><tr><td>lr</td><td>██▇▆▆▆▅▅▄▄▄▄▃▃▃▃▃▂▂▂▂▂▂▂▂▂▁▁▁▁▁▁▁▁▁▁▁▁▁▁</td></tr><tr><td>val</td><td>▁▅▆▇▇▇██▇▇▇▇▇▇▇▇▇▇▇███▇█████████████████</td></tr></table><br/></div><div class=\"wandb-col\"><h3>Run summary:</h3><br/><table class=\"wandb\"><tr><td>epoch</td><td>0</td></tr><tr><td>f1val</td><td>0.77382</td></tr><tr><td>loss</td><td>0.00222</td></tr><tr><td>lr</td><td>3e-05</td></tr><tr><td>val</td><td>0.84483</td></tr></table><br/></div></div>"
      ],
      "text/plain": [
       "<IPython.core.display.HTML object>"
      ]
     },
     "metadata": {},
     "output_type": "display_data"
    },
    {
     "data": {
      "text/html": [
       " View run <strong style=\"color:#cdcd00\">cross_validation_split3</strong> at: <a href='https://wandb.ai/artzha/Driver-Intent-Prediction-Models-Cross-Validation/runs/5j0w0567' target=\"_blank\">https://wandb.ai/artzha/Driver-Intent-Prediction-Models-Cross-Validation/runs/5j0w0567</a><br/>Synced 6 W&B file(s), 0 media file(s), 0 artifact file(s) and 0 other file(s)"
      ],
      "text/plain": [
       "<IPython.core.display.HTML object>"
      ]
     },
     "metadata": {},
     "output_type": "display_data"
    },
    {
     "data": {
      "text/html": [
       "Find logs at: <code>./wandb/run-20230911_230439-5j0w0567/logs</code>"
      ],
      "text/plain": [
       "<IPython.core.display.HTML object>"
      ]
     },
     "metadata": {},
     "output_type": "display_data"
    },
    {
     "data": {
      "application/vnd.jupyter.widget-view+json": {
       "model_id": "04ef6f063bf243a3afd5ef0232e25293",
       "version_major": 2,
       "version_minor": 0
      },
      "text/plain": [
       "VBox(children=(Label(value='Waiting for wandb.init()...\\r'), FloatProgress(value=0.016669028850083124, max=1.0…"
      ]
     },
     "metadata": {},
     "output_type": "display_data"
    },
    {
     "data": {
      "text/html": [
       "wandb version 0.15.10 is available!  To upgrade, please run:\n",
       " $ pip install wandb --upgrade"
      ],
      "text/plain": [
       "<IPython.core.display.HTML object>"
      ]
     },
     "metadata": {},
     "output_type": "display_data"
    },
    {
     "data": {
      "text/html": [
       "Tracking run with wandb version 0.15.9"
      ],
      "text/plain": [
       "<IPython.core.display.HTML object>"
      ]
     },
     "metadata": {},
     "output_type": "display_data"
    },
    {
     "data": {
      "text/html": [
       "Run data is saved locally in <code>/home/arthur/AMRL/Research/Driver-Intent-Prediction/models/wandb/run-20230911_230557-ih7qxy3n</code>"
      ],
      "text/plain": [
       "<IPython.core.display.HTML object>"
      ]
     },
     "metadata": {},
     "output_type": "display_data"
    },
    {
     "data": {
      "text/html": [
       "Syncing run <strong><a href='https://wandb.ai/artzha/Driver-Intent-Prediction-Models-Cross-Validation/runs/ih7qxy3n' target=\"_blank\">cross_validation_split4</a></strong> to <a href='https://wandb.ai/artzha/Driver-Intent-Prediction-Models-Cross-Validation' target=\"_blank\">Weights & Biases</a> (<a href='https://wandb.me/run' target=\"_blank\">docs</a>)<br/>"
      ],
      "text/plain": [
       "<IPython.core.display.HTML object>"
      ]
     },
     "metadata": {},
     "output_type": "display_data"
    },
    {
     "data": {
      "text/html": [
       " View project at <a href='https://wandb.ai/artzha/Driver-Intent-Prediction-Models-Cross-Validation' target=\"_blank\">https://wandb.ai/artzha/Driver-Intent-Prediction-Models-Cross-Validation</a>"
      ],
      "text/plain": [
       "<IPython.core.display.HTML object>"
      ]
     },
     "metadata": {},
     "output_type": "display_data"
    },
    {
     "data": {
      "text/html": [
       " View run at <a href='https://wandb.ai/artzha/Driver-Intent-Prediction-Models-Cross-Validation/runs/ih7qxy3n' target=\"_blank\">https://wandb.ai/artzha/Driver-Intent-Prediction-Models-Cross-Validation/runs/ih7qxy3n</a>"
      ],
      "text/plain": [
       "<IPython.core.display.HTML object>"
      ]
     },
     "metadata": {},
     "output_type": "display_data"
    },
    {
     "name": "stdout",
     "output_type": "stream",
     "text": [
      "0\n",
      "15.804187774658203\n",
      "eval: 0.2413793103448276         f1score: 0.1585581601061477\n",
      "1\n",
      "13.170600533485413\n",
      "eval: 0.6551724137931034         f1score: 0.5607536725569513\n",
      "2\n",
      "10.492628931999207\n",
      "eval: 0.7068965517241379         f1score: 0.6062049062049062\n",
      "3\n",
      "8.419887483119965\n",
      "eval: 0.6896551724137931         f1score: 0.6030614169833186\n",
      "4\n",
      "7.197699189186096\n",
      "eval: 0.7413793103448276         f1score: 0.6882018254969074\n",
      "5\n",
      "6.477713048458099\n",
      "eval: 0.7586206896551724         f1score: 0.7142857142857142\n",
      "6\n",
      "6.091778457164764\n",
      "eval: 0.7758620689655172         f1score: 0.733500417710944\n",
      "7\n",
      "5.621086448431015\n",
      "eval: 0.7586206896551724         f1score: 0.7222356739305892\n",
      "8\n",
      "5.251305013895035\n",
      "eval: 0.7413793103448276         f1score: 0.7025974025974024\n",
      "9\n",
      "4.787072077393532\n",
      "eval: 0.7241379310344828         f1score: 0.6989872872225813\n",
      "10\n",
      "4.726896047592163\n",
      "eval: 0.8103448275862069         f1score: 0.7762810369706921\n",
      "11\n",
      "4.409168839454651\n",
      "eval: 0.7586206896551724         f1score: 0.7086728573570679\n",
      "12\n",
      "4.108072578907013\n",
      "eval: 0.7586206896551724         f1score: 0.7196091644204852\n",
      "13\n",
      "3.789972871541977\n",
      "eval: 0.7931034482758621         f1score: 0.7441569833675097\n",
      "14\n",
      "3.470553010702133\n",
      "eval: 0.7758620689655172         f1score: 0.7315608465608465\n",
      "15\n",
      "3.3470823615789413\n",
      "eval: 0.7931034482758621         f1score: 0.7635814804390655\n",
      "16\n",
      "3.2409326136112213\n",
      "eval: 0.7931034482758621         f1score: 0.7608249158249158\n",
      "17\n",
      "3.102020412683487\n",
      "eval: 0.8275862068965517         f1score: 0.7916533758639022\n",
      "18\n",
      "3.0001005083322525\n",
      "eval: 0.7758620689655172         f1score: 0.7281269349845202\n",
      "19\n",
      "2.8960939198732376\n",
      "eval: 0.8103448275862069         f1score: 0.773421052631579\n",
      "20\n",
      "2.751678302884102\n",
      "eval: 0.7758620689655172         f1score: 0.7488732336845544\n",
      "21\n",
      "2.828152596950531\n",
      "eval: 0.7931034482758621         f1score: 0.7458403361344539\n",
      "22\n",
      "2.672512724995613\n",
      "eval: 0.8103448275862069         f1score: 0.7790394511149229\n",
      "23\n",
      "2.5374409407377243\n",
      "eval: 0.8103448275862069         f1score: 0.7832794042116076\n",
      "24\n",
      "2.3653508871793747\n",
      "eval: 0.8103448275862069         f1score: 0.7815889992360582\n",
      "25\n",
      "2.3565558940172195\n",
      "eval: 0.8275862068965517         f1score: 0.7916533758639022\n",
      "26\n",
      "2.2663855478167534\n",
      "eval: 0.8103448275862069         f1score: 0.773421052631579\n",
      "27\n",
      "2.3077618554234505\n",
      "eval: 0.8275862068965517         f1score: 0.7916533758639022\n",
      "28\n",
      "2.1262485831975937\n",
      "eval: 0.8103448275862069         f1score: 0.7871108922037715\n",
      "29\n",
      "2.047850616276264\n",
      "eval: 0.7931034482758621         f1score: 0.767066267066267\n",
      "30\n",
      "2.183689072728157\n",
      "eval: 0.8275862068965517         f1score: 0.7916533758639022\n",
      "31\n",
      "2.1079200133681297\n",
      "eval: 0.8275862068965517         f1score: 0.805118411000764\n",
      "32\n",
      "2.035769432783127\n",
      "eval: 0.8448275862068966         f1score: 0.8174617693967539\n",
      "33\n",
      "1.9791754111647606\n",
      "eval: 0.8275862068965517         f1score: 0.7916533758639022\n",
      "34\n",
      "2.022380366921425\n",
      "eval: 0.8448275862068966         f1score: 0.8174617693967539\n",
      "35\n",
      "1.9161506742238998\n",
      "eval: 0.8103448275862069         f1score: 0.7871108922037715\n",
      "36\n",
      "1.9090059027075768\n",
      "eval: 0.8275862068965517         f1score: 0.7916533758639022\n",
      "37\n",
      "1.8641474321484566\n",
      "eval: 0.8275862068965517         f1score: 0.7977777777777778\n",
      "38\n",
      "1.8472523242235184\n",
      "eval: 0.8275862068965517         f1score: 0.7977777777777778\n",
      "39\n",
      "1.80570450425148\n",
      "eval: 0.8275862068965517         f1score: 0.7994369660089742\n",
      "40\n",
      "1.7355937063694\n",
      "eval: 0.8275862068965517         f1score: 0.7977777777777778\n",
      "41\n",
      "1.7486457899212837\n",
      "eval: 0.8275862068965517         f1score: 0.805118411000764\n",
      "42\n",
      "1.679535984992981\n",
      "eval: 0.8275862068965517         f1score: 0.805118411000764\n",
      "43\n",
      "1.6727261394262314\n",
      "eval: 0.8275862068965517         f1score: 0.805118411000764\n",
      "44\n",
      "1.7359252497553825\n",
      "eval: 0.8448275862068966         f1score: 0.8174617693967539\n",
      "45\n",
      "1.629517301917076\n",
      "eval: 0.8275862068965517         f1score: 0.805118411000764\n",
      "46\n",
      "1.7020407170057297\n",
      "eval: 0.8275862068965517         f1score: 0.805118411000764\n",
      "47\n",
      "1.646800383925438\n",
      "eval: 0.8103448275862069         f1score: 0.7871108922037715\n",
      "48\n",
      "1.584077812731266\n",
      "eval: 0.8275862068965517         f1score: 0.805118411000764\n",
      "49\n",
      "1.666469119489193\n",
      "eval: 0.8275862068965517         f1score: 0.805118411000764\n",
      "50\n",
      "1.5556421652436256\n",
      "eval: 0.8448275862068966         f1score: 0.8244117647058824\n",
      "51\n",
      "1.5648244842886925\n",
      "eval: 0.8275862068965517         f1score: 0.805118411000764\n",
      "52\n",
      "1.5647794753313065\n",
      "eval: 0.8275862068965517         f1score: 0.805118411000764\n",
      "53\n",
      "1.5096461400389671\n",
      "eval: 0.8448275862068966         f1score: 0.8174617693967539\n",
      "54\n",
      "1.5409268513321877\n",
      "eval: 0.8448275862068966         f1score: 0.8244117647058824\n",
      "55\n",
      "1.5107053518295288\n",
      "eval: 0.8275862068965517         f1score: 0.805118411000764\n",
      "56\n",
      "1.534534066915512\n",
      "eval: 0.8275862068965517         f1score: 0.805118411000764\n",
      "57\n",
      "1.568501591682434\n",
      "eval: 0.8275862068965517         f1score: 0.7994369660089742\n",
      "58\n",
      "1.5292592346668243\n",
      "eval: 0.8275862068965517         f1score: 0.805118411000764\n",
      "59\n",
      "1.4623429477214813\n",
      "eval: 0.8275862068965517         f1score: 0.805118411000764\n",
      "60\n",
      "1.5088559314608574\n",
      "eval: 0.8448275862068966         f1score: 0.8244117647058824\n",
      "61\n",
      "1.499050460755825\n",
      "eval: 0.8448275862068966         f1score: 0.8244117647058824\n",
      "62\n",
      "1.477426826953888\n",
      "eval: 0.8448275862068966         f1score: 0.8244117647058824\n",
      "63\n",
      "1.492162249982357\n",
      "eval: 0.8448275862068966         f1score: 0.8244117647058824\n",
      "64\n",
      "1.4598368555307388\n",
      "eval: 0.8448275862068966         f1score: 0.8244117647058824\n",
      "65\n",
      "1.4438245594501495\n",
      "eval: 0.8448275862068966         f1score: 0.8244117647058824\n",
      "66\n",
      "1.482210274785757\n",
      "eval: 0.8448275862068966         f1score: 0.8244117647058824\n",
      "67\n",
      "1.4695690274238586\n",
      "eval: 0.8448275862068966         f1score: 0.8244117647058824\n",
      "68\n",
      "1.4366725459694862\n",
      "eval: 0.8448275862068966         f1score: 0.8244117647058824\n",
      "69\n",
      "1.4739034622907639\n",
      "eval: 0.8448275862068966         f1score: 0.8244117647058824\n"
     ]
    },
    {
     "data": {
      "text/html": [
       "Waiting for W&B process to finish... <strong style=\"color:green\">(success).</strong>"
      ],
      "text/plain": [
       "<IPython.core.display.HTML object>"
      ]
     },
     "metadata": {},
     "output_type": "display_data"
    },
    {
     "name": "stderr",
     "output_type": "stream",
     "text": [
      "wandb: WARNING Source type is set to 'repo' but some required information is missing from the environment. A job will not be created from this run. See https://docs.wandb.ai/guides/launch/create-job\n"
     ]
    },
    {
     "data": {
      "text/html": [
       "<style>\n",
       "    table.wandb td:nth-child(1) { padding: 0 10px; text-align: left ; width: auto;} td:nth-child(2) {text-align: left ; width: 100%}\n",
       "    .wandb-row { display: flex; flex-direction: row; flex-wrap: wrap; justify-content: flex-start; width: 100% }\n",
       "    .wandb-col { display: flex; flex-direction: column; flex-basis: 100%; flex: 1; padding: 10px; }\n",
       "    </style>\n",
       "<div class=\"wandb-row\"><div class=\"wandb-col\"><h3>Run history:</h3><br/><table class=\"wandb\"><tr><td>epoch</td><td>▁▁▁▁▁▁▁▁▁▁▁▁▁▁▁▁▁▁▁▁▁▁▁▁▁▁▁▁▁▁▁▁▁▁▁▁▁▁▁▁</td></tr><tr><td>f1val</td><td>▁▅▆▇▇▇▇▇▇▇█▇▇██▇████████████████████████</td></tr><tr><td>loss</td><td>█▇▄▃▃▃▃▂▂▂▂▂▂▂▁▁▁▁▁▁▁▁▁▁▁▁▁▁▁▁▁▁▁▁▁▁▁▁▁▁</td></tr><tr><td>lr</td><td>██▇▆▆▆▅▅▄▄▄▄▃▃▃▃▃▂▂▂▂▂▂▂▂▂▁▁▁▁▁▁▁▁▁▁▁▁▁▁</td></tr><tr><td>val</td><td>▁▆▆▇▇▇█▇▇▇██▇███████████████████████████</td></tr></table><br/></div><div class=\"wandb-col\"><h3>Run summary:</h3><br/><table class=\"wandb\"><tr><td>epoch</td><td>0</td></tr><tr><td>f1val</td><td>0.82441</td></tr><tr><td>loss</td><td>0.00268</td></tr><tr><td>lr</td><td>3e-05</td></tr><tr><td>val</td><td>0.84483</td></tr></table><br/></div></div>"
      ],
      "text/plain": [
       "<IPython.core.display.HTML object>"
      ]
     },
     "metadata": {},
     "output_type": "display_data"
    },
    {
     "data": {
      "text/html": [
       " View run <strong style=\"color:#cdcd00\">cross_validation_split4</strong> at: <a href='https://wandb.ai/artzha/Driver-Intent-Prediction-Models-Cross-Validation/runs/ih7qxy3n' target=\"_blank\">https://wandb.ai/artzha/Driver-Intent-Prediction-Models-Cross-Validation/runs/ih7qxy3n</a><br/>Synced 6 W&B file(s), 0 media file(s), 0 artifact file(s) and 0 other file(s)"
      ],
      "text/plain": [
       "<IPython.core.display.HTML object>"
      ]
     },
     "metadata": {},
     "output_type": "display_data"
    },
    {
     "data": {
      "text/html": [
       "Find logs at: <code>./wandb/run-20230911_230557-ih7qxy3n/logs</code>"
      ],
      "text/plain": [
       "<IPython.core.display.HTML object>"
      ]
     },
     "metadata": {},
     "output_type": "display_data"
    },
    {
     "data": {
      "application/vnd.jupyter.widget-view+json": {
       "model_id": "0911cbe5bbce44268ff70fffdf21866b",
       "version_major": 2,
       "version_minor": 0
      },
      "text/plain": [
       "VBox(children=(Label(value='Waiting for wandb.init()...\\r'), FloatProgress(value=0.016671020750072783, max=1.0…"
      ]
     },
     "metadata": {},
     "output_type": "display_data"
    },
    {
     "data": {
      "text/html": [
       "wandb version 0.15.10 is available!  To upgrade, please run:\n",
       " $ pip install wandb --upgrade"
      ],
      "text/plain": [
       "<IPython.core.display.HTML object>"
      ]
     },
     "metadata": {},
     "output_type": "display_data"
    },
    {
     "data": {
      "text/html": [
       "Tracking run with wandb version 0.15.9"
      ],
      "text/plain": [
       "<IPython.core.display.HTML object>"
      ]
     },
     "metadata": {},
     "output_type": "display_data"
    },
    {
     "data": {
      "text/html": [
       "Run data is saved locally in <code>/home/arthur/AMRL/Research/Driver-Intent-Prediction/models/wandb/run-20230911_230715-l1i7tcgr</code>"
      ],
      "text/plain": [
       "<IPython.core.display.HTML object>"
      ]
     },
     "metadata": {},
     "output_type": "display_data"
    },
    {
     "data": {
      "text/html": [
       "Syncing run <strong><a href='https://wandb.ai/artzha/Driver-Intent-Prediction-Models-Cross-Validation/runs/l1i7tcgr' target=\"_blank\">cross_validation_split5</a></strong> to <a href='https://wandb.ai/artzha/Driver-Intent-Prediction-Models-Cross-Validation' target=\"_blank\">Weights & Biases</a> (<a href='https://wandb.me/run' target=\"_blank\">docs</a>)<br/>"
      ],
      "text/plain": [
       "<IPython.core.display.HTML object>"
      ]
     },
     "metadata": {},
     "output_type": "display_data"
    },
    {
     "data": {
      "text/html": [
       " View project at <a href='https://wandb.ai/artzha/Driver-Intent-Prediction-Models-Cross-Validation' target=\"_blank\">https://wandb.ai/artzha/Driver-Intent-Prediction-Models-Cross-Validation</a>"
      ],
      "text/plain": [
       "<IPython.core.display.HTML object>"
      ]
     },
     "metadata": {},
     "output_type": "display_data"
    },
    {
     "data": {
      "text/html": [
       " View run at <a href='https://wandb.ai/artzha/Driver-Intent-Prediction-Models-Cross-Validation/runs/l1i7tcgr' target=\"_blank\">https://wandb.ai/artzha/Driver-Intent-Prediction-Models-Cross-Validation/runs/l1i7tcgr</a>"
      ],
      "text/plain": [
       "<IPython.core.display.HTML object>"
      ]
     },
     "metadata": {},
     "output_type": "display_data"
    },
    {
     "name": "stdout",
     "output_type": "stream",
     "text": [
      "0\n",
      "15.979933619499207\n",
      "eval: 0.3793103448275862         f1score: 0.13405572755417958\n",
      "1\n",
      "13.293981790542603\n",
      "eval: 0.46551724137931033         f1score: 0.26095238095238094\n",
      "2\n",
      "10.626657664775848\n",
      "eval: 0.5517241379310345         f1score: 0.46781874039938554\n",
      "3\n",
      "9.010565638542175\n",
      "eval: 0.6551724137931034         f1score: 0.6592250712250712\n",
      "4\n",
      "7.5033769607543945\n",
      "eval: 0.7241379310344828         f1score: 0.7038453500522467\n",
      "5\n",
      "6.430320620536804\n",
      "eval: 0.7413793103448276         f1score: 0.7155038759689923\n",
      "6\n",
      "5.666096031665802\n",
      "eval: 0.7413793103448276         f1score: 0.7416450216450217\n",
      "7\n",
      "5.030765861272812\n",
      "eval: 0.7241379310344828         f1score: 0.6968647591098068\n",
      "8\n",
      "4.60918802022934\n",
      "eval: 0.7586206896551724         f1score: 0.7560292580982236\n",
      "9\n",
      "4.259765192866325\n",
      "eval: 0.7758620689655172         f1score: 0.744510582010582\n",
      "10\n",
      "3.987866222858429\n",
      "eval: 0.7586206896551724         f1score: 0.7347813106433796\n",
      "11\n",
      "3.706470012664795\n",
      "eval: 0.7413793103448276         f1score: 0.7108554061592322\n",
      "12\n",
      "3.48807530105114\n",
      "eval: 0.7413793103448276         f1score: 0.7124532683153373\n",
      "13\n",
      "3.273655518889427\n",
      "eval: 0.7413793103448276         f1score: 0.7151322751322752\n",
      "14\n",
      "3.1914025396108627\n",
      "eval: 0.7413793103448276         f1score: 0.7124532683153373\n",
      "15\n",
      "3.041280835866928\n",
      "eval: 0.7586206896551724         f1score: 0.7264341455645804\n",
      "16\n",
      "2.9146638959646225\n",
      "eval: 0.7758620689655172         f1score: 0.7507735675177536\n",
      "17\n",
      "2.679978758096695\n",
      "eval: 0.7586206896551724         f1score: 0.7238078396699087\n",
      "18\n",
      "2.678279832005501\n",
      "eval: 0.7586206896551724         f1score: 0.7264341455645804\n",
      "19\n",
      "2.5572555363178253\n",
      "eval: 0.7931034482758621         f1score: 0.7763589922210612\n",
      "20\n",
      "2.511188194155693\n",
      "eval: 0.7586206896551724         f1score: 0.7438191438191437\n",
      "21\n",
      "2.3685534596443176\n",
      "eval: 0.7758620689655172         f1score: 0.7551737151737151\n",
      "22\n",
      "2.2046719193458557\n",
      "eval: 0.7931034482758621         f1score: 0.7775029301091851\n",
      "23\n",
      "2.237170085310936\n",
      "eval: 0.7586206896551724         f1score: 0.7264341455645804\n",
      "24\n",
      "2.120714597404003\n",
      "eval: 0.7931034482758621         f1score: 0.7798201798201798\n",
      "25\n",
      "2.1143228262662888\n",
      "eval: 0.7931034482758621         f1score: 0.7798201798201798\n",
      "26\n",
      "1.9753754436969757\n",
      "eval: 0.7758620689655172         f1score: 0.7551737151737151\n",
      "27\n",
      "2.0251902788877487\n",
      "eval: 0.7931034482758621         f1score: 0.7798201798201798\n",
      "28\n",
      "1.8831635862588882\n",
      "eval: 0.7758620689655172         f1score: 0.7551737151737151\n",
      "29\n",
      "1.826691560447216\n",
      "eval: 0.7931034482758621         f1score: 0.7798201798201798\n",
      "30\n",
      "1.7999035939574242\n",
      "eval: 0.8103448275862069         f1score: 0.8040885040885041\n",
      "31\n",
      "1.7919825091958046\n",
      "eval: 0.8103448275862069         f1score: 0.8040885040885041\n",
      "32\n",
      "1.7855447232723236\n",
      "eval: 0.8103448275862069         f1score: 0.8040885040885041\n",
      "33\n",
      "1.6944767832756042\n",
      "eval: 0.8103448275862069         f1score: 0.8040885040885041\n",
      "34\n",
      "1.6618207767605782\n",
      "eval: 0.8103448275862069         f1score: 0.8040885040885041\n",
      "35\n",
      "1.6323745176196098\n",
      "eval: 0.8103448275862069         f1score: 0.8040885040885041\n",
      "36\n",
      "1.665988601744175\n",
      "eval: 0.8103448275862069         f1score: 0.8040885040885041\n",
      "37\n",
      "1.5806607902050018\n",
      "eval: 0.8103448275862069         f1score: 0.8040885040885041\n",
      "38\n",
      "1.5950257256627083\n",
      "eval: 0.8103448275862069         f1score: 0.8040885040885041\n",
      "39\n",
      "1.6026164889335632\n",
      "eval: 0.8103448275862069         f1score: 0.8040885040885041\n",
      "40\n",
      "1.565596804022789\n",
      "eval: 0.8103448275862069         f1score: 0.8040885040885041\n",
      "41\n",
      "1.5289425030350685\n",
      "eval: 0.8103448275862069         f1score: 0.8040885040885041\n",
      "42\n",
      "1.5324999243021011\n",
      "eval: 0.8103448275862069         f1score: 0.8040885040885041\n",
      "43\n",
      "1.4925579205155373\n",
      "eval: 0.8103448275862069         f1score: 0.8040885040885041\n",
      "44\n",
      "1.4908861815929413\n",
      "eval: 0.8103448275862069         f1score: 0.8040885040885041\n",
      "45\n",
      "1.4866206049919128\n",
      "eval: 0.8103448275862069         f1score: 0.8040885040885041\n",
      "46\n",
      "1.4731381088495255\n",
      "eval: 0.8103448275862069         f1score: 0.8040885040885041\n",
      "47\n",
      "1.442441537976265\n",
      "eval: 0.8103448275862069         f1score: 0.8040885040885041\n",
      "48\n",
      "1.4705407470464706\n",
      "eval: 0.8103448275862069         f1score: 0.8040885040885041\n",
      "49\n",
      "1.4147951528429985\n",
      "eval: 0.8103448275862069         f1score: 0.8040885040885041\n",
      "50\n",
      "1.4120469689369202\n",
      "eval: 0.8103448275862069         f1score: 0.8040885040885041\n",
      "51\n",
      "1.4113296046853065\n",
      "eval: 0.8103448275862069         f1score: 0.8040885040885041\n",
      "52\n",
      "1.4152719974517822\n",
      "eval: 0.8103448275862069         f1score: 0.8040885040885041\n",
      "53\n",
      "1.423485867679119\n",
      "eval: 0.8103448275862069         f1score: 0.8040885040885041\n",
      "54\n",
      "1.4190364181995392\n",
      "eval: 0.8103448275862069         f1score: 0.8040885040885041\n",
      "55\n",
      "1.3702386692166328\n",
      "eval: 0.8103448275862069         f1score: 0.8040885040885041\n",
      "56\n",
      "1.4051832929253578\n",
      "eval: 0.8103448275862069         f1score: 0.8040885040885041\n",
      "57\n",
      "1.3328115865588188\n",
      "eval: 0.8103448275862069         f1score: 0.8040885040885041\n",
      "58\n",
      "1.3264354020357132\n",
      "eval: 0.8103448275862069         f1score: 0.8040885040885041\n",
      "59\n",
      "1.312955841422081\n",
      "eval: 0.8103448275862069         f1score: 0.8040885040885041\n",
      "60\n",
      "1.3545100390911102\n",
      "eval: 0.8103448275862069         f1score: 0.8040885040885041\n",
      "61\n",
      "1.3708814308047295\n",
      "eval: 0.8103448275862069         f1score: 0.8040885040885041\n",
      "62\n",
      "1.3288330137729645\n",
      "eval: 0.8103448275862069         f1score: 0.8040885040885041\n",
      "63\n",
      "1.3077625408768654\n",
      "eval: 0.8103448275862069         f1score: 0.8040885040885041\n",
      "64\n",
      "1.3004679083824158\n",
      "eval: 0.8103448275862069         f1score: 0.8040885040885041\n",
      "65\n",
      "1.3089801371097565\n",
      "eval: 0.8103448275862069         f1score: 0.8040885040885041\n",
      "66\n",
      "1.3476945981383324\n",
      "eval: 0.8103448275862069         f1score: 0.8040885040885041\n",
      "67\n",
      "1.306917667388916\n",
      "eval: 0.8103448275862069         f1score: 0.8040885040885041\n",
      "68\n",
      "1.3025279641151428\n",
      "eval: 0.8103448275862069         f1score: 0.8040885040885041\n",
      "69\n",
      "1.32245784252882\n",
      "eval: 0.8103448275862069         f1score: 0.8040885040885041\n"
     ]
    },
    {
     "data": {
      "text/html": [
       "Waiting for W&B process to finish... <strong style=\"color:green\">(success).</strong>"
      ],
      "text/plain": [
       "<IPython.core.display.HTML object>"
      ]
     },
     "metadata": {},
     "output_type": "display_data"
    },
    {
     "name": "stderr",
     "output_type": "stream",
     "text": [
      "wandb: WARNING Source type is set to 'repo' but some required information is missing from the environment. A job will not be created from this run. See https://docs.wandb.ai/guides/launch/create-job\n"
     ]
    },
    {
     "data": {
      "text/html": [
       "<style>\n",
       "    table.wandb td:nth-child(1) { padding: 0 10px; text-align: left ; width: auto;} td:nth-child(2) {text-align: left ; width: 100%}\n",
       "    .wandb-row { display: flex; flex-direction: row; flex-wrap: wrap; justify-content: flex-start; width: 100% }\n",
       "    .wandb-col { display: flex; flex-direction: column; flex-basis: 100%; flex: 1; padding: 10px; }\n",
       "    </style>\n",
       "<div class=\"wandb-row\"><div class=\"wandb-col\"><h3>Run history:</h3><br/><table class=\"wandb\"><tr><td>epoch</td><td>▁▁▁▁▁▁▁▁▁▁▁▁▁▁▁▁▁▁▁▁▁▁▁▁▁▁▁▁▁▁▁▁▁▁▁▁▁▁▁▁</td></tr><tr><td>f1val</td><td>▁▂▆▇▇▇▇▇▇▇▇█▇▇█▇▇███████████████████████</td></tr><tr><td>loss</td><td>█▇▅▃▃▃▂▂▂▂▂▂▂▁▁▁▁▁▁▁▁▁▁▁▁▁▁▁▁▁▁▁▁▁▁▁▁▁▁▁</td></tr><tr><td>lr</td><td>██▇▆▆▆▅▅▄▄▄▄▃▃▃▃▃▂▂▂▂▂▂▂▂▂▁▁▁▁▁▁▁▁▁▁▁▁▁▁</td></tr><tr><td>val</td><td>▁▂▅▇▇▇▇▇▇▇▇█▇▇█▇▇███████████████████████</td></tr></table><br/></div><div class=\"wandb-col\"><h3>Run summary:</h3><br/><table class=\"wandb\"><tr><td>epoch</td><td>0</td></tr><tr><td>f1val</td><td>0.80409</td></tr><tr><td>loss</td><td>0.0024</td></tr><tr><td>lr</td><td>3e-05</td></tr><tr><td>val</td><td>0.81034</td></tr></table><br/></div></div>"
      ],
      "text/plain": [
       "<IPython.core.display.HTML object>"
      ]
     },
     "metadata": {},
     "output_type": "display_data"
    },
    {
     "data": {
      "text/html": [
       " View run <strong style=\"color:#cdcd00\">cross_validation_split5</strong> at: <a href='https://wandb.ai/artzha/Driver-Intent-Prediction-Models-Cross-Validation/runs/l1i7tcgr' target=\"_blank\">https://wandb.ai/artzha/Driver-Intent-Prediction-Models-Cross-Validation/runs/l1i7tcgr</a><br/>Synced 6 W&B file(s), 0 media file(s), 0 artifact file(s) and 0 other file(s)"
      ],
      "text/plain": [
       "<IPython.core.display.HTML object>"
      ]
     },
     "metadata": {},
     "output_type": "display_data"
    },
    {
     "data": {
      "text/html": [
       "Find logs at: <code>./wandb/run-20230911_230715-l1i7tcgr/logs</code>"
      ],
      "text/plain": [
       "<IPython.core.display.HTML object>"
      ]
     },
     "metadata": {},
     "output_type": "display_data"
    },
    {
     "data": {
      "application/vnd.jupyter.widget-view+json": {
       "model_id": "e426398c9cae4bd8bf25466852117128",
       "version_major": 2,
       "version_minor": 0
      },
      "text/plain": [
       "VBox(children=(Label(value='Waiting for wandb.init()...\\r'), FloatProgress(value=0.016669812583252983, max=1.0…"
      ]
     },
     "metadata": {},
     "output_type": "display_data"
    },
    {
     "data": {
      "text/html": [
       "wandb version 0.15.10 is available!  To upgrade, please run:\n",
       " $ pip install wandb --upgrade"
      ],
      "text/plain": [
       "<IPython.core.display.HTML object>"
      ]
     },
     "metadata": {},
     "output_type": "display_data"
    },
    {
     "data": {
      "text/html": [
       "Tracking run with wandb version 0.15.9"
      ],
      "text/plain": [
       "<IPython.core.display.HTML object>"
      ]
     },
     "metadata": {},
     "output_type": "display_data"
    },
    {
     "data": {
      "text/html": [
       "Run data is saved locally in <code>/home/arthur/AMRL/Research/Driver-Intent-Prediction/models/wandb/run-20230911_230831-sy9znxv0</code>"
      ],
      "text/plain": [
       "<IPython.core.display.HTML object>"
      ]
     },
     "metadata": {},
     "output_type": "display_data"
    },
    {
     "data": {
      "text/html": [
       "Syncing run <strong><a href='https://wandb.ai/artzha/Driver-Intent-Prediction-Models-Cross-Validation/runs/sy9znxv0' target=\"_blank\">cross_validation_split6</a></strong> to <a href='https://wandb.ai/artzha/Driver-Intent-Prediction-Models-Cross-Validation' target=\"_blank\">Weights & Biases</a> (<a href='https://wandb.me/run' target=\"_blank\">docs</a>)<br/>"
      ],
      "text/plain": [
       "<IPython.core.display.HTML object>"
      ]
     },
     "metadata": {},
     "output_type": "display_data"
    },
    {
     "data": {
      "text/html": [
       " View project at <a href='https://wandb.ai/artzha/Driver-Intent-Prediction-Models-Cross-Validation' target=\"_blank\">https://wandb.ai/artzha/Driver-Intent-Prediction-Models-Cross-Validation</a>"
      ],
      "text/plain": [
       "<IPython.core.display.HTML object>"
      ]
     },
     "metadata": {},
     "output_type": "display_data"
    },
    {
     "data": {
      "text/html": [
       " View run at <a href='https://wandb.ai/artzha/Driver-Intent-Prediction-Models-Cross-Validation/runs/sy9znxv0' target=\"_blank\">https://wandb.ai/artzha/Driver-Intent-Prediction-Models-Cross-Validation/runs/sy9znxv0</a>"
      ],
      "text/plain": [
       "<IPython.core.display.HTML object>"
      ]
     },
     "metadata": {},
     "output_type": "display_data"
    },
    {
     "name": "stdout",
     "output_type": "stream",
     "text": [
      "0\n",
      "16.04127788543701\n",
      "eval: 0.46551724137931033         f1score: 0.14905149051490513\n",
      "1\n",
      "13.982216596603394\n",
      "eval: 0.603448275862069         f1score: 0.3728042328042328\n",
      "2\n",
      "11.757802248001099\n",
      "eval: 0.6551724137931034         f1score: 0.4073346839125239\n",
      "3\n",
      "10.274856388568878\n",
      "eval: 0.6724137931034483         f1score: 0.5639057239057239\n",
      "4\n",
      "9.268387258052826\n",
      "eval: 0.8275862068965517         f1score: 0.7735294117647058\n",
      "5\n",
      "7.951789140701294\n",
      "eval: 0.8275862068965517         f1score: 0.7609090909090909\n",
      "6\n",
      "7.314817368984222\n",
      "eval: 0.8275862068965517         f1score: 0.8026610644257703\n",
      "7\n",
      "6.698518246412277\n",
      "eval: 0.7758620689655172         f1score: 0.7711390759777856\n",
      "8\n",
      "6.0312526524066925\n",
      "eval: 0.8448275862068966         f1score: 0.7931890331890332\n",
      "9\n",
      "5.687610059976578\n",
      "eval: 0.8275862068965517         f1score: 0.7827597402597403\n",
      "10\n",
      "5.070540487766266\n",
      "eval: 0.8448275862068966         f1score: 0.8245331465919701\n",
      "11\n",
      "4.840139180421829\n",
      "eval: 0.8448275862068966         f1score: 0.8248832866479925\n",
      "12\n",
      "4.478961080312729\n",
      "eval: 0.8103448275862069         f1score: 0.7808594762768991\n",
      "13\n",
      "4.356125816702843\n",
      "eval: 0.8103448275862069         f1score: 0.7864498843015467\n",
      "14\n",
      "4.148761838674545\n",
      "eval: 0.8448275862068966         f1score: 0.8117551771441714\n",
      "15\n",
      "3.8624487668275833\n",
      "eval: 0.8793103448275862         f1score: 0.8532913165266107\n",
      "16\n",
      "3.6377698183059692\n",
      "eval: 0.8620689655172413         f1score: 0.8134920634920635\n",
      "17\n",
      "3.504830539226532\n",
      "eval: 0.8620689655172413         f1score: 0.8134920634920635\n",
      "18\n",
      "3.3208625465631485\n",
      "eval: 0.8793103448275862         f1score: 0.8525606469002696\n",
      "19\n",
      "3.3144690096378326\n",
      "eval: 0.896551724137931         f1score: 0.8838217338217339\n",
      "20\n",
      "3.2299837172031403\n",
      "eval: 0.8793103448275862         f1score: 0.8525606469002696\n",
      "21\n",
      "3.0148551762104034\n",
      "eval: 0.896551724137931         f1score: 0.8846769374416432\n",
      "22\n",
      "2.89971199631691\n",
      "eval: 0.8620689655172413         f1score: 0.8134920634920635\n",
      "23\n",
      "2.762706458568573\n",
      "eval: 0.8620689655172413         f1score: 0.8430486180486181\n",
      "24\n",
      "2.6749031245708466\n",
      "eval: 0.896551724137931         f1score: 0.8838217338217339\n",
      "25\n",
      "2.6454431861639023\n",
      "eval: 0.896551724137931         f1score: 0.8838217338217339\n",
      "26\n",
      "2.5172599107027054\n",
      "eval: 0.896551724137931         f1score: 0.8838217338217339\n",
      "27\n",
      "2.4581371396780014\n",
      "eval: 0.8793103448275862         f1score: 0.8525606469002696\n",
      "28\n",
      "2.3868374079465866\n",
      "eval: 0.8793103448275862         f1score: 0.8525606469002696\n",
      "29\n",
      "2.389373004436493\n",
      "eval: 0.9137931034482759         f1score: 0.8942598251421782\n",
      "30\n",
      "2.289123147726059\n",
      "eval: 0.896551724137931         f1score: 0.8838217338217339\n",
      "31\n",
      "2.208755701780319\n",
      "eval: 0.8793103448275862         f1score: 0.8525606469002696\n",
      "32\n",
      "2.306981697678566\n",
      "eval: 0.8793103448275862         f1score: 0.8525606469002696\n",
      "33\n",
      "2.193900555372238\n",
      "eval: 0.896551724137931         f1score: 0.8846769374416432\n",
      "34\n",
      "2.138679727911949\n",
      "eval: 0.8793103448275862         f1score: 0.8525606469002696\n",
      "35\n",
      "2.042652666568756\n",
      "eval: 0.8793103448275862         f1score: 0.8699746565292784\n",
      "36\n",
      "2.0462609976530075\n",
      "eval: 0.8793103448275862         f1score: 0.8525606469002696\n",
      "37\n",
      "2.0822668820619583\n",
      "eval: 0.896551724137931         f1score: 0.8628621378621378\n",
      "38\n",
      "1.8956015706062317\n",
      "eval: 0.896551724137931         f1score: 0.8838217338217339\n",
      "39\n",
      "1.9030211493372917\n",
      "eval: 0.896551724137931         f1score: 0.8838217338217339\n",
      "40\n",
      "1.9210211113095284\n",
      "eval: 0.896551724137931         f1score: 0.8628621378621378\n",
      "41\n",
      "1.9073869809508324\n",
      "eval: 0.896551724137931         f1score: 0.8628621378621378\n",
      "42\n",
      "1.8358199298381805\n",
      "eval: 0.896551724137931         f1score: 0.8628621378621378\n",
      "43\n",
      "1.8727251812815666\n",
      "eval: 0.896551724137931         f1score: 0.8628621378621378\n",
      "44\n",
      "1.8472825065255165\n",
      "eval: 0.9137931034482759         f1score: 0.8726078167115903\n",
      "45\n",
      "1.8009975403547287\n",
      "eval: 0.896551724137931         f1score: 0.8628621378621378\n",
      "46\n",
      "1.8185216188430786\n",
      "eval: 0.9137931034482759         f1score: 0.8726078167115903\n",
      "47\n",
      "1.7600583732128143\n",
      "eval: 0.9137931034482759         f1score: 0.8726078167115903\n",
      "48\n",
      "1.72809087485075\n",
      "eval: 0.9137931034482759         f1score: 0.8726078167115903\n",
      "49\n",
      "1.7873912006616592\n",
      "eval: 0.9137931034482759         f1score: 0.8726078167115903\n",
      "50\n",
      "1.7270858585834503\n",
      "eval: 0.9137931034482759         f1score: 0.8726078167115903\n",
      "51\n",
      "1.7346244379878044\n",
      "eval: 0.9137931034482759         f1score: 0.8726078167115903\n",
      "52\n",
      "1.674353577196598\n",
      "eval: 0.9137931034482759         f1score: 0.8726078167115903\n",
      "53\n",
      "1.6720779687166214\n",
      "eval: 0.9137931034482759         f1score: 0.8726078167115903\n",
      "54\n",
      "1.6580678224563599\n",
      "eval: 0.9137931034482759         f1score: 0.8726078167115903\n",
      "55\n",
      "1.6726958230137825\n",
      "eval: 0.9310344827586207         f1score: 0.8826756576756576\n",
      "56\n",
      "1.6452033892273903\n",
      "eval: 0.9310344827586207         f1score: 0.8826756576756576\n",
      "57\n",
      "1.6305647045373917\n",
      "eval: 0.9310344827586207         f1score: 0.8826756576756576\n",
      "58\n",
      "1.655860036611557\n",
      "eval: 0.9310344827586207         f1score: 0.8826756576756576\n",
      "59\n",
      "1.6305768340826035\n",
      "eval: 0.9310344827586207         f1score: 0.8826756576756576\n",
      "60\n",
      "1.654655084013939\n",
      "eval: 0.9310344827586207         f1score: 0.8826756576756576\n",
      "61\n",
      "1.6582270711660385\n",
      "eval: 0.9310344827586207         f1score: 0.8826756576756576\n",
      "62\n",
      "1.6148432940244675\n",
      "eval: 0.9310344827586207         f1score: 0.8826756576756576\n",
      "63\n",
      "1.5768868327140808\n",
      "eval: 0.9310344827586207         f1score: 0.8826756576756576\n",
      "64\n",
      "1.5531676337122917\n",
      "eval: 0.9310344827586207         f1score: 0.8826756576756576\n",
      "65\n",
      "1.5941260233521461\n",
      "eval: 0.9310344827586207         f1score: 0.8826756576756576\n",
      "66\n",
      "1.599767118692398\n",
      "eval: 0.9310344827586207         f1score: 0.8826756576756576\n",
      "67\n",
      "1.5571805462241173\n",
      "eval: 0.9310344827586207         f1score: 0.8826756576756576\n",
      "68\n",
      "1.595864936709404\n",
      "eval: 0.9310344827586207         f1score: 0.8826756576756576\n",
      "69\n",
      "1.5689664781093597\n",
      "eval: 0.9310344827586207         f1score: 0.8826756576756576\n"
     ]
    },
    {
     "data": {
      "text/html": [
       "Waiting for W&B process to finish... <strong style=\"color:green\">(success).</strong>"
      ],
      "text/plain": [
       "<IPython.core.display.HTML object>"
      ]
     },
     "metadata": {},
     "output_type": "display_data"
    },
    {
     "name": "stderr",
     "output_type": "stream",
     "text": [
      "wandb: WARNING Source type is set to 'repo' but some required information is missing from the environment. A job will not be created from this run. See https://docs.wandb.ai/guides/launch/create-job\n"
     ]
    },
    {
     "data": {
      "text/html": [
       "<style>\n",
       "    table.wandb td:nth-child(1) { padding: 0 10px; text-align: left ; width: auto;} td:nth-child(2) {text-align: left ; width: 100%}\n",
       "    .wandb-row { display: flex; flex-direction: row; flex-wrap: wrap; justify-content: flex-start; width: 100% }\n",
       "    .wandb-col { display: flex; flex-direction: column; flex-basis: 100%; flex: 1; padding: 10px; }\n",
       "    </style>\n",
       "<div class=\"wandb-row\"><div class=\"wandb-col\"><h3>Run history:</h3><br/><table class=\"wandb\"><tr><td>epoch</td><td>▁▁▁▁▁▁▁▁▁▁▁▁▁▁▁▁▁▁▁▁▁▁▁▁▁▁▁▁▁▁▁▁▁▁▁▁▁▁▁▁</td></tr><tr><td>f1val</td><td>▁▃▅▇▇▇▇▇▇█▇█████████████████████████████</td></tr><tr><td>loss</td><td>█▇▅▄▃▃▃▂▂▂▂▂▂▂▂▁▁▁▁▁▁▁▁▁▁▁▁▁▁▁▁▁▁▁▁▁▁▁▁▁</td></tr><tr><td>lr</td><td>██▇▆▆▆▅▅▄▄▄▄▃▃▃▃▃▂▂▂▂▂▂▂▂▂▁▁▁▁▁▁▁▁▁▁▁▁▁▁</td></tr><tr><td>val</td><td>▁▃▄▆▆▇▇▆▇▇▇▇▇▇▇▇▇▇▇▇▇▇▇▇▇███████████████</td></tr></table><br/></div><div class=\"wandb-col\"><h3>Run summary:</h3><br/><table class=\"wandb\"><tr><td>epoch</td><td>0</td></tr><tr><td>f1val</td><td>0.88268</td></tr><tr><td>loss</td><td>0.00285</td></tr><tr><td>lr</td><td>3e-05</td></tr><tr><td>val</td><td>0.93103</td></tr></table><br/></div></div>"
      ],
      "text/plain": [
       "<IPython.core.display.HTML object>"
      ]
     },
     "metadata": {},
     "output_type": "display_data"
    },
    {
     "data": {
      "text/html": [
       " View run <strong style=\"color:#cdcd00\">cross_validation_split6</strong> at: <a href='https://wandb.ai/artzha/Driver-Intent-Prediction-Models-Cross-Validation/runs/sy9znxv0' target=\"_blank\">https://wandb.ai/artzha/Driver-Intent-Prediction-Models-Cross-Validation/runs/sy9znxv0</a><br/>Synced 6 W&B file(s), 0 media file(s), 0 artifact file(s) and 0 other file(s)"
      ],
      "text/plain": [
       "<IPython.core.display.HTML object>"
      ]
     },
     "metadata": {},
     "output_type": "display_data"
    },
    {
     "data": {
      "text/html": [
       "Find logs at: <code>./wandb/run-20230911_230831-sy9znxv0/logs</code>"
      ],
      "text/plain": [
       "<IPython.core.display.HTML object>"
      ]
     },
     "metadata": {},
     "output_type": "display_data"
    },
    {
     "data": {
      "application/vnd.jupyter.widget-view+json": {
       "model_id": "17f8c8bc7f774ae5bad062ed96325665",
       "version_major": 2,
       "version_minor": 0
      },
      "text/plain": [
       "VBox(children=(Label(value='Waiting for wandb.init()...\\r'), FloatProgress(value=0.01667033028328054, max=1.0)…"
      ]
     },
     "metadata": {},
     "output_type": "display_data"
    },
    {
     "data": {
      "text/html": [
       "wandb version 0.15.10 is available!  To upgrade, please run:\n",
       " $ pip install wandb --upgrade"
      ],
      "text/plain": [
       "<IPython.core.display.HTML object>"
      ]
     },
     "metadata": {},
     "output_type": "display_data"
    },
    {
     "data": {
      "text/html": [
       "Tracking run with wandb version 0.15.9"
      ],
      "text/plain": [
       "<IPython.core.display.HTML object>"
      ]
     },
     "metadata": {},
     "output_type": "display_data"
    },
    {
     "data": {
      "text/html": [
       "Run data is saved locally in <code>/home/arthur/AMRL/Research/Driver-Intent-Prediction/models/wandb/run-20230911_230949-mw8op4q9</code>"
      ],
      "text/plain": [
       "<IPython.core.display.HTML object>"
      ]
     },
     "metadata": {},
     "output_type": "display_data"
    },
    {
     "data": {
      "text/html": [
       "Syncing run <strong><a href='https://wandb.ai/artzha/Driver-Intent-Prediction-Models-Cross-Validation/runs/mw8op4q9' target=\"_blank\">cross_validation_split7</a></strong> to <a href='https://wandb.ai/artzha/Driver-Intent-Prediction-Models-Cross-Validation' target=\"_blank\">Weights & Biases</a> (<a href='https://wandb.me/run' target=\"_blank\">docs</a>)<br/>"
      ],
      "text/plain": [
       "<IPython.core.display.HTML object>"
      ]
     },
     "metadata": {},
     "output_type": "display_data"
    },
    {
     "data": {
      "text/html": [
       " View project at <a href='https://wandb.ai/artzha/Driver-Intent-Prediction-Models-Cross-Validation' target=\"_blank\">https://wandb.ai/artzha/Driver-Intent-Prediction-Models-Cross-Validation</a>"
      ],
      "text/plain": [
       "<IPython.core.display.HTML object>"
      ]
     },
     "metadata": {},
     "output_type": "display_data"
    },
    {
     "data": {
      "text/html": [
       " View run at <a href='https://wandb.ai/artzha/Driver-Intent-Prediction-Models-Cross-Validation/runs/mw8op4q9' target=\"_blank\">https://wandb.ai/artzha/Driver-Intent-Prediction-Models-Cross-Validation/runs/mw8op4q9</a>"
      ],
      "text/plain": [
       "<IPython.core.display.HTML object>"
      ]
     },
     "metadata": {},
     "output_type": "display_data"
    },
    {
     "name": "stdout",
     "output_type": "stream",
     "text": [
      "0\n",
      "15.838720083236694\n",
      "eval: 0.3793103448275862         f1score: 0.15859649122807018\n",
      "1\n",
      "12.849116921424866\n",
      "eval: 0.5517241379310345         f1score: 0.4050739821756816\n",
      "2\n",
      "10.450303792953491\n",
      "eval: 0.6379310344827587         f1score: 0.48278388278388285\n",
      "3\n",
      "8.792458951473236\n",
      "eval: 0.6724137931034483         f1score: 0.5521654815772463\n",
      "4\n",
      "7.4720481634140015\n",
      "eval: 0.7758620689655172         f1score: 0.7142995169082126\n",
      "5\n",
      "6.589536160230637\n",
      "eval: 0.7931034482758621         f1score: 0.7501587301587301\n",
      "6\n",
      "5.784304440021515\n",
      "eval: 0.8103448275862069         f1score: 0.7783047870004391\n",
      "7\n",
      "5.447883576154709\n",
      "eval: 0.8103448275862069         f1score: 0.7802020202020201\n",
      "8\n",
      "4.874263256788254\n",
      "eval: 0.7931034482758621         f1score: 0.7685513452955313\n",
      "9\n",
      "4.31824404001236\n",
      "eval: 0.8448275862068966         f1score: 0.8429090909090909\n",
      "10\n",
      "3.949472576379776\n",
      "eval: 0.7931034482758621         f1score: 0.7685513452955313\n",
      "11\n",
      "3.7104280292987823\n",
      "eval: 0.8275862068965517         f1score: 0.8137062937062938\n",
      "12\n",
      "3.409832239151001\n",
      "eval: 0.8620689655172413         f1score: 0.8548282828282829\n",
      "13\n",
      "3.3945143967866898\n",
      "eval: 0.8448275862068966         f1score: 0.8429090909090909\n",
      "14\n",
      "3.095590740442276\n",
      "eval: 0.8275862068965517         f1score: 0.8137062937062938\n",
      "15\n",
      "2.941302537918091\n",
      "eval: 0.8448275862068966         f1score: 0.8429090909090909\n",
      "16\n",
      "2.7590854465961456\n",
      "eval: 0.8620689655172413         f1score: 0.8548282828282829\n",
      "17\n",
      "2.5489051938056946\n",
      "eval: 0.8275862068965517         f1score: 0.8137062937062938\n",
      "18\n",
      "2.5600742548704147\n",
      "eval: 0.8620689655172413         f1score: 0.8548282828282829\n",
      "19\n",
      "2.4334624260663986\n",
      "eval: 0.8275862068965517         f1score: 0.8137062937062938\n",
      "20\n",
      "2.320207968354225\n",
      "eval: 0.8620689655172413         f1score: 0.8548282828282829\n",
      "21\n",
      "2.0907200649380684\n",
      "eval: 0.8448275862068966         f1score: 0.8429090909090909\n",
      "22\n",
      "2.033444404602051\n",
      "eval: 0.8448275862068966         f1score: 0.8429090909090909\n",
      "23\n",
      "2.0616778284311295\n",
      "eval: 0.8448275862068966         f1score: 0.8429090909090909\n",
      "24\n",
      "2.0188231766223907\n",
      "eval: 0.8620689655172413         f1score: 0.8548282828282829\n",
      "25\n",
      "1.929189294576645\n",
      "eval: 0.8448275862068966         f1score: 0.8429090909090909\n",
      "26\n",
      "1.7995702773332596\n",
      "eval: 0.8448275862068966         f1score: 0.8429090909090909\n",
      "27\n",
      "1.7632833793759346\n",
      "eval: 0.8448275862068966         f1score: 0.8429090909090909\n",
      "28\n",
      "1.6851359009742737\n",
      "eval: 0.8448275862068966         f1score: 0.8429090909090909\n",
      "29\n",
      "1.6996519416570663\n",
      "eval: 0.8448275862068966         f1score: 0.8429090909090909\n",
      "30\n",
      "1.6753960847854614\n",
      "eval: 0.8448275862068966         f1score: 0.8429090909090909\n",
      "31\n",
      "1.6683892086148262\n",
      "eval: 0.8448275862068966         f1score: 0.8429090909090909\n",
      "32\n",
      "1.5564571544528008\n",
      "eval: 0.8620689655172413         f1score: 0.8548282828282829\n",
      "33\n",
      "1.5425451546907425\n",
      "eval: 0.8448275862068966         f1score: 0.8429090909090909\n",
      "34\n",
      "1.5139241218566895\n",
      "eval: 0.8448275862068966         f1score: 0.8429090909090909\n",
      "35\n",
      "1.4991436153650284\n",
      "eval: 0.8448275862068966         f1score: 0.8429090909090909\n",
      "36\n",
      "1.5000429973006248\n",
      "eval: 0.8448275862068966         f1score: 0.8429090909090909\n",
      "37\n",
      "1.5044542476534843\n",
      "eval: 0.8448275862068966         f1score: 0.8429090909090909\n",
      "38\n",
      "1.3730179369449615\n",
      "eval: 0.8448275862068966         f1score: 0.8429090909090909\n",
      "39\n",
      "1.353955201804638\n",
      "eval: 0.8275862068965517         f1score: 0.8023030303030303\n",
      "40\n",
      "1.3891392648220062\n",
      "eval: 0.8275862068965517         f1score: 0.8023030303030303\n",
      "41\n",
      "1.3630446195602417\n",
      "eval: 0.8275862068965517         f1score: 0.8023030303030303\n",
      "42\n",
      "1.3752276673913002\n",
      "eval: 0.8275862068965517         f1score: 0.8023030303030303\n",
      "43\n",
      "1.3621972352266312\n",
      "eval: 0.8275862068965517         f1score: 0.8023030303030303\n",
      "44\n",
      "1.3144796937704086\n",
      "eval: 0.8275862068965517         f1score: 0.8023030303030303\n",
      "45\n",
      "1.3090955913066864\n",
      "eval: 0.8275862068965517         f1score: 0.8023030303030303\n",
      "46\n",
      "1.2936727553606033\n",
      "eval: 0.8275862068965517         f1score: 0.8023030303030303\n",
      "47\n",
      "1.2736037224531174\n",
      "eval: 0.8275862068965517         f1score: 0.8023030303030303\n",
      "48\n",
      "1.2588443979620934\n",
      "eval: 0.8275862068965517         f1score: 0.8023030303030303\n",
      "49\n",
      "1.2360330373048782\n",
      "eval: 0.8275862068965517         f1score: 0.8023030303030303\n",
      "50\n",
      "1.2228598669171333\n",
      "eval: 0.8275862068965517         f1score: 0.8023030303030303\n",
      "51\n",
      "1.274655520915985\n",
      "eval: 0.8275862068965517         f1score: 0.8023030303030303\n",
      "52\n",
      "1.2465847581624985\n",
      "eval: 0.8275862068965517         f1score: 0.8023030303030303\n",
      "53\n",
      "1.1988785713911057\n",
      "eval: 0.8275862068965517         f1score: 0.8023030303030303\n",
      "54\n",
      "1.204138606786728\n",
      "eval: 0.8275862068965517         f1score: 0.8023030303030303\n",
      "55\n",
      "1.2019896656274796\n",
      "eval: 0.8275862068965517         f1score: 0.8023030303030303\n",
      "56\n",
      "1.2571891695261002\n",
      "eval: 0.8275862068965517         f1score: 0.8023030303030303\n",
      "57\n",
      "1.232543908059597\n",
      "eval: 0.8275862068965517         f1score: 0.8023030303030303\n",
      "58\n",
      "1.2270332649350166\n",
      "eval: 0.8275862068965517         f1score: 0.8023030303030303\n",
      "59\n",
      "1.193533182144165\n",
      "eval: 0.8275862068965517         f1score: 0.8023030303030303\n",
      "60\n",
      "1.1598953306674957\n",
      "eval: 0.8275862068965517         f1score: 0.8023030303030303\n",
      "61\n",
      "1.204385682940483\n",
      "eval: 0.8275862068965517         f1score: 0.8023030303030303\n",
      "62\n",
      "1.1930458098649979\n",
      "eval: 0.8275862068965517         f1score: 0.8023030303030303\n",
      "63\n",
      "1.1640323102474213\n",
      "eval: 0.8275862068965517         f1score: 0.8023030303030303\n",
      "64\n",
      "1.1555105820298195\n",
      "eval: 0.8275862068965517         f1score: 0.8023030303030303\n",
      "65\n",
      "1.1736077591776848\n",
      "eval: 0.8275862068965517         f1score: 0.8023030303030303\n",
      "66\n",
      "1.142528422176838\n",
      "eval: 0.8275862068965517         f1score: 0.8023030303030303\n",
      "67\n",
      "1.1600129380822182\n",
      "eval: 0.8275862068965517         f1score: 0.8023030303030303\n",
      "68\n",
      "1.1446045115590096\n",
      "eval: 0.8275862068965517         f1score: 0.8023030303030303\n",
      "69\n",
      "1.145034871995449\n",
      "eval: 0.8275862068965517         f1score: 0.8023030303030303\n"
     ]
    },
    {
     "data": {
      "text/html": [
       "Waiting for W&B process to finish... <strong style=\"color:green\">(success).</strong>"
      ],
      "text/plain": [
       "<IPython.core.display.HTML object>"
      ]
     },
     "metadata": {},
     "output_type": "display_data"
    },
    {
     "name": "stderr",
     "output_type": "stream",
     "text": [
      "wandb: WARNING Source type is set to 'repo' but some required information is missing from the environment. A job will not be created from this run. See https://docs.wandb.ai/guides/launch/create-job\n"
     ]
    },
    {
     "data": {
      "text/html": [
       "<style>\n",
       "    table.wandb td:nth-child(1) { padding: 0 10px; text-align: left ; width: auto;} td:nth-child(2) {text-align: left ; width: 100%}\n",
       "    .wandb-row { display: flex; flex-direction: row; flex-wrap: wrap; justify-content: flex-start; width: 100% }\n",
       "    .wandb-col { display: flex; flex-direction: column; flex-basis: 100%; flex: 1; padding: 10px; }\n",
       "    </style>\n",
       "<div class=\"wandb-row\"><div class=\"wandb-col\"><h3>Run history:</h3><br/><table class=\"wandb\"><tr><td>epoch</td><td>▁▁▁▁▁▁▁▁▁▁▁▁▁▁▁▁▁▁▁▁▁▁▁▁▁▁▁▁▁▁▁▁▁▁▁▁▁▁▁▁</td></tr><tr><td>f1val</td><td>▁▃▅▇▇▇▇████████████████▇▇▇▇▇▇▇▇▇▇▇▇▇▇▇▇▇</td></tr><tr><td>loss</td><td>█▇▅▄▃▃▂▂▂▂▂▂▁▁▁▁▁▁▁▁▁▁▁▁▁▁▁▁▁▁▁▁▁▁▁▁▁▁▁▁</td></tr><tr><td>lr</td><td>██▇▆▆▆▅▅▄▄▄▄▃▃▃▃▃▂▂▂▂▂▂▂▂▂▁▁▁▁▁▁▁▁▁▁▁▁▁▁</td></tr><tr><td>val</td><td>▁▄▅▇▇▇▇█████████████████████████████████</td></tr></table><br/></div><div class=\"wandb-col\"><h3>Run summary:</h3><br/><table class=\"wandb\"><tr><td>epoch</td><td>0</td></tr><tr><td>f1val</td><td>0.8023</td></tr><tr><td>loss</td><td>0.00208</td></tr><tr><td>lr</td><td>3e-05</td></tr><tr><td>val</td><td>0.82759</td></tr></table><br/></div></div>"
      ],
      "text/plain": [
       "<IPython.core.display.HTML object>"
      ]
     },
     "metadata": {},
     "output_type": "display_data"
    },
    {
     "data": {
      "text/html": [
       " View run <strong style=\"color:#cdcd00\">cross_validation_split7</strong> at: <a href='https://wandb.ai/artzha/Driver-Intent-Prediction-Models-Cross-Validation/runs/mw8op4q9' target=\"_blank\">https://wandb.ai/artzha/Driver-Intent-Prediction-Models-Cross-Validation/runs/mw8op4q9</a><br/>Synced 6 W&B file(s), 0 media file(s), 0 artifact file(s) and 0 other file(s)"
      ],
      "text/plain": [
       "<IPython.core.display.HTML object>"
      ]
     },
     "metadata": {},
     "output_type": "display_data"
    },
    {
     "data": {
      "text/html": [
       "Find logs at: <code>./wandb/run-20230911_230949-mw8op4q9/logs</code>"
      ],
      "text/plain": [
       "<IPython.core.display.HTML object>"
      ]
     },
     "metadata": {},
     "output_type": "display_data"
    },
    {
     "data": {
      "application/vnd.jupyter.widget-view+json": {
       "model_id": "e04fbc50a10847d98bf05dc8b8c01420",
       "version_major": 2,
       "version_minor": 0
      },
      "text/plain": [
       "VBox(children=(Label(value='Waiting for wandb.init()...\\r'), FloatProgress(value=0.01666942541669414, max=1.0)…"
      ]
     },
     "metadata": {},
     "output_type": "display_data"
    },
    {
     "data": {
      "text/html": [
       "wandb version 0.15.10 is available!  To upgrade, please run:\n",
       " $ pip install wandb --upgrade"
      ],
      "text/plain": [
       "<IPython.core.display.HTML object>"
      ]
     },
     "metadata": {},
     "output_type": "display_data"
    },
    {
     "data": {
      "text/html": [
       "Tracking run with wandb version 0.15.9"
      ],
      "text/plain": [
       "<IPython.core.display.HTML object>"
      ]
     },
     "metadata": {},
     "output_type": "display_data"
    },
    {
     "data": {
      "text/html": [
       "Run data is saved locally in <code>/home/arthur/AMRL/Research/Driver-Intent-Prediction/models/wandb/run-20230911_231107-4laakng6</code>"
      ],
      "text/plain": [
       "<IPython.core.display.HTML object>"
      ]
     },
     "metadata": {},
     "output_type": "display_data"
    },
    {
     "data": {
      "text/html": [
       "Syncing run <strong><a href='https://wandb.ai/artzha/Driver-Intent-Prediction-Models-Cross-Validation/runs/4laakng6' target=\"_blank\">cross_validation_split8</a></strong> to <a href='https://wandb.ai/artzha/Driver-Intent-Prediction-Models-Cross-Validation' target=\"_blank\">Weights & Biases</a> (<a href='https://wandb.me/run' target=\"_blank\">docs</a>)<br/>"
      ],
      "text/plain": [
       "<IPython.core.display.HTML object>"
      ]
     },
     "metadata": {},
     "output_type": "display_data"
    },
    {
     "data": {
      "text/html": [
       " View project at <a href='https://wandb.ai/artzha/Driver-Intent-Prediction-Models-Cross-Validation' target=\"_blank\">https://wandb.ai/artzha/Driver-Intent-Prediction-Models-Cross-Validation</a>"
      ],
      "text/plain": [
       "<IPython.core.display.HTML object>"
      ]
     },
     "metadata": {},
     "output_type": "display_data"
    },
    {
     "data": {
      "text/html": [
       " View run at <a href='https://wandb.ai/artzha/Driver-Intent-Prediction-Models-Cross-Validation/runs/4laakng6' target=\"_blank\">https://wandb.ai/artzha/Driver-Intent-Prediction-Models-Cross-Validation/runs/4laakng6</a>"
      ],
      "text/plain": [
       "<IPython.core.display.HTML object>"
      ]
     },
     "metadata": {},
     "output_type": "display_data"
    },
    {
     "name": "stdout",
     "output_type": "stream",
     "text": [
      "0\n",
      "15.861315369606018\n",
      "eval: 0.41379310344827586         f1score: 0.2704761904761905\n",
      "1\n",
      "12.663205981254578\n",
      "eval: 0.5172413793103449         f1score: 0.376025641025641\n",
      "2\n",
      "10.026461124420166\n",
      "eval: 0.5344827586206896         f1score: 0.45579550842708727\n",
      "3\n",
      "8.577489733695984\n",
      "eval: 0.5517241379310345         f1score: 0.5213544625309332\n",
      "4\n",
      "7.466750204563141\n",
      "eval: 0.6551724137931034         f1score: 0.5963333333333333\n",
      "5\n",
      "6.798234939575195\n",
      "eval: 0.6551724137931034         f1score: 0.6311885404568331\n",
      "6\n",
      "6.268428921699524\n",
      "eval: 0.7068965517241379         f1score: 0.6400136798905608\n",
      "7\n",
      "5.512543946504593\n",
      "eval: 0.7068965517241379         f1score: 0.6676767676767676\n",
      "8\n",
      "5.142245322465897\n",
      "eval: 0.7413793103448276         f1score: 0.672319783197832\n",
      "9\n",
      "4.835874229669571\n",
      "eval: 0.7241379310344828         f1score: 0.6877260981912144\n",
      "10\n",
      "4.4754011034965515\n",
      "eval: 0.6724137931034483         f1score: 0.6080698287220025\n",
      "11\n",
      "4.12048202753067\n",
      "eval: 0.7586206896551724         f1score: 0.7465865699161364\n",
      "12\n",
      "4.048694223165512\n",
      "eval: 0.7241379310344828         f1score: 0.7108764665286406\n",
      "13\n",
      "3.675298884510994\n",
      "eval: 0.7413793103448276         f1score: 0.7063251320076397\n",
      "14\n",
      "3.505178213119507\n",
      "eval: 0.7758620689655172         f1score: 0.7823352330177407\n",
      "15\n",
      "3.37161648273468\n",
      "eval: 0.7241379310344828         f1score: 0.7286278938452851\n",
      "16\n",
      "3.2479416579008102\n",
      "eval: 0.7931034482758621         f1score: 0.7512820512820513\n",
      "17\n",
      "3.184585392475128\n",
      "eval: 0.7758620689655172         f1score: 0.7823352330177407\n",
      "18\n",
      "2.998794808983803\n",
      "eval: 0.7758620689655172         f1score: 0.764047619047619\n",
      "19\n",
      "2.8809746354818344\n",
      "eval: 0.7931034482758621         f1score: 0.7809995217599235\n",
      "20\n",
      "2.7686126232147217\n",
      "eval: 0.7931034482758621         f1score: 0.7991142702140144\n",
      "21\n",
      "2.6609880924224854\n",
      "eval: 0.8103448275862069         f1score: 0.8137004440260632\n",
      "22\n",
      "2.6019109934568405\n",
      "eval: 0.7586206896551724         f1score: 0.7496343107516009\n",
      "23\n",
      "2.6273170560598373\n",
      "eval: 0.8103448275862069         f1score: 0.8137004440260632\n",
      "24\n",
      "2.4941311851143837\n",
      "eval: 0.8103448275862069         f1score: 0.8137004440260632\n",
      "25\n",
      "2.333587422966957\n",
      "eval: 0.8103448275862069         f1score: 0.8137004440260632\n",
      "26\n",
      "2.430213376879692\n",
      "eval: 0.7758620689655172         f1score: 0.7664133479478747\n",
      "27\n",
      "2.285154014825821\n",
      "eval: 0.7758620689655172         f1score: 0.7394308943089432\n",
      "28\n",
      "2.270358592271805\n",
      "eval: 0.7931034482758621         f1score: 0.7991142702140144\n",
      "29\n",
      "2.211268037557602\n",
      "eval: 0.7931034482758621         f1score: 0.7809995217599235\n",
      "30\n",
      "2.1694658249616623\n",
      "eval: 0.8103448275862069         f1score: 0.8137004440260632\n",
      "31\n",
      "2.0419883877038956\n",
      "eval: 0.8103448275862069         f1score: 0.8137004440260632\n",
      "32\n",
      "2.057744413614273\n",
      "eval: 0.8103448275862069         f1score: 0.8137004440260632\n",
      "33\n",
      "2.0100452452898026\n",
      "eval: 0.8103448275862069         f1score: 0.8137004440260632\n",
      "34\n",
      "2.004704602062702\n",
      "eval: 0.8103448275862069         f1score: 0.8137004440260632\n",
      "35\n",
      "1.989181637763977\n",
      "eval: 0.8103448275862069         f1score: 0.8137004440260632\n",
      "36\n",
      "1.9317166954278946\n",
      "eval: 0.8103448275862069         f1score: 0.8137004440260632\n",
      "37\n",
      "1.9339237958192825\n",
      "eval: 0.8103448275862069         f1score: 0.8137004440260632\n",
      "38\n",
      "1.933255448937416\n",
      "eval: 0.7931034482758621         f1score: 0.7809995217599235\n",
      "39\n",
      "1.8896077573299408\n",
      "eval: 0.7931034482758621         f1score: 0.7809995217599235\n",
      "40\n",
      "1.8090610057115555\n",
      "eval: 0.7931034482758621         f1score: 0.7809995217599235\n",
      "41\n",
      "1.8576260060071945\n",
      "eval: 0.8103448275862069         f1score: 0.8137004440260632\n",
      "42\n",
      "1.8133276998996735\n",
      "eval: 0.8103448275862069         f1score: 0.8137004440260632\n",
      "43\n",
      "1.8405840620398521\n",
      "eval: 0.8103448275862069         f1score: 0.8137004440260632\n",
      "44\n",
      "1.770057201385498\n",
      "eval: 0.7931034482758621         f1score: 0.7809995217599235\n",
      "45\n",
      "1.731739081442356\n",
      "eval: 0.7931034482758621         f1score: 0.7809995217599235\n",
      "46\n",
      "1.8208558112382889\n",
      "eval: 0.8103448275862069         f1score: 0.8137004440260632\n",
      "47\n",
      "1.718439869582653\n",
      "eval: 0.8103448275862069         f1score: 0.8137004440260632\n",
      "48\n",
      "1.7172150164842606\n",
      "eval: 0.8103448275862069         f1score: 0.8137004440260632\n",
      "49\n",
      "1.6496970281004906\n",
      "eval: 0.7931034482758621         f1score: 0.7809995217599235\n",
      "50\n",
      "1.6571482419967651\n",
      "eval: 0.7931034482758621         f1score: 0.7809995217599235\n",
      "51\n",
      "1.6492058634757996\n",
      "eval: 0.7931034482758621         f1score: 0.7809995217599235\n",
      "52\n",
      "1.6501021906733513\n",
      "eval: 0.8103448275862069         f1score: 0.8137004440260632\n",
      "53\n",
      "1.6015915349125862\n",
      "eval: 0.8103448275862069         f1score: 0.8137004440260632\n",
      "54\n",
      "1.6213890314102173\n",
      "eval: 0.8103448275862069         f1score: 0.8137004440260632\n",
      "55\n",
      "1.5841252505779266\n",
      "eval: 0.8103448275862069         f1score: 0.8137004440260632\n",
      "56\n",
      "1.6181038469076157\n",
      "eval: 0.7931034482758621         f1score: 0.7809995217599235\n",
      "57\n",
      "1.5895994827151299\n",
      "eval: 0.7931034482758621         f1score: 0.7809995217599235\n",
      "58\n",
      "1.5510796308517456\n",
      "eval: 0.7931034482758621         f1score: 0.7809995217599235\n",
      "59\n",
      "1.6045701950788498\n",
      "eval: 0.7931034482758621         f1score: 0.7809995217599235\n",
      "60\n",
      "1.5464964658021927\n",
      "eval: 0.7931034482758621         f1score: 0.7809995217599235\n",
      "61\n",
      "1.547299437224865\n",
      "eval: 0.7931034482758621         f1score: 0.7809995217599235\n",
      "62\n",
      "1.6103887632489204\n",
      "eval: 0.7931034482758621         f1score: 0.7809995217599235\n",
      "63\n",
      "1.5350501909852028\n",
      "eval: 0.7931034482758621         f1score: 0.7809995217599235\n",
      "64\n",
      "1.5691322684288025\n",
      "eval: 0.7931034482758621         f1score: 0.7809995217599235\n",
      "65\n",
      "1.5602054595947266\n",
      "eval: 0.7931034482758621         f1score: 0.7809995217599235\n",
      "66\n",
      "1.5223366990685463\n",
      "eval: 0.7931034482758621         f1score: 0.7809995217599235\n",
      "67\n",
      "1.523401789367199\n",
      "eval: 0.7931034482758621         f1score: 0.7809995217599235\n",
      "68\n",
      "1.5142775624990463\n",
      "eval: 0.7931034482758621         f1score: 0.7809995217599235\n",
      "69\n",
      "1.4955706149339676\n",
      "eval: 0.8103448275862069         f1score: 0.8137004440260632\n"
     ]
    },
    {
     "data": {
      "text/html": [
       "Waiting for W&B process to finish... <strong style=\"color:green\">(success).</strong>"
      ],
      "text/plain": [
       "<IPython.core.display.HTML object>"
      ]
     },
     "metadata": {},
     "output_type": "display_data"
    },
    {
     "name": "stderr",
     "output_type": "stream",
     "text": [
      "wandb: WARNING Source type is set to 'repo' but some required information is missing from the environment. A job will not be created from this run. See https://docs.wandb.ai/guides/launch/create-job\n"
     ]
    },
    {
     "data": {
      "application/vnd.jupyter.widget-view+json": {
       "model_id": "579279d09f3042808c7a43f45ef6fbf1",
       "version_major": 2,
       "version_minor": 0
      },
      "text/plain": [
       "VBox(children=(Label(value='0.003 MB of 0.003 MB uploaded (0.000 MB deduped)\\r'), FloatProgress(value=1.0, max…"
      ]
     },
     "metadata": {},
     "output_type": "display_data"
    },
    {
     "data": {
      "text/html": [
       "<style>\n",
       "    table.wandb td:nth-child(1) { padding: 0 10px; text-align: left ; width: auto;} td:nth-child(2) {text-align: left ; width: 100%}\n",
       "    .wandb-row { display: flex; flex-direction: row; flex-wrap: wrap; justify-content: flex-start; width: 100% }\n",
       "    .wandb-col { display: flex; flex-direction: column; flex-basis: 100%; flex: 1; padding: 10px; }\n",
       "    </style>\n",
       "<div class=\"wandb-row\"><div class=\"wandb-col\"><h3>Run history:</h3><br/><table class=\"wandb\"><tr><td>epoch</td><td>▁▁▁▁▁▁▁▁▁▁▁▁▁▁▁▁▁▁▁▁▁▁▁▁▁▁▁▁▁▁▁▁▁▁▁▁▁▁▁▁</td></tr><tr><td>f1val</td><td>▁▂▄▆▆▆▅▇█▇█████▇████████████████████████</td></tr><tr><td>loss</td><td>█▆▄▄▃▃▂▂▂▂▂▂▂▂▁▁▁▁▁▁▁▁▁▁▁▁▁▁▁▁▁▁▁▁▁▁▁▁▁▁</td></tr><tr><td>lr</td><td>██▇▆▆▆▅▅▄▄▄▄▃▃▃▃▃▂▂▂▂▂▂▂▂▂▁▁▁▁▁▁▁▁▁▁▁▁▁▁</td></tr><tr><td>val</td><td>▁▃▃▅▆▇▆▆▇▆▇████▇████████████████████████</td></tr></table><br/></div><div class=\"wandb-col\"><h3>Run summary:</h3><br/><table class=\"wandb\"><tr><td>epoch</td><td>0</td></tr><tr><td>f1val</td><td>0.8137</td></tr><tr><td>loss</td><td>0.00272</td></tr><tr><td>lr</td><td>3e-05</td></tr><tr><td>val</td><td>0.81034</td></tr></table><br/></div></div>"
      ],
      "text/plain": [
       "<IPython.core.display.HTML object>"
      ]
     },
     "metadata": {},
     "output_type": "display_data"
    },
    {
     "data": {
      "text/html": [
       " View run <strong style=\"color:#cdcd00\">cross_validation_split8</strong> at: <a href='https://wandb.ai/artzha/Driver-Intent-Prediction-Models-Cross-Validation/runs/4laakng6' target=\"_blank\">https://wandb.ai/artzha/Driver-Intent-Prediction-Models-Cross-Validation/runs/4laakng6</a><br/>Synced 6 W&B file(s), 0 media file(s), 0 artifact file(s) and 0 other file(s)"
      ],
      "text/plain": [
       "<IPython.core.display.HTML object>"
      ]
     },
     "metadata": {},
     "output_type": "display_data"
    },
    {
     "data": {
      "text/html": [
       "Find logs at: <code>./wandb/run-20230911_231107-4laakng6/logs</code>"
      ],
      "text/plain": [
       "<IPython.core.display.HTML object>"
      ]
     },
     "metadata": {},
     "output_type": "display_data"
    },
    {
     "data": {
      "application/vnd.jupyter.widget-view+json": {
       "model_id": "f20e3ea7221144a8ba9019396e9eda49",
       "version_major": 2,
       "version_minor": 0
      },
      "text/plain": [
       "VBox(children=(Label(value='Waiting for wandb.init()...\\r'), FloatProgress(value=0.016668562399960743, max=1.0…"
      ]
     },
     "metadata": {},
     "output_type": "display_data"
    },
    {
     "data": {
      "text/html": [
       "wandb version 0.15.10 is available!  To upgrade, please run:\n",
       " $ pip install wandb --upgrade"
      ],
      "text/plain": [
       "<IPython.core.display.HTML object>"
      ]
     },
     "metadata": {},
     "output_type": "display_data"
    },
    {
     "data": {
      "text/html": [
       "Tracking run with wandb version 0.15.9"
      ],
      "text/plain": [
       "<IPython.core.display.HTML object>"
      ]
     },
     "metadata": {},
     "output_type": "display_data"
    },
    {
     "data": {
      "text/html": [
       "Run data is saved locally in <code>/home/arthur/AMRL/Research/Driver-Intent-Prediction/models/wandb/run-20230911_231225-q3jk6i9h</code>"
      ],
      "text/plain": [
       "<IPython.core.display.HTML object>"
      ]
     },
     "metadata": {},
     "output_type": "display_data"
    },
    {
     "data": {
      "text/html": [
       "Syncing run <strong><a href='https://wandb.ai/artzha/Driver-Intent-Prediction-Models-Cross-Validation/runs/q3jk6i9h' target=\"_blank\">cross_validation_split9</a></strong> to <a href='https://wandb.ai/artzha/Driver-Intent-Prediction-Models-Cross-Validation' target=\"_blank\">Weights & Biases</a> (<a href='https://wandb.me/run' target=\"_blank\">docs</a>)<br/>"
      ],
      "text/plain": [
       "<IPython.core.display.HTML object>"
      ]
     },
     "metadata": {},
     "output_type": "display_data"
    },
    {
     "data": {
      "text/html": [
       " View project at <a href='https://wandb.ai/artzha/Driver-Intent-Prediction-Models-Cross-Validation' target=\"_blank\">https://wandb.ai/artzha/Driver-Intent-Prediction-Models-Cross-Validation</a>"
      ],
      "text/plain": [
       "<IPython.core.display.HTML object>"
      ]
     },
     "metadata": {},
     "output_type": "display_data"
    },
    {
     "data": {
      "text/html": [
       " View run at <a href='https://wandb.ai/artzha/Driver-Intent-Prediction-Models-Cross-Validation/runs/q3jk6i9h' target=\"_blank\">https://wandb.ai/artzha/Driver-Intent-Prediction-Models-Cross-Validation/runs/q3jk6i9h</a>"
      ],
      "text/plain": [
       "<IPython.core.display.HTML object>"
      ]
     },
     "metadata": {},
     "output_type": "display_data"
    },
    {
     "name": "stdout",
     "output_type": "stream",
     "text": [
      "0\n",
      "16.093876719474792\n",
      "eval: 0.4482758620689655         f1score: 0.22960358056265986\n",
      "1\n",
      "13.215928435325623\n",
      "eval: 0.5517241379310345         f1score: 0.49828239490085985\n",
      "2\n",
      "11.024395942687988\n",
      "eval: 0.5689655172413793         f1score: 0.4377257525083612\n",
      "3\n",
      "9.117416977882385\n",
      "eval: 0.6896551724137931         f1score: 0.6703529411764706\n",
      "4\n",
      "7.903863370418549\n",
      "eval: 0.6551724137931034         f1score: 0.6387878787878789\n",
      "5\n",
      "6.895468175411224\n",
      "eval: 0.7241379310344828         f1score: 0.6934969994544463\n",
      "6\n",
      "6.202450394630432\n",
      "eval: 0.7068965517241379         f1score: 0.6891943521594686\n",
      "7\n",
      "5.89722803235054\n",
      "eval: 0.7068965517241379         f1score: 0.688223109289028\n",
      "8\n",
      "5.4230508506298065\n",
      "eval: 0.7758620689655172         f1score: 0.7686080586080586\n",
      "9\n",
      "5.007880210876465\n",
      "eval: 0.7413793103448276         f1score: 0.7212867274569403\n",
      "10\n",
      "4.5161310732364655\n",
      "eval: 0.7241379310344828         f1score: 0.7274444314231024\n",
      "11\n",
      "4.214025169610977\n",
      "eval: 0.7413793103448276         f1score: 0.7212867274569403\n",
      "12\n",
      "3.9864901304244995\n",
      "eval: 0.7758620689655172         f1score: 0.7702380952380952\n",
      "13\n",
      "3.7801357805728912\n",
      "eval: 0.7586206896551724         f1score: 0.7346169772256729\n",
      "14\n",
      "3.7203062921762466\n",
      "eval: 0.7241379310344828         f1score: 0.7041478129713423\n",
      "15\n",
      "3.4602320939302444\n",
      "eval: 0.7758620689655172         f1score: 0.773007781823374\n",
      "16\n",
      "3.2984122037887573\n",
      "eval: 0.7241379310344828         f1score: 0.6799999999999999\n",
      "17\n",
      "3.122585028409958\n",
      "eval: 0.7758620689655172         f1score: 0.7702380952380952\n",
      "18\n",
      "3.0099998861551285\n",
      "eval: 0.7586206896551724         f1score: 0.7156840513983371\n",
      "19\n",
      "2.951363191008568\n",
      "eval: 0.7413793103448276         f1score: 0.7047619047619047\n",
      "20\n",
      "2.818233162164688\n",
      "eval: 0.7586206896551724         f1score: 0.7436676798378926\n",
      "21\n",
      "2.7631097584962845\n",
      "eval: 0.7758620689655172         f1score: 0.7569979296066253\n",
      "22\n",
      "2.5969643741846085\n",
      "eval: 0.7413793103448276         f1score: 0.7047619047619047\n",
      "23\n",
      "2.6258777379989624\n",
      "eval: 0.7931034482758621         f1score: 0.7697069597069597\n",
      "24\n",
      "2.50142864882946\n",
      "eval: 0.7586206896551724         f1score: 0.7156840513983371\n",
      "25\n",
      "2.456059478223324\n",
      "eval: 0.7758620689655172         f1score: 0.7553723138430783\n",
      "26\n",
      "2.3071610033512115\n",
      "eval: 0.7586206896551724         f1score: 0.7156840513983371\n",
      "27\n",
      "2.352880209684372\n",
      "eval: 0.7758620689655172         f1score: 0.7553723138430783\n",
      "28\n",
      "2.261901333928108\n",
      "eval: 0.7586206896551724         f1score: 0.7163277783600601\n",
      "29\n",
      "2.209013134241104\n",
      "eval: 0.7586206896551724         f1score: 0.7163277783600601\n",
      "30\n",
      "2.1968700885772705\n",
      "eval: 0.7586206896551724         f1score: 0.7156840513983371\n",
      "31\n",
      "2.1293635815382004\n",
      "eval: 0.7586206896551724         f1score: 0.7163277783600601\n",
      "32\n",
      "2.0088377967476845\n",
      "eval: 0.7586206896551724         f1score: 0.7163277783600601\n",
      "33\n",
      "2.0290585458278656\n",
      "eval: 0.7758620689655172         f1score: 0.7273809523809524\n",
      "34\n",
      "2.007673904299736\n",
      "eval: 0.7586206896551724         f1score: 0.7163277783600601\n",
      "35\n",
      "1.9920954257249832\n",
      "eval: 0.7586206896551724         f1score: 0.7163277783600601\n",
      "36\n",
      "1.9321340546011925\n",
      "eval: 0.7758620689655172         f1score: 0.7296580281287928\n",
      "37\n",
      "1.9094518572092056\n",
      "eval: 0.7586206896551724         f1score: 0.7163277783600601\n",
      "38\n",
      "1.8794626519083977\n",
      "eval: 0.7758620689655172         f1score: 0.7296580281287928\n",
      "39\n",
      "1.8447209671139717\n",
      "eval: 0.7758620689655172         f1score: 0.7296580281287928\n",
      "40\n",
      "1.8189593851566315\n",
      "eval: 0.7758620689655172         f1score: 0.7296580281287928\n",
      "41\n",
      "1.7991548404097557\n",
      "eval: 0.7586206896551724         f1score: 0.7163277783600601\n",
      "42\n",
      "1.7456416860222816\n",
      "eval: 0.7758620689655172         f1score: 0.7296580281287928\n",
      "43\n",
      "1.7383676245808601\n",
      "eval: 0.7758620689655172         f1score: 0.7296580281287928\n",
      "44\n",
      "1.7159858271479607\n",
      "eval: 0.7758620689655172         f1score: 0.7296580281287928\n",
      "45\n",
      "1.6772270500659943\n",
      "eval: 0.7758620689655172         f1score: 0.7296580281287928\n",
      "46\n",
      "1.711787573993206\n",
      "eval: 0.7758620689655172         f1score: 0.7296580281287928\n",
      "47\n",
      "1.6706982553005219\n",
      "eval: 0.7758620689655172         f1score: 0.7296580281287928\n",
      "48\n",
      "1.6819660365581512\n",
      "eval: 0.7758620689655172         f1score: 0.7296580281287928\n",
      "49\n",
      "1.658660776913166\n",
      "eval: 0.7758620689655172         f1score: 0.7296580281287928\n",
      "50\n",
      "1.6597622260451317\n",
      "eval: 0.7758620689655172         f1score: 0.7273809523809524\n",
      "51\n",
      "1.6569538041949272\n",
      "eval: 0.7758620689655172         f1score: 0.7296580281287928\n",
      "52\n",
      "1.6719080582261086\n",
      "eval: 0.7758620689655172         f1score: 0.7296580281287928\n",
      "53\n",
      "1.59093676507473\n",
      "eval: 0.7758620689655172         f1score: 0.7296580281287928\n",
      "54\n",
      "1.644639529287815\n",
      "eval: 0.7758620689655172         f1score: 0.7296580281287928\n",
      "55\n",
      "1.5977965742349625\n",
      "eval: 0.7758620689655172         f1score: 0.7296580281287928\n",
      "56\n",
      "1.5991177260875702\n",
      "eval: 0.7758620689655172         f1score: 0.7296580281287928\n",
      "57\n",
      "1.6151960790157318\n",
      "eval: 0.7758620689655172         f1score: 0.7296580281287928\n",
      "58\n",
      "1.5663338154554367\n",
      "eval: 0.7758620689655172         f1score: 0.7296580281287928\n",
      "59\n",
      "1.5580513626337051\n",
      "eval: 0.7758620689655172         f1score: 0.7296580281287928\n",
      "60\n",
      "1.5213674008846283\n",
      "eval: 0.7758620689655172         f1score: 0.7296580281287928\n",
      "61\n",
      "1.5411429479718208\n",
      "eval: 0.7758620689655172         f1score: 0.7296580281287928\n",
      "62\n",
      "1.5462618991732597\n",
      "eval: 0.7758620689655172         f1score: 0.7296580281287928\n",
      "63\n",
      "1.5589196905493736\n",
      "eval: 0.7758620689655172         f1score: 0.7296580281287928\n",
      "64\n",
      "1.5315387099981308\n",
      "eval: 0.7758620689655172         f1score: 0.7296580281287928\n",
      "65\n",
      "1.52412860840559\n",
      "eval: 0.7758620689655172         f1score: 0.7296580281287928\n",
      "66\n",
      "1.5090030804276466\n",
      "eval: 0.7758620689655172         f1score: 0.7296580281287928\n",
      "67\n",
      "1.5444729924201965\n",
      "eval: 0.7758620689655172         f1score: 0.7296580281287928\n",
      "68\n",
      "1.5047149360179901\n",
      "eval: 0.7758620689655172         f1score: 0.7296580281287928\n",
      "69\n",
      "1.5575234666466713\n",
      "eval: 0.7758620689655172         f1score: 0.7296580281287928\n"
     ]
    },
    {
     "data": {
      "text/html": [
       "Waiting for W&B process to finish... <strong style=\"color:green\">(success).</strong>"
      ],
      "text/plain": [
       "<IPython.core.display.HTML object>"
      ]
     },
     "metadata": {},
     "output_type": "display_data"
    },
    {
     "name": "stderr",
     "output_type": "stream",
     "text": [
      "wandb: WARNING Source type is set to 'repo' but some required information is missing from the environment. A job will not be created from this run. See https://docs.wandb.ai/guides/launch/create-job\n"
     ]
    },
    {
     "data": {
      "text/html": [
       "<style>\n",
       "    table.wandb td:nth-child(1) { padding: 0 10px; text-align: left ; width: auto;} td:nth-child(2) {text-align: left ; width: 100%}\n",
       "    .wandb-row { display: flex; flex-direction: row; flex-wrap: wrap; justify-content: flex-start; width: 100% }\n",
       "    .wandb-col { display: flex; flex-direction: column; flex-basis: 100%; flex: 1; padding: 10px; }\n",
       "    </style>\n",
       "<div class=\"wandb-row\"><div class=\"wandb-col\"><h3>Run history:</h3><br/><table class=\"wandb\"><tr><td>epoch</td><td>▁▁▁▁▁▁▁▁▁▁▁▁▁▁▁▁▁▁▁▁▁▁▁▁▁▁▁▁▁▁▁▁▁▁▁▁▁▁▁▁</td></tr><tr><td>f1val</td><td>▁▄▇▇▇█▇█▇██▇██▇▇▇▇▇▇▇▇▇▇▇▇▇▇▇▇▇▇▇▇▇▇▇▇▇▇</td></tr><tr><td>loss</td><td>█▇▅▄▃▃▂▂▂▂▂▂▂▂▁▁▁▁▁▁▁▁▁▁▁▁▁▁▁▁▁▁▁▁▁▁▁▁▁▁</td></tr><tr><td>lr</td><td>██▇▆▆▆▅▅▄▄▄▄▃▃▃▃▃▂▂▂▂▂▂▂▂▂▁▁▁▁▁▁▁▁▁▁▁▁▁▁</td></tr><tr><td>val</td><td>▁▃▆▇▆█▇█▇██▇██▇▇▇▇▇█▇▇██████████████████</td></tr></table><br/></div><div class=\"wandb-col\"><h3>Run summary:</h3><br/><table class=\"wandb\"><tr><td>epoch</td><td>0</td></tr><tr><td>f1val</td><td>0.72966</td></tr><tr><td>loss</td><td>0.00283</td></tr><tr><td>lr</td><td>3e-05</td></tr><tr><td>val</td><td>0.77586</td></tr></table><br/></div></div>"
      ],
      "text/plain": [
       "<IPython.core.display.HTML object>"
      ]
     },
     "metadata": {},
     "output_type": "display_data"
    },
    {
     "data": {
      "text/html": [
       " View run <strong style=\"color:#cdcd00\">cross_validation_split9</strong> at: <a href='https://wandb.ai/artzha/Driver-Intent-Prediction-Models-Cross-Validation/runs/q3jk6i9h' target=\"_blank\">https://wandb.ai/artzha/Driver-Intent-Prediction-Models-Cross-Validation/runs/q3jk6i9h</a><br/>Synced 6 W&B file(s), 0 media file(s), 0 artifact file(s) and 0 other file(s)"
      ],
      "text/plain": [
       "<IPython.core.display.HTML object>"
      ]
     },
     "metadata": {},
     "output_type": "display_data"
    },
    {
     "data": {
      "text/html": [
       "Find logs at: <code>./wandb/run-20230911_231225-q3jk6i9h/logs</code>"
      ],
      "text/plain": [
       "<IPython.core.display.HTML object>"
      ]
     },
     "metadata": {},
     "output_type": "display_data"
    }
   ],
   "source": [
    "import wandb\n",
    "# Run 5 Fold split\n",
    "splits = list(range(0,10))\n",
    "print(splits)\n",
    "max_evalval_list = []\n",
    "max_f1val_list = []\n",
    "for split in splits:\n",
    "    trainlefti = indices[0:split*seg]\n",
    "    trainrighti = indices[min(split*seg + seg,totalsize):totalsize]\n",
    "    traini = trainlefti + trainrighti\n",
    "    vali = indices[split*seg:min(totalsize,seg*split+seg)]\n",
    "\n",
    "    train_set = torch.utils.data.dataset.Subset(dataset,traini)\n",
    "    val_set = torch.utils.data.dataset.Subset(dataset,vali)\n",
    "\n",
    "    trainloader = DataLoader(train_set, collate_fn=dataset.collate_fn, batch_size=batch, shuffle=True)\n",
    "    valloader = DataLoader(val_set, collate_fn=dataset.collate_fn, batch_size=1, shuffle=True)\n",
    "\n",
    "    wandb.init(\n",
    "        project=\"Driver-Intent-Prediction-Models-Cross-Validation\",\n",
    "        name=f'cross_validation_split{split}',\n",
    "        config={\n",
    "            \"optimizer\": \"SGD\",\n",
    "            \"lr\": lr,\n",
    "            \"dropout\": dropout,\n",
    "            \"num_epochs\": num_epochs,\n",
    "            \"batch_size\": batch,\n",
    "            \"modeldim\": modeldim,\n",
    "            \"numheads\": numheads,\n",
    "            \"hiddendim\": hiddendim,\n",
    "            \"validation_split\": split\n",
    "        }\n",
    "    )\n",
    "\n",
    "\n",
    "    net1 = EncoderLayer(modeldim,numheads,hiddendim,dropout,fchiddendim)\n",
    "    loss_fn = nn.CrossEntropyLoss()\n",
    "    optimizer = torch.optim.SGD(net1.parameters(), lr=lr, momentum=0.9, weight_decay=0.001)\n",
    "    lr_scheduler = torch.optim.lr_scheduler.ExponentialLR(optimizer, gamma=0.95)\n",
    "    \n",
    "    maxevalval, maxf1val = 0, 0\n",
    "    for i in range(70): # for train/val stationary time before manuever\n",
    "        print(i)\n",
    "        train(net1,trainloader,optimizer,loss_fn, lr_scheduler, 1, epoch_count=i, split=split)\n",
    "        evalval, f1val = eval(net1,valloader)\n",
    "        print('eval: '+str(evalval) + '         f1score: ' + str(f1val))\n",
    "        wandb.log({\"val\": evalval, \"f1val\": f1val})      \n",
    "        maxevalval = max(maxevalval, evalval)\n",
    "        maxf1val = max(maxf1val, f1val)\n",
    "\n",
    "    max_evalval_list.append(maxevalval)\n",
    "    max_f1val_list.append(maxf1val)\n",
    "\n",
    "    wandb.finish()"
   ]
  },
  {
   "cell_type": "code",
   "execution_count": 15,
   "metadata": {},
   "outputs": [
    {
     "name": "stdout",
     "output_type": "stream",
     "text": [
      "0.8258620689655171\n",
      "0.047811809047800156\n",
      "0.8035354639736083\n",
      "0.0508981653410157\n"
     ]
    }
   ],
   "source": [
    "print(np.average(max_evalval_list))\n",
    "print(np.std(max_evalval_list))\n",
    "print(np.average(max_f1val_list))\n",
    "print(np.std(max_f1val_list))"
   ]
  },
  {
   "cell_type": "code",
   "execution_count": null,
   "metadata": {},
   "outputs": [],
   "source": [
    "# the values recorded from the best models from each split\n",
    "recacc = [0.89655,0.89655,0.8793,0.862,0.8448,0.8793,0.8448,0.8621,0.9138,0.8448]\n",
    "recf1 = [0.9106,0.84262,0.870255,0.8374,0.8449,0.88,0.874,0.8202,0.8905,0.79139]"
   ]
  },
  {
   "cell_type": "code",
   "execution_count": null,
   "metadata": {},
   "outputs": [],
   "source": [
    "print(np.average(recacc))\n",
    "print(np.std(recacc))\n",
    "print(np.average(recf1))\n",
    "print(np.std(recf1))"
   ]
  },
  {
   "cell_type": "markdown",
   "metadata": {},
   "source": [
    "#### Varying time to manuever"
   ]
  },
  {
   "cell_type": "code",
   "execution_count": 23,
   "metadata": {},
   "outputs": [],
   "source": [
    "def train2(net, trainloader, optimizer, loss_fn, num_epochs):\n",
    "    # Put the network in training mode\n",
    "    net.train()\n",
    "\n",
    "    # Training loop\n",
    "    for epoch in range(num_epochs):\n",
    "        running_loss = 0\n",
    "        for batch_idx, (data, targets) in enumerate(trainloader):\n",
    "            # TODO: zero the parameter gradients + forward pass + loss computation + backward pass + weight update\n",
    "            data = np.array(data)\n",
    "            tdata = torch.tensor(data, dtype=torch.float32)\n",
    "            ttargets = torch.tensor(targets)\n",
    "            zten = torch.zeros((len(data),30,32))\n",
    "            \n",
    "            optimizer.zero_grad()\n",
    "            prediction = net(tdata)\n",
    "            loss = loss_fn(prediction, ttargets)           \n",
    "            loss.backward()\n",
    "            optimizer.step()\n",
    "            running_loss += loss.item()\n",
    "            \n",
    "            optimizer.zero_grad()\n",
    "            prediction = net(torch.cat((zten,tdata[:,0:120,:]), 1))\n",
    "            loss = loss_fn(prediction, ttargets)           \n",
    "            loss.backward()\n",
    "            optimizer.step()\n",
    "            running_loss += loss.item()\n",
    "                             \n",
    "            optimizer.zero_grad()\n",
    "            prediction = net(torch.cat((zten,zten,tdata[:,0:90,:]), 1))\n",
    "            loss = loss_fn(prediction, ttargets)           \n",
    "            loss.backward()\n",
    "            optimizer.step()\n",
    "            running_loss += loss.item()\n",
    "            \n",
    "            optimizer.zero_grad()\n",
    "            prediction = net(torch.cat((zten,zten,zten,tdata[:,0:60,:]), 1))\n",
    "            loss = loss_fn(prediction, ttargets)           \n",
    "            loss.backward()\n",
    "            optimizer.step()\n",
    "            running_loss += loss.item()\n",
    "                             \n",
    "            optimizer.zero_grad()\n",
    "            prediction = net(torch.cat((zten,zten,zten,zten,tdata[:,0:30,:]), 1))\n",
    "            loss = loss_fn(prediction, ttargets)           \n",
    "            loss.backward()\n",
    "            optimizer.step()\n",
    "            running_loss += loss.item()\n",
    "                             \n",
    "        print(running_loss)"
   ]
  },
  {
   "cell_type": "code",
   "execution_count": 24,
   "metadata": {},
   "outputs": [],
   "source": [
    "net1 = EncoderLayer(modeldim,numheads,hiddendim,dropout,fchiddendim)\n",
    "loss_fn = nn.CrossEntropyLoss()\n",
    "optimizer = torch.optim.SGD(net1.parameters(), lr=lr, momentum=0.9, weight_decay=0.001)\n",
    "lr_scheduler = torch.optim.lr_scheduler.ExponentialLR(optimizer, gamma=0.95)"
   ]
  },
  {
   "cell_type": "code",
   "execution_count": 25,
   "metadata": {
    "scrolled": true
   },
   "outputs": [
    {
     "name": "stdout",
     "output_type": "stream",
     "text": [
      "0\n",
      "69.44520598649979\n",
      "eval: 0.6724137931034483         f1score: 0.6376245210727969\n",
      "1\n",
      "52.68117117881775\n",
      "eval: 0.5517241379310345         f1score: 0.564350400557297\n",
      "2\n",
      "43.11290442943573\n",
      "eval: 0.6896551724137931         f1score: 0.6618929765886288\n",
      "3\n",
      "36.13350674510002\n",
      "eval: 0.7758620689655172         f1score: 0.7739944602013568\n",
      "4\n",
      "35.403600201010704\n",
      "eval: 0.7241379310344828         f1score: 0.7096498262496659\n",
      "5\n",
      "31.96283385157585\n",
      "eval: 0.7586206896551724         f1score: 0.7068055833834236\n",
      "6\n",
      "31.050378516316414\n",
      "eval: 0.6379310344827587         f1score: 0.5905820105820105\n",
      "7\n",
      "26.887646317481995\n",
      "eval: 0.8448275862068966         f1score: 0.8193342888995062\n"
     ]
    }
   ],
   "source": [
    "for i in range(50): # train/val for varying time to manuever\n",
    "    print(i)\n",
    "    train2(net1,trainloader,optimizer,loss_fn,1)\n",
    "    evalval, f1val = eval(net1,valloader)\n",
    "    print('eval: '+str(evalval) + '         f1score: ' + str(f1val))\n",
    "    if evalval > 0.80:\n",
    "        break"
   ]
  },
  {
   "cell_type": "code",
   "execution_count": 39,
   "metadata": {},
   "outputs": [],
   "source": [
    "def eval2(net, loader):\n",
    "    net.eval()\n",
    "    t2m = np.zeros((100))\n",
    "    totalcorrect = np.zeros((5,100))\n",
    "    i1 = 0\n",
    "    for batch_idx, (data, targets) in enumerate(loader):\n",
    "        data = np.array(data)\n",
    "        tdata = torch.tensor(data, dtype=torch.float32)\n",
    "        zten = torch.zeros((len(data),30,32))\n",
    "        \n",
    "        y = net(torch.cat((zten,zten,zten,zten,tdata[:,0:30,:]), 1))\n",
    "        if int(torch.argmax(y)) == targets[0]:\n",
    "            t2m[i1] = 5\n",
    "            totalcorrect[0,i1] = 1\n",
    "            \n",
    "        y = net(torch.cat((zten,zten,zten,tdata[:,0:60,:]), 1))\n",
    "        if int(torch.argmax(y)) == targets[0]:\n",
    "            if t2m[i1] == 0:\n",
    "                t2m[i1] = 4\n",
    "            totalcorrect[1,i1] = 1\n",
    "            \n",
    "        y = net(torch.cat((zten,zten,tdata[:,0:90,:]), 1))\n",
    "        if int(torch.argmax(y)) == targets[0]:\n",
    "            if t2m[i1] == 0:\n",
    "                t2m[i1] = 3\n",
    "            totalcorrect[2,i1] = 1\n",
    "            \n",
    "        y = net(torch.cat((zten,tdata[:,0:120,:]), 1))\n",
    "        if int(torch.argmax(y)) == targets[0]:\n",
    "            if t2m[i1] == 0:\n",
    "                t2m[i1] = 2\n",
    "            totalcorrect[3,i1] = 1\n",
    "            \n",
    "        y = net(tdata)\n",
    "        if int(torch.argmax(y)) == targets[0]:\n",
    "            if t2m[i1] == 0:\n",
    "                t2m[i1] = 1\n",
    "            totalcorrect[4,i1] = 1\n",
    "            \n",
    "        i1+=1\n",
    "        \n",
    "    return t2m[0:i1], totalcorrect[:,0:i1]"
   ]
  },
  {
   "cell_type": "code",
   "execution_count": 40,
   "metadata": {},
   "outputs": [],
   "source": [
    "time_to_maneuver, correct_expansion = eval2(net1, valloader)"
   ]
  },
  {
   "cell_type": "code",
   "execution_count": 42,
   "metadata": {},
   "outputs": [
    {
     "name": "stdout",
     "output_type": "stream",
     "text": [
      "Total maneuvers: 58\n",
      "Percentage correct 5 s in advance: 0.7068965517241379\n",
      "Percentage correct 4 s in advance: 0.35294117647058826\n",
      "Percentage correct 3 s in advance: 0.45454545454545453\n",
      "Percentage correct 2 s in advance: 0.5\n",
      "Percentage correct 1 s in advance: 0.0\n",
      "Avg time for correct prediction: 4.545454545454546\n"
     ]
    }
   ],
   "source": [
    "lt2m = len(time_to_maneuver)\n",
    "print('Total maneuvers: ' + str(lt2m))\n",
    "instancescorrect = 0\n",
    "for i in time_to_maneuver:\n",
    "    if i == 5:\n",
    "        instancescorrect += 1\n",
    "\n",
    "per5 = instancescorrect/lt2m\n",
    "avgtime = 5*instancescorrect\n",
    "print('Percentage correct 5 s in advance: ' + str(per5))\n",
    "\n",
    "numleft = lt2m - instancescorrect\n",
    "instancescorrect = 0\n",
    "for i in time_to_maneuver:\n",
    "    if i == 4:\n",
    "        instancescorrect += 1\n",
    "\n",
    "per4 = instancescorrect/numleft\n",
    "avgtime = avgtime + 4*instancescorrect\n",
    "print('Percentage correct 4 s in advance: ' + str(per4))\n",
    "\n",
    "numleft = numleft - instancescorrect\n",
    "instancescorrect = 0\n",
    "for i in time_to_maneuver:\n",
    "    if i == 3:\n",
    "        instancescorrect += 1\n",
    "\n",
    "per3 = instancescorrect/numleft\n",
    "avgtime = avgtime + 3*instancescorrect\n",
    "print('Percentage correct 3 s in advance: ' + str(per3))\n",
    "\n",
    "numleft = numleft - instancescorrect\n",
    "instancescorrect = 0\n",
    "for i in time_to_maneuver:\n",
    "    if i == 2:\n",
    "        instancescorrect += 1\n",
    "\n",
    "per2 = instancescorrect/numleft\n",
    "avgtime = avgtime + 2*instancescorrect\n",
    "print('Percentage correct 2 s in advance: ' + str(per2))\n",
    "\n",
    "numleft = numleft - instancescorrect\n",
    "instancescorrect = 0\n",
    "for i in time_to_maneuver:\n",
    "    if i == 1:\n",
    "        instancescorrect += 1\n",
    "\n",
    "per1 = instancescorrect/numleft\n",
    "avgtime = avgtime + 1*instancescorrect\n",
    "print('Percentage correct 1 s in advance: ' + str(per1))\n",
    "\n",
    "avgtime = avgtime/(lt2m-numleft)\n",
    "print('Avg time for correct prediction: ' + str(avgtime))"
   ]
  },
  {
   "cell_type": "code",
   "execution_count": 47,
   "metadata": {},
   "outputs": [
    {
     "data": {
      "text/plain": [
       "(58,)"
      ]
     },
     "execution_count": 47,
     "metadata": {},
     "output_type": "execute_result"
    }
   ],
   "source": [
    "time_to_maneuver.shape"
   ]
  },
  {
   "cell_type": "code",
   "execution_count": 60,
   "metadata": {},
   "outputs": [],
   "source": [
    "fillerarray = np.zeros((len(time_to_maneuver)))\n",
    "fillerarray[:] = time_to_maneuver\n",
    "tim2mset = np.stack((time_to_maneuver, fillerarray), axis=0) #np.concatenate((time_to_maneuver,fillerarray),axis=0)\n",
    "\n",
    "fillerarray = np.zeros((5,len(time_to_maneuver)))\n",
    "fillerarray[:,:] = correct_expansion\n",
    "expandedset = np.concatenate((tim2mset,fillerarray),axis=0)"
   ]
  },
  {
   "cell_type": "code",
   "execution_count": 61,
   "metadata": {},
   "outputs": [
    {
     "data": {
      "text/plain": [
       "(2, 58)"
      ]
     },
     "execution_count": 61,
     "metadata": {},
     "output_type": "execute_result"
    }
   ],
   "source": [
    "np.shape(tim2mset)"
   ]
  },
  {
   "cell_type": "code",
   "execution_count": 72,
   "metadata": {},
   "outputs": [
    {
     "data": {
      "text/plain": [
       "(7, 58)"
      ]
     },
     "execution_count": 72,
     "metadata": {},
     "output_type": "execute_result"
    }
   ],
   "source": [
    "np.shape(expandedset)\n",
    "# np.shape(time_to_maneuver)"
   ]
  },
  {
   "cell_type": "code",
   "execution_count": null,
   "metadata": {},
   "outputs": [],
   "source": [
    "np.save(\"C:/Users/ykung/Downloads/b4c/timevaryingtim2mset\", tim2mset)"
   ]
  },
  {
   "cell_type": "code",
   "execution_count": null,
   "metadata": {},
   "outputs": [],
   "source": [
    "np.save(\"C:/Users/ykung/Downloads/b4c/expandedset\", expandedset)"
   ]
  },
  {
   "cell_type": "code",
   "execution_count": 73,
   "metadata": {},
   "outputs": [
    {
     "name": "stdout",
     "output_type": "stream",
     "text": [
      "5s pecentage: 0.1413793103448276\n",
      "4s pecentage: 0.024096385542168676\n",
      "3s pecentage: 0.0205761316872428\n",
      "2s pecentage: 0.012605042016806723\n",
      "1s pecentage: 0.0\n",
      "total avg pred time: 4.545454545454546\n"
     ]
    }
   ],
   "source": [
    "num5s = 0\n",
    "num4s = 0\n",
    "num3s = 0\n",
    "num2s = 0\n",
    "num1s = 0\n",
    "total = 580\n",
    "tolcorr = 0\n",
    "for i in range(2):\n",
    "    for j in range(58):\n",
    "        if tim2mset[i,j] == 5:\n",
    "            num5s += 1\n",
    "            tolcorr += 1\n",
    "        elif tim2mset[i,j] == 4:\n",
    "            num4s += 1\n",
    "            tolcorr += 1\n",
    "        elif tim2mset[i,j] == 3:\n",
    "            num3s += 1\n",
    "            tolcorr += 1\n",
    "        elif tim2mset[i,j] == 2:\n",
    "            num2s += 1\n",
    "            tolcorr += 1\n",
    "        elif tim2mset[i,j] == 1:\n",
    "            num1s += 1\n",
    "            tolcorr += 1\n",
    "print('5s pecentage: ' + str(num5s/total))\n",
    "print('4s pecentage: ' + str(num4s/(total-num5s)))\n",
    "print('3s pecentage: ' + str(num3s/(total-num5s-num4s)))\n",
    "print('2s pecentage: ' + str(num2s/(total-num5s-num4s-num3s)))\n",
    "print('1s pecentage: ' + str(num1s/(total-num5s-num4s-num3s-num2s)))\n",
    "print('total avg pred time: ' + str((num5s*5+num4s*4+num3s*3+num2s*2+num1s)/tolcorr))"
   ]
  },
  {
   "cell_type": "code",
   "execution_count": null,
   "metadata": {},
   "outputs": [],
   "source": [
    "expandedset = np.load(\"C:/Users/ykung/Downloads/b4c/expandedset.npy\")"
   ]
  },
  {
   "cell_type": "code",
   "execution_count": 75,
   "metadata": {},
   "outputs": [
    {
     "data": {
      "text/plain": [
       "(7, 58)"
      ]
     },
     "execution_count": 75,
     "metadata": {},
     "output_type": "execute_result"
    }
   ],
   "source": [
    "np.shape(expandedset)"
   ]
  },
  {
   "cell_type": "code",
   "execution_count": 74,
   "metadata": {},
   "outputs": [
    {
     "ename": "IndexError",
     "evalue": "too many indices for array: array is 2-dimensional, but 3 were indexed",
     "output_type": "error",
     "traceback": [
      "\u001b[0;31m---------------------------------------------------------------------------\u001b[0m",
      "\u001b[0;31mIndexError\u001b[0m                                Traceback (most recent call last)",
      "Cell \u001b[0;32mIn[74], line 9\u001b[0m\n\u001b[1;32m      7\u001b[0m \u001b[39mfor\u001b[39;00m i \u001b[39min\u001b[39;00m \u001b[39mrange\u001b[39m(\u001b[39m10\u001b[39m):\n\u001b[1;32m      8\u001b[0m     \u001b[39mfor\u001b[39;00m j \u001b[39min\u001b[39;00m \u001b[39mrange\u001b[39m(\u001b[39m58\u001b[39m):\n\u001b[0;32m----> 9\u001b[0m         \u001b[39mif\u001b[39;00m expandedset[i,\u001b[39m0\u001b[39;49m,j] \u001b[39m==\u001b[39m \u001b[39m1\u001b[39m:\n\u001b[1;32m     10\u001b[0m             num5s \u001b[39m+\u001b[39m\u001b[39m=\u001b[39m \u001b[39m1\u001b[39m\n\u001b[1;32m     12\u001b[0m         \u001b[39mif\u001b[39;00m expandedset[i,\u001b[39m1\u001b[39m,j] \u001b[39m==\u001b[39m \u001b[39m1\u001b[39m:\n",
      "\u001b[0;31mIndexError\u001b[0m: too many indices for array: array is 2-dimensional, but 3 were indexed"
     ]
    }
   ],
   "source": [
    "num5s = 0\n",
    "num4s = 0\n",
    "num3s = 0\n",
    "num2s = 0\n",
    "num1s = 0\n",
    "total = 580\n",
    "for i in range(10):\n",
    "    for j in range(58):\n",
    "        if expandedset[i,0,j] == 1:\n",
    "            num5s += 1\n",
    "            \n",
    "        if expandedset[i,1,j] == 1:\n",
    "            num4s += 1\n",
    "            \n",
    "        if expandedset[i,2,j] == 1:\n",
    "            num3s += 1\n",
    "            \n",
    "        if expandedset[i,3,j] == 1:\n",
    "            num2s += 1\n",
    "            \n",
    "        if expandedset[i,4,j] == 1:\n",
    "            num1s += 1\n",
    "            \n",
    "print('5s pecentage: ' + str(num5s/total))\n",
    "print('4s pecentage: ' + str(num4s/total))\n",
    "print('3s pecentage: ' + str(num3s/total))\n",
    "print('2s pecentage: ' + str(num2s/total))\n",
    "print('1s pecentage: ' + str(num1s/total))"
   ]
  },
  {
   "cell_type": "code",
   "execution_count": null,
   "metadata": {},
   "outputs": [],
   "source": []
  }
 ],
 "metadata": {
  "kernelspec": {
   "display_name": "driverintent",
   "language": "python",
   "name": "python3"
  },
  "language_info": {
   "codemirror_mode": {
    "name": "ipython",
    "version": 3
   },
   "file_extension": ".py",
   "mimetype": "text/x-python",
   "name": "python",
   "nbconvert_exporter": "python",
   "pygments_lexer": "ipython3",
   "version": "3.8.17"
  },
  "vscode": {
   "interpreter": {
    "hash": "cc2a2d6b0738fdf5dfd9815610e5c105a008f99b94911a0fa7537ac36895ef3d"
   }
  }
 },
 "nbformat": 4,
 "nbformat_minor": 2
}
